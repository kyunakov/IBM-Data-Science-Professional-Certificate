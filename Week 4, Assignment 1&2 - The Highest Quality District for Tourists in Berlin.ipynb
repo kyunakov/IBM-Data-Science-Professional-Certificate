{
 "cells": [
  {
   "cell_type": "markdown",
   "metadata": {},
   "source": [
    "# Capstone Project -  Week 4 - Questions 1&2\n",
    "### Applied Data Science Capstone by IBM/Coursera\n",
    "<br></br>\n",
    "## Topic: The Highest Quality District for Tourists in Berlin \n"
   ]
  },
  {
   "cell_type": "markdown",
   "metadata": {},
   "source": [
    "### Define a problem\n",
    "Berlin is a great city for tourists. It is not a surprise that it is ranked as the most visited German city by <a href=\"https://www.worldatlas.com/articles/the-10-most-visited-cities-in-germany.html\" target=\"_blank\" rel=\"noopener\">Worldatlas</a> with 31.1 milion tourists for 2016.\n",
    "\n",
    "However, as a tourist, you may find it diffucult to find out in which part of the city you should spend most of your time while being in Berlin. The city is relatively big. It is consisted by 891,8 km² of urbanized area and there a lot of great places to visit. The question I will try to answer is which district has the highest variaty of high quality tourist venues. \n",
    "\n",
    "\n",
    "### Describe your audience\n",
    "The main audience which may benefit by solving the problem above is the one-day tourists. It will be extremely valuable for them to know in which district should they spend their only day in Berlin in order to get the best out of it.\n",
    "\n",
    "\n",
    "\n",
    "### Data\n",
    "Based on definition of the problem, factors that will influence the solution are:\n",
    "\n",
    "* geolocation of the Berlin districts \n",
    "* number of unique categories of venues in the district\n",
    "* average rating of the venues measured by the number of likes\n",
    "\n",
    "In order to get this data, I decided to use two data providers\n",
    "\n",
    "* the geolocation of the districts in Berlin will be obtained using Google Maps API\n",
    "* number of unique categories of venues in the district and average rating of the venues measured by the number of likes will be obtained using Foursquare API"
   ]
  },
  {
   "cell_type": "code",
   "execution_count": null,
   "metadata": {},
   "outputs": [],
   "source": []
  }
 ],
 "metadata": {
  "kernelspec": {
   "display_name": "Python 3",
   "language": "python",
   "name": "python3"
  },
  "language_info": {
   "codemirror_mode": {
    "name": "ipython",
    "version": 3
   },
   "file_extension": ".py",
   "mimetype": "text/x-python",
   "name": "python",
   "nbconvert_exporter": "python",
   "pygments_lexer": "ipython3",
   "version": "3.7.3"
  }
 },
 "nbformat": 4,
 "nbformat_minor": 4
}
