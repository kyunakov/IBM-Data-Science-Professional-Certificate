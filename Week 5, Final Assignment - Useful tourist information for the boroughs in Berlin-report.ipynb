{
 "cells": [
  {
   "cell_type": "markdown",
   "metadata": {},
   "source": [
    "### Applied Data Science Capstone by IBM/Coursera\n",
    "\n",
    "\n",
    "## Capstone Project\n",
    "## Topic:  Useful tourist information for the boroughs in Berlin\n",
    "<br> </br>\n",
    "\n",
    "\n",
    "\n",
    "## Table of contents\n",
    "* [Introduction](#introduction)\n",
    "* [Data](#data)\n",
    "* [Methodology](#methodology)\n",
    "* [Analysis](#analysis)\n",
    "* [Results](#results)\n",
    "* [Discussion](#discussion)\n",
    "* [Conclusion](#conclusion)"
   ]
  },
  {
   "cell_type": "markdown",
   "metadata": {},
   "source": [
    "# Introduction <a name=\"introduction\"></a>"
   ]
  },
  {
   "cell_type": "markdown",
   "metadata": {},
   "source": [
    "**Berlin** is a great city for tourists. It is not a surprise that it is ranked as the most visited German city by <a href=\"https://www.worldatlas.com/articles/the-10-most-visited-cities-in-germany.html\" target=\"_blank\" rel=\"noopener\">Worldatlas</a> with 31.1 milion tourists for 2016. However, as a tourist, you may find it **diffucult** to find out in which part of the city you should spend most of your time while being in Berlin. Especially for the tourists visiting Berlin only for a day or a weekend. The city is really big and it is divided in 96 boroughs, full of great places to visit. The questions I will try to answer are:\n",
    "<p> <b>1) Which borough(s) has the highest variaty of venues? </b></p>\n",
    "<p> <b>2) What is the most common type of restaurants in Berlin? </b></p>\n",
    "<p> <b>3) Which borough(s) is near to Art Gallery? </b></p>\n",
    "\n",
    "The main audience which may benefit by answering the questions above is the **one-day tourists.** It will be extremely valuable for them to know in which district should they spend their only day in Berlin in order to get the best out of it and also to have more specific expectations from Berlin as a touristic destination.\n",
    "\n",
    "For the sake of this project the terms boroughs, neighborhoods and districts are used with the same meaning."
   ]
  },
  {
   "cell_type": "markdown",
   "metadata": {},
   "source": [
    "# Data <a name=\"data\"></a>"
   ]
  },
  {
   "cell_type": "markdown",
   "metadata": {},
   "source": [
    "Based on definition of the problem, factors that will influence the solution are:\n",
    "* geolocation of the Berlin boroughs and venues\n",
    "* number of unique categories of venues in the borough\n",
    "\n",
    "In order to get this data, I decided to use two data providers:\n",
    "* the list of the names of boroughs will be obtained from **Wikipedia**\n",
    "* number of unique categories of venues in the boroughs and the location of the venues will be obtained using **Foursquare API**"
   ]
  },
  {
   "cell_type": "markdown",
   "metadata": {},
   "source": [
    "### Obtaining the names of the Berlin boroughs from Wikipedia consist of:"
   ]
  },
  {
   "cell_type": "markdown",
   "metadata": {},
   "source": [
    "1. Installing the necessary libriaries\n",
    "2. Obtaining the data from Wikipedia\n",
    "3. Converting the Wikitable into a Pandas DataFrame\n",
    "4. Concatenating all wikitables into one Pandas DataFrame \n",
    "5. Removing the unnecessary columns\n",
    "6. Renaming the Locality column into District\n",
    "7. Removing the codes from the District names\n",
    "8. Importing the Geospatial data of the Districts\n",
    "9. Renaming the column based on which will perform the merge (District)\n",
    "10. Merging the Geospatial data with the data from Wikipedia based on the District name"
   ]
  },
  {
   "cell_type": "markdown",
   "metadata": {},
   "source": [
    "# Methodology <a name=\"methodology\"></a>"
   ]
  },
  {
   "cell_type": "markdown",
   "metadata": {},
   "source": [
    "In this project we will allocate our efforts on trying to answer the questions we set beforehand. In order to do so we will need to identify the size of the radios within we have to search for venues from each district.\n",
    "\n",
    "The very first thing we did was to collect all of the information needed:\n",
    "- list of all borouhgs in berlin\n",
    "- the location of the boroughs\n",
    "- the size of the boroughs\n",
    "- a list of all venues within a certain radius of the district\n",
    "- the category type of these venues\n",
    "\n",
    "\n",
    "Secondly, we will use distribution analysis in order to identify the size of the radius we will search for the venues. Also, we will use one hot encoding for the purpose of converting the categorial values into numerical and measure how common each venue type is."
   ]
  },
  {
   "cell_type": "markdown",
   "metadata": {},
   "source": [
    "# Analysis <a name=\"analysis\"></a>"
   ]
  },
  {
   "cell_type": "markdown",
   "metadata": {},
   "source": [
    "1. Create a map of Berlin with the districts locations\n",
    "2. Displaying the distribution\n",
    "3. Define Foursquare Credentials and Version\n",
    "4. Let's explore the first district in our dataframe and get the district lat and long values\n",
    "5. Now, let's get the top 100 venues that are in Mitte within a radius of 5000 meters\n",
    "6. Function that extracts the category of the venue\n",
    "7. And how many venues from Mitte were returned by Foursquare?\n",
    "8. Explore the neighborhoods in Berlin\n",
    "9. How many venues from Berlin were returned by Foursquare?\n",
    "10. Let's check how many different venues were returned for each neighborhood\n",
    "11. Which borough(s) has the highest variaty of venues?\n",
    "12. Analyze Each Neighborhood\n",
    "13. Estimating the appearnces of each venue by using the average function"
   ]
  },
  {
   "cell_type": "markdown",
   "metadata": {},
   "source": []
  },
  {
   "cell_type": "markdown",
   "metadata": {},
   "source": []
  },
  {
   "cell_type": "markdown",
   "metadata": {},
   "source": []
  },
  {
   "cell_type": "markdown",
   "metadata": {},
   "source": []
  },
  {
   "cell_type": "markdown",
   "metadata": {},
   "source": []
  },
  {
   "cell_type": "markdown",
   "metadata": {},
   "source": []
  },
  {
   "cell_type": "markdown",
   "metadata": {},
   "source": []
  },
  {
   "cell_type": "markdown",
   "metadata": {},
   "source": []
  },
  {
   "cell_type": "markdown",
   "metadata": {},
   "source": []
  },
  {
   "cell_type": "markdown",
   "metadata": {},
   "source": []
  },
  {
   "cell_type": "markdown",
   "metadata": {},
   "source": []
  },
  {
   "cell_type": "markdown",
   "metadata": {},
   "source": []
  },
  {
   "cell_type": "markdown",
   "metadata": {},
   "source": [
    "14. What is the most common type of restaurants in Berlin?"
   ]
  },
  {
   "cell_type": "markdown",
   "metadata": {},
   "source": [
    "15. Explore all neighborhoods which is near to the art gallery\n"
   ]
  },
  {
   "cell_type": "markdown",
   "metadata": {},
   "source": [
    "### Which borough(s) is near to Art Gallery?\n",
    "Let's visualize the boroughs from Berlin in a map."
   ]
  },
  {
   "cell_type": "markdown",
   "metadata": {},
   "source": [
    "As expected, most places, which are close to some art gelery, are located in the central parts of Berlin:\n",
    "- Mitte\n",
    "- Moabit\n",
    "- Hansaviertel\n",
    "- Kreuzberg\n",
    "- Neukölln\n",
    "\n",
    "<br></br>\n",
    "\n",
    "However, two of the boroughs the are extremely far away from the city center also appear to be boroughs with Art Galleries:\n",
    "- Wannsee\n",
    "- Buch"
   ]
  },
  {
   "cell_type": "markdown",
   "metadata": {},
   "source": [
    "# Results <a name=\"results\"></a>"
   ]
  },
  {
   "cell_type": "markdown",
   "metadata": {},
   "source": [
    "1. Which borough(s) has the highest variaty of venues?\n",
    " - Mitte is the borough that has exactly 99 venues whithin 5000m with 66 different types of venues. Which is not surprising because the area is located in the heart of Berlin. We also noted that all neighborhoods have at least 1 venue.\n",
    " \n",
    "\n",
    "\n",
    "2. What is the most common type of restaurants in Berlin?\n",
    " - This allowes us to answer the second question for our project. The Italian restaurant is the most common type of restaurant in Berlin.\n",
    " \n",
    "\n",
    "\n",
    "3. Which borough(s) is near to Art Gallery?\n",
    " - Mitte, Moabit, Hansaviertel, Kreuzberg, Neukölln, Wannsee, Buch"
   ]
  },
  {
   "cell_type": "markdown",
   "metadata": {},
   "source": [
    "# Discussion <a name=\"discussion\"></a>"
   ]
  },
  {
   "cell_type": "markdown",
   "metadata": {},
   "source": [
    "During the work for this project we noticed several important things:\n",
    "1. The API calls from Foursquare can be a very useful free tool to gather information for different cities, their venues and their distribution within the city. However, the limitation of the API calls for radios and number of venues return can falsify the results at the very end if you want to make a big aggragated analysis. If you want to get more detailed findings, you better use one of the paid options for Foursquare API calls. This will allow you to increase the radius of scan even more and at the same time to not have any overlapping in the scan.\n",
    "\n",
    "\n",
    "2. The most center district in Berlin (Mitte) is the one that has the highest potential for spending a good short vacation in Berlin. Especially for the tourists that visit the city for a day or weekend. Even though this was a bit expected, now we can confirm that this is a valid assumption to make. It is also good to see that all of the districts in Berlin have at least one venue from the Foursquare database. This shows that the Foursquare can be considered a good source for relavant location data.\n",
    "\n",
    "\n",
    "3. The influence of the different culture in Berlin can be seen by the numerous different types of restaurants in Berlin. The fact that Italian restaurants are the most common type of restaurant can show us that probably the Italian cousina is the most favourite one to the majority of people living in Berlin. \n",
    "\n",
    "\n",
    "4. Berlin is famous with it's countless art galleries and museums. One of the findings of this project that only a couple of central districts have a gallery. That was a fact that definately can guide the tourists who have an interest in art in which district they should go to."
   ]
  },
  {
   "cell_type": "markdown",
   "metadata": {},
   "source": [
    "# Conclusion <a name=\"conclusion\"></a>"
   ]
  },
  {
   "cell_type": "markdown",
   "metadata": {},
   "source": [
    "1. Limited findings due to the limited API's limitations.\n",
    "\n",
    "\n",
    "2. Mitte is the best district in Berlin for tourists.\n",
    "\n",
    "\n",
    "3. The Italian restaurants are the most common type of restaurant in Berlin.\n",
    "\n",
    "\n",
    "4. There are only a handful of districts that have an Art Gallery."
   ]
  }
 ],
 "metadata": {
  "kernelspec": {
   "display_name": "Python 3",
   "language": "python",
   "name": "python3"
  },
  "language_info": {
   "codemirror_mode": {
    "name": "ipython",
    "version": 3
   },
   "file_extension": ".py",
   "mimetype": "text/x-python",
   "name": "python",
   "nbconvert_exporter": "python",
   "pygments_lexer": "ipython3",
   "version": "3.7.3"
  }
 },
 "nbformat": 4,
 "nbformat_minor": 4
}
