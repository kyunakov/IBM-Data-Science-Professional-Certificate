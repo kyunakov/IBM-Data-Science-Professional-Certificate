{
 "cells": [
  {
   "cell_type": "markdown",
   "metadata": {},
   "source": [
    "### Applied Data Science Capstone by IBM/Coursera\n",
    "\n",
    "\n",
    "## Capstone Project\n",
    "## Topic:  Useful tourist information for the boroughs in Berlin\n",
    "<br> </br>\n",
    "\n",
    "\n",
    "\n",
    "## Table of contents\n",
    "* [Introduction](#introduction)\n",
    "* [Data](#data)\n",
    "* [Methodology](#methodology)\n",
    "* [Analysis](#analysis)\n",
    "* [Results](#results)\n",
    "* [Discussion](#discussion)\n",
    "* [Conclusion](#conclusion)"
   ]
  },
  {
   "cell_type": "markdown",
   "metadata": {},
   "source": [
    "# Introduction <a name=\"introduction\"></a>"
   ]
  },
  {
   "cell_type": "markdown",
   "metadata": {},
   "source": [
    "**Berlin** is a great city for tourists. It is not a surprise that it is ranked as the most visited German city by <a href=\"https://www.worldatlas.com/articles/the-10-most-visited-cities-in-germany.html\" target=\"_blank\" rel=\"noopener\">Worldatlas</a> with 31.1 milion tourists for 2016. However, as a tourist, you may find it **diffucult** to find out in which part of the city you should spend most of your time while being in Berlin. Especially for the tourists visiting Berlin only for a day or a weekend. The city is really big and it is divided in 96 boroughs, full of great places to visit. The questions I will try to answer are:\n",
    "<p> <b>1) Which borough(s) has the highest variaty of venues? </b></p>\n",
    "<p> <b>2) What is the most common type of restaurants in Berlin? </b></p>\n",
    "<p> <b>3) Which borough(s) is near to Art Gallery? </b></p>\n",
    "\n",
    "The main audience which may benefit by answering the questions above is the **one-day tourists.** It will be extremely valuable for them to know in which district should they spend their only day in Berlin in order to get the best out of it and also to have more specific expectations from Berlin as a touristic destination.\n",
    "\n",
    "For the sake of this project the terms boroughs, neighborhoods and districts are used with the same meaning."
   ]
  },
  {
   "cell_type": "markdown",
   "metadata": {},
   "source": [
    "# Data <a name=\"data\"></a>"
   ]
  },
  {
   "cell_type": "markdown",
   "metadata": {},
   "source": [
    "Based on definition of the problem, factors that will influence the solution are:\n",
    "* geolocation of the Berlin boroughs and venues\n",
    "* number of unique categories of venues in the borough\n",
    "\n",
    "In order to get this data, I decided to use two data providers:\n",
    "* the list of the names of boroughs will be obtained from **Wikipedia**\n",
    "* number of unique categories of venues in the boroughs and the location of the venues will be obtained using **Foursquare API**"
   ]
  },
  {
   "cell_type": "markdown",
   "metadata": {},
   "source": [
    "### Obtaining the names of the Berlin boroughs from Wikipedia"
   ]
  },
  {
   "cell_type": "markdown",
   "metadata": {},
   "source": [
    "#### Installing the necessary libriaries\n",
    "Here is a list of the libraries needed in order to answer the questions in this project."
   ]
  },
  {
   "cell_type": "code",
   "execution_count": 1,
   "metadata": {},
   "outputs": [
    {
     "name": "stdout",
     "output_type": "stream",
     "text": [
      "Requirement already satisfied: pandas in /Users/kirilyunakov/anaconda3/lib/python3.7/site-packages (0.24.2)\n",
      "Requirement already satisfied: python-dateutil>=2.5.0 in /Users/kirilyunakov/anaconda3/lib/python3.7/site-packages (from pandas) (2.8.0)\n",
      "Requirement already satisfied: numpy>=1.12.0 in /Users/kirilyunakov/anaconda3/lib/python3.7/site-packages (from pandas) (1.16.4)\n",
      "Requirement already satisfied: pytz>=2011k in /Users/kirilyunakov/anaconda3/lib/python3.7/site-packages (from pandas) (2019.1)\n",
      "Requirement already satisfied: six>=1.5 in /Users/kirilyunakov/anaconda3/lib/python3.7/site-packages (from python-dateutil>=2.5.0->pandas) (1.12.0)\n",
      "Collecting package metadata (current_repodata.json): done\n",
      "Solving environment: done\n",
      "\n",
      "# All requested packages already installed.\n",
      "\n",
      "Collecting package metadata (current_repodata.json): done\n",
      "Solving environment: done\n",
      "\n",
      "# All requested packages already installed.\n",
      "\n",
      "Libraries installed\n"
     ]
    }
   ],
   "source": [
    "! pip install pandas\n",
    "import pandas as pd\n",
    "\n",
    "from pandas.io.html import read_html\n",
    "\n",
    "!conda install -c conda-forge geopy --yes \n",
    "from geopy.geocoders import Nominatim \n",
    "import requests\n",
    "\n",
    "from pandas.io.json import json_normalize \n",
    "\n",
    "!conda install -c conda-forge folium=0.5.0 --yes\n",
    "import folium\n",
    "\n",
    "import seaborn as sns\n",
    "import matplotlib.pyplot as plt\n",
    "\n",
    "print(\"Libraries installed\")"
   ]
  },
  {
   "cell_type": "markdown",
   "metadata": {},
   "source": [
    "#### Obtaining the data from Wikipedia\n",
    "Wikipedia seems to be a good resource for obtaining such information due to its simple structure and easy readable data. "
   ]
  },
  {
   "cell_type": "code",
   "execution_count": 2,
   "metadata": {},
   "outputs": [
    {
     "name": "stdout",
     "output_type": "stream",
     "text": [
      "Exracted 13 wikitables\n"
     ]
    }
   ],
   "source": [
    "page = \"https://en.wikipedia.org/wiki/Boroughs_and_neighborhoods_of_Berlin\"\n",
    "\n",
    "wikitables = read_html(page, attrs={\"class\":\"wikitable\"})\n",
    "print(\"Exracted {num} wikitables\".format(num=len(wikitables)))"
   ]
  },
  {
   "cell_type": "markdown",
   "metadata": {},
   "source": [
    "#### Converting the Wikitable into a Pandas DataFrame\n",
    "All of the boroughs have been located in 12 different tables. Therefore, each of these tables are assigned in a seperate dataframe."
   ]
  },
  {
   "cell_type": "code",
   "execution_count": 3,
   "metadata": {},
   "outputs": [],
   "source": [
    "df1 = pd.DataFrame(wikitables[1])\n",
    "df2 = pd.DataFrame(wikitables[2])\n",
    "df3 = pd.DataFrame(wikitables[3])\n",
    "df4 = pd.DataFrame(wikitables[4])\n",
    "df5 = pd.DataFrame(wikitables[5])\n",
    "df6 = pd.DataFrame(wikitables[6])\n",
    "df7 = pd.DataFrame(wikitables[7])\n",
    "df8 = pd.DataFrame(wikitables[8])\n",
    "df9 = pd.DataFrame(wikitables[9])\n",
    "df10 = pd.DataFrame(wikitables[10])\n",
    "df11 = pd.DataFrame(wikitables[11])\n",
    "df12 = pd.DataFrame(wikitables[12])"
   ]
  },
  {
   "cell_type": "markdown",
   "metadata": {},
   "source": [
    "#### Concatenating all wikitables into one Pandas DataFrame "
   ]
  },
  {
   "cell_type": "code",
   "execution_count": 4,
   "metadata": {},
   "outputs": [
    {
     "data": {
      "text/html": [
       "<div>\n",
       "<style scoped>\n",
       "    .dataframe tbody tr th:only-of-type {\n",
       "        vertical-align: middle;\n",
       "    }\n",
       "\n",
       "    .dataframe tbody tr th {\n",
       "        vertical-align: top;\n",
       "    }\n",
       "\n",
       "    .dataframe thead th {\n",
       "        text-align: right;\n",
       "    }\n",
       "</style>\n",
       "<table border=\"1\" class=\"dataframe\">\n",
       "  <thead>\n",
       "    <tr style=\"text-align: right;\">\n",
       "      <th></th>\n",
       "      <th>Locality</th>\n",
       "      <th>Area in km²</th>\n",
       "      <th>Population as of 2008</th>\n",
       "      <th>Density inhabitants per km²</th>\n",
       "      <th>Map</th>\n",
       "    </tr>\n",
       "  </thead>\n",
       "  <tbody>\n",
       "    <tr>\n",
       "      <th>0</th>\n",
       "      <td>(0101) Mitte</td>\n",
       "      <td>10.70</td>\n",
       "      <td>79582</td>\n",
       "      <td>7445</td>\n",
       "      <td>NaN</td>\n",
       "    </tr>\n",
       "    <tr>\n",
       "      <th>1</th>\n",
       "      <td>(0102) Moabit</td>\n",
       "      <td>7.72</td>\n",
       "      <td>69425</td>\n",
       "      <td>8993</td>\n",
       "      <td>NaN</td>\n",
       "    </tr>\n",
       "    <tr>\n",
       "      <th>2</th>\n",
       "      <td>(0103) Hansaviertel</td>\n",
       "      <td>0.53</td>\n",
       "      <td>5889</td>\n",
       "      <td>11111</td>\n",
       "      <td>NaN</td>\n",
       "    </tr>\n",
       "    <tr>\n",
       "      <th>3</th>\n",
       "      <td>(0104) Tiergarten</td>\n",
       "      <td>5.17</td>\n",
       "      <td>12486</td>\n",
       "      <td>2415</td>\n",
       "      <td>NaN</td>\n",
       "    </tr>\n",
       "    <tr>\n",
       "      <th>4</th>\n",
       "      <td>(0105) Wedding</td>\n",
       "      <td>9.23</td>\n",
       "      <td>76363</td>\n",
       "      <td>8273</td>\n",
       "      <td>NaN</td>\n",
       "    </tr>\n",
       "  </tbody>\n",
       "</table>\n",
       "</div>"
      ],
      "text/plain": [
       "              Locality  Area in km²  Population as of 2008  \\\n",
       "0         (0101) Mitte        10.70                  79582   \n",
       "1        (0102) Moabit         7.72                  69425   \n",
       "2  (0103) Hansaviertel         0.53                   5889   \n",
       "3    (0104) Tiergarten         5.17                  12486   \n",
       "4       (0105) Wedding         9.23                  76363   \n",
       "\n",
       "   Density inhabitants per km²  Map  \n",
       "0                         7445  NaN  \n",
       "1                         8993  NaN  \n",
       "2                        11111  NaN  \n",
       "3                         2415  NaN  \n",
       "4                         8273  NaN  "
      ]
     },
     "execution_count": 4,
     "metadata": {},
     "output_type": "execute_result"
    }
   ],
   "source": [
    "district_list = pd.concat([df1, df2, df3, df4, df5, df6, df7, df8, df9, df10, df11, df12], ignore_index=True)\n",
    "district_list.head()"
   ]
  },
  {
   "cell_type": "markdown",
   "metadata": {},
   "source": [
    "#### Removing the unnecessary columns\n",
    "Cleaning the dataframe from information which is not relevant for the project is a very important step in this project. This will make the code easier to read and to understand."
   ]
  },
  {
   "cell_type": "code",
   "execution_count": 5,
   "metadata": {},
   "outputs": [
    {
     "data": {
      "text/html": [
       "<div>\n",
       "<style scoped>\n",
       "    .dataframe tbody tr th:only-of-type {\n",
       "        vertical-align: middle;\n",
       "    }\n",
       "\n",
       "    .dataframe tbody tr th {\n",
       "        vertical-align: top;\n",
       "    }\n",
       "\n",
       "    .dataframe thead th {\n",
       "        text-align: right;\n",
       "    }\n",
       "</style>\n",
       "<table border=\"1\" class=\"dataframe\">\n",
       "  <thead>\n",
       "    <tr style=\"text-align: right;\">\n",
       "      <th></th>\n",
       "      <th>Locality</th>\n",
       "      <th>Area in km²</th>\n",
       "    </tr>\n",
       "  </thead>\n",
       "  <tbody>\n",
       "    <tr>\n",
       "      <th>0</th>\n",
       "      <td>(0101) Mitte</td>\n",
       "      <td>10.70</td>\n",
       "    </tr>\n",
       "    <tr>\n",
       "      <th>1</th>\n",
       "      <td>(0102) Moabit</td>\n",
       "      <td>7.72</td>\n",
       "    </tr>\n",
       "    <tr>\n",
       "      <th>2</th>\n",
       "      <td>(0103) Hansaviertel</td>\n",
       "      <td>0.53</td>\n",
       "    </tr>\n",
       "    <tr>\n",
       "      <th>3</th>\n",
       "      <td>(0104) Tiergarten</td>\n",
       "      <td>5.17</td>\n",
       "    </tr>\n",
       "    <tr>\n",
       "      <th>4</th>\n",
       "      <td>(0105) Wedding</td>\n",
       "      <td>9.23</td>\n",
       "    </tr>\n",
       "  </tbody>\n",
       "</table>\n",
       "</div>"
      ],
      "text/plain": [
       "              Locality  Area in km²\n",
       "0         (0101) Mitte        10.70\n",
       "1        (0102) Moabit         7.72\n",
       "2  (0103) Hansaviertel         0.53\n",
       "3    (0104) Tiergarten         5.17\n",
       "4       (0105) Wedding         9.23"
      ]
     },
     "execution_count": 5,
     "metadata": {},
     "output_type": "execute_result"
    }
   ],
   "source": [
    "dropped_df = district_list.drop(columns=['Population as of 2008', 'Density inhabitants per km²', 'Map'], axis=1)\n",
    "dropped_df.head()"
   ]
  },
  {
   "cell_type": "markdown",
   "metadata": {},
   "source": [
    "#### Renaming the Locality column into District"
   ]
  },
  {
   "cell_type": "code",
   "execution_count": 6,
   "metadata": {},
   "outputs": [
    {
     "data": {
      "text/html": [
       "<div>\n",
       "<style scoped>\n",
       "    .dataframe tbody tr th:only-of-type {\n",
       "        vertical-align: middle;\n",
       "    }\n",
       "\n",
       "    .dataframe tbody tr th {\n",
       "        vertical-align: top;\n",
       "    }\n",
       "\n",
       "    .dataframe thead th {\n",
       "        text-align: right;\n",
       "    }\n",
       "</style>\n",
       "<table border=\"1\" class=\"dataframe\">\n",
       "  <thead>\n",
       "    <tr style=\"text-align: right;\">\n",
       "      <th></th>\n",
       "      <th>District</th>\n",
       "      <th>Area in km²</th>\n",
       "    </tr>\n",
       "  </thead>\n",
       "  <tbody>\n",
       "    <tr>\n",
       "      <th>0</th>\n",
       "      <td>(0101) Mitte</td>\n",
       "      <td>10.70</td>\n",
       "    </tr>\n",
       "    <tr>\n",
       "      <th>1</th>\n",
       "      <td>(0102) Moabit</td>\n",
       "      <td>7.72</td>\n",
       "    </tr>\n",
       "    <tr>\n",
       "      <th>2</th>\n",
       "      <td>(0103) Hansaviertel</td>\n",
       "      <td>0.53</td>\n",
       "    </tr>\n",
       "    <tr>\n",
       "      <th>3</th>\n",
       "      <td>(0104) Tiergarten</td>\n",
       "      <td>5.17</td>\n",
       "    </tr>\n",
       "    <tr>\n",
       "      <th>4</th>\n",
       "      <td>(0105) Wedding</td>\n",
       "      <td>9.23</td>\n",
       "    </tr>\n",
       "  </tbody>\n",
       "</table>\n",
       "</div>"
      ],
      "text/plain": [
       "              District  Area in km²\n",
       "0         (0101) Mitte        10.70\n",
       "1        (0102) Moabit         7.72\n",
       "2  (0103) Hansaviertel         0.53\n",
       "3    (0104) Tiergarten         5.17\n",
       "4       (0105) Wedding         9.23"
      ]
     },
     "execution_count": 6,
     "metadata": {},
     "output_type": "execute_result"
    }
   ],
   "source": [
    "renamed_df = dropped_df.rename(columns={\"Locality\": \"District\"})\n",
    "renamed_df.head()"
   ]
  },
  {
   "cell_type": "markdown",
   "metadata": {},
   "source": [
    "#### Removing the codes from the District names"
   ]
  },
  {
   "cell_type": "code",
   "execution_count": 7,
   "metadata": {},
   "outputs": [
    {
     "data": {
      "text/html": [
       "<div>\n",
       "<style scoped>\n",
       "    .dataframe tbody tr th:only-of-type {\n",
       "        vertical-align: middle;\n",
       "    }\n",
       "\n",
       "    .dataframe tbody tr th {\n",
       "        vertical-align: top;\n",
       "    }\n",
       "\n",
       "    .dataframe thead th {\n",
       "        text-align: right;\n",
       "    }\n",
       "</style>\n",
       "<table border=\"1\" class=\"dataframe\">\n",
       "  <thead>\n",
       "    <tr style=\"text-align: right;\">\n",
       "      <th></th>\n",
       "      <th>District</th>\n",
       "      <th>Area in km²</th>\n",
       "    </tr>\n",
       "  </thead>\n",
       "  <tbody>\n",
       "    <tr>\n",
       "      <th>0</th>\n",
       "      <td>Mitte</td>\n",
       "      <td>10.70</td>\n",
       "    </tr>\n",
       "    <tr>\n",
       "      <th>1</th>\n",
       "      <td>Moabit</td>\n",
       "      <td>7.72</td>\n",
       "    </tr>\n",
       "    <tr>\n",
       "      <th>2</th>\n",
       "      <td>Hansaviertel</td>\n",
       "      <td>0.53</td>\n",
       "    </tr>\n",
       "    <tr>\n",
       "      <th>3</th>\n",
       "      <td>Tiergarten</td>\n",
       "      <td>5.17</td>\n",
       "    </tr>\n",
       "    <tr>\n",
       "      <th>4</th>\n",
       "      <td>Wedding</td>\n",
       "      <td>9.23</td>\n",
       "    </tr>\n",
       "  </tbody>\n",
       "</table>\n",
       "</div>"
      ],
      "text/plain": [
       "       District  Area in km²\n",
       "0         Mitte        10.70\n",
       "1        Moabit         7.72\n",
       "2  Hansaviertel         0.53\n",
       "3    Tiergarten         5.17\n",
       "4       Wedding         9.23"
      ]
     },
     "execution_count": 7,
     "metadata": {},
     "output_type": "execute_result"
    }
   ],
   "source": [
    "renamed_df['District'] = pd.DataFrame(renamed_df['District'].str[7:])\n",
    "renamed_df.head()"
   ]
  },
  {
   "cell_type": "markdown",
   "metadata": {},
   "source": [
    "### Importing the Geospatial data of the Districts"
   ]
  },
  {
   "cell_type": "code",
   "execution_count": 8,
   "metadata": {},
   "outputs": [
    {
     "data": {
      "text/html": [
       "<div>\n",
       "<style scoped>\n",
       "    .dataframe tbody tr th:only-of-type {\n",
       "        vertical-align: middle;\n",
       "    }\n",
       "\n",
       "    .dataframe tbody tr th {\n",
       "        vertical-align: top;\n",
       "    }\n",
       "\n",
       "    .dataframe thead th {\n",
       "        text-align: right;\n",
       "    }\n",
       "</style>\n",
       "<table border=\"1\" class=\"dataframe\">\n",
       "  <thead>\n",
       "    <tr style=\"text-align: right;\">\n",
       "      <th></th>\n",
       "      <th>Locale</th>\n",
       "      <th>Lat</th>\n",
       "      <th>Long</th>\n",
       "    </tr>\n",
       "  </thead>\n",
       "  <tbody>\n",
       "    <tr>\n",
       "      <th>0</th>\n",
       "      <td>Mitte</td>\n",
       "      <td>52.519444</td>\n",
       "      <td>13.406667</td>\n",
       "    </tr>\n",
       "    <tr>\n",
       "      <th>1</th>\n",
       "      <td>Moabit</td>\n",
       "      <td>52.533333</td>\n",
       "      <td>13.333333</td>\n",
       "    </tr>\n",
       "    <tr>\n",
       "      <th>2</th>\n",
       "      <td>Hansaviertel</td>\n",
       "      <td>52.516667</td>\n",
       "      <td>13.338889</td>\n",
       "    </tr>\n",
       "    <tr>\n",
       "      <th>3</th>\n",
       "      <td>Tiergarten</td>\n",
       "      <td>52.516667</td>\n",
       "      <td>13.366667</td>\n",
       "    </tr>\n",
       "    <tr>\n",
       "      <th>4</th>\n",
       "      <td>Wedding</td>\n",
       "      <td>52.550000</td>\n",
       "      <td>13.366667</td>\n",
       "    </tr>\n",
       "  </tbody>\n",
       "</table>\n",
       "</div>"
      ],
      "text/plain": [
       "         Locale        Lat       Long\n",
       "0         Mitte  52.519444  13.406667\n",
       "1        Moabit  52.533333  13.333333\n",
       "2  Hansaviertel  52.516667  13.338889\n",
       "3    Tiergarten  52.516667  13.366667\n",
       "4       Wedding  52.550000  13.366667"
      ]
     },
     "execution_count": 8,
     "metadata": {},
     "output_type": "execute_result"
    }
   ],
   "source": [
    "geo_data = pd.read_csv('/Users/kirilyunakov/Downloads/Berlin_District_Coordinates.csv')\n",
    "geo_data.head()"
   ]
  },
  {
   "cell_type": "markdown",
   "metadata": {},
   "source": [
    "#### Renaming the column based on which will perform the merge (District)"
   ]
  },
  {
   "cell_type": "code",
   "execution_count": 9,
   "metadata": {},
   "outputs": [
    {
     "data": {
      "text/html": [
       "<div>\n",
       "<style scoped>\n",
       "    .dataframe tbody tr th:only-of-type {\n",
       "        vertical-align: middle;\n",
       "    }\n",
       "\n",
       "    .dataframe tbody tr th {\n",
       "        vertical-align: top;\n",
       "    }\n",
       "\n",
       "    .dataframe thead th {\n",
       "        text-align: right;\n",
       "    }\n",
       "</style>\n",
       "<table border=\"1\" class=\"dataframe\">\n",
       "  <thead>\n",
       "    <tr style=\"text-align: right;\">\n",
       "      <th></th>\n",
       "      <th>District</th>\n",
       "      <th>Lat</th>\n",
       "      <th>Long</th>\n",
       "    </tr>\n",
       "  </thead>\n",
       "  <tbody>\n",
       "    <tr>\n",
       "      <th>0</th>\n",
       "      <td>Mitte</td>\n",
       "      <td>52.519444</td>\n",
       "      <td>13.406667</td>\n",
       "    </tr>\n",
       "    <tr>\n",
       "      <th>1</th>\n",
       "      <td>Moabit</td>\n",
       "      <td>52.533333</td>\n",
       "      <td>13.333333</td>\n",
       "    </tr>\n",
       "    <tr>\n",
       "      <th>2</th>\n",
       "      <td>Hansaviertel</td>\n",
       "      <td>52.516667</td>\n",
       "      <td>13.338889</td>\n",
       "    </tr>\n",
       "    <tr>\n",
       "      <th>3</th>\n",
       "      <td>Tiergarten</td>\n",
       "      <td>52.516667</td>\n",
       "      <td>13.366667</td>\n",
       "    </tr>\n",
       "    <tr>\n",
       "      <th>4</th>\n",
       "      <td>Wedding</td>\n",
       "      <td>52.550000</td>\n",
       "      <td>13.366667</td>\n",
       "    </tr>\n",
       "  </tbody>\n",
       "</table>\n",
       "</div>"
      ],
      "text/plain": [
       "       District        Lat       Long\n",
       "0         Mitte  52.519444  13.406667\n",
       "1        Moabit  52.533333  13.333333\n",
       "2  Hansaviertel  52.516667  13.338889\n",
       "3    Tiergarten  52.516667  13.366667\n",
       "4       Wedding  52.550000  13.366667"
      ]
     },
     "execution_count": 9,
     "metadata": {},
     "output_type": "execute_result"
    }
   ],
   "source": [
    "renamed_geo_data = geo_data.rename(columns={'Locale': 'District'})\n",
    "renamed_geo_data.head()"
   ]
  },
  {
   "cell_type": "markdown",
   "metadata": {},
   "source": [
    "#### Merging the Geospatial data with the data from Wikipedia based on the District name"
   ]
  },
  {
   "cell_type": "code",
   "execution_count": 10,
   "metadata": {},
   "outputs": [
    {
     "data": {
      "text/html": [
       "<div>\n",
       "<style scoped>\n",
       "    .dataframe tbody tr th:only-of-type {\n",
       "        vertical-align: middle;\n",
       "    }\n",
       "\n",
       "    .dataframe tbody tr th {\n",
       "        vertical-align: top;\n",
       "    }\n",
       "\n",
       "    .dataframe thead th {\n",
       "        text-align: right;\n",
       "    }\n",
       "</style>\n",
       "<table border=\"1\" class=\"dataframe\">\n",
       "  <thead>\n",
       "    <tr style=\"text-align: right;\">\n",
       "      <th></th>\n",
       "      <th>District</th>\n",
       "      <th>Area in km²</th>\n",
       "      <th>Lat</th>\n",
       "      <th>Long</th>\n",
       "    </tr>\n",
       "  </thead>\n",
       "  <tbody>\n",
       "    <tr>\n",
       "      <th>0</th>\n",
       "      <td>Mitte</td>\n",
       "      <td>10.70</td>\n",
       "      <td>52.519444</td>\n",
       "      <td>13.406667</td>\n",
       "    </tr>\n",
       "    <tr>\n",
       "      <th>1</th>\n",
       "      <td>Moabit</td>\n",
       "      <td>7.72</td>\n",
       "      <td>52.533333</td>\n",
       "      <td>13.333333</td>\n",
       "    </tr>\n",
       "    <tr>\n",
       "      <th>2</th>\n",
       "      <td>Hansaviertel</td>\n",
       "      <td>0.53</td>\n",
       "      <td>52.516667</td>\n",
       "      <td>13.338889</td>\n",
       "    </tr>\n",
       "    <tr>\n",
       "      <th>3</th>\n",
       "      <td>Tiergarten</td>\n",
       "      <td>5.17</td>\n",
       "      <td>52.516667</td>\n",
       "      <td>13.366667</td>\n",
       "    </tr>\n",
       "    <tr>\n",
       "      <th>4</th>\n",
       "      <td>Wedding</td>\n",
       "      <td>9.23</td>\n",
       "      <td>52.550000</td>\n",
       "      <td>13.366667</td>\n",
       "    </tr>\n",
       "  </tbody>\n",
       "</table>\n",
       "</div>"
      ],
      "text/plain": [
       "       District  Area in km²        Lat       Long\n",
       "0         Mitte        10.70  52.519444  13.406667\n",
       "1        Moabit         7.72  52.533333  13.333333\n",
       "2  Hansaviertel         0.53  52.516667  13.338889\n",
       "3    Tiergarten         5.17  52.516667  13.366667\n",
       "4       Wedding         9.23  52.550000  13.366667"
      ]
     },
     "execution_count": 10,
     "metadata": {},
     "output_type": "execute_result"
    }
   ],
   "source": [
    "result = pd.merge(renamed_df, renamed_geo_data, on='District', how='left')\n",
    "result.head()"
   ]
  },
  {
   "cell_type": "markdown",
   "metadata": {},
   "source": [
    "Now, we have a dataset, consisting of all borouhgs in Berlin, together with their location data and size. "
   ]
  },
  {
   "cell_type": "markdown",
   "metadata": {},
   "source": [
    "# Methodology <a name=\"methodology\"></a>"
   ]
  },
  {
   "cell_type": "markdown",
   "metadata": {},
   "source": [
    "In this project we will allocate our efforts on trying to answer the questions we set beforehand. In order to do so we will need to identify the size of the radios within we have to search for venues from each district.\n",
    "\n",
    "The very first thing we did was to collect all of the information needed:\n",
    "- list of all borouhgs in berlin\n",
    "- the location of the boroughs\n",
    "- the size of the boroughs\n",
    "- a list of all venues within a certain radius of the district\n",
    "- the category type of these venues\n",
    "\n",
    "\n",
    "Secondly, we will use distribution analysis in order to identify the size of the radius we will search for the venues. Also, we will use one hot encoding for the purpose of converting the categorial values into numerical and measure how common each venue type is."
   ]
  },
  {
   "cell_type": "markdown",
   "metadata": {},
   "source": [
    "# Analysis <a name=\"analysis\"></a>"
   ]
  },
  {
   "cell_type": "code",
   "execution_count": 11,
   "metadata": {},
   "outputs": [],
   "source": [
    "neighborhoods = result"
   ]
  },
  {
   "cell_type": "markdown",
   "metadata": {},
   "source": [
    "#### Create a map of Berlin with the districts locations\n",
    "In order to find out whether there are many districts that extremely close to each other."
   ]
  },
  {
   "cell_type": "code",
   "execution_count": 12,
   "metadata": {},
   "outputs": [
    {
     "name": "stdout",
     "output_type": "stream",
     "text": [
      "The geograpical coordinate of Berlin are 52.5170365, 13.3888599.\n"
     ]
    }
   ],
   "source": [
    "address = 'Berlin'\n",
    "\n",
    "geolocator = Nominatim(user_agent=\"tor_explorer\")\n",
    "location = geolocator.geocode(address)\n",
    "latitude = location.latitude\n",
    "longitude = location.longitude\n",
    "print('The geograpical coordinate of Berlin are {}, {}.'.format(latitude, longitude))"
   ]
  },
  {
   "cell_type": "code",
   "execution_count": 13,
   "metadata": {
    "scrolled": true
   },
   "outputs": [
    {
     "data": {
      "text/html": [
       "<div style=\"width:100%;\"><div style=\"position:relative;width:100%;height:0;padding-bottom:60%;\"><iframe src=\"data:text/html;charset=utf-8;base64,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\" style=\"position:absolute;width:100%;height:100%;left:0;top:0;border:none !important;\" allowfullscreen webkitallowfullscreen mozallowfullscreen></iframe></div></div>"
      ],
      "text/plain": [
       "<folium.folium.Map at 0x1a1a96cf28>"
      ]
     },
     "execution_count": 13,
     "metadata": {},
     "output_type": "execute_result"
    }
   ],
   "source": [
    "map_berlin = folium.Map(location=[latitude, longitude], zoom_start=10.5)\n",
    "\n",
    "for lat, lng, neighborhood in zip(neighborhoods['Lat'], neighborhoods['Long'], neighborhoods['District']):\n",
    "    label = '{}'.format(neighborhood)\n",
    "    label = folium.Popup(label, parse_html=True)\n",
    "    folium.CircleMarker(\n",
    "        [lat, lng],\n",
    "        radius=5,\n",
    "        popup=label,\n",
    "        color='blue',\n",
    "        fill=True,\n",
    "        fill_color='#3186cc',\n",
    "        fill_opacity=0.7,\n",
    "        parse_html=False).add_to(map_berlin)  \n",
    "    \n",
    "map_berlin"
   ]
  },
  {
   "cell_type": "markdown",
   "metadata": {},
   "source": [
    "From the map above we can see that the boroughs are in a very good distribution within the map of Berlin and we can proceed by identifying the most appropriate radius of investigation."
   ]
  },
  {
   "cell_type": "markdown",
   "metadata": {},
   "source": [
    "#### Displaying the distribution"
   ]
  },
  {
   "cell_type": "code",
   "execution_count": 14,
   "metadata": {},
   "outputs": [
    {
     "data": {
      "text/plain": [
       "<matplotlib.axes._subplots.AxesSubplot at 0x1a1a72fc88>"
      ]
     },
     "execution_count": 14,
     "metadata": {},
     "output_type": "execute_result"
    },
    {
     "data": {
      "image/png": "[encoded data removed]",
      "text/plain": [
       "<Figure size 432x288 with 1 Axes>"
      ]
     },
     "metadata": {},
     "output_type": "display_data"
    }
   ],
   "source": [
    "sns.set(style=\"whitegrid\")\n",
    "sns.boxplot(y='Area in km²', data=neighborhoods)"
   ]
  },
  {
   "cell_type": "markdown",
   "metadata": {},
   "source": [
    "The distribution above shows us the that the size of 50% of the districts is between 5-12km2. Now, this will allows us to set a appropriate perimater for our radius of scan. Also, we have to keep in mind the limitation of the API provided by Foursquare which limit us to use a radius no bigger than 5000m. This means for the purpose of this project we will use a radius of 5000m."
   ]
  },
  {
   "cell_type": "markdown",
   "metadata": {},
   "source": [
    "#### Define Foursquare Credentials and Version\n",
    "These are the creditials we will use in order to pull the data from the Foursquare API. Each one of them will be stored in a separate variable."
   ]
  },
  {
   "cell_type": "code",
   "execution_count": 15,
   "metadata": {},
   "outputs": [
    {
     "name": "stdout",
     "output_type": "stream",
     "text": [
      "My credentails:\n",
      "CLIENT_ID: X0UR5GR2EL3FBUPRBTPQW0M1XOECT3RPNNPUXEPACXEPO44J\n",
      "CLIENT_SECRET: ANFDRV2DKSZG1J453PD3JW0V4DHM4FDKLR5UHFVDEW5IYFZO\n"
     ]
    }
   ],
   "source": [
    "CLIENT_ID = 'X0UR5GR2EL3FBUPRBTPQW0M1XOECT3RPNNPUXEPACXEPO44J' \n",
    "CLIENT_SECRET = 'ANFDRV2DKSZG1J453PD3JW0V4DHM4FDKLR5UHFVDEW5IYFZO' \n",
    "VERSION = '20180605'\n",
    "\n",
    "print('My credentails:')\n",
    "print('CLIENT_ID: ' + CLIENT_ID)\n",
    "print('CLIENT_SECRET: ' + CLIENT_SECRET)"
   ]
  },
  {
   "cell_type": "markdown",
   "metadata": {},
   "source": [
    "#### Let's explore the first district in our dataframe and get the district lat and long values"
   ]
  },
  {
   "cell_type": "code",
   "execution_count": 16,
   "metadata": {},
   "outputs": [
    {
     "name": "stdout",
     "output_type": "stream",
     "text": [
      "Latitude and longitude values of Mitte are 52.51944399999999, 13.406667.\n"
     ]
    }
   ],
   "source": [
    "neighborhood_name = neighborhoods.loc[0, 'District']\n",
    "neighborhood_latitude = neighborhoods.loc[0, 'Lat'] \n",
    "neighborhood_longitude = neighborhoods.loc[0, 'Long'] \n",
    "\n",
    "\n",
    "\n",
    "print('Latitude and longitude values of {} are {}, {}.'.format(neighborhood_name, \n",
    "                                                               neighborhood_latitude, \n",
    "                                                               neighborhood_longitude))"
   ]
  },
  {
   "cell_type": "markdown",
   "metadata": {},
   "source": [
    "#### Now, let's get the top 100 venues that are in Mitte within a radius of 5000 meters."
   ]
  },
  {
   "cell_type": "code",
   "execution_count": 17,
   "metadata": {},
   "outputs": [],
   "source": [
    "LIMIT = 100 \n",
    "radius = 5000\n",
    "\n",
    "url = 'https://api.foursquare.com/v2/venues/explore?&client_id={}&client_secret={}&v={}&ll={},{}&radius={}&limit={}'.format(\n",
    "    CLIENT_ID, \n",
    "    CLIENT_SECRET, \n",
    "    VERSION, \n",
    "    neighborhood_latitude, \n",
    "    neighborhood_longitude, \n",
    "    radius, \n",
    "    LIMIT)\n",
    "results = requests.get(url).json()\n"
   ]
  },
  {
   "cell_type": "markdown",
   "metadata": {},
   "source": [
    "#### Function that extracts the category of the venue"
   ]
  },
  {
   "cell_type": "code",
   "execution_count": 18,
   "metadata": {},
   "outputs": [],
   "source": [
    "def get_category_type(row):\n",
    "    try:\n",
    "        categories_list = row['categories']\n",
    "    except:\n",
    "        categories_list = row['venue.categories']  \n",
    "    if len(categories_list) == 0:\n",
    "        return None\n",
    "    else:\n",
    "        return categories_list[0]['name']"
   ]
  },
  {
   "cell_type": "code",
   "execution_count": 19,
   "metadata": {},
   "outputs": [
    {
     "data": {
      "text/html": [
       "<div>\n",
       "<style scoped>\n",
       "    .dataframe tbody tr th:only-of-type {\n",
       "        vertical-align: middle;\n",
       "    }\n",
       "\n",
       "    .dataframe tbody tr th {\n",
       "        vertical-align: top;\n",
       "    }\n",
       "\n",
       "    .dataframe thead th {\n",
       "        text-align: right;\n",
       "    }\n",
       "</style>\n",
       "<table border=\"1\" class=\"dataframe\">\n",
       "  <thead>\n",
       "    <tr style=\"text-align: right;\">\n",
       "      <th></th>\n",
       "      <th>name</th>\n",
       "      <th>categories</th>\n",
       "      <th>lat</th>\n",
       "      <th>lng</th>\n",
       "    </tr>\n",
       "  </thead>\n",
       "  <tbody>\n",
       "    <tr>\n",
       "      <th>0</th>\n",
       "      <td>Fat Tire Bike Tours</td>\n",
       "      <td>Bike Rental / Bike Share</td>\n",
       "      <td>52.521233</td>\n",
       "      <td>13.409110</td>\n",
       "    </tr>\n",
       "    <tr>\n",
       "      <th>1</th>\n",
       "      <td>19grams</td>\n",
       "      <td>Coffee Shop</td>\n",
       "      <td>52.522767</td>\n",
       "      <td>13.407041</td>\n",
       "    </tr>\n",
       "    <tr>\n",
       "      <th>2</th>\n",
       "      <td>Buchhandlung Walther König</td>\n",
       "      <td>Bookstore</td>\n",
       "      <td>52.521301</td>\n",
       "      <td>13.400758</td>\n",
       "    </tr>\n",
       "    <tr>\n",
       "      <th>3</th>\n",
       "      <td>Lustgarten</td>\n",
       "      <td>Garden</td>\n",
       "      <td>52.518469</td>\n",
       "      <td>13.399454</td>\n",
       "    </tr>\n",
       "    <tr>\n",
       "      <th>4</th>\n",
       "      <td>Father Carpenter</td>\n",
       "      <td>Coffee Shop</td>\n",
       "      <td>52.524469</td>\n",
       "      <td>13.406614</td>\n",
       "    </tr>\n",
       "  </tbody>\n",
       "</table>\n",
       "</div>"
      ],
      "text/plain": [
       "                         name                categories        lat        lng\n",
       "0         Fat Tire Bike Tours  Bike Rental / Bike Share  52.521233  13.409110\n",
       "1                     19grams               Coffee Shop  52.522767  13.407041\n",
       "2  Buchhandlung Walther König                 Bookstore  52.521301  13.400758\n",
       "3                  Lustgarten                    Garden  52.518469  13.399454\n",
       "4            Father Carpenter               Coffee Shop  52.524469  13.406614"
      ]
     },
     "execution_count": 19,
     "metadata": {},
     "output_type": "execute_result"
    }
   ],
   "source": [
    "venues = results['response']['groups'][0]['items']\n",
    "nearby_venues = json_normalize(venues)\n",
    "\n",
    "# filter columns\n",
    "filtered_columns = ['venue.name', 'venue.categories', 'venue.location.lat', 'venue.location.lng']\n",
    "nearby_venues =nearby_venues.loc[:, filtered_columns]\n",
    "\n",
    "\n",
    "# filter the category for each row\n",
    "nearby_venues['venue.categories'] = nearby_venues.apply(get_category_type, axis=1)\n",
    "\n",
    "# clean columns\n",
    "nearby_venues.columns = [col.split(\".\")[-1] for col in nearby_venues.columns]\n",
    "nearby_venues.head()"
   ]
  },
  {
   "cell_type": "markdown",
   "metadata": {},
   "source": [
    "#### And how many venues from Mitte were returned by Foursquare?\n",
    "We can see that we were able to pull exactly 100 venues from located in Mitte. This was also the maximum amount of venues that we are to pull."
   ]
  },
  {
   "cell_type": "code",
   "execution_count": 20,
   "metadata": {},
   "outputs": [
    {
     "data": {
      "text/plain": [
       "100"
      ]
     },
     "execution_count": 20,
     "metadata": {},
     "output_type": "execute_result"
    }
   ],
   "source": [
    "(nearby_venues.shape[0])"
   ]
  },
  {
   "cell_type": "markdown",
   "metadata": {},
   "source": [
    "### Explore the neighborhoods in Berlin\n",
    "Now, let's do the same thing for all of the districts in Berlin by creating a function that will pull the data for us."
   ]
  },
  {
   "cell_type": "code",
   "execution_count": 21,
   "metadata": {},
   "outputs": [],
   "source": [
    "def getNearbyVenues(names, latitudes, longitudes, radius=500):\n",
    "    \n",
    "    venues_list=[]\n",
    "    for name, lat, lng in zip(names, latitudes, longitudes):\n",
    "        print(name)\n",
    "            \n",
    "        # create the API request URL\n",
    "        url = 'https://api.foursquare.com/v2/venues/explore?&client_id={}&client_secret={}&v={}&ll={},{}&radius={}&limit={}'.format(\n",
    "            CLIENT_ID, \n",
    "            CLIENT_SECRET, \n",
    "            VERSION, \n",
    "            lat, \n",
    "            lng, \n",
    "            radius, \n",
    "            LIMIT)\n",
    "            \n",
    "        # make the GET request\n",
    "        results = requests.get(url).json()[\"response\"]['groups'][0]['items']\n",
    "        \n",
    "        # return only relevant information for each nearby venue\n",
    "        venues_list.append([(\n",
    "            name, \n",
    "            lat, \n",
    "            lng, \n",
    "            v['venue']['name'], \n",
    "            v['venue']['location']['lat'], \n",
    "            v['venue']['location']['lng'],  \n",
    "            v['venue']['categories'][0]['name']) for v in results])\n",
    "\n",
    "    nearby_venues = pd.DataFrame([item for venue_list in venues_list for item in venue_list])\n",
    "    nearby_venues.columns = ['Neighborhood', \n",
    "                  'Neighborhood Latitude', \n",
    "                  'Neighborhood Longitude', \n",
    "                  'Venue', \n",
    "                  'Venue Latitude', \n",
    "                  'Venue Longitude', \n",
    "                  'Venue Category']\n",
    "    \n",
    "    return(nearby_venues)"
   ]
  },
  {
   "cell_type": "code",
   "execution_count": null,
   "metadata": {},
   "outputs": [
    {
     "name": "stdout",
     "output_type": "stream",
     "text": [
      "Mitte\n",
      "Moabit\n",
      "Hansaviertel\n",
      "Tiergarten\n",
      "Wedding\n",
      "Gesundbrunnen\n",
      "Friedrichshain\n",
      "Kreuzberg\n",
      "Prenzlauer Berg\n",
      "Weißensee\n",
      "Blankenburg\n",
      "Heinersdorf\n",
      "Karow\n",
      "Stadtrandsiedlung Malchow\n",
      "Pankow\n",
      "Blankenfelde\n",
      "Buch\n",
      "Französisch Buchholz\n",
      "Niederschönhausen\n",
      "Rosenthal\n",
      "Wilhelmsruh\n",
      "Charlottenburg\n",
      "Wilmersdorf\n"
     ]
    }
   ],
   "source": [
    "res=getNearbyVenues(names=neighborhoods.District, latitudes=neighborhoods.Lat,\n",
    "                    longitudes=neighborhoods.Long)\n",
    "res.head()"
   ]
  },
  {
   "cell_type": "markdown",
   "metadata": {},
   "source": [
    "#### How many venues from Berlin were returned by Foursquare?\n",
    "All of the venues that we were able to pull from the API are 1473 for all of the 96 districts in Berlin."
   ]
  },
  {
   "cell_type": "code",
   "execution_count": null,
   "metadata": {},
   "outputs": [],
   "source": [
    "berlin_venues = res\n",
    "(berlin_venues.shape)"
   ]
  },
  {
   "cell_type": "markdown",
   "metadata": {},
   "source": [
    "### Let's check how many different venues were returned for each neighborhood\n",
    "This is done by grouping the names of the districts and counting the unique values of venue category."
   ]
  },
  {
   "cell_type": "code",
   "execution_count": null,
   "metadata": {},
   "outputs": [],
   "source": [
    "berlin_grouped=berlin_venues.groupby('Neighborhood').nunique('Venue Category')\n",
    "berlin_grouped.head()"
   ]
  },
  {
   "cell_type": "markdown",
   "metadata": {},
   "source": [
    "### Which borough(s) has the highest variaty of venues?\n",
    "This will answer our first question in this project. We can do that by sorting the dataframe by the venue category."
   ]
  },
  {
   "cell_type": "code",
   "execution_count": null,
   "metadata": {},
   "outputs": [],
   "source": [
    "berlin_grouped = berlin_grouped.sort_values('Venue Category', ascending=False)\n",
    "berlin_grouped.head()"
   ]
  },
  {
   "cell_type": "markdown",
   "metadata": {},
   "source": [
    "As we can see Mitte has exactly 99 venues whithin 5000m with 66 different types of venues. Which is not surprising because the area is located in the heart of Berlin. We also noted that all neighborhoods have at least 1 venue."
   ]
  },
  {
   "cell_type": "markdown",
   "metadata": {},
   "source": [
    "### Analyze Each Neighborhood\n",
    "Now, let's switch our attention to identifiying the type of vanues in each the districts. In order to do so, we will use the one hot encoding, which will convert the categorical values into numerical."
   ]
  },
  {
   "cell_type": "code",
   "execution_count": null,
   "metadata": {},
   "outputs": [],
   "source": [
    "# one hot encoding\n",
    "bl_onehot = pd.get_dummies(berlin_venues[['Venue Category']], prefix=\"\", prefix_sep=\"\")\n",
    "\n",
    "# add neighborhood column back to dataframe\n",
    "bl_onehot['Neighborhood'] = berlin_venues['Neighborhood'] \n",
    "\n",
    "# move neighborhood column to the first column\n",
    "cols = bl_onehot.columns.tolist()\n",
    "cols.insert(0, cols.pop(cols.index('Neighborhood')))\n",
    "\n",
    "bl_onehot = bl_onehot.reindex(columns= cols)\n",
    "bl_onehot"
   ]
  },
  {
   "cell_type": "markdown",
   "metadata": {},
   "source": [
    "### Estimating the appearnces of each venue by using the average function\n",
    "This allows us to see how often a certain type of venue appear in a specific districts. In order to do so, we have grouped all of the districts by name, calculated their average and sorted them by alphabetical order."
   ]
  },
  {
   "cell_type": "code",
   "execution_count": null,
   "metadata": {},
   "outputs": [],
   "source": [
    "berlin_grouped = bl_onehot.groupby('Neighborhood').mean().reset_index()\n",
    "berlin_grouped.head()"
   ]
  },
  {
   "cell_type": "code",
   "execution_count": null,
   "metadata": {},
   "outputs": [],
   "source": [
    "berlin_grouped = berlin_grouped.drop('Neighborhood', axis=1)\n",
    "berlin_grouped = berlin_grouped.astype(float)\n",
    "(berlin_grouped.sum(axis=0).sort_values())"
   ]
  },
  {
   "cell_type": "markdown",
   "metadata": {},
   "source": [
    "From the list above we can see that the most common venue's  categories are Supermarket , Bus Station, Café ,  Bakery and Italian Restaurant."
   ]
  },
  {
   "cell_type": "markdown",
   "metadata": {},
   "source": [
    "### What is the most common type of restaurants in Berlin?"
   ]
  },
  {
   "cell_type": "markdown",
   "metadata": {},
   "source": [
    "This allowes us to answer the second question for our project. The Italian restaurant is the most common type of restaurant in Berlin."
   ]
  },
  {
   "cell_type": "markdown",
   "metadata": {},
   "source": [
    "### Explore all neighborhoods which is near to the art gallery\n",
    "To be able to identify this we need just to filter the dataset we have from the one hot encoding about districts that have value in the column \"Art Gallery\" higher than 0. This indicates that in this district there is an Art Gallery."
   ]
  },
  {
   "cell_type": "code",
   "execution_count": null,
   "metadata": {},
   "outputs": [],
   "source": [
    "#get a list of a neighboorhoods names\n",
    "art_buildings=bl_onehot[bl_onehot[\"Art Gallery\"]>0].Neighborhood.unique().tolist()\n",
    "art_buildings"
   ]
  },
  {
   "cell_type": "code",
   "execution_count": null,
   "metadata": {},
   "outputs": [],
   "source": [
    "# subset all geo locations and highlight on the map:\n",
    "bl_art_neighboors = berlin_venues[(berlin_venues[\"Neighborhood\"].isin(art_buildings))]\n",
    "bl_art_neighboors=bl_art_neighboors.iloc[:,0:3]\n",
    "bl_art_neighboors.head()"
   ]
  },
  {
   "cell_type": "code",
   "execution_count": null,
   "metadata": {},
   "outputs": [],
   "source": [
    "bl_art_neighboors.shape"
   ]
  },
  {
   "cell_type": "code",
   "execution_count": null,
   "metadata": {},
   "outputs": [],
   "source": [
    "bl_art_neighboors=bl_art_neighboors.drop_duplicates()\n",
    "bl_art_neighboors.shape"
   ]
  },
  {
   "cell_type": "markdown",
   "metadata": {},
   "source": [
    "### Which borough(s) is near to Art Gallery?\n",
    "Let's visualize the boroughs from Berlin in a map."
   ]
  },
  {
   "cell_type": "code",
   "execution_count": null,
   "metadata": {},
   "outputs": [],
   "source": [
    "map_bl = folium.Map(location=[latitude, longitude], zoom_start=10)\n",
    "\n",
    "# add markers to map\n",
    "for lat, lng, neighborhood in zip(bl_art_neighboors['Neighborhood Latitude'], bl_art_neighboors['Neighborhood Longitude'], bl_art_neighboors['Neighborhood']):\n",
    "    label = '{}'.format(neighborhood)\n",
    "    label = folium.Popup(label, parse_html=True)\n",
    "    folium.CircleMarker(\n",
    "        [lat, lng],\n",
    "        radius=5,\n",
    "        popup=label,\n",
    "        color='blue',\n",
    "        fill=True,\n",
    "        fill_color='#3186cc',\n",
    "        fill_opacity=0.7,\n",
    "        parse_html=False).add_to(map_bl)  \n",
    "    \n",
    "map_bl"
   ]
  },
  {
   "cell_type": "markdown",
   "metadata": {},
   "source": [
    "As expected, most places, which are close to some art gelery, are located in the central parts of Berlin:\n",
    "- Mitte\n",
    "- Moabit\n",
    "- Hansaviertel\n",
    "- Kreuzberg\n",
    "- Neukölln\n",
    "\n",
    "<br></br>\n",
    "\n",
    "However, two of the boroughs the are extremely far away from the city center also appear to be boroughs with Art Galleries:\n",
    "- Wannsee\n",
    "- Buch"
   ]
  },
  {
   "cell_type": "markdown",
   "metadata": {},
   "source": [
    "# Results <a name=\"results\"></a>"
   ]
  },
  {
   "cell_type": "markdown",
   "metadata": {},
   "source": [
    "1. Which borough(s) has the highest variaty of venues?\n",
    " - Mitte is the borough that has exactly 99 venues whithin 5000m with 66 different types of venues. Which is not surprising because the area is located in the heart of Berlin. We also noted that all neighborhoods have at least 1 venue.\n",
    " \n",
    "\n",
    "\n",
    "2. What is the most common type of restaurants in Berlin?\n",
    " - This allowes us to answer the second question for our project. The Italian restaurant is the most common type of restaurant in Berlin.\n",
    " \n",
    "\n",
    "\n",
    "3. Which borough(s) is near to Art Gallery?\n",
    " - Mitte, Moabit, Hansaviertel, Kreuzberg, Neukölln, Wannsee, Buch"
   ]
  },
  {
   "cell_type": "markdown",
   "metadata": {},
   "source": [
    "# Discussion <a name=\"discussion\"></a>"
   ]
  },
  {
   "cell_type": "markdown",
   "metadata": {},
   "source": [
    "During the work for this project we noticed several important things:\n",
    "1. The API calls from Foursquare can be a very useful free tool to gather information for different cities, their venues and their distribution within the city. However, the limitation of the API calls for radios and number of venues return can falsify the results at the very end if you want to make a big aggragated analysis. If you want to get more detailed findings, you better use one of the paid options for Foursquare API calls. This will allow you to increase the radius of scan even more and at the same time to not have any overlapping in the scan.\n",
    "\n",
    "\n",
    "2. The most center district in Berlin (Mitte) is the one that has the highest potential for spending a good short vacation in Berlin. Especially for the tourists that visit the city for a day or weekend. Even though this was a bit expected, now we can confirm that this is a valid assumption to make. It is also good to see that all of the districts in Berlin have at least one venue from the Foursquare database. This shows that the Foursquare can be considered a good source for relavant location data.\n",
    "\n",
    "\n",
    "3. The influence of the different culture in Berlin can be seen by the numerous different types of restaurants in Berlin. The fact that Italian restaurants are the most common type of restaurant can show us that probably the Italian cousina is the most favourite one to the majority of people living in Berlin. \n",
    "\n",
    "\n",
    "4. Berlin is famous with it's countless art galleries and museums. One of the findings of this project that only a couple of central districts have a gallery. That was a fact that definately can guide the tourists who have an interest in art in which district they should go to."
   ]
  },
  {
   "cell_type": "markdown",
   "metadata": {},
   "source": [
    "# Conclusion <a name=\"conclusion\"></a>"
   ]
  },
  {
   "cell_type": "markdown",
   "metadata": {},
   "source": [
    "1. Limited findings due to the limited API's limitations.\n",
    "\n",
    "\n",
    "2. Mitte is the best district in Berlin for tourists.\n",
    "\n",
    "\n",
    "3. The Italian restaurants are the most common type of restaurant in Berlin.\n",
    "\n",
    "\n",
    "4. There are only a handful of districts that have an Art Gallery."
   ]
  }
 ],
 "metadata": {
  "kernelspec": {
   "display_name": "Python 3",
   "language": "python",
   "name": "python3"
  },
  "language_info": {
   "codemirror_mode": {
    "name": "ipython",
    "version": 3
   },
   "file_extension": ".py",
   "mimetype": "text/x-python",
   "name": "python",
   "nbconvert_exporter": "python",
   "pygments_lexer": "ipython3",
   "version": "3.7.3"
  }
 },
 "nbformat": 4,
 "nbformat_minor": 4
}
