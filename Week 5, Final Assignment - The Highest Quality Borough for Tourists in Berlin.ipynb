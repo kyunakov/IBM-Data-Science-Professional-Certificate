{
 "cells": [
  {
   "cell_type": "markdown",
   "metadata": {},
   "source": [
    "### Applied Data Science Capstone by IBM/Coursera\n",
    "\n",
    "\n",
    "## Capstone Project -  Week 4 - Questions 1&2\n",
    "<br></br>\n",
    "<br></br>\n",
    "## Topic: The Highest Quality Borough for Tourists in Berlin \n",
    "\n",
    "\n",
    "\n",
    "## Table of contents\n",
    "* [Introduction](#introduction)\n",
    "* [Data](#data)\n",
    "* [Methodology](#methodology)\n",
    "* [Results](#results)\n",
    "* [Discussion](#discussion)\n",
    "* [Conclusion](#conclusion)"
   ]
  },
  {
   "cell_type": "markdown",
   "metadata": {},
   "source": [
    "## Introduction <a name=\"introduction\"></a>"
   ]
  },
  {
   "cell_type": "markdown",
   "metadata": {},
   "source": [
    "**Berlin** is a great city for tourists. It is not a surprise that it is ranked as the most visited German city by <a href=\"https://www.worldatlas.com/articles/the-10-most-visited-cities-in-germany.html\" target=\"_blank\" rel=\"noopener\">Worldatlas</a> with 31.1 milion tourists for 2016. \n",
    "\n",
    "However, as a tourist, you may find it **diffucult** to find out in which part of the city you should spend most of your time while being in Berlin. The city is relatively big. It is consisted by 891,8 km² of urbanized area, which is divided in 12 boroughs, full of great places to visit. The question I will try to answer is **which borough has the highest variaty of high quality tourist venues.** \n",
    "\n",
    "The main audience which may benefit by solving the problem above is the **one-day tourists.** It will be extremely valuable for them to know in which district should they spend their only day in Berlin in order to get the best out of it."
   ]
  },
  {
   "cell_type": "markdown",
   "metadata": {},
   "source": [
    "## Data <a name=\"data\"></a>"
   ]
  },
  {
   "cell_type": "markdown",
   "metadata": {},
   "source": [
    "Based on definition of the problem, factors that will influence the solution are:\n",
    "\n",
    "* geolocation of the Berlin boroughs\n",
    "* number of unique categories of venues in the borough\n",
    "* average rating of the venues measured by the number of likes\n",
    "\n",
    "In order to get this data, I decided to use three data providers:\n",
    "\n",
    "* the list of the names of boroughs will be obtained from **Wikipedia**\n",
    "* the geolocation latitute and longitute of the boroughs in Berlin will be obtained using **Google Maps API**\n",
    "* number of unique categories of venues in the district and average rating of the venues measured by the number of likes will be obtained using **Foursquare API**"
   ]
  },
  {
   "cell_type": "markdown",
   "metadata": {},
   "source": [
    "### Obtaining the names of the Berlin boroughs from Wikipedia\n",
    "\n"
   ]
  },
  {
   "cell_type": "markdown",
   "metadata": {},
   "source": [
    "#### Installing the necessary libriaries"
   ]
  },
  {
   "cell_type": "code",
   "execution_count": 1,
   "metadata": {},
   "outputs": [
    {
     "name": "stdout",
     "output_type": "stream",
     "text": [
      "Requirement already satisfied: pandas in /Users/kirilyunakov/anaconda3/lib/python3.7/site-packages (0.24.2)\n",
      "Requirement already satisfied: numpy>=1.12.0 in /Users/kirilyunakov/anaconda3/lib/python3.7/site-packages (from pandas) (1.16.4)\n",
      "Requirement already satisfied: pytz>=2011k in /Users/kirilyunakov/anaconda3/lib/python3.7/site-packages (from pandas) (2019.1)\n",
      "Requirement already satisfied: python-dateutil>=2.5.0 in /Users/kirilyunakov/anaconda3/lib/python3.7/site-packages (from pandas) (2.8.0)\n",
      "Requirement already satisfied: six>=1.5 in /Users/kirilyunakov/anaconda3/lib/python3.7/site-packages (from python-dateutil>=2.5.0->pandas) (1.12.0)\n",
      "Collecting package metadata (current_repodata.json): done\n",
      "Solving environment: done\n",
      "\n",
      "# All requested packages already installed.\n",
      "\n",
      "Collecting package metadata (current_repodata.json): done\n",
      "Solving environment: done\n",
      "\n",
      "# All requested packages already installed.\n",
      "\n",
      "Libraries installed\n"
     ]
    }
   ],
   "source": [
    "! pip install pandas\n",
    "import pandas as pd\n",
    "\n",
    "from pandas.io.html import read_html\n",
    "\n",
    "!conda install -c conda-forge geopy --yes \n",
    "from geopy.geocoders import Nominatim \n",
    "\n",
    "import requests\n",
    "from pandas.io.json import json_normalize \n",
    "\n",
    "!conda install -c conda-forge folium=0.5.0 --yes\n",
    "import folium\n",
    "\n",
    "print(\"Libraries installed\")"
   ]
  },
  {
   "cell_type": "markdown",
   "metadata": {},
   "source": [
    "#### Obtaining the data from Wikipedia"
   ]
  },
  {
   "cell_type": "code",
   "execution_count": 2,
   "metadata": {},
   "outputs": [
    {
     "name": "stdout",
     "output_type": "stream",
     "text": [
      "Exracted 13 wikitables\n"
     ]
    }
   ],
   "source": [
    "page = \"https://en.wikipedia.org/wiki/Boroughs_and_neighborhoods_of_Berlin\"\n",
    "\n",
    "wikitables = read_html(page, attrs={\"class\":\"wikitable\"})\n",
    "print(\"Exracted {num} wikitables\".format(num=len(wikitables)))"
   ]
  },
  {
   "cell_type": "markdown",
   "metadata": {},
   "source": [
    "#### Converting the Wikitable into a Pandas DataFrame"
   ]
  },
  {
   "cell_type": "code",
   "execution_count": 3,
   "metadata": {},
   "outputs": [],
   "source": [
    "df1 = pd.DataFrame(wikitables[1])\n",
    "df2 = pd.DataFrame(wikitables[2])\n",
    "df3 = pd.DataFrame(wikitables[3])\n",
    "df4 = pd.DataFrame(wikitables[4])\n",
    "df5 = pd.DataFrame(wikitables[5])\n",
    "df6 = pd.DataFrame(wikitables[6])\n",
    "df7 = pd.DataFrame(wikitables[7])\n",
    "df8 = pd.DataFrame(wikitables[8])\n",
    "df9 = pd.DataFrame(wikitables[9])\n",
    "df10 = pd.DataFrame(wikitables[10])\n",
    "df11 = pd.DataFrame(wikitables[11])\n",
    "df12 = pd.DataFrame(wikitables[12])"
   ]
  },
  {
   "cell_type": "markdown",
   "metadata": {},
   "source": [
    "#### Concatenating all wikitables into one Pandas DataFrame "
   ]
  },
  {
   "cell_type": "code",
   "execution_count": 4,
   "metadata": {},
   "outputs": [
    {
     "data": {
      "text/html": [
       "<div>\n",
       "<style scoped>\n",
       "    .dataframe tbody tr th:only-of-type {\n",
       "        vertical-align: middle;\n",
       "    }\n",
       "\n",
       "    .dataframe tbody tr th {\n",
       "        vertical-align: top;\n",
       "    }\n",
       "\n",
       "    .dataframe thead th {\n",
       "        text-align: right;\n",
       "    }\n",
       "</style>\n",
       "<table border=\"1\" class=\"dataframe\">\n",
       "  <thead>\n",
       "    <tr style=\"text-align: right;\">\n",
       "      <th></th>\n",
       "      <th>Locality</th>\n",
       "      <th>Area in km²</th>\n",
       "      <th>Population as of 2008</th>\n",
       "      <th>Density inhabitants per km²</th>\n",
       "      <th>Map</th>\n",
       "    </tr>\n",
       "  </thead>\n",
       "  <tbody>\n",
       "    <tr>\n",
       "      <th>0</th>\n",
       "      <td>(0101) Mitte</td>\n",
       "      <td>10.70</td>\n",
       "      <td>79582</td>\n",
       "      <td>7445</td>\n",
       "      <td>NaN</td>\n",
       "    </tr>\n",
       "    <tr>\n",
       "      <th>1</th>\n",
       "      <td>(0102) Moabit</td>\n",
       "      <td>7.72</td>\n",
       "      <td>69425</td>\n",
       "      <td>8993</td>\n",
       "      <td>NaN</td>\n",
       "    </tr>\n",
       "    <tr>\n",
       "      <th>2</th>\n",
       "      <td>(0103) Hansaviertel</td>\n",
       "      <td>0.53</td>\n",
       "      <td>5889</td>\n",
       "      <td>11111</td>\n",
       "      <td>NaN</td>\n",
       "    </tr>\n",
       "    <tr>\n",
       "      <th>3</th>\n",
       "      <td>(0104) Tiergarten</td>\n",
       "      <td>5.17</td>\n",
       "      <td>12486</td>\n",
       "      <td>2415</td>\n",
       "      <td>NaN</td>\n",
       "    </tr>\n",
       "    <tr>\n",
       "      <th>4</th>\n",
       "      <td>(0105) Wedding</td>\n",
       "      <td>9.23</td>\n",
       "      <td>76363</td>\n",
       "      <td>8273</td>\n",
       "      <td>NaN</td>\n",
       "    </tr>\n",
       "  </tbody>\n",
       "</table>\n",
       "</div>"
      ],
      "text/plain": [
       "              Locality  Area in km²  Population as of 2008  \\\n",
       "0         (0101) Mitte        10.70                  79582   \n",
       "1        (0102) Moabit         7.72                  69425   \n",
       "2  (0103) Hansaviertel         0.53                   5889   \n",
       "3    (0104) Tiergarten         5.17                  12486   \n",
       "4       (0105) Wedding         9.23                  76363   \n",
       "\n",
       "   Density inhabitants per km²  Map  \n",
       "0                         7445  NaN  \n",
       "1                         8993  NaN  \n",
       "2                        11111  NaN  \n",
       "3                         2415  NaN  \n",
       "4                         8273  NaN  "
      ]
     },
     "execution_count": 4,
     "metadata": {},
     "output_type": "execute_result"
    }
   ],
   "source": [
    "district_list = pd.concat([df1, df2, df3, df4, df5, df6, df7, df8, df9, df10, df11, df12], ignore_index=True)\n",
    "district_list.head()"
   ]
  },
  {
   "cell_type": "markdown",
   "metadata": {},
   "source": [
    "#### Removing the unnecessary columns and renaming the main column"
   ]
  },
  {
   "cell_type": "code",
   "execution_count": 5,
   "metadata": {},
   "outputs": [
    {
     "data": {
      "text/html": [
       "<div>\n",
       "<style scoped>\n",
       "    .dataframe tbody tr th:only-of-type {\n",
       "        vertical-align: middle;\n",
       "    }\n",
       "\n",
       "    .dataframe tbody tr th {\n",
       "        vertical-align: top;\n",
       "    }\n",
       "\n",
       "    .dataframe thead th {\n",
       "        text-align: right;\n",
       "    }\n",
       "</style>\n",
       "<table border=\"1\" class=\"dataframe\">\n",
       "  <thead>\n",
       "    <tr style=\"text-align: right;\">\n",
       "      <th></th>\n",
       "      <th>Locality</th>\n",
       "      <th>Area in km²</th>\n",
       "    </tr>\n",
       "  </thead>\n",
       "  <tbody>\n",
       "    <tr>\n",
       "      <th>0</th>\n",
       "      <td>(0101) Mitte</td>\n",
       "      <td>10.70</td>\n",
       "    </tr>\n",
       "    <tr>\n",
       "      <th>1</th>\n",
       "      <td>(0102) Moabit</td>\n",
       "      <td>7.72</td>\n",
       "    </tr>\n",
       "    <tr>\n",
       "      <th>2</th>\n",
       "      <td>(0103) Hansaviertel</td>\n",
       "      <td>0.53</td>\n",
       "    </tr>\n",
       "    <tr>\n",
       "      <th>3</th>\n",
       "      <td>(0104) Tiergarten</td>\n",
       "      <td>5.17</td>\n",
       "    </tr>\n",
       "    <tr>\n",
       "      <th>4</th>\n",
       "      <td>(0105) Wedding</td>\n",
       "      <td>9.23</td>\n",
       "    </tr>\n",
       "  </tbody>\n",
       "</table>\n",
       "</div>"
      ],
      "text/plain": [
       "              Locality  Area in km²\n",
       "0         (0101) Mitte        10.70\n",
       "1        (0102) Moabit         7.72\n",
       "2  (0103) Hansaviertel         0.53\n",
       "3    (0104) Tiergarten         5.17\n",
       "4       (0105) Wedding         9.23"
      ]
     },
     "execution_count": 5,
     "metadata": {},
     "output_type": "execute_result"
    }
   ],
   "source": [
    "dropped_df = district_list.drop(columns=['Population as of 2008', 'Density inhabitants per km²', 'Map'], axis=1)\n",
    "dropped_df.head()"
   ]
  },
  {
   "cell_type": "markdown",
   "metadata": {},
   "source": [
    "#### Renaming the Locality column into District"
   ]
  },
  {
   "cell_type": "code",
   "execution_count": 6,
   "metadata": {},
   "outputs": [
    {
     "data": {
      "text/html": [
       "<div>\n",
       "<style scoped>\n",
       "    .dataframe tbody tr th:only-of-type {\n",
       "        vertical-align: middle;\n",
       "    }\n",
       "\n",
       "    .dataframe tbody tr th {\n",
       "        vertical-align: top;\n",
       "    }\n",
       "\n",
       "    .dataframe thead th {\n",
       "        text-align: right;\n",
       "    }\n",
       "</style>\n",
       "<table border=\"1\" class=\"dataframe\">\n",
       "  <thead>\n",
       "    <tr style=\"text-align: right;\">\n",
       "      <th></th>\n",
       "      <th>District</th>\n",
       "      <th>Area in km²</th>\n",
       "    </tr>\n",
       "  </thead>\n",
       "  <tbody>\n",
       "    <tr>\n",
       "      <th>0</th>\n",
       "      <td>(0101) Mitte</td>\n",
       "      <td>10.70</td>\n",
       "    </tr>\n",
       "    <tr>\n",
       "      <th>1</th>\n",
       "      <td>(0102) Moabit</td>\n",
       "      <td>7.72</td>\n",
       "    </tr>\n",
       "    <tr>\n",
       "      <th>2</th>\n",
       "      <td>(0103) Hansaviertel</td>\n",
       "      <td>0.53</td>\n",
       "    </tr>\n",
       "    <tr>\n",
       "      <th>3</th>\n",
       "      <td>(0104) Tiergarten</td>\n",
       "      <td>5.17</td>\n",
       "    </tr>\n",
       "    <tr>\n",
       "      <th>4</th>\n",
       "      <td>(0105) Wedding</td>\n",
       "      <td>9.23</td>\n",
       "    </tr>\n",
       "  </tbody>\n",
       "</table>\n",
       "</div>"
      ],
      "text/plain": [
       "              District  Area in km²\n",
       "0         (0101) Mitte        10.70\n",
       "1        (0102) Moabit         7.72\n",
       "2  (0103) Hansaviertel         0.53\n",
       "3    (0104) Tiergarten         5.17\n",
       "4       (0105) Wedding         9.23"
      ]
     },
     "execution_count": 6,
     "metadata": {},
     "output_type": "execute_result"
    }
   ],
   "source": [
    "renamed_df = dropped_df.rename(columns={\"Locality\": \"District\"})\n",
    "renamed_df.head()"
   ]
  },
  {
   "cell_type": "markdown",
   "metadata": {},
   "source": [
    "#### Removing the codes from the District names"
   ]
  },
  {
   "cell_type": "code",
   "execution_count": 7,
   "metadata": {},
   "outputs": [
    {
     "data": {
      "text/html": [
       "<div>\n",
       "<style scoped>\n",
       "    .dataframe tbody tr th:only-of-type {\n",
       "        vertical-align: middle;\n",
       "    }\n",
       "\n",
       "    .dataframe tbody tr th {\n",
       "        vertical-align: top;\n",
       "    }\n",
       "\n",
       "    .dataframe thead th {\n",
       "        text-align: right;\n",
       "    }\n",
       "</style>\n",
       "<table border=\"1\" class=\"dataframe\">\n",
       "  <thead>\n",
       "    <tr style=\"text-align: right;\">\n",
       "      <th></th>\n",
       "      <th>District</th>\n",
       "      <th>Area in km²</th>\n",
       "    </tr>\n",
       "  </thead>\n",
       "  <tbody>\n",
       "    <tr>\n",
       "      <th>0</th>\n",
       "      <td>Mitte</td>\n",
       "      <td>10.70</td>\n",
       "    </tr>\n",
       "    <tr>\n",
       "      <th>1</th>\n",
       "      <td>Moabit</td>\n",
       "      <td>7.72</td>\n",
       "    </tr>\n",
       "    <tr>\n",
       "      <th>2</th>\n",
       "      <td>Hansaviertel</td>\n",
       "      <td>0.53</td>\n",
       "    </tr>\n",
       "    <tr>\n",
       "      <th>3</th>\n",
       "      <td>Tiergarten</td>\n",
       "      <td>5.17</td>\n",
       "    </tr>\n",
       "    <tr>\n",
       "      <th>4</th>\n",
       "      <td>Wedding</td>\n",
       "      <td>9.23</td>\n",
       "    </tr>\n",
       "  </tbody>\n",
       "</table>\n",
       "</div>"
      ],
      "text/plain": [
       "       District  Area in km²\n",
       "0         Mitte        10.70\n",
       "1        Moabit         7.72\n",
       "2  Hansaviertel         0.53\n",
       "3    Tiergarten         5.17\n",
       "4       Wedding         9.23"
      ]
     },
     "execution_count": 7,
     "metadata": {},
     "output_type": "execute_result"
    }
   ],
   "source": [
    "renamed_df['District'] = pd.DataFrame(renamed_df['District'].str[7:])\n",
    "renamed_df.head()"
   ]
  },
  {
   "cell_type": "markdown",
   "metadata": {},
   "source": [
    "#### Importing the Geospatial data of the Districts"
   ]
  },
  {
   "cell_type": "code",
   "execution_count": 8,
   "metadata": {},
   "outputs": [
    {
     "data": {
      "text/html": [
       "<div>\n",
       "<style scoped>\n",
       "    .dataframe tbody tr th:only-of-type {\n",
       "        vertical-align: middle;\n",
       "    }\n",
       "\n",
       "    .dataframe tbody tr th {\n",
       "        vertical-align: top;\n",
       "    }\n",
       "\n",
       "    .dataframe thead th {\n",
       "        text-align: right;\n",
       "    }\n",
       "</style>\n",
       "<table border=\"1\" class=\"dataframe\">\n",
       "  <thead>\n",
       "    <tr style=\"text-align: right;\">\n",
       "      <th></th>\n",
       "      <th>Locale</th>\n",
       "      <th>Lat</th>\n",
       "      <th>Long</th>\n",
       "    </tr>\n",
       "  </thead>\n",
       "  <tbody>\n",
       "    <tr>\n",
       "      <th>0</th>\n",
       "      <td>Mitte</td>\n",
       "      <td>52.519444</td>\n",
       "      <td>13.406667</td>\n",
       "    </tr>\n",
       "    <tr>\n",
       "      <th>1</th>\n",
       "      <td>Moabit</td>\n",
       "      <td>52.533333</td>\n",
       "      <td>13.333333</td>\n",
       "    </tr>\n",
       "    <tr>\n",
       "      <th>2</th>\n",
       "      <td>Hansaviertel</td>\n",
       "      <td>52.516667</td>\n",
       "      <td>13.338889</td>\n",
       "    </tr>\n",
       "    <tr>\n",
       "      <th>3</th>\n",
       "      <td>Tiergarten</td>\n",
       "      <td>52.516667</td>\n",
       "      <td>13.366667</td>\n",
       "    </tr>\n",
       "    <tr>\n",
       "      <th>4</th>\n",
       "      <td>Wedding</td>\n",
       "      <td>52.550000</td>\n",
       "      <td>13.366667</td>\n",
       "    </tr>\n",
       "  </tbody>\n",
       "</table>\n",
       "</div>"
      ],
      "text/plain": [
       "         Locale        Lat       Long\n",
       "0         Mitte  52.519444  13.406667\n",
       "1        Moabit  52.533333  13.333333\n",
       "2  Hansaviertel  52.516667  13.338889\n",
       "3    Tiergarten  52.516667  13.366667\n",
       "4       Wedding  52.550000  13.366667"
      ]
     },
     "execution_count": 8,
     "metadata": {},
     "output_type": "execute_result"
    }
   ],
   "source": [
    "import pandas as pd\n",
    "geo_data = pd.read_csv('/Users/kirilyunakov/Downloads/Berlin_District_Coordinates.csv')\n",
    "geo_data.head()"
   ]
  },
  {
   "cell_type": "markdown",
   "metadata": {},
   "source": [
    "#### Renaming the column based on which will perform the merge (District)"
   ]
  },
  {
   "cell_type": "code",
   "execution_count": 9,
   "metadata": {},
   "outputs": [
    {
     "data": {
      "text/html": [
       "<div>\n",
       "<style scoped>\n",
       "    .dataframe tbody tr th:only-of-type {\n",
       "        vertical-align: middle;\n",
       "    }\n",
       "\n",
       "    .dataframe tbody tr th {\n",
       "        vertical-align: top;\n",
       "    }\n",
       "\n",
       "    .dataframe thead th {\n",
       "        text-align: right;\n",
       "    }\n",
       "</style>\n",
       "<table border=\"1\" class=\"dataframe\">\n",
       "  <thead>\n",
       "    <tr style=\"text-align: right;\">\n",
       "      <th></th>\n",
       "      <th>District</th>\n",
       "      <th>Lat</th>\n",
       "      <th>Long</th>\n",
       "    </tr>\n",
       "  </thead>\n",
       "  <tbody>\n",
       "    <tr>\n",
       "      <th>0</th>\n",
       "      <td>Mitte</td>\n",
       "      <td>52.519444</td>\n",
       "      <td>13.406667</td>\n",
       "    </tr>\n",
       "    <tr>\n",
       "      <th>1</th>\n",
       "      <td>Moabit</td>\n",
       "      <td>52.533333</td>\n",
       "      <td>13.333333</td>\n",
       "    </tr>\n",
       "    <tr>\n",
       "      <th>2</th>\n",
       "      <td>Hansaviertel</td>\n",
       "      <td>52.516667</td>\n",
       "      <td>13.338889</td>\n",
       "    </tr>\n",
       "    <tr>\n",
       "      <th>3</th>\n",
       "      <td>Tiergarten</td>\n",
       "      <td>52.516667</td>\n",
       "      <td>13.366667</td>\n",
       "    </tr>\n",
       "    <tr>\n",
       "      <th>4</th>\n",
       "      <td>Wedding</td>\n",
       "      <td>52.550000</td>\n",
       "      <td>13.366667</td>\n",
       "    </tr>\n",
       "  </tbody>\n",
       "</table>\n",
       "</div>"
      ],
      "text/plain": [
       "       District        Lat       Long\n",
       "0         Mitte  52.519444  13.406667\n",
       "1        Moabit  52.533333  13.333333\n",
       "2  Hansaviertel  52.516667  13.338889\n",
       "3    Tiergarten  52.516667  13.366667\n",
       "4       Wedding  52.550000  13.366667"
      ]
     },
     "execution_count": 9,
     "metadata": {},
     "output_type": "execute_result"
    }
   ],
   "source": [
    "renamed_geo_data = geo_data.rename(columns={'Locale': 'District'})\n",
    "renamed_geo_data.head()"
   ]
  },
  {
   "cell_type": "markdown",
   "metadata": {},
   "source": [
    "#### Merging the Geospatial data with the data from Wikipedia based on the District name"
   ]
  },
  {
   "cell_type": "code",
   "execution_count": 10,
   "metadata": {},
   "outputs": [
    {
     "data": {
      "text/html": [
       "<div>\n",
       "<style scoped>\n",
       "    .dataframe tbody tr th:only-of-type {\n",
       "        vertical-align: middle;\n",
       "    }\n",
       "\n",
       "    .dataframe tbody tr th {\n",
       "        vertical-align: top;\n",
       "    }\n",
       "\n",
       "    .dataframe thead th {\n",
       "        text-align: right;\n",
       "    }\n",
       "</style>\n",
       "<table border=\"1\" class=\"dataframe\">\n",
       "  <thead>\n",
       "    <tr style=\"text-align: right;\">\n",
       "      <th></th>\n",
       "      <th>District</th>\n",
       "      <th>Area in km²</th>\n",
       "      <th>Lat</th>\n",
       "      <th>Long</th>\n",
       "    </tr>\n",
       "  </thead>\n",
       "  <tbody>\n",
       "    <tr>\n",
       "      <th>0</th>\n",
       "      <td>Mitte</td>\n",
       "      <td>10.70</td>\n",
       "      <td>52.519444</td>\n",
       "      <td>13.406667</td>\n",
       "    </tr>\n",
       "    <tr>\n",
       "      <th>1</th>\n",
       "      <td>Moabit</td>\n",
       "      <td>7.72</td>\n",
       "      <td>52.533333</td>\n",
       "      <td>13.333333</td>\n",
       "    </tr>\n",
       "    <tr>\n",
       "      <th>2</th>\n",
       "      <td>Hansaviertel</td>\n",
       "      <td>0.53</td>\n",
       "      <td>52.516667</td>\n",
       "      <td>13.338889</td>\n",
       "    </tr>\n",
       "    <tr>\n",
       "      <th>3</th>\n",
       "      <td>Tiergarten</td>\n",
       "      <td>5.17</td>\n",
       "      <td>52.516667</td>\n",
       "      <td>13.366667</td>\n",
       "    </tr>\n",
       "    <tr>\n",
       "      <th>4</th>\n",
       "      <td>Wedding</td>\n",
       "      <td>9.23</td>\n",
       "      <td>52.550000</td>\n",
       "      <td>13.366667</td>\n",
       "    </tr>\n",
       "  </tbody>\n",
       "</table>\n",
       "</div>"
      ],
      "text/plain": [
       "       District  Area in km²        Lat       Long\n",
       "0         Mitte        10.70  52.519444  13.406667\n",
       "1        Moabit         7.72  52.533333  13.333333\n",
       "2  Hansaviertel         0.53  52.516667  13.338889\n",
       "3    Tiergarten         5.17  52.516667  13.366667\n",
       "4       Wedding         9.23  52.550000  13.366667"
      ]
     },
     "execution_count": 10,
     "metadata": {},
     "output_type": "execute_result"
    }
   ],
   "source": [
    "result = pd.merge(renamed_df, renamed_geo_data, on='District', how='left')\n",
    "result.head()"
   ]
  },
  {
   "cell_type": "code",
   "execution_count": 11,
   "metadata": {},
   "outputs": [],
   "source": [
    "neighborhoods = result"
   ]
  },
  {
   "cell_type": "code",
   "execution_count": 12,
   "metadata": {},
   "outputs": [
    {
     "name": "stdout",
     "output_type": "stream",
     "text": [
      "The geograpical coordinate of Berlin are 52.5170365, 13.3888599.\n"
     ]
    }
   ],
   "source": [
    "address = 'Berlin'\n",
    "\n",
    "geolocator = Nominatim(user_agent=\"tor_explorer\")\n",
    "location = geolocator.geocode(address)\n",
    "latitude = location.latitude\n",
    "longitude = location.longitude\n",
    "print('The geograpical coordinate of Berlin are {}, {}.'.format(latitude, longitude))"
   ]
  },
  {
   "cell_type": "code",
   "execution_count": 13,
   "metadata": {},
   "outputs": [
    {
     "data": {
      "text/html": [
       "<div style=\"width:100%;\"><div style=\"position:relative;width:100%;height:0;padding-bottom:60%;\"><iframe src=\"data:text/html;charset=utf-8;base64,PCFET0NUWVBFIGh0bWw+CjxoZWFkPiAgICAKICAgIDxtZXRhIGh0dHAtZXF1aXY9ImNvbnRlbnQtdHlwZSIgY29udGVudD0idGV4dC9odG1sOyBjaGFyc2V0PVVURi04IiAvPgogICAgPHNjcmlwdD5MX1BSRUZFUl9DQU5WQVMgPSBmYWxzZTsgTF9OT19UT1VDSCA9IGZhbHNlOyBMX0RJU0FCTEVfM0QgPSBmYWxzZTs8L3NjcmlwdD4KICAgIDxzY3JpcHQgc3JjPSJodHRwczovL2Nkbi5qc2RlbGl2ci5uZXQvbnBtL2xlYWZsZXRAMS4yLjAvZGlzdC9sZWFmbGV0LmpzIj48L3NjcmlwdD4KICAgIDxzY3JpcHQgc3JjPSJodHRwczovL2FqYXguZ29vZ2xlYXBpcy5jb20vYWpheC9saWJzL2pxdWVyeS8xLjExLjEvanF1ZXJ5Lm1pbi5qcyI+PC9zY3JpcHQ+CiAgICA8c2NyaXB0IHNyYz0iaHR0cHM6Ly9tYXhjZG4uYm9vdHN0cmFwY2RuLmNvbS9ib290c3RyYXAvMy4yLjAvanMvYm9vdHN0cmFwLm1pbi5qcyI+PC9zY3JpcHQ+CiAgICA8c2NyaXB0IHNyYz0iaHR0cHM6Ly9jZG5qcy5jbG91ZGZsYXJlLmNvbS9hamF4L2xpYnMvTGVhZmxldC5hd2Vzb21lLW1hcmtlcnMvMi4wLjIvbGVhZmxldC5hd2Vzb21lLW1hcmtlcnMuanMiPjwvc2NyaXB0PgogICAgPGxpbmsgcmVsPSJzdHlsZXNoZWV0IiBocmVmPSJodHRwczovL2Nkbi5qc2RlbGl2ci5uZXQvbnBtL2xlYWZsZXRAMS4yLjAvZGlzdC9sZWFmbGV0LmNzcyIvPgogICAgPGxpbmsgcmVsPSJzdHlsZXNoZWV0IiBocmVmPSJodHRwczovL21heGNkbi5ib290c3RyYXBjZG4uY29tL2Jvb3RzdHJhcC8zLjIuMC9jc3MvYm9vdHN0cmFwLm1pbi5jc3MiLz4KICAgIDxsaW5rIHJlbD0ic3R5bGVzaGVldCIgaHJlZj0iaHR0cHM6Ly9tYXhjZG4uYm9vdHN0cmFwY2RuLmNvbS9ib290c3RyYXAvMy4yLjAvY3NzL2Jvb3RzdHJhcC10aGVtZS5taW4uY3NzIi8+CiAgICA8bGluayByZWw9InN0eWxlc2hlZXQiIGhyZWY9Imh0dHBzOi8vbWF4Y2RuLmJvb3RzdHJhcGNkbi5jb20vZm9udC1hd2Vzb21lLzQuNi4zL2Nzcy9mb250LWF3ZXNvbWUubWluLmNzcyIvPgogICAgPGxpbmsgcmVsPSJzdHlsZXNoZWV0IiBocmVmPSJodHRwczovL2NkbmpzLmNsb3VkZmxhcmUuY29tL2FqYXgvbGlicy9MZWFmbGV0LmF3ZXNvbWUtbWFya2Vycy8yLjAuMi9sZWFmbGV0LmF3ZXNvbWUtbWFya2Vycy5jc3MiLz4KICAgIDxsaW5rIHJlbD0ic3R5bGVzaGVldCIgaHJlZj0iaHR0cHM6Ly9yYXdnaXQuY29tL3B5dGhvbi12aXN1YWxpemF0aW9uL2ZvbGl1bS9tYXN0ZXIvZm9saXVtL3RlbXBsYXRlcy9sZWFmbGV0LmF3ZXNvbWUucm90YXRlLmNzcyIvPgogICAgPHN0eWxlPmh0bWwsIGJvZHkge3dpZHRoOiAxMDAlO2hlaWdodDogMTAwJTttYXJnaW46IDA7cGFkZGluZzogMDt9PC9zdHlsZT4KICAgIDxzdHlsZT4jbWFwIHtwb3NpdGlvbjphYnNvbHV0ZTt0b3A6MDtib3R0b206MDtyaWdodDowO2xlZnQ6MDt9PC9zdHlsZT4KICAgIAogICAgICAgICAgICA8c3R5bGU+ICNtYXBfOGUyOGRjZTY1ZTdiNGZkOGI5YWNmMzc3OTkxMGUzY2MgewogICAgICAgICAgICAgICAgcG9zaXRpb24gOiByZWxhdGl2ZTsKICAgICAgICAgICAgICAgIHdpZHRoIDogMTAwLjAlOwogICAgICAgICAgICAgICAgaGVpZ2h0OiAxMDAuMCU7CiAgICAgICAgICAgICAgICBsZWZ0OiAwLjAlOwogICAgICAgICAgICAgICAgdG9wOiAwLjAlOwogICAgICAgICAgICAgICAgfQogICAgICAgICAgICA8L3N0eWxlPgogICAgICAgIAo8L2hlYWQ+Cjxib2R5PiAgICAKICAgIAogICAgICAgICAgICA8ZGl2IGNsYXNzPSJmb2xpdW0tbWFwIiBpZD0ibWFwXzhlMjhkY2U2NWU3YjRmZDhiOWFjZjM3Nzk5MTBlM2NjIiA+PC9kaXY+CiAgICAgICAgCjwvYm9keT4KPHNjcmlwdD4gICAgCiAgICAKCiAgICAgICAgICAgIAogICAgICAgICAgICAgICAgdmFyIGJvdW5kcyA9IG51bGw7CiAgICAgICAgICAgIAoKICAgICAgICAgICAgdmFyIG1hcF84ZTI4ZGNlNjVlN2I0ZmQ4YjlhY2YzNzc5OTEwZTNjYyA9IEwubWFwKAogICAgICAgICAgICAgICAgICAgICAgICAgICAgICAgICAgJ21hcF84ZTI4ZGNlNjVlN2I0ZmQ4YjlhY2YzNzc5OTEwZTNjYycsCiAgICAgICAgICAgICAgICAgICAgICAgICAgICAgICAgICB7Y2VudGVyOiBbNTIuNTE3MDM2NSwxMy4zODg4NTk5XSwKICAgICAgICAgICAgICAgICAgICAgICAgICAgICAgICAgIHpvb206IDEwLjUsCiAgICAgICAgICAgICAgICAgICAgICAgICAgICAgICAgICBtYXhCb3VuZHM6IGJvdW5kcywKICAgICAgICAgICAgICAgICAgICAgICAgICAgICAgICAgIGxheWVyczogW10sCiAgICAgICAgICAgICAgICAgICAgICAgICAgICAgICAgICB3b3JsZENvcHlKdW1wOiBmYWxzZSwKICAgICAgICAgICAgICAgICAgICAgICAgICAgICAgICAgIGNyczogTC5DUlMuRVBTRzM4NTcKICAgICAgICAgICAgICAgICAgICAgICAgICAgICAgICAgfSk7CiAgICAgICAgICAgIAogICAgICAgIAogICAgCiAgICAgICAgICAgIHZhciB0aWxlX2xheWVyXzYyMjE1OWFkZDAzNTQyNTFiNjllMTg3YzFlYjYzMTVlID0gTC50aWxlTGF5ZXIoCiAgICAgICAgICAgICAgICAnaHR0cHM6Ly97c30udGlsZS5vcGVuc3RyZWV0bWFwLm9yZy97en0ve3h9L3t5fS5wbmcnLAogICAgICAgICAgICAgICAgewogICJhdHRyaWJ1dGlvbiI6IG51bGwsCiAgImRldGVjdFJldGluYSI6IGZhbHNlLAogICJtYXhab29tIjogMTgsCiAgIm1pblpvb20iOiAxLAogICJub1dyYXAiOiBmYWxzZSwKICAic3ViZG9tYWlucyI6ICJhYmMiCn0KICAgICAgICAgICAgICAgICkuYWRkVG8obWFwXzhlMjhkY2U2NWU3YjRmZDhiOWFjZjM3Nzk5MTBlM2NjKTsKICAgICAgICAKICAgIAogICAgICAgICAgICB2YXIgY2lyY2xlX21hcmtlcl9iMWRhM2RiZDAwZGI0NDY5OWRiMTU5OTIzYTczNDgzYiA9IEwuY2lyY2xlTWFya2VyKAogICAgICAgICAgICAgICAgWzUyLjUxOTQ0Mzk5OTk5OTk5LDEzLjQwNjY2N10sCiAgICAgICAgICAgICAgICB7CiAgImJ1YmJsaW5nTW91c2VFdmVudHMiOiB0cnVlLAogICJjb2xvciI6ICJibHVlIiwKICAiZGFzaEFycmF5IjogbnVsbCwKICAiZGFzaE9mZnNldCI6IG51bGwsCiAgImZpbGwiOiB0cnVlLAogICJmaWxsQ29sb3IiOiAiIzMxODZjYyIsCiAgImZpbGxPcGFjaXR5IjogMC43LAogICJmaWxsUnVsZSI6ICJldmVub2RkIiwKICAibGluZUNhcCI6ICJyb3VuZCIsCiAgImxpbmVKb2luIjogInJvdW5kIiwKICAib3BhY2l0eSI6IDEuMCwKICAicmFkaXVzIjogNSwKICAic3Ryb2tlIjogdHJ1ZSwKICAid2VpZ2h0IjogMwp9CiAgICAgICAgICAgICAgICApLmFkZFRvKG1hcF84ZTI4ZGNlNjVlN2I0ZmQ4YjlhY2YzNzc5OTEwZTNjYyk7CiAgICAgICAgICAgIAogICAgCiAgICAgICAgICAgIHZhciBwb3B1cF8xZGViMGZjZWE5N2Y0ZmViYTE4YTU5YTQ1NGQwMzgwMCA9IEwucG9wdXAoe21heFdpZHRoOiAnMzAwJ30pOwoKICAgICAgICAgICAgCiAgICAgICAgICAgICAgICB2YXIgaHRtbF9hMmFmMGY5NDEzODg0MjQzOGQ4Y2MzODUzNjQ0MmQ2MSA9ICQoJzxkaXYgaWQ9Imh0bWxfYTJhZjBmOTQxMzg4NDI0MzhkOGNjMzg1MzY0NDJkNjEiIHN0eWxlPSJ3aWR0aDogMTAwLjAlOyBoZWlnaHQ6IDEwMC4wJTsiPk1pdHRlPC9kaXY+JylbMF07CiAgICAgICAgICAgICAgICBwb3B1cF8xZGViMGZjZWE5N2Y0ZmViYTE4YTU5YTQ1NGQwMzgwMC5zZXRDb250ZW50KGh0bWxfYTJhZjBmOTQxMzg4NDI0MzhkOGNjMzg1MzY0NDJkNjEpOwogICAgICAgICAgICAKCiAgICAgICAgICAgIGNpcmNsZV9tYXJrZXJfYjFkYTNkYmQwMGRiNDQ2OTlkYjE1OTkyM2E3MzQ4M2IuYmluZFBvcHVwKHBvcHVwXzFkZWIwZmNlYTk3ZjRmZWJhMThhNTlhNDU0ZDAzODAwKTsKCiAgICAgICAgICAgIAogICAgICAgIAogICAgCiAgICAgICAgICAgIHZhciBjaXJjbGVfbWFya2VyXzAwNmIyZTQ1ODhmZDRmMjk5MmExOTliZDI1M2M4M2MyID0gTC5jaXJjbGVNYXJrZXIoCiAgICAgICAgICAgICAgICBbNTIuNTMzMzMzLDEzLjMzMzMzMjk5OTk5OTk5OF0sCiAgICAgICAgICAgICAgICB7CiAgImJ1YmJsaW5nTW91c2VFdmVudHMiOiB0cnVlLAogICJjb2xvciI6ICJibHVlIiwKICAiZGFzaEFycmF5IjogbnVsbCwKICAiZGFzaE9mZnNldCI6IG51bGwsCiAgImZpbGwiOiB0cnVlLAogICJmaWxsQ29sb3IiOiAiIzMxODZjYyIsCiAgImZpbGxPcGFjaXR5IjogMC43LAogICJmaWxsUnVsZSI6ICJldmVub2RkIiwKICAibGluZUNhcCI6ICJyb3VuZCIsCiAgImxpbmVKb2luIjogInJvdW5kIiwKICAib3BhY2l0eSI6IDEuMCwKICAicmFkaXVzIjogNSwKICAic3Ryb2tlIjogdHJ1ZSwKICAid2VpZ2h0IjogMwp9CiAgICAgICAgICAgICAgICApLmFkZFRvKG1hcF84ZTI4ZGNlNjVlN2I0ZmQ4YjlhY2YzNzc5OTEwZTNjYyk7CiAgICAgICAgICAgIAogICAgCiAgICAgICAgICAgIHZhciBwb3B1cF80ZTk1M2I0MWIxMDY0OGFhOWU2MDQwOTBhZjIzYTE3YyA9IEwucG9wdXAoe21heFdpZHRoOiAnMzAwJ30pOwoKICAgICAgICAgICAgCiAgICAgICAgICAgICAgICB2YXIgaHRtbF84Y2JmYmUzYTIyOWU0ZmJiOTAyZTBmMWE1YTJlYmVlNCA9ICQoJzxkaXYgaWQ9Imh0bWxfOGNiZmJlM2EyMjllNGZiYjkwMmUwZjFhNWEyZWJlZTQiIHN0eWxlPSJ3aWR0aDogMTAwLjAlOyBoZWlnaHQ6IDEwMC4wJTsiPk1vYWJpdDwvZGl2PicpWzBdOwogICAgICAgICAgICAgICAgcG9wdXBfNGU5NTNiNDFiMTA2NDhhYTllNjA0MDkwYWYyM2ExN2Muc2V0Q29udGVudChodG1sXzhjYmZiZTNhMjI5ZTRmYmI5MDJlMGYxYTVhMmViZWU0KTsKICAgICAgICAgICAgCgogICAgICAgICAgICBjaXJjbGVfbWFya2VyXzAwNmIyZTQ1ODhmZDRmMjk5MmExOTliZDI1M2M4M2MyLmJpbmRQb3B1cChwb3B1cF80ZTk1M2I0MWIxMDY0OGFhOWU2MDQwOTBhZjIzYTE3Yyk7CgogICAgICAgICAgICAKICAgICAgICAKICAgIAogICAgICAgICAgICB2YXIgY2lyY2xlX21hcmtlcl9hZGJkZTM0MTgzNzU0N2U2OWY0YWIwZDkwYzk4ZjRhMyA9IEwuY2lyY2xlTWFya2VyKAogICAgICAgICAgICAgICAgWzUyLjUxNjY2NzAwMDAwMDAwNSwxMy4zMzg4ODkwMDAwMDAwMDJdLAogICAgICAgICAgICAgICAgewogICJidWJibGluZ01vdXNlRXZlbnRzIjogdHJ1ZSwKICAiY29sb3IiOiAiYmx1ZSIsCiAgImRhc2hBcnJheSI6IG51bGwsCiAgImRhc2hPZmZzZXQiOiBudWxsLAogICJmaWxsIjogdHJ1ZSwKICAiZmlsbENvbG9yIjogIiMzMTg2Y2MiLAogICJmaWxsT3BhY2l0eSI6IDAuNywKICAiZmlsbFJ1bGUiOiAiZXZlbm9kZCIsCiAgImxpbmVDYXAiOiAicm91bmQiLAogICJsaW5lSm9pbiI6ICJyb3VuZCIsCiAgIm9wYWNpdHkiOiAxLjAsCiAgInJhZGl1cyI6IDUsCiAgInN0cm9rZSI6IHRydWUsCiAgIndlaWdodCI6IDMKfQogICAgICAgICAgICAgICAgKS5hZGRUbyhtYXBfOGUyOGRjZTY1ZTdiNGZkOGI5YWNmMzc3OTkxMGUzY2MpOwogICAgICAgICAgICAKICAgIAogICAgICAgICAgICB2YXIgcG9wdXBfNWRjYTE0N2Y4NDMyNDAzYzgwMzNlMDhkM2IzYjU5MTMgPSBMLnBvcHVwKHttYXhXaWR0aDogJzMwMCd9KTsKCiAgICAgICAgICAgIAogICAgICAgICAgICAgICAgdmFyIGh0bWxfM2RlOTRmYWJlNzhlNDc2ZDljNGJhOTYyZmI1NmZkYzggPSAkKCc8ZGl2IGlkPSJodG1sXzNkZTk0ZmFiZTc4ZTQ3NmQ5YzRiYTk2MmZiNTZmZGM4IiBzdHlsZT0id2lkdGg6IDEwMC4wJTsgaGVpZ2h0OiAxMDAuMCU7Ij5IYW5zYXZpZXJ0ZWw8L2Rpdj4nKVswXTsKICAgICAgICAgICAgICAgIHBvcHVwXzVkY2ExNDdmODQzMjQwM2M4MDMzZTA4ZDNiM2I1OTEzLnNldENvbnRlbnQoaHRtbF8zZGU5NGZhYmU3OGU0NzZkOWM0YmE5NjJmYjU2ZmRjOCk7CiAgICAgICAgICAgIAoKICAgICAgICAgICAgY2lyY2xlX21hcmtlcl9hZGJkZTM0MTgzNzU0N2U2OWY0YWIwZDkwYzk4ZjRhMy5iaW5kUG9wdXAocG9wdXBfNWRjYTE0N2Y4NDMyNDAzYzgwMzNlMDhkM2IzYjU5MTMpOwoKICAgICAgICAgICAgCiAgICAgICAgCiAgICAKICAgICAgICAgICAgdmFyIGNpcmNsZV9tYXJrZXJfNDkwNjYxY2RlZmFiNDI4NTk1ZmUyZjMzMDYzMTM5NjMgPSBMLmNpcmNsZU1hcmtlcigKICAgICAgICAgICAgICAgIFs1Mi41MTY2NjcwMDAwMDAwMDUsMTMuMzY2NjY3MDAwMDAwMDAxXSwKICAgICAgICAgICAgICAgIHsKICAiYnViYmxpbmdNb3VzZUV2ZW50cyI6IHRydWUsCiAgImNvbG9yIjogImJsdWUiLAogICJkYXNoQXJyYXkiOiBudWxsLAogICJkYXNoT2Zmc2V0IjogbnVsbCwKICAiZmlsbCI6IHRydWUsCiAgImZpbGxDb2xvciI6ICIjMzE4NmNjIiwKICAiZmlsbE9wYWNpdHkiOiAwLjcsCiAgImZpbGxSdWxlIjogImV2ZW5vZGQiLAogICJsaW5lQ2FwIjogInJvdW5kIiwKICAibGluZUpvaW4iOiAicm91bmQiLAogICJvcGFjaXR5IjogMS4wLAogICJyYWRpdXMiOiA1LAogICJzdHJva2UiOiB0cnVlLAogICJ3ZWlnaHQiOiAzCn0KICAgICAgICAgICAgICAgICkuYWRkVG8obWFwXzhlMjhkY2U2NWU3YjRmZDhiOWFjZjM3Nzk5MTBlM2NjKTsKICAgICAgICAgICAgCiAgICAKICAgICAgICAgICAgdmFyIHBvcHVwXzdiOGQyYTBhZmI2NjQxNjA5MzI4N2ZjZGNiOTIyNjc4ID0gTC5wb3B1cCh7bWF4V2lkdGg6ICczMDAnfSk7CgogICAgICAgICAgICAKICAgICAgICAgICAgICAgIHZhciBodG1sXzExNGM1ZDdhMzYyZTQ4Mzg4OGVhYjcwNTIzZGI5NTcxID0gJCgnPGRpdiBpZD0iaHRtbF8xMTRjNWQ3YTM2MmU0ODM4ODhlYWI3MDUyM2RiOTU3MSIgc3R5bGU9IndpZHRoOiAxMDAuMCU7IGhlaWdodDogMTAwLjAlOyI+VGllcmdhcnRlbjwvZGl2PicpWzBdOwogICAgICAgICAgICAgICAgcG9wdXBfN2I4ZDJhMGFmYjY2NDE2MDkzMjg3ZmNkY2I5MjI2Nzguc2V0Q29udGVudChodG1sXzExNGM1ZDdhMzYyZTQ4Mzg4OGVhYjcwNTIzZGI5NTcxKTsKICAgICAgICAgICAgCgogICAgICAgICAgICBjaXJjbGVfbWFya2VyXzQ5MDY2MWNkZWZhYjQyODU5NWZlMmYzMzA2MzEzOTYzLmJpbmRQb3B1cChwb3B1cF83YjhkMmEwYWZiNjY0MTYwOTMyODdmY2RjYjkyMjY3OCk7CgogICAgICAgICAgICAKICAgICAgICAKICAgIAogICAgICAgICAgICB2YXIgY2lyY2xlX21hcmtlcl8yMjA0ZGQ4NDY5OWI0N2UzOTRiYzM0MGFiZjkzZjU0YiA9IEwuY2lyY2xlTWFya2VyKAogICAgICAgICAgICAgICAgWzUyLjU1LDEzLjM2NjY2NzAwMDAwMDAwMV0sCiAgICAgICAgICAgICAgICB7CiAgImJ1YmJsaW5nTW91c2VFdmVudHMiOiB0cnVlLAogICJjb2xvciI6ICJibHVlIiwKICAiZGFzaEFycmF5IjogbnVsbCwKICAiZGFzaE9mZnNldCI6IG51bGwsCiAgImZpbGwiOiB0cnVlLAogICJmaWxsQ29sb3IiOiAiIzMxODZjYyIsCiAgImZpbGxPcGFjaXR5IjogMC43LAogICJmaWxsUnVsZSI6ICJldmVub2RkIiwKICAibGluZUNhcCI6ICJyb3VuZCIsCiAgImxpbmVKb2luIjogInJvdW5kIiwKICAib3BhY2l0eSI6IDEuMCwKICAicmFkaXVzIjogNSwKICAic3Ryb2tlIjogdHJ1ZSwKICAid2VpZ2h0IjogMwp9CiAgICAgICAgICAgICAgICApLmFkZFRvKG1hcF84ZTI4ZGNlNjVlN2I0ZmQ4YjlhY2YzNzc5OTEwZTNjYyk7CiAgICAgICAgICAgIAogICAgCiAgICAgICAgICAgIHZhciBwb3B1cF9lMDE0MDY3NzI1N2M0ZGQyODkyNTgzNTEwNzljZDE0NyA9IEwucG9wdXAoe21heFdpZHRoOiAnMzAwJ30pOwoKICAgICAgICAgICAgCiAgICAgICAgICAgICAgICB2YXIgaHRtbF9iM2NlOTc5ZjljZWM0NzFjYmZiZDRjNzE2YzlkN2RhMCA9ICQoJzxkaXYgaWQ9Imh0bWxfYjNjZTk3OWY5Y2VjNDcxY2JmYmQ0YzcxNmM5ZDdkYTAiIHN0eWxlPSJ3aWR0aDogMTAwLjAlOyBoZWlnaHQ6IDEwMC4wJTsiPldlZGRpbmc8L2Rpdj4nKVswXTsKICAgICAgICAgICAgICAgIHBvcHVwX2UwMTQwNjc3MjU3YzRkZDI4OTI1ODM1MTA3OWNkMTQ3LnNldENvbnRlbnQoaHRtbF9iM2NlOTc5ZjljZWM0NzFjYmZiZDRjNzE2YzlkN2RhMCk7CiAgICAgICAgICAgIAoKICAgICAgICAgICAgY2lyY2xlX21hcmtlcl8yMjA0ZGQ4NDY5OWI0N2UzOTRiYzM0MGFiZjkzZjU0Yi5iaW5kUG9wdXAocG9wdXBfZTAxNDA2NzcyNTdjNGRkMjg5MjU4MzUxMDc5Y2QxNDcpOwoKICAgICAgICAgICAgCiAgICAgICAgCiAgICAKICAgICAgICAgICAgdmFyIGNpcmNsZV9tYXJrZXJfYmM0YTlmYzdmYmQzNGY4MmE0ODg5ZTNhYzE1N2M2N2EgPSBMLmNpcmNsZU1hcmtlcigKICAgICAgICAgICAgICAgIFs1Mi41NDg2MTEsMTMuMzkwMjc4XSwKICAgICAgICAgICAgICAgIHsKICAiYnViYmxpbmdNb3VzZUV2ZW50cyI6IHRydWUsCiAgImNvbG9yIjogImJsdWUiLAogICJkYXNoQXJyYXkiOiBudWxsLAogICJkYXNoT2Zmc2V0IjogbnVsbCwKICAiZmlsbCI6IHRydWUsCiAgImZpbGxDb2xvciI6ICIjMzE4NmNjIiwKICAiZmlsbE9wYWNpdHkiOiAwLjcsCiAgImZpbGxSdWxlIjogImV2ZW5vZGQiLAogICJsaW5lQ2FwIjogInJvdW5kIiwKICAibGluZUpvaW4iOiAicm91bmQiLAogICJvcGFjaXR5IjogMS4wLAogICJyYWRpdXMiOiA1LAogICJzdHJva2UiOiB0cnVlLAogICJ3ZWlnaHQiOiAzCn0KICAgICAgICAgICAgICAgICkuYWRkVG8obWFwXzhlMjhkY2U2NWU3YjRmZDhiOWFjZjM3Nzk5MTBlM2NjKTsKICAgICAgICAgICAgCiAgICAKICAgICAgICAgICAgdmFyIHBvcHVwX2MyYmVhODkyNWMyNTQxNmJiOGZjNWY1ODgxYzkzZGMzID0gTC5wb3B1cCh7bWF4V2lkdGg6ICczMDAnfSk7CgogICAgICAgICAgICAKICAgICAgICAgICAgICAgIHZhciBodG1sXzMyYTg4MzljYjhjYzRjZWZhOWI0YTczNWUzYzEzNGRmID0gJCgnPGRpdiBpZD0iaHRtbF8zMmE4ODM5Y2I4Y2M0Y2VmYTliNGE3MzVlM2MxMzRkZiIgc3R5bGU9IndpZHRoOiAxMDAuMCU7IGhlaWdodDogMTAwLjAlOyI+R2VzdW5kYnJ1bm5lbjwvZGl2PicpWzBdOwogICAgICAgICAgICAgICAgcG9wdXBfYzJiZWE4OTI1YzI1NDE2YmI4ZmM1ZjU4ODFjOTNkYzMuc2V0Q29udGVudChodG1sXzMyYTg4MzljYjhjYzRjZWZhOWI0YTczNWUzYzEzNGRmKTsKICAgICAgICAgICAgCgogICAgICAgICAgICBjaXJjbGVfbWFya2VyX2JjNGE5ZmM3ZmJkMzRmODJhNDg4OWUzYWMxNTdjNjdhLmJpbmRQb3B1cChwb3B1cF9jMmJlYTg5MjVjMjU0MTZiYjhmYzVmNTg4MWM5M2RjMyk7CgogICAgICAgICAgICAKICAgICAgICAKICAgIAogICAgICAgICAgICB2YXIgY2lyY2xlX21hcmtlcl8wMzM1ZWIwZDg5OWI0YjViODkyYzU5ODRjOWFhMDc0MyA9IEwuY2lyY2xlTWFya2VyKAogICAgICAgICAgICAgICAgWzUyLjUxNTgzMjk5OTk5OTk5LDEzLjQ1NDE2NzAwMDAwMDAwMl0sCiAgICAgICAgICAgICAgICB7CiAgImJ1YmJsaW5nTW91c2VFdmVudHMiOiB0cnVlLAogICJjb2xvciI6ICJibHVlIiwKICAiZGFzaEFycmF5IjogbnVsbCwKICAiZGFzaE9mZnNldCI6IG51bGwsCiAgImZpbGwiOiB0cnVlLAogICJmaWxsQ29sb3IiOiAiIzMxODZjYyIsCiAgImZpbGxPcGFjaXR5IjogMC43LAogICJmaWxsUnVsZSI6ICJldmVub2RkIiwKICAibGluZUNhcCI6ICJyb3VuZCIsCiAgImxpbmVKb2luIjogInJvdW5kIiwKICAib3BhY2l0eSI6IDEuMCwKICAicmFkaXVzIjogNSwKICAic3Ryb2tlIjogdHJ1ZSwKICAid2VpZ2h0IjogMwp9CiAgICAgICAgICAgICAgICApLmFkZFRvKG1hcF84ZTI4ZGNlNjVlN2I0ZmQ4YjlhY2YzNzc5OTEwZTNjYyk7CiAgICAgICAgICAgIAogICAgCiAgICAgICAgICAgIHZhciBwb3B1cF81MTBjYTQzMjE5ZWQ0ZmViOTNhNTczYjU2YjE5OWYwZSA9IEwucG9wdXAoe21heFdpZHRoOiAnMzAwJ30pOwoKICAgICAgICAgICAgCiAgICAgICAgICAgICAgICB2YXIgaHRtbF82ODQwNTFjMDk4NTQ0MjgwYWQ0YjAzZDhmOWM1ZWJlNyA9ICQoJzxkaXYgaWQ9Imh0bWxfNjg0MDUxYzA5ODU0NDI4MGFkNGIwM2Q4ZjljNWViZTciIHN0eWxlPSJ3aWR0aDogMTAwLjAlOyBoZWlnaHQ6IDEwMC4wJTsiPkZyaWVkcmljaHNoYWluPC9kaXY+JylbMF07CiAgICAgICAgICAgICAgICBwb3B1cF81MTBjYTQzMjE5ZWQ0ZmViOTNhNTczYjU2YjE5OWYwZS5zZXRDb250ZW50KGh0bWxfNjg0MDUxYzA5ODU0NDI4MGFkNGIwM2Q4ZjljNWViZTcpOwogICAgICAgICAgICAKCiAgICAgICAgICAgIGNpcmNsZV9tYXJrZXJfMDMzNWViMGQ4OTliNGI1Yjg5MmM1OTg0YzlhYTA3NDMuYmluZFBvcHVwKHBvcHVwXzUxMGNhNDMyMTllZDRmZWI5M2E1NzNiNTZiMTk5ZjBlKTsKCiAgICAgICAgICAgIAogICAgICAgIAogICAgCiAgICAgICAgICAgIHZhciBjaXJjbGVfbWFya2VyX2QxODU1ZjVjNDVkYjQ4YjJiYmZhZmUxZTFlYjE5NmZjID0gTC5jaXJjbGVNYXJrZXIoCiAgICAgICAgICAgICAgICBbNTIuNDk4MzY0LDEzLjQwNjcxOV0sCiAgICAgICAgICAgICAgICB7CiAgImJ1YmJsaW5nTW91c2VFdmVudHMiOiB0cnVlLAogICJjb2xvciI6ICJibHVlIiwKICAiZGFzaEFycmF5IjogbnVsbCwKICAiZGFzaE9mZnNldCI6IG51bGwsCiAgImZpbGwiOiB0cnVlLAogICJmaWxsQ29sb3IiOiAiIzMxODZjYyIsCiAgImZpbGxPcGFjaXR5IjogMC43LAogICJmaWxsUnVsZSI6ICJldmVub2RkIiwKICAibGluZUNhcCI6ICJyb3VuZCIsCiAgImxpbmVKb2luIjogInJvdW5kIiwKICAib3BhY2l0eSI6IDEuMCwKICAicmFkaXVzIjogNSwKICAic3Ryb2tlIjogdHJ1ZSwKICAid2VpZ2h0IjogMwp9CiAgICAgICAgICAgICAgICApLmFkZFRvKG1hcF84ZTI4ZGNlNjVlN2I0ZmQ4YjlhY2YzNzc5OTEwZTNjYyk7CiAgICAgICAgICAgIAogICAgCiAgICAgICAgICAgIHZhciBwb3B1cF9lZGVhYmRkZDQzYTU0OGJkYTVlYzQyYzdjMjE1MGE4ZiA9IEwucG9wdXAoe21heFdpZHRoOiAnMzAwJ30pOwoKICAgICAgICAgICAgCiAgICAgICAgICAgICAgICB2YXIgaHRtbF9hMDQ0YzQ1NDFjMDA0ZjEzYTA3YzQ1YmVmYzA4NDlhZCA9ICQoJzxkaXYgaWQ9Imh0bWxfYTA0NGM0NTQxYzAwNGYxM2EwN2M0NWJlZmMwODQ5YWQiIHN0eWxlPSJ3aWR0aDogMTAwLjAlOyBoZWlnaHQ6IDEwMC4wJTsiPktyZXV6YmVyZzwvZGl2PicpWzBdOwogICAgICAgICAgICAgICAgcG9wdXBfZWRlYWJkZGQ0M2E1NDhiZGE1ZWM0MmM3YzIxNTBhOGYuc2V0Q29udGVudChodG1sX2EwNDRjNDU0MWMwMDRmMTNhMDdjNDViZWZjMDg0OWFkKTsKICAgICAgICAgICAgCgogICAgICAgICAgICBjaXJjbGVfbWFya2VyX2QxODU1ZjVjNDVkYjQ4YjJiYmZhZmUxZTFlYjE5NmZjLmJpbmRQb3B1cChwb3B1cF9lZGVhYmRkZDQzYTU0OGJkYTVlYzQyYzdjMjE1MGE4Zik7CgogICAgICAgICAgICAKICAgICAgICAKICAgIAogICAgICAgICAgICB2YXIgY2lyY2xlX21hcmtlcl83ZWE0YjQxMWI0MGM0YjAxOGU5ODEwZGE4OTBmMjNiZSA9IEwuY2lyY2xlTWFya2VyKAogICAgICAgICAgICAgICAgWzUyLjUzOTE2NzAwMDAwMDAwNiwxMy40MjQxNjddLAogICAgICAgICAgICAgICAgewogICJidWJibGluZ01vdXNlRXZlbnRzIjogdHJ1ZSwKICAiY29sb3IiOiAiYmx1ZSIsCiAgImRhc2hBcnJheSI6IG51bGwsCiAgImRhc2hPZmZzZXQiOiBudWxsLAogICJmaWxsIjogdHJ1ZSwKICAiZmlsbENvbG9yIjogIiMzMTg2Y2MiLAogICJmaWxsT3BhY2l0eSI6IDAuNywKICAiZmlsbFJ1bGUiOiAiZXZlbm9kZCIsCiAgImxpbmVDYXAiOiAicm91bmQiLAogICJsaW5lSm9pbiI6ICJyb3VuZCIsCiAgIm9wYWNpdHkiOiAxLjAsCiAgInJhZGl1cyI6IDUsCiAgInN0cm9rZSI6IHRydWUsCiAgIndlaWdodCI6IDMKfQogICAgICAgICAgICAgICAgKS5hZGRUbyhtYXBfOGUyOGRjZTY1ZTdiNGZkOGI5YWNmMzc3OTkxMGUzY2MpOwogICAgICAgICAgICAKICAgIAogICAgICAgICAgICB2YXIgcG9wdXBfN2Q3MWQzZDYxMWUyNGQ2OGE4NDdjMWFkZDgyN2NhMDAgPSBMLnBvcHVwKHttYXhXaWR0aDogJzMwMCd9KTsKCiAgICAgICAgICAgIAogICAgICAgICAgICAgICAgdmFyIGh0bWxfZDAwMjczN2QwMWZiNDY4YTgyMjlhNDI1MGMxZTAyMjAgPSAkKCc8ZGl2IGlkPSJodG1sX2QwMDI3MzdkMDFmYjQ2OGE4MjI5YTQyNTBjMWUwMjIwIiBzdHlsZT0id2lkdGg6IDEwMC4wJTsgaGVpZ2h0OiAxMDAuMCU7Ij5QcmVuemxhdWVyIEJlcmc8L2Rpdj4nKVswXTsKICAgICAgICAgICAgICAgIHBvcHVwXzdkNzFkM2Q2MTFlMjRkNjhhODQ3YzFhZGQ4MjdjYTAwLnNldENvbnRlbnQoaHRtbF9kMDAyNzM3ZDAxZmI0NjhhODIyOWE0MjUwYzFlMDIyMCk7CiAgICAgICAgICAgIAoKICAgICAgICAgICAgY2lyY2xlX21hcmtlcl83ZWE0YjQxMWI0MGM0YjAxOGU5ODEwZGE4OTBmMjNiZS5iaW5kUG9wdXAocG9wdXBfN2Q3MWQzZDYxMWUyNGQ2OGE4NDdjMWFkZDgyN2NhMDApOwoKICAgICAgICAgICAgCiAgICAgICAgCiAgICAKICAgICAgICAgICAgdmFyIGNpcmNsZV9tYXJrZXJfZGJiMGIxM2E5NjE4NGQ2MzgxMzc4ZjlhYmI0NjBkMDggPSBMLmNpcmNsZU1hcmtlcigKICAgICAgICAgICAgICAgIFs1Mi41NSwxMy40NjY2NjcwMDAwMDAwMDFdLAogICAgICAgICAgICAgICAgewogICJidWJibGluZ01vdXNlRXZlbnRzIjogdHJ1ZSwKICAiY29sb3IiOiAiYmx1ZSIsCiAgImRhc2hBcnJheSI6IG51bGwsCiAgImRhc2hPZmZzZXQiOiBudWxsLAogICJmaWxsIjogdHJ1ZSwKICAiZmlsbENvbG9yIjogIiMzMTg2Y2MiLAogICJmaWxsT3BhY2l0eSI6IDAuNywKICAiZmlsbFJ1bGUiOiAiZXZlbm9kZCIsCiAgImxpbmVDYXAiOiAicm91bmQiLAogICJsaW5lSm9pbiI6ICJyb3VuZCIsCiAgIm9wYWNpdHkiOiAxLjAsCiAgInJhZGl1cyI6IDUsCiAgInN0cm9rZSI6IHRydWUsCiAgIndlaWdodCI6IDMKfQogICAgICAgICAgICAgICAgKS5hZGRUbyhtYXBfOGUyOGRjZTY1ZTdiNGZkOGI5YWNmMzc3OTkxMGUzY2MpOwogICAgICAgICAgICAKICAgIAogICAgICAgICAgICB2YXIgcG9wdXBfMTFlNzVhOGVhNmQ5NDliZWFhYzM1NjBkMDE2YmExZTcgPSBMLnBvcHVwKHttYXhXaWR0aDogJzMwMCd9KTsKCiAgICAgICAgICAgIAogICAgICAgICAgICAgICAgdmFyIGh0bWxfNDYwOTRkOGY1MTg4NDIzYzgxMGIzZWIxYmM3NmJhM2YgPSAkKCc8ZGl2IGlkPSJodG1sXzQ2MDk0ZDhmNTE4ODQyM2M4MTBiM2ViMWJjNzZiYTNmIiBzdHlsZT0id2lkdGg6IDEwMC4wJTsgaGVpZ2h0OiAxMDAuMCU7Ij5XZWnDn2Vuc2VlPC9kaXY+JylbMF07CiAgICAgICAgICAgICAgICBwb3B1cF8xMWU3NWE4ZWE2ZDk0OWJlYWFjMzU2MGQwMTZiYTFlNy5zZXRDb250ZW50KGh0bWxfNDYwOTRkOGY1MTg4NDIzYzgxMGIzZWIxYmM3NmJhM2YpOwogICAgICAgICAgICAKCiAgICAgICAgICAgIGNpcmNsZV9tYXJrZXJfZGJiMGIxM2E5NjE4NGQ2MzgxMzc4ZjlhYmI0NjBkMDguYmluZFBvcHVwKHBvcHVwXzExZTc1YThlYTZkOTQ5YmVhYWMzNTYwZDAxNmJhMWU3KTsKCiAgICAgICAgICAgIAogICAgICAgIAogICAgCiAgICAgICAgICAgIHZhciBjaXJjbGVfbWFya2VyXzI2OTMzMTY4NmUzZTRlMDk5NmUzNTlmMGQ5NGIyMTI0ID0gTC5jaXJjbGVNYXJrZXIoCiAgICAgICAgICAgICAgICBbNTIuNiwxMy40NV0sCiAgICAgICAgICAgICAgICB7CiAgImJ1YmJsaW5nTW91c2VFdmVudHMiOiB0cnVlLAogICJjb2xvciI6ICJibHVlIiwKICAiZGFzaEFycmF5IjogbnVsbCwKICAiZGFzaE9mZnNldCI6IG51bGwsCiAgImZpbGwiOiB0cnVlLAogICJmaWxsQ29sb3IiOiAiIzMxODZjYyIsCiAgImZpbGxPcGFjaXR5IjogMC43LAogICJmaWxsUnVsZSI6ICJldmVub2RkIiwKICAibGluZUNhcCI6ICJyb3VuZCIsCiAgImxpbmVKb2luIjogInJvdW5kIiwKICAib3BhY2l0eSI6IDEuMCwKICAicmFkaXVzIjogNSwKICAic3Ryb2tlIjogdHJ1ZSwKICAid2VpZ2h0IjogMwp9CiAgICAgICAgICAgICAgICApLmFkZFRvKG1hcF84ZTI4ZGNlNjVlN2I0ZmQ4YjlhY2YzNzc5OTEwZTNjYyk7CiAgICAgICAgICAgIAogICAgCiAgICAgICAgICAgIHZhciBwb3B1cF9jZDBkNWE0YzBjNGI0NTUyYjgwYTNhYThkNDgxNzk4MCA9IEwucG9wdXAoe21heFdpZHRoOiAnMzAwJ30pOwoKICAgICAgICAgICAgCiAgICAgICAgICAgICAgICB2YXIgaHRtbF80MzI5MjFlZDY2OWM0MjE0OGM1OTJjMjBjZjA0NzZlNCA9ICQoJzxkaXYgaWQ9Imh0bWxfNDMyOTIxZWQ2NjljNDIxNDhjNTkyYzIwY2YwNDc2ZTQiIHN0eWxlPSJ3aWR0aDogMTAwLjAlOyBoZWlnaHQ6IDEwMC4wJTsiPkJsYW5rZW5idXJnPC9kaXY+JylbMF07CiAgICAgICAgICAgICAgICBwb3B1cF9jZDBkNWE0YzBjNGI0NTUyYjgwYTNhYThkNDgxNzk4MC5zZXRDb250ZW50KGh0bWxfNDMyOTIxZWQ2NjljNDIxNDhjNTkyYzIwY2YwNDc2ZTQpOwogICAgICAgICAgICAKCiAgICAgICAgICAgIGNpcmNsZV9tYXJrZXJfMjY5MzMxNjg2ZTNlNGUwOTk2ZTM1OWYwZDk0YjIxMjQuYmluZFBvcHVwKHBvcHVwX2NkMGQ1YTRjMGM0YjQ1NTJiODBhM2FhOGQ0ODE3OTgwKTsKCiAgICAgICAgICAgIAogICAgICAgIAogICAgCiAgICAgICAgICAgIHZhciBjaXJjbGVfbWFya2VyXzZiMWEwMDc3ZjFiZjQwYTdhNzdkODdjYThmZmU1ODE2ID0gTC5jaXJjbGVNYXJrZXIoCiAgICAgICAgICAgICAgICBbNTIuNTY2OTQzOTk5OTk5OTksMTMuNDRdLAogICAgICAgICAgICAgICAgewogICJidWJibGluZ01vdXNlRXZlbnRzIjogdHJ1ZSwKICAiY29sb3IiOiAiYmx1ZSIsCiAgImRhc2hBcnJheSI6IG51bGwsCiAgImRhc2hPZmZzZXQiOiBudWxsLAogICJmaWxsIjogdHJ1ZSwKICAiZmlsbENvbG9yIjogIiMzMTg2Y2MiLAogICJmaWxsT3BhY2l0eSI6IDAuNywKICAiZmlsbFJ1bGUiOiAiZXZlbm9kZCIsCiAgImxpbmVDYXAiOiAicm91bmQiLAogICJsaW5lSm9pbiI6ICJyb3VuZCIsCiAgIm9wYWNpdHkiOiAxLjAsCiAgInJhZGl1cyI6IDUsCiAgInN0cm9rZSI6IHRydWUsCiAgIndlaWdodCI6IDMKfQogICAgICAgICAgICAgICAgKS5hZGRUbyhtYXBfOGUyOGRjZTY1ZTdiNGZkOGI5YWNmMzc3OTkxMGUzY2MpOwogICAgICAgICAgICAKICAgIAogICAgICAgICAgICB2YXIgcG9wdXBfODg1MmZhNzczY2RkNDVhNGJhNTczZjExMjFmODkzZTUgPSBMLnBvcHVwKHttYXhXaWR0aDogJzMwMCd9KTsKCiAgICAgICAgICAgIAogICAgICAgICAgICAgICAgdmFyIGh0bWxfMmU1Y2ZjNWZkOTA3NDRmYmE2NDhiY2M3ZmE5MTMzNzIgPSAkKCc8ZGl2IGlkPSJodG1sXzJlNWNmYzVmZDkwNzQ0ZmJhNjQ4YmNjN2ZhOTEzMzcyIiBzdHlsZT0id2lkdGg6IDEwMC4wJTsgaGVpZ2h0OiAxMDAuMCU7Ij5IZWluZXJzZG9yZjwvZGl2PicpWzBdOwogICAgICAgICAgICAgICAgcG9wdXBfODg1MmZhNzczY2RkNDVhNGJhNTczZjExMjFmODkzZTUuc2V0Q29udGVudChodG1sXzJlNWNmYzVmZDkwNzQ0ZmJhNjQ4YmNjN2ZhOTEzMzcyKTsKICAgICAgICAgICAgCgogICAgICAgICAgICBjaXJjbGVfbWFya2VyXzZiMWEwMDc3ZjFiZjQwYTdhNzdkODdjYThmZmU1ODE2LmJpbmRQb3B1cChwb3B1cF84ODUyZmE3NzNjZGQ0NWE0YmE1NzNmMTEyMWY4OTNlNSk7CgogICAgICAgICAgICAKICAgICAgICAKICAgIAogICAgICAgICAgICB2YXIgY2lyY2xlX21hcmtlcl81NmRjZDE1OGIxMzc0NzU4YmE0ZmNkZjdmNDVhOWU3ZSA9IEwuY2lyY2xlTWFya2VyKAogICAgICAgICAgICAgICAgWzUyLjYxNDQ0Mzk5OTk5OTk5LDEzLjQ2OTcyMl0sCiAgICAgICAgICAgICAgICB7CiAgImJ1YmJsaW5nTW91c2VFdmVudHMiOiB0cnVlLAogICJjb2xvciI6ICJibHVlIiwKICAiZGFzaEFycmF5IjogbnVsbCwKICAiZGFzaE9mZnNldCI6IG51bGwsCiAgImZpbGwiOiB0cnVlLAogICJmaWxsQ29sb3IiOiAiIzMxODZjYyIsCiAgImZpbGxPcGFjaXR5IjogMC43LAogICJmaWxsUnVsZSI6ICJldmVub2RkIiwKICAibGluZUNhcCI6ICJyb3VuZCIsCiAgImxpbmVKb2luIjogInJvdW5kIiwKICAib3BhY2l0eSI6IDEuMCwKICAicmFkaXVzIjogNSwKICAic3Ryb2tlIjogdHJ1ZSwKICAid2VpZ2h0IjogMwp9CiAgICAgICAgICAgICAgICApLmFkZFRvKG1hcF84ZTI4ZGNlNjVlN2I0ZmQ4YjlhY2YzNzc5OTEwZTNjYyk7CiAgICAgICAgICAgIAogICAgCiAgICAgICAgICAgIHZhciBwb3B1cF84MjJhNDFjMjdjNjY0NjljODgzZTEzNzM5YjUyYTY0NSA9IEwucG9wdXAoe21heFdpZHRoOiAnMzAwJ30pOwoKICAgICAgICAgICAgCiAgICAgICAgICAgICAgICB2YXIgaHRtbF9iYThiZDhkMjIwYzA0YThkYjk2YzRlMTJkNmQwMjY1OSA9ICQoJzxkaXYgaWQ9Imh0bWxfYmE4YmQ4ZDIyMGMwNGE4ZGI5NmM0ZTEyZDZkMDI2NTkiIHN0eWxlPSJ3aWR0aDogMTAwLjAlOyBoZWlnaHQ6IDEwMC4wJTsiPkthcm93PC9kaXY+JylbMF07CiAgICAgICAgICAgICAgICBwb3B1cF84MjJhNDFjMjdjNjY0NjljODgzZTEzNzM5YjUyYTY0NS5zZXRDb250ZW50KGh0bWxfYmE4YmQ4ZDIyMGMwNGE4ZGI5NmM0ZTEyZDZkMDI2NTkpOwogICAgICAgICAgICAKCiAgICAgICAgICAgIGNpcmNsZV9tYXJrZXJfNTZkY2QxNThiMTM3NDc1OGJhNGZjZGY3ZjQ1YTllN2UuYmluZFBvcHVwKHBvcHVwXzgyMmE0MWMyN2M2NjQ2OWM4ODNlMTM3MzliNTJhNjQ1KTsKCiAgICAgICAgICAgIAogICAgICAgIAogICAgCiAgICAgICAgICAgIHZhciBjaXJjbGVfbWFya2VyX2MxOTIxMDU5YWVhZDRmYzdhMTJkYTM5ZjI2ZjBkOGViID0gTC5jaXJjbGVNYXJrZXIoCiAgICAgICAgICAgICAgICBbNTIuNTcyNzc4LDEzLjQ2ODA1NTk5OTk5OTk5OV0sCiAgICAgICAgICAgICAgICB7CiAgImJ1YmJsaW5nTW91c2VFdmVudHMiOiB0cnVlLAogICJjb2xvciI6ICJibHVlIiwKICAiZGFzaEFycmF5IjogbnVsbCwKICAiZGFzaE9mZnNldCI6IG51bGwsCiAgImZpbGwiOiB0cnVlLAogICJmaWxsQ29sb3IiOiAiIzMxODZjYyIsCiAgImZpbGxPcGFjaXR5IjogMC43LAogICJmaWxsUnVsZSI6ICJldmVub2RkIiwKICAibGluZUNhcCI6ICJyb3VuZCIsCiAgImxpbmVKb2luIjogInJvdW5kIiwKICAib3BhY2l0eSI6IDEuMCwKICAicmFkaXVzIjogNSwKICAic3Ryb2tlIjogdHJ1ZSwKICAid2VpZ2h0IjogMwp9CiAgICAgICAgICAgICAgICApLmFkZFRvKG1hcF84ZTI4ZGNlNjVlN2I0ZmQ4YjlhY2YzNzc5OTEwZTNjYyk7CiAgICAgICAgICAgIAogICAgCiAgICAgICAgICAgIHZhciBwb3B1cF84YTlkMmI3ZTRkZmI0NjVlYjQ3M2FiMDc2MTJlYTg5ZCA9IEwucG9wdXAoe21heFdpZHRoOiAnMzAwJ30pOwoKICAgICAgICAgICAgCiAgICAgICAgICAgICAgICB2YXIgaHRtbF9mYWViNGYzMTdjNTU0MjBkODBlZjU2MGU5ZjgwMzJhMyA9ICQoJzxkaXYgaWQ9Imh0bWxfZmFlYjRmMzE3YzU1NDIwZDgwZWY1NjBlOWY4MDMyYTMiIHN0eWxlPSJ3aWR0aDogMTAwLjAlOyBoZWlnaHQ6IDEwMC4wJTsiPlN0YWR0cmFuZHNpZWRsdW5nIE1hbGNob3c8L2Rpdj4nKVswXTsKICAgICAgICAgICAgICAgIHBvcHVwXzhhOWQyYjdlNGRmYjQ2NWViNDczYWIwNzYxMmVhODlkLnNldENvbnRlbnQoaHRtbF9mYWViNGYzMTdjNTU0MjBkODBlZjU2MGU5ZjgwMzJhMyk7CiAgICAgICAgICAgIAoKICAgICAgICAgICAgY2lyY2xlX21hcmtlcl9jMTkyMTA1OWFlYWQ0ZmM3YTEyZGEzOWYyNmYwZDhlYi5iaW5kUG9wdXAocG9wdXBfOGE5ZDJiN2U0ZGZiNDY1ZWI0NzNhYjA3NjEyZWE4OWQpOwoKICAgICAgICAgICAgCiAgICAgICAgCiAgICAKICAgICAgICAgICAgdmFyIGNpcmNsZV9tYXJrZXJfZTIzYjkxNzBmZTczNDIxOGI0YTIyY2E2MzBhZGM3NzAgPSBMLmNpcmNsZU1hcmtlcigKICAgICAgICAgICAgICAgIFs1Mi41NjkxNjcwMDAwMDAwMSwxMy40MDMzMzI5OTk5OTk5OThdLAogICAgICAgICAgICAgICAgewogICJidWJibGluZ01vdXNlRXZlbnRzIjogdHJ1ZSwKICAiY29sb3IiOiAiYmx1ZSIsCiAgImRhc2hBcnJheSI6IG51bGwsCiAgImRhc2hPZmZzZXQiOiBudWxsLAogICJmaWxsIjogdHJ1ZSwKICAiZmlsbENvbG9yIjogIiMzMTg2Y2MiLAogICJmaWxsT3BhY2l0eSI6IDAuNywKICAiZmlsbFJ1bGUiOiAiZXZlbm9kZCIsCiAgImxpbmVDYXAiOiAicm91bmQiLAogICJsaW5lSm9pbiI6ICJyb3VuZCIsCiAgIm9wYWNpdHkiOiAxLjAsCiAgInJhZGl1cyI6IDUsCiAgInN0cm9rZSI6IHRydWUsCiAgIndlaWdodCI6IDMKfQogICAgICAgICAgICAgICAgKS5hZGRUbyhtYXBfOGUyOGRjZTY1ZTdiNGZkOGI5YWNmMzc3OTkxMGUzY2MpOwogICAgICAgICAgICAKICAgIAogICAgICAgICAgICB2YXIgcG9wdXBfZGM1M2ZlNTA1ZjQ5NDM3OWJkMGNlYjZkOWRhZTc5MjggPSBMLnBvcHVwKHttYXhXaWR0aDogJzMwMCd9KTsKCiAgICAgICAgICAgIAogICAgICAgICAgICAgICAgdmFyIGh0bWxfMTIyODQ0YTlhOGE4NGYxYmExMTE3YTA0NDc4YzcxMmUgPSAkKCc8ZGl2IGlkPSJodG1sXzEyMjg0NGE5YThhODRmMWJhMTExN2EwNDQ3OGM3MTJlIiBzdHlsZT0id2lkdGg6IDEwMC4wJTsgaGVpZ2h0OiAxMDAuMCU7Ij5QYW5rb3c8L2Rpdj4nKVswXTsKICAgICAgICAgICAgICAgIHBvcHVwX2RjNTNmZTUwNWY0OTQzNzliZDBjZWI2ZDlkYWU3OTI4LnNldENvbnRlbnQoaHRtbF8xMjI4NDRhOWE4YTg0ZjFiYTExMTdhMDQ0NzhjNzEyZSk7CiAgICAgICAgICAgIAoKICAgICAgICAgICAgY2lyY2xlX21hcmtlcl9lMjNiOTE3MGZlNzM0MjE4YjRhMjJjYTYzMGFkYzc3MC5iaW5kUG9wdXAocG9wdXBfZGM1M2ZlNTA1ZjQ5NDM3OWJkMGNlYjZkOWRhZTc5MjgpOwoKICAgICAgICAgICAgCiAgICAgICAgCiAgICAKICAgICAgICAgICAgdmFyIGNpcmNsZV9tYXJrZXJfOGQwZmVkNTk3MjNiNDAwZmJmOGJiYzhmZDhlNDA3YjEgPSBMLmNpcmNsZU1hcmtlcigKICAgICAgICAgICAgICAgIFs1Mi42MTg2MTEsMTMuMzldLAogICAgICAgICAgICAgICAgewogICJidWJibGluZ01vdXNlRXZlbnRzIjogdHJ1ZSwKICAiY29sb3IiOiAiYmx1ZSIsCiAgImRhc2hBcnJheSI6IG51bGwsCiAgImRhc2hPZmZzZXQiOiBudWxsLAogICJmaWxsIjogdHJ1ZSwKICAiZmlsbENvbG9yIjogIiMzMTg2Y2MiLAogICJmaWxsT3BhY2l0eSI6IDAuNywKICAiZmlsbFJ1bGUiOiAiZXZlbm9kZCIsCiAgImxpbmVDYXAiOiAicm91bmQiLAogICJsaW5lSm9pbiI6ICJyb3VuZCIsCiAgIm9wYWNpdHkiOiAxLjAsCiAgInJhZGl1cyI6IDUsCiAgInN0cm9rZSI6IHRydWUsCiAgIndlaWdodCI6IDMKfQogICAgICAgICAgICAgICAgKS5hZGRUbyhtYXBfOGUyOGRjZTY1ZTdiNGZkOGI5YWNmMzc3OTkxMGUzY2MpOwogICAgICAgICAgICAKICAgIAogICAgICAgICAgICB2YXIgcG9wdXBfMmY5NDNiYjdjMWJjNDEwMDk1YjQ1YzE0MmRjYWVlMjIgPSBMLnBvcHVwKHttYXhXaWR0aDogJzMwMCd9KTsKCiAgICAgICAgICAgIAogICAgICAgICAgICAgICAgdmFyIGh0bWxfY2E4MDgwZjIwNDg0NGQ2MWExOTdjZWZhNDkzMTNkNDMgPSAkKCc8ZGl2IGlkPSJodG1sX2NhODA4MGYyMDQ4NDRkNjFhMTk3Y2VmYTQ5MzEzZDQzIiBzdHlsZT0id2lkdGg6IDEwMC4wJTsgaGVpZ2h0OiAxMDAuMCU7Ij5CbGFua2VuZmVsZGU8L2Rpdj4nKVswXTsKICAgICAgICAgICAgICAgIHBvcHVwXzJmOTQzYmI3YzFiYzQxMDA5NWI0NWMxNDJkY2FlZTIyLnNldENvbnRlbnQoaHRtbF9jYTgwODBmMjA0ODQ0ZDYxYTE5N2NlZmE0OTMxM2Q0Myk7CiAgICAgICAgICAgIAoKICAgICAgICAgICAgY2lyY2xlX21hcmtlcl84ZDBmZWQ1OTcyM2I0MDBmYmY4YmJjOGZkOGU0MDdiMS5iaW5kUG9wdXAocG9wdXBfMmY5NDNiYjdjMWJjNDEwMDk1YjQ1YzE0MmRjYWVlMjIpOwoKICAgICAgICAgICAgCiAgICAgICAgCiAgICAKICAgICAgICAgICAgdmFyIGNpcmNsZV9tYXJrZXJfMzhmOTc4YzRlZjg1NGVhNjk3NWZhNGFmMDY2MWExZDYgPSBMLmNpcmNsZU1hcmtlcigKICAgICAgICAgICAgICAgIFs1Mi42MzM2MTEsMTMuNDk5MTY3MDAwMDAwMDAyXSwKICAgICAgICAgICAgICAgIHsKICAiYnViYmxpbmdNb3VzZUV2ZW50cyI6IHRydWUsCiAgImNvbG9yIjogImJsdWUiLAogICJkYXNoQXJyYXkiOiBudWxsLAogICJkYXNoT2Zmc2V0IjogbnVsbCwKICAiZmlsbCI6IHRydWUsCiAgImZpbGxDb2xvciI6ICIjMzE4NmNjIiwKICAiZmlsbE9wYWNpdHkiOiAwLjcsCiAgImZpbGxSdWxlIjogImV2ZW5vZGQiLAogICJsaW5lQ2FwIjogInJvdW5kIiwKICAibGluZUpvaW4iOiAicm91bmQiLAogICJvcGFjaXR5IjogMS4wLAogICJyYWRpdXMiOiA1LAogICJzdHJva2UiOiB0cnVlLAogICJ3ZWlnaHQiOiAzCn0KICAgICAgICAgICAgICAgICkuYWRkVG8obWFwXzhlMjhkY2U2NWU3YjRmZDhiOWFjZjM3Nzk5MTBlM2NjKTsKICAgICAgICAgICAgCiAgICAKICAgICAgICAgICAgdmFyIHBvcHVwX2RmYjY2YThhNjI2MDQzZWZiMTc3YjIzNWM1YWVhYmFjID0gTC5wb3B1cCh7bWF4V2lkdGg6ICczMDAnfSk7CgogICAgICAgICAgICAKICAgICAgICAgICAgICAgIHZhciBodG1sXzMxYzkyNWI3Y2E3MDQxZmFiN2YzMTcwNzI1Y2E2Nzc3ID0gJCgnPGRpdiBpZD0iaHRtbF8zMWM5MjViN2NhNzA0MWZhYjdmMzE3MDcyNWNhNjc3NyIgc3R5bGU9IndpZHRoOiAxMDAuMCU7IGhlaWdodDogMTAwLjAlOyI+QnVjaDwvZGl2PicpWzBdOwogICAgICAgICAgICAgICAgcG9wdXBfZGZiNjZhOGE2MjYwNDNlZmIxNzdiMjM1YzVhZWFiYWMuc2V0Q29udGVudChodG1sXzMxYzkyNWI3Y2E3MDQxZmFiN2YzMTcwNzI1Y2E2Nzc3KTsKICAgICAgICAgICAgCgogICAgICAgICAgICBjaXJjbGVfbWFya2VyXzM4Zjk3OGM0ZWY4NTRlYTY5NzVmYTRhZjA2NjFhMWQ2LmJpbmRQb3B1cChwb3B1cF9kZmI2NmE4YTYyNjA0M2VmYjE3N2IyMzVjNWFlYWJhYyk7CgogICAgICAgICAgICAKICAgICAgICAKICAgIAogICAgICAgICAgICB2YXIgY2lyY2xlX21hcmtlcl9hMjE2MzU5MzYwZDA0ZjQxYmYyNDcxMzI2YTA1NGY5ZCA9IEwuY2lyY2xlTWFya2VyKAogICAgICAgICAgICAgICAgWzUyLjYxODYxMSwxMy4zOV0sCiAgICAgICAgICAgICAgICB7CiAgImJ1YmJsaW5nTW91c2VFdmVudHMiOiB0cnVlLAogICJjb2xvciI6ICJibHVlIiwKICAiZGFzaEFycmF5IjogbnVsbCwKICAiZGFzaE9mZnNldCI6IG51bGwsCiAgImZpbGwiOiB0cnVlLAogICJmaWxsQ29sb3IiOiAiIzMxODZjYyIsCiAgImZpbGxPcGFjaXR5IjogMC43LAogICJmaWxsUnVsZSI6ICJldmVub2RkIiwKICAibGluZUNhcCI6ICJyb3VuZCIsCiAgImxpbmVKb2luIjogInJvdW5kIiwKICAib3BhY2l0eSI6IDEuMCwKICAicmFkaXVzIjogNSwKICAic3Ryb2tlIjogdHJ1ZSwKICAid2VpZ2h0IjogMwp9CiAgICAgICAgICAgICAgICApLmFkZFRvKG1hcF84ZTI4ZGNlNjVlN2I0ZmQ4YjlhY2YzNzc5OTEwZTNjYyk7CiAgICAgICAgICAgIAogICAgCiAgICAgICAgICAgIHZhciBwb3B1cF9hYWVhYWY4MTk3Yjk0NTI0YTJhNzcwOGQ2OTc1M2Q1NCA9IEwucG9wdXAoe21heFdpZHRoOiAnMzAwJ30pOwoKICAgICAgICAgICAgCiAgICAgICAgICAgICAgICB2YXIgaHRtbF9lZGM3ZjUyMDhiM2Y0NDg0YWMxMWMxZTVhMDA3NDRiMCA9ICQoJzxkaXYgaWQ9Imh0bWxfZWRjN2Y1MjA4YjNmNDQ4NGFjMTFjMWU1YTAwNzQ0YjAiIHN0eWxlPSJ3aWR0aDogMTAwLjAlOyBoZWlnaHQ6IDEwMC4wJTsiPkZyYW56w7ZzaXNjaCBCdWNoaG9sejwvZGl2PicpWzBdOwogICAgICAgICAgICAgICAgcG9wdXBfYWFlYWFmODE5N2I5NDUyNGEyYTc3MDhkNjk3NTNkNTQuc2V0Q29udGVudChodG1sX2VkYzdmNTIwOGIzZjQ0ODRhYzExYzFlNWEwMDc0NGIwKTsKICAgICAgICAgICAgCgogICAgICAgICAgICBjaXJjbGVfbWFya2VyX2EyMTYzNTkzNjBkMDRmNDFiZjI0NzEzMjZhMDU0ZjlkLmJpbmRQb3B1cChwb3B1cF9hYWVhYWY4MTk3Yjk0NTI0YTJhNzcwOGQ2OTc1M2Q1NCk7CgogICAgICAgICAgICAKICAgICAgICAKICAgIAogICAgICAgICAgICB2YXIgY2lyY2xlX21hcmtlcl8wNDhiNzg4YzIzZWI0ODQ1YjUxNWUzODRjZTI5ODg2YiA9IEwuY2lyY2xlTWFya2VyKAogICAgICAgICAgICAgICAgWzUyLjU4MzMzMjk5OTk5OTk5NiwxMy40XSwKICAgICAgICAgICAgICAgIHsKICAiYnViYmxpbmdNb3VzZUV2ZW50cyI6IHRydWUsCiAgImNvbG9yIjogImJsdWUiLAogICJkYXNoQXJyYXkiOiBudWxsLAogICJkYXNoT2Zmc2V0IjogbnVsbCwKICAiZmlsbCI6IHRydWUsCiAgImZpbGxDb2xvciI6ICIjMzE4NmNjIiwKICAiZmlsbE9wYWNpdHkiOiAwLjcsCiAgImZpbGxSdWxlIjogImV2ZW5vZGQiLAogICJsaW5lQ2FwIjogInJvdW5kIiwKICAibGluZUpvaW4iOiAicm91bmQiLAogICJvcGFjaXR5IjogMS4wLAogICJyYWRpdXMiOiA1LAogICJzdHJva2UiOiB0cnVlLAogICJ3ZWlnaHQiOiAzCn0KICAgICAgICAgICAgICAgICkuYWRkVG8obWFwXzhlMjhkY2U2NWU3YjRmZDhiOWFjZjM3Nzk5MTBlM2NjKTsKICAgICAgICAgICAgCiAgICAKICAgICAgICAgICAgdmFyIHBvcHVwXzFjNGM1NTEzNGZjZjQzOGFhYmYxZmIyYjg2MDFlOTM4ID0gTC5wb3B1cCh7bWF4V2lkdGg6ICczMDAnfSk7CgogICAgICAgICAgICAKICAgICAgICAgICAgICAgIHZhciBodG1sXzEzNmYwNDkxYTljYjQ4MDJiOGRkMDA5MTU4MjhhZTU4ID0gJCgnPGRpdiBpZD0iaHRtbF8xMzZmMDQ5MWE5Y2I0ODAyYjhkZDAwOTE1ODI4YWU1OCIgc3R5bGU9IndpZHRoOiAxMDAuMCU7IGhlaWdodDogMTAwLjAlOyI+TmllZGVyc2Now7ZuaGF1c2VuPC9kaXY+JylbMF07CiAgICAgICAgICAgICAgICBwb3B1cF8xYzRjNTUxMzRmY2Y0MzhhYWJmMWZiMmI4NjAxZTkzOC5zZXRDb250ZW50KGh0bWxfMTM2ZjA0OTFhOWNiNDgwMmI4ZGQwMDkxNTgyOGFlNTgpOwogICAgICAgICAgICAKCiAgICAgICAgICAgIGNpcmNsZV9tYXJrZXJfMDQ4Yjc4OGMyM2ViNDg0NWI1MTVlMzg0Y2UyOTg4NmIuYmluZFBvcHVwKHBvcHVwXzFjNGM1NTEzNGZjZjQzOGFhYmYxZmIyYjg2MDFlOTM4KTsKCiAgICAgICAgICAgIAogICAgICAgIAogICAgCiAgICAgICAgICAgIHZhciBjaXJjbGVfbWFya2VyXzg1YWNjOGQ2ODI3MjQ3ZDQ4Y2ZiYTRkYWQ1MDJhOThhID0gTC5jaXJjbGVNYXJrZXIoCiAgICAgICAgICAgICAgICBbNTIuNTk5MTY3LDEzLjM3NzIyMl0sCiAgICAgICAgICAgICAgICB7CiAgImJ1YmJsaW5nTW91c2VFdmVudHMiOiB0cnVlLAogICJjb2xvciI6ICJibHVlIiwKICAiZGFzaEFycmF5IjogbnVsbCwKICAiZGFzaE9mZnNldCI6IG51bGwsCiAgImZpbGwiOiB0cnVlLAogICJmaWxsQ29sb3IiOiAiIzMxODZjYyIsCiAgImZpbGxPcGFjaXR5IjogMC43LAogICJmaWxsUnVsZSI6ICJldmVub2RkIiwKICAibGluZUNhcCI6ICJyb3VuZCIsCiAgImxpbmVKb2luIjogInJvdW5kIiwKICAib3BhY2l0eSI6IDEuMCwKICAicmFkaXVzIjogNSwKICAic3Ryb2tlIjogdHJ1ZSwKICAid2VpZ2h0IjogMwp9CiAgICAgICAgICAgICAgICApLmFkZFRvKG1hcF84ZTI4ZGNlNjVlN2I0ZmQ4YjlhY2YzNzc5OTEwZTNjYyk7CiAgICAgICAgICAgIAogICAgCiAgICAgICAgICAgIHZhciBwb3B1cF85NDk2Nzc1Zjc3ZTU0MjM5YWFjMGNmZjVkMDM0YWZkZiA9IEwucG9wdXAoe21heFdpZHRoOiAnMzAwJ30pOwoKICAgICAgICAgICAgCiAgICAgICAgICAgICAgICB2YXIgaHRtbF80NzhjNGM5NzJmZTg0NzgzYjJlMGE0MmIzZDU4ZjRhYiA9ICQoJzxkaXYgaWQ9Imh0bWxfNDc4YzRjOTcyZmU4NDc4M2IyZTBhNDJiM2Q1OGY0YWIiIHN0eWxlPSJ3aWR0aDogMTAwLjAlOyBoZWlnaHQ6IDEwMC4wJTsiPlJvc2VudGhhbDwvZGl2PicpWzBdOwogICAgICAgICAgICAgICAgcG9wdXBfOTQ5Njc3NWY3N2U1NDIzOWFhYzBjZmY1ZDAzNGFmZGYuc2V0Q29udGVudChodG1sXzQ3OGM0Yzk3MmZlODQ3ODNiMmUwYTQyYjNkNThmNGFiKTsKICAgICAgICAgICAgCgogICAgICAgICAgICBjaXJjbGVfbWFya2VyXzg1YWNjOGQ2ODI3MjQ3ZDQ4Y2ZiYTRkYWQ1MDJhOThhLmJpbmRQb3B1cChwb3B1cF85NDk2Nzc1Zjc3ZTU0MjM5YWFjMGNmZjVkMDM0YWZkZik7CgogICAgICAgICAgICAKICAgICAgICAKICAgIAogICAgICAgICAgICB2YXIgY2lyY2xlX21hcmtlcl85ZjA3NjZhODlhMmY0YjIyOTJmYTY4OTdlYjNmMDg0ZCA9IEwuY2lyY2xlTWFya2VyKAogICAgICAgICAgICAgICAgWzUyLjU4NzIyMiwxMy4zNjgwNTZdLAogICAgICAgICAgICAgICAgewogICJidWJibGluZ01vdXNlRXZlbnRzIjogdHJ1ZSwKICAiY29sb3IiOiAiYmx1ZSIsCiAgImRhc2hBcnJheSI6IG51bGwsCiAgImRhc2hPZmZzZXQiOiBudWxsLAogICJmaWxsIjogdHJ1ZSwKICAiZmlsbENvbG9yIjogIiMzMTg2Y2MiLAogICJmaWxsT3BhY2l0eSI6IDAuNywKICAiZmlsbFJ1bGUiOiAiZXZlbm9kZCIsCiAgImxpbmVDYXAiOiAicm91bmQiLAogICJsaW5lSm9pbiI6ICJyb3VuZCIsCiAgIm9wYWNpdHkiOiAxLjAsCiAgInJhZGl1cyI6IDUsCiAgInN0cm9rZSI6IHRydWUsCiAgIndlaWdodCI6IDMKfQogICAgICAgICAgICAgICAgKS5hZGRUbyhtYXBfOGUyOGRjZTY1ZTdiNGZkOGI5YWNmMzc3OTkxMGUzY2MpOwogICAgICAgICAgICAKICAgIAogICAgICAgICAgICB2YXIgcG9wdXBfOThiMjhjMGFlYTQ1NDQ1OWE2MDMxYzQxMTNiOTUwYWQgPSBMLnBvcHVwKHttYXhXaWR0aDogJzMwMCd9KTsKCiAgICAgICAgICAgIAogICAgICAgICAgICAgICAgdmFyIGh0bWxfODRlYzY0NWQyN2RiNGNiOTk0ZTEzMjg1NTgyZjU5ZTcgPSAkKCc8ZGl2IGlkPSJodG1sXzg0ZWM2NDVkMjdkYjRjYjk5NGUxMzI4NTU4MmY1OWU3IiBzdHlsZT0id2lkdGg6IDEwMC4wJTsgaGVpZ2h0OiAxMDAuMCU7Ij5XaWxoZWxtc3J1aDwvZGl2PicpWzBdOwogICAgICAgICAgICAgICAgcG9wdXBfOThiMjhjMGFlYTQ1NDQ1OWE2MDMxYzQxMTNiOTUwYWQuc2V0Q29udGVudChodG1sXzg0ZWM2NDVkMjdkYjRjYjk5NGUxMzI4NTU4MmY1OWU3KTsKICAgICAgICAgICAgCgogICAgICAgICAgICBjaXJjbGVfbWFya2VyXzlmMDc2NmE4OWEyZjRiMjI5MmZhNjg5N2ViM2YwODRkLmJpbmRQb3B1cChwb3B1cF85OGIyOGMwYWVhNDU0NDU5YTYwMzFjNDExM2I5NTBhZCk7CgogICAgICAgICAgICAKICAgICAgICAKICAgIAogICAgICAgICAgICB2YXIgY2lyY2xlX21hcmtlcl82ZTNkZWFmYmJiNzQ0NjVjODUwYzA1OWQxMGQ5YjAyOCA9IEwuY2lyY2xlTWFya2VyKAogICAgICAgICAgICAgICAgWzUyLjUxNjY2NzAwMDAwMDAwNSwxMy4zXSwKICAgICAgICAgICAgICAgIHsKICAiYnViYmxpbmdNb3VzZUV2ZW50cyI6IHRydWUsCiAgImNvbG9yIjogImJsdWUiLAogICJkYXNoQXJyYXkiOiBudWxsLAogICJkYXNoT2Zmc2V0IjogbnVsbCwKICAiZmlsbCI6IHRydWUsCiAgImZpbGxDb2xvciI6ICIjMzE4NmNjIiwKICAiZmlsbE9wYWNpdHkiOiAwLjcsCiAgImZpbGxSdWxlIjogImV2ZW5vZGQiLAogICJsaW5lQ2FwIjogInJvdW5kIiwKICAibGluZUpvaW4iOiAicm91bmQiLAogICJvcGFjaXR5IjogMS4wLAogICJyYWRpdXMiOiA1LAogICJzdHJva2UiOiB0cnVlLAogICJ3ZWlnaHQiOiAzCn0KICAgICAgICAgICAgICAgICkuYWRkVG8obWFwXzhlMjhkY2U2NWU3YjRmZDhiOWFjZjM3Nzk5MTBlM2NjKTsKICAgICAgICAgICAgCiAgICAKICAgICAgICAgICAgdmFyIHBvcHVwX2I0OGFjMThmYjBlNzRmMmM5MTk3MjU2YmJhMjhlYWJkID0gTC5wb3B1cCh7bWF4V2lkdGg6ICczMDAnfSk7CgogICAgICAgICAgICAKICAgICAgICAgICAgICAgIHZhciBodG1sX2Q3Yzg4YmQ0MWY0NDQ2Y2U4ODAwMzNjMjBmNThiNWIwID0gJCgnPGRpdiBpZD0iaHRtbF9kN2M4OGJkNDFmNDQ0NmNlODgwMDMzYzIwZjU4YjViMCIgc3R5bGU9IndpZHRoOiAxMDAuMCU7IGhlaWdodDogMTAwLjAlOyI+Q2hhcmxvdHRlbmJ1cmc8L2Rpdj4nKVswXTsKICAgICAgICAgICAgICAgIHBvcHVwX2I0OGFjMThmYjBlNzRmMmM5MTk3MjU2YmJhMjhlYWJkLnNldENvbnRlbnQoaHRtbF9kN2M4OGJkNDFmNDQ0NmNlODgwMDMzYzIwZjU4YjViMCk7CiAgICAgICAgICAgIAoKICAgICAgICAgICAgY2lyY2xlX21hcmtlcl82ZTNkZWFmYmJiNzQ0NjVjODUwYzA1OWQxMGQ5YjAyOC5iaW5kUG9wdXAocG9wdXBfYjQ4YWMxOGZiMGU3NGYyYzkxOTcyNTZiYmEyOGVhYmQpOwoKICAgICAgICAgICAgCiAgICAgICAgCiAgICAKICAgICAgICAgICAgdmFyIGNpcmNsZV9tYXJrZXJfNmJkYmZkNGI3NzEwNDI1ZmIyNzQwMGNhZDlhMjM0MmYgPSBMLmNpcmNsZU1hcmtlcigKICAgICAgICAgICAgICAgIFs1Mi40ODMzMzI5OTk5OTk5OTUsMTMuMzE2NjY3XSwKICAgICAgICAgICAgICAgIHsKICAiYnViYmxpbmdNb3VzZUV2ZW50cyI6IHRydWUsCiAgImNvbG9yIjogImJsdWUiLAogICJkYXNoQXJyYXkiOiBudWxsLAogICJkYXNoT2Zmc2V0IjogbnVsbCwKICAiZmlsbCI6IHRydWUsCiAgImZpbGxDb2xvciI6ICIjMzE4NmNjIiwKICAiZmlsbE9wYWNpdHkiOiAwLjcsCiAgImZpbGxSdWxlIjogImV2ZW5vZGQiLAogICJsaW5lQ2FwIjogInJvdW5kIiwKICAibGluZUpvaW4iOiAicm91bmQiLAogICJvcGFjaXR5IjogMS4wLAogICJyYWRpdXMiOiA1LAogICJzdHJva2UiOiB0cnVlLAogICJ3ZWlnaHQiOiAzCn0KICAgICAgICAgICAgICAgICkuYWRkVG8obWFwXzhlMjhkY2U2NWU3YjRmZDhiOWFjZjM3Nzk5MTBlM2NjKTsKICAgICAgICAgICAgCiAgICAKICAgICAgICAgICAgdmFyIHBvcHVwXzIzYjhmMWRhY2E0NTQxZTBhYmU2NDczMzJkNmJmMDIyID0gTC5wb3B1cCh7bWF4V2lkdGg6ICczMDAnfSk7CgogICAgICAgICAgICAKICAgICAgICAgICAgICAgIHZhciBodG1sXzc5ZjcyOWIxM2M4MTQ1ODE5NGU5ZmU2MTgyZjlkNmY5ID0gJCgnPGRpdiBpZD0iaHRtbF83OWY3MjliMTNjODE0NTgxOTRlOWZlNjE4MmY5ZDZmOSIgc3R5bGU9IndpZHRoOiAxMDAuMCU7IGhlaWdodDogMTAwLjAlOyI+V2lsbWVyc2RvcmY8L2Rpdj4nKVswXTsKICAgICAgICAgICAgICAgIHBvcHVwXzIzYjhmMWRhY2E0NTQxZTBhYmU2NDczMzJkNmJmMDIyLnNldENvbnRlbnQoaHRtbF83OWY3MjliMTNjODE0NTgxOTRlOWZlNjE4MmY5ZDZmOSk7CiAgICAgICAgICAgIAoKICAgICAgICAgICAgY2lyY2xlX21hcmtlcl82YmRiZmQ0Yjc3MTA0MjVmYjI3NDAwY2FkOWEyMzQyZi5iaW5kUG9wdXAocG9wdXBfMjNiOGYxZGFjYTQ1NDFlMGFiZTY0NzMzMmQ2YmYwMjIpOwoKICAgICAgICAgICAgCiAgICAgICAgCiAgICAKICAgICAgICAgICAgdmFyIGNpcmNsZV9tYXJrZXJfN2IzZjMzMWNkZmVlNGM2ZmI5OTQyMTE3ZmRlMzFlM2QgPSBMLmNpcmNsZU1hcmtlcigKICAgICAgICAgICAgICAgIFs1Mi40NzcyMjIsMTMuMjg4MDU2XSwKICAgICAgICAgICAgICAgIHsKICAiYnViYmxpbmdNb3VzZUV2ZW50cyI6IHRydWUsCiAgImNvbG9yIjogImJsdWUiLAogICJkYXNoQXJyYXkiOiBudWxsLAogICJkYXNoT2Zmc2V0IjogbnVsbCwKICAiZmlsbCI6IHRydWUsCiAgImZpbGxDb2xvciI6ICIjMzE4NmNjIiwKICAiZmlsbE9wYWNpdHkiOiAwLjcsCiAgImZpbGxSdWxlIjogImV2ZW5vZGQiLAogICJsaW5lQ2FwIjogInJvdW5kIiwKICAibGluZUpvaW4iOiAicm91bmQiLAogICJvcGFjaXR5IjogMS4wLAogICJyYWRpdXMiOiA1LAogICJzdHJva2UiOiB0cnVlLAogICJ3ZWlnaHQiOiAzCn0KICAgICAgICAgICAgICAgICkuYWRkVG8obWFwXzhlMjhkY2U2NWU3YjRmZDhiOWFjZjM3Nzk5MTBlM2NjKTsKICAgICAgICAgICAgCiAgICAKICAgICAgICAgICAgdmFyIHBvcHVwXzMyNTc4YzQ2MjJmZjQ1YjJhOTM5ZmY2MWE2YTUxNzM3ID0gTC5wb3B1cCh7bWF4V2lkdGg6ICczMDAnfSk7CgogICAgICAgICAgICAKICAgICAgICAgICAgICAgIHZhciBodG1sXzliM2FiZWUzY2UxNjRkYzBiMWU4MjVjZWIwMTJkN2IzID0gJCgnPGRpdiBpZD0iaHRtbF85YjNhYmVlM2NlMTY0ZGMwYjFlODI1Y2ViMDEyZDdiMyIgc3R5bGU9IndpZHRoOiAxMDAuMCU7IGhlaWdodDogMTAwLjAlOyI+U2NobWFyZ2VuZG9yZjwvZGl2PicpWzBdOwogICAgICAgICAgICAgICAgcG9wdXBfMzI1NzhjNDYyMmZmNDViMmE5MzlmZjYxYTZhNTE3Mzcuc2V0Q29udGVudChodG1sXzliM2FiZWUzY2UxNjRkYzBiMWU4MjVjZWIwMTJkN2IzKTsKICAgICAgICAgICAgCgogICAgICAgICAgICBjaXJjbGVfbWFya2VyXzdiM2YzMzFjZGZlZTRjNmZiOTk0MjExN2ZkZTMxZTNkLmJpbmRQb3B1cChwb3B1cF8zMjU3OGM0NjIyZmY0NWIyYTkzOWZmNjFhNmE1MTczNyk7CgogICAgICAgICAgICAKICAgICAgICAKICAgIAogICAgICAgICAgICB2YXIgY2lyY2xlX21hcmtlcl9kYzk3MTYwMjg4ODY0NDc2YjA2MDQzMjZhODEwNTNmOSA9IEwuY2lyY2xlTWFya2VyKAogICAgICAgICAgICAgICAgWzUyLjQ4MzMzMjk5OTk5OTk5NSwxMy4yNjY2NjcwMDAwMDAwMDJdLAogICAgICAgICAgICAgICAgewogICJidWJibGluZ01vdXNlRXZlbnRzIjogdHJ1ZSwKICAiY29sb3IiOiAiYmx1ZSIsCiAgImRhc2hBcnJheSI6IG51bGwsCiAgImRhc2hPZmZzZXQiOiBudWxsLAogICJmaWxsIjogdHJ1ZSwKICAiZmlsbENvbG9yIjogIiMzMTg2Y2MiLAogICJmaWxsT3BhY2l0eSI6IDAuNywKICAiZmlsbFJ1bGUiOiAiZXZlbm9kZCIsCiAgImxpbmVDYXAiOiAicm91bmQiLAogICJsaW5lSm9pbiI6ICJyb3VuZCIsCiAgIm9wYWNpdHkiOiAxLjAsCiAgInJhZGl1cyI6IDUsCiAgInN0cm9rZSI6IHRydWUsCiAgIndlaWdodCI6IDMKfQogICAgICAgICAgICAgICAgKS5hZGRUbyhtYXBfOGUyOGRjZTY1ZTdiNGZkOGI5YWNmMzc3OTkxMGUzY2MpOwogICAgICAgICAgICAKICAgIAogICAgICAgICAgICB2YXIgcG9wdXBfMjEyZGQ5YTM4NDBjNGI5YTg1NzhlYjFjOTg3ZmQ5NWQgPSBMLnBvcHVwKHttYXhXaWR0aDogJzMwMCd9KTsKCiAgICAgICAgICAgIAogICAgICAgICAgICAgICAgdmFyIGh0bWxfMGUzY2Q5NWYwMDkxNGY2NjkzZDBmMmNmMTcwMDJkMTggPSAkKCc8ZGl2IGlkPSJodG1sXzBlM2NkOTVmMDA5MTRmNjY5M2QwZjJjZjE3MDAyZDE4IiBzdHlsZT0id2lkdGg6IDEwMC4wJTsgaGVpZ2h0OiAxMDAuMCU7Ij5HcnVuZXdhbGQ8L2Rpdj4nKVswXTsKICAgICAgICAgICAgICAgIHBvcHVwXzIxMmRkOWEzODQwYzRiOWE4NTc4ZWIxYzk4N2ZkOTVkLnNldENvbnRlbnQoaHRtbF8wZTNjZDk1ZjAwOTE0ZjY2OTNkMGYyY2YxNzAwMmQxOCk7CiAgICAgICAgICAgIAoKICAgICAgICAgICAgY2lyY2xlX21hcmtlcl9kYzk3MTYwMjg4ODY0NDc2YjA2MDQzMjZhODEwNTNmOS5iaW5kUG9wdXAocG9wdXBfMjEyZGQ5YTM4NDBjNGI5YTg1NzhlYjFjOTg3ZmQ5NWQpOwoKICAgICAgICAgICAgCiAgICAgICAgCiAgICAKICAgICAgICAgICAgdmFyIGNpcmNsZV9tYXJrZXJfMGJlOTdlMjZhNzUyNDJmNWE4NGNmYmZmNDc0Y2IxMGUgPSBMLmNpcmNsZU1hcmtlcigKICAgICAgICAgICAgICAgIFs1Mi41MTY2NjcwMDAwMDAwMDUsMTMuMjgzMzMyOTk5OTk5OTk5XSwKICAgICAgICAgICAgICAgIHsKICAiYnViYmxpbmdNb3VzZUV2ZW50cyI6IHRydWUsCiAgImNvbG9yIjogImJsdWUiLAogICJkYXNoQXJyYXkiOiBudWxsLAogICJkYXNoT2Zmc2V0IjogbnVsbCwKICAiZmlsbCI6IHRydWUsCiAgImZpbGxDb2xvciI6ICIjMzE4NmNjIiwKICAiZmlsbE9wYWNpdHkiOiAwLjcsCiAgImZpbGxSdWxlIjogImV2ZW5vZGQiLAogICJsaW5lQ2FwIjogInJvdW5kIiwKICAibGluZUpvaW4iOiAicm91bmQiLAogICJvcGFjaXR5IjogMS4wLAogICJyYWRpdXMiOiA1LAogICJzdHJva2UiOiB0cnVlLAogICJ3ZWlnaHQiOiAzCn0KICAgICAgICAgICAgICAgICkuYWRkVG8obWFwXzhlMjhkY2U2NWU3YjRmZDhiOWFjZjM3Nzk5MTBlM2NjKTsKICAgICAgICAgICAgCiAgICAKICAgICAgICAgICAgdmFyIHBvcHVwXzAyZDNmOTRjZGYyMjQ5MTY5MjRlNTg3NWRmOThlMzRmID0gTC5wb3B1cCh7bWF4V2lkdGg6ICczMDAnfSk7CgogICAgICAgICAgICAKICAgICAgICAgICAgICAgIHZhciBodG1sX2I0N2NhYzM5ZDMyMTQ1MDc5YmY0YTUzNDJhODMzNDk0ID0gJCgnPGRpdiBpZD0iaHRtbF9iNDdjYWMzOWQzMjE0NTA3OWJmNGE1MzQyYTgzMzQ5NCIgc3R5bGU9IndpZHRoOiAxMDAuMCU7IGhlaWdodDogMTAwLjAlOyI+V2VzdGVuZDwvZGl2PicpWzBdOwogICAgICAgICAgICAgICAgcG9wdXBfMDJkM2Y5NGNkZjIyNDkxNjkyNGU1ODc1ZGY5OGUzNGYuc2V0Q29udGVudChodG1sX2I0N2NhYzM5ZDMyMTQ1MDc5YmY0YTUzNDJhODMzNDk0KTsKICAgICAgICAgICAgCgogICAgICAgICAgICBjaXJjbGVfbWFya2VyXzBiZTk3ZTI2YTc1MjQyZjVhODRjZmJmZjQ3NGNiMTBlLmJpbmRQb3B1cChwb3B1cF8wMmQzZjk0Y2RmMjI0OTE2OTI0ZTU4NzVkZjk4ZTM0Zik7CgogICAgICAgICAgICAKICAgICAgICAKICAgIAogICAgICAgICAgICB2YXIgY2lyY2xlX21hcmtlcl84MTE1MGVhMGU2NTY0OTY5YWUyY2MxNDEwMTA4OTMxMCA9IEwuY2lyY2xlTWFya2VyKAogICAgICAgICAgICAgICAgWzUyLjUzODg4OTAwMDAwMDAwNSwxMy4yOTMwNTZdLAogICAgICAgICAgICAgICAgewogICJidWJibGluZ01vdXNlRXZlbnRzIjogdHJ1ZSwKICAiY29sb3IiOiAiYmx1ZSIsCiAgImRhc2hBcnJheSI6IG51bGwsCiAgImRhc2hPZmZzZXQiOiBudWxsLAogICJmaWxsIjogdHJ1ZSwKICAiZmlsbENvbG9yIjogIiMzMTg2Y2MiLAogICJmaWxsT3BhY2l0eSI6IDAuNywKICAiZmlsbFJ1bGUiOiAiZXZlbm9kZCIsCiAgImxpbmVDYXAiOiAicm91bmQiLAogICJsaW5lSm9pbiI6ICJyb3VuZCIsCiAgIm9wYWNpdHkiOiAxLjAsCiAgInJhZGl1cyI6IDUsCiAgInN0cm9rZSI6IHRydWUsCiAgIndlaWdodCI6IDMKfQogICAgICAgICAgICAgICAgKS5hZGRUbyhtYXBfOGUyOGRjZTY1ZTdiNGZkOGI5YWNmMzc3OTkxMGUzY2MpOwogICAgICAgICAgICAKICAgIAogICAgICAgICAgICB2YXIgcG9wdXBfZDk5MWFhOTQwZDFiNGVlYjg1NTM5ZTBjNGZhZWQ4ZWUgPSBMLnBvcHVwKHttYXhXaWR0aDogJzMwMCd9KTsKCiAgICAgICAgICAgIAogICAgICAgICAgICAgICAgdmFyIGh0bWxfMDlkZTQzZmQ1MjI0NDI3ZGJmMDE3ZmFkNjdjMzcwYzUgPSAkKCc8ZGl2IGlkPSJodG1sXzA5ZGU0M2ZkNTIyNDQyN2RiZjAxN2ZhZDY3YzM3MGM1IiBzdHlsZT0id2lkdGg6IDEwMC4wJTsgaGVpZ2h0OiAxMDAuMCU7Ij5DaGFybG90dGVuYnVyZy1Ob3JkPC9kaXY+JylbMF07CiAgICAgICAgICAgICAgICBwb3B1cF9kOTkxYWE5NDBkMWI0ZWViODU1MzllMGM0ZmFlZDhlZS5zZXRDb250ZW50KGh0bWxfMDlkZTQzZmQ1MjI0NDI3ZGJmMDE3ZmFkNjdjMzcwYzUpOwogICAgICAgICAgICAKCiAgICAgICAgICAgIGNpcmNsZV9tYXJrZXJfODExNTBlYTBlNjU2NDk2OWFlMmNjMTQxMDEwODkzMTAuYmluZFBvcHVwKHBvcHVwX2Q5OTFhYTk0MGQxYjRlZWI4NTUzOWUwYzRmYWVkOGVlKTsKCiAgICAgICAgICAgIAogICAgICAgIAogICAgCiAgICAgICAgICAgIHZhciBjaXJjbGVfbWFya2VyXzJhZjI0NTlhYmQwMDQwZGNiMGQ2MjdjNmFkNTg2NDU1ID0gTC5jaXJjbGVNYXJrZXIoCiAgICAgICAgICAgICAgICBbNTIuNDk0NzIxOTk5OTk5OTk2LDEzLjI4NTU1Nl0sCiAgICAgICAgICAgICAgICB7CiAgImJ1YmJsaW5nTW91c2VFdmVudHMiOiB0cnVlLAogICJjb2xvciI6ICJibHVlIiwKICAiZGFzaEFycmF5IjogbnVsbCwKICAiZGFzaE9mZnNldCI6IG51bGwsCiAgImZpbGwiOiB0cnVlLAogICJmaWxsQ29sb3IiOiAiIzMxODZjYyIsCiAgImZpbGxPcGFjaXR5IjogMC43LAogICJmaWxsUnVsZSI6ICJldmVub2RkIiwKICAibGluZUNhcCI6ICJyb3VuZCIsCiAgImxpbmVKb2luIjogInJvdW5kIiwKICAib3BhY2l0eSI6IDEuMCwKICAicmFkaXVzIjogNSwKICAic3Ryb2tlIjogdHJ1ZSwKICAid2VpZ2h0IjogMwp9CiAgICAgICAgICAgICAgICApLmFkZFRvKG1hcF84ZTI4ZGNlNjVlN2I0ZmQ4YjlhY2YzNzc5OTEwZTNjYyk7CiAgICAgICAgICAgIAogICAgCiAgICAgICAgICAgIHZhciBwb3B1cF85ZGZmZTI5ZjYwMzA0NmM5OTI2ZTcyNzdkNTJjZmI3YiA9IEwucG9wdXAoe21heFdpZHRoOiAnMzAwJ30pOwoKICAgICAgICAgICAgCiAgICAgICAgICAgICAgICB2YXIgaHRtbF82YmZmYTI1ODc5MGY0ZmM3OGJkZjY1ZTE1ODAyOGJlZiA9ICQoJzxkaXYgaWQ9Imh0bWxfNmJmZmEyNTg3OTBmNGZjNzhiZGY2NWUxNTgwMjhiZWYiIHN0eWxlPSJ3aWR0aDogMTAwLjAlOyBoZWlnaHQ6IDEwMC4wJTsiPkhhbGVuc2VlPC9kaXY+JylbMF07CiAgICAgICAgICAgICAgICBwb3B1cF85ZGZmZTI5ZjYwMzA0NmM5OTI2ZTcyNzdkNTJjZmI3Yi5zZXRDb250ZW50KGh0bWxfNmJmZmEyNTg3OTBmNGZjNzhiZGY2NWUxNTgwMjhiZWYpOwogICAgICAgICAgICAKCiAgICAgICAgICAgIGNpcmNsZV9tYXJrZXJfMmFmMjQ1OWFiZDAwNDBkY2IwZDYyN2M2YWQ1ODY0NTUuYmluZFBvcHVwKHBvcHVwXzlkZmZlMjlmNjAzMDQ2Yzk5MjZlNzI3N2Q1MmNmYjdiKTsKCiAgICAgICAgICAgIAogICAgICAgIAogICAgCiAgICAgICAgICAgIHZhciBjaXJjbGVfbWFya2VyXzEyZDlhM2M5NDUwZTQ1ZDI5OTI4MGI5NmZkYTkyOTVjID0gTC5jaXJjbGVNYXJrZXIoCiAgICAgICAgICAgICAgICBbNTIuNTM2MTExLDEzLjIwMzMzMjk5OTk5OTk5OV0sCiAgICAgICAgICAgICAgICB7CiAgImJ1YmJsaW5nTW91c2VFdmVudHMiOiB0cnVlLAogICJjb2xvciI6ICJibHVlIiwKICAiZGFzaEFycmF5IjogbnVsbCwKICAiZGFzaE9mZnNldCI6IG51bGwsCiAgImZpbGwiOiB0cnVlLAogICJmaWxsQ29sb3IiOiAiIzMxODZjYyIsCiAgImZpbGxPcGFjaXR5IjogMC43LAogICJmaWxsUnVsZSI6ICJldmVub2RkIiwKICAibGluZUNhcCI6ICJyb3VuZCIsCiAgImxpbmVKb2luIjogInJvdW5kIiwKICAib3BhY2l0eSI6IDEuMCwKICAicmFkaXVzIjogNSwKICAic3Ryb2tlIjogdHJ1ZSwKICAid2VpZ2h0IjogMwp9CiAgICAgICAgICAgICAgICApLmFkZFRvKG1hcF84ZTI4ZGNlNjVlN2I0ZmQ4YjlhY2YzNzc5OTEwZTNjYyk7CiAgICAgICAgICAgIAogICAgCiAgICAgICAgICAgIHZhciBwb3B1cF9iODQ0NTE2MzFmMzQ0MjgxYTg5MTRmODUwMjlkZjJiYSA9IEwucG9wdXAoe21heFdpZHRoOiAnMzAwJ30pOwoKICAgICAgICAgICAgCiAgICAgICAgICAgICAgICB2YXIgaHRtbF9kMGZiN2U1M2U5M2Q0NmJlODNhMzM0ZjJiMGExYzU4MyA9ICQoJzxkaXYgaWQ9Imh0bWxfZDBmYjdlNTNlOTNkNDZiZTgzYTMzNGYyYjBhMWM1ODMiIHN0eWxlPSJ3aWR0aDogMTAwLjAlOyBoZWlnaHQ6IDEwMC4wJTsiPlNwYW5kYXU8L2Rpdj4nKVswXTsKICAgICAgICAgICAgICAgIHBvcHVwX2I4NDQ1MTYzMWYzNDQyODFhODkxNGY4NTAyOWRmMmJhLnNldENvbnRlbnQoaHRtbF9kMGZiN2U1M2U5M2Q0NmJlODNhMzM0ZjJiMGExYzU4Myk7CiAgICAgICAgICAgIAoKICAgICAgICAgICAgY2lyY2xlX21hcmtlcl8xMmQ5YTNjOTQ1MGU0NWQyOTkyODBiOTZmZGE5Mjk1Yy5iaW5kUG9wdXAocG9wdXBfYjg0NDUxNjMxZjM0NDI4MWE4OTE0Zjg1MDI5ZGYyYmEpOwoKICAgICAgICAgICAgCiAgICAgICAgCiAgICAKICAgICAgICAgICAgdmFyIGNpcmNsZV9tYXJrZXJfOTY4OTI2MTMyYzc0NDQ0MWE1NDFiYmY5MzQ1MDE3MGMgPSBMLmNpcmNsZU1hcmtlcigKICAgICAgICAgICAgICAgIFs1Mi41NDI3NzgwMDAwMDAwMDYsMTMuMjM5NzIyXSwKICAgICAgICAgICAgICAgIHsKICAiYnViYmxpbmdNb3VzZUV2ZW50cyI6IHRydWUsCiAgImNvbG9yIjogImJsdWUiLAogICJkYXNoQXJyYXkiOiBudWxsLAogICJkYXNoT2Zmc2V0IjogbnVsbCwKICAiZmlsbCI6IHRydWUsCiAgImZpbGxDb2xvciI6ICIjMzE4NmNjIiwKICAiZmlsbE9wYWNpdHkiOiAwLjcsCiAgImZpbGxSdWxlIjogImV2ZW5vZGQiLAogICJsaW5lQ2FwIjogInJvdW5kIiwKICAibGluZUpvaW4iOiAicm91bmQiLAogICJvcGFjaXR5IjogMS4wLAogICJyYWRpdXMiOiA1LAogICJzdHJva2UiOiB0cnVlLAogICJ3ZWlnaHQiOiAzCn0KICAgICAgICAgICAgICAgICkuYWRkVG8obWFwXzhlMjhkY2U2NWU3YjRmZDhiOWFjZjM3Nzk5MTBlM2NjKTsKICAgICAgICAgICAgCiAgICAKICAgICAgICAgICAgdmFyIHBvcHVwXzJkNGRhYzM5NGQ2YjQ5ZTNiNDMzMWZhMDk3ZDIyYjBiID0gTC5wb3B1cCh7bWF4V2lkdGg6ICczMDAnfSk7CgogICAgICAgICAgICAKICAgICAgICAgICAgICAgIHZhciBodG1sXzdhNTRhMjJhZTYwZTQyYzdhODk2N2U1NTZiZDhiNWE1ID0gJCgnPGRpdiBpZD0iaHRtbF83YTU0YTIyYWU2MGU0MmM3YTg5NjdlNTU2YmQ4YjVhNSIgc3R5bGU9IndpZHRoOiAxMDAuMCU7IGhlaWdodDogMTAwLjAlOyI+SGFzZWxob3JzdDwvZGl2PicpWzBdOwogICAgICAgICAgICAgICAgcG9wdXBfMmQ0ZGFjMzk0ZDZiNDllM2I0MzMxZmEwOTdkMjJiMGIuc2V0Q29udGVudChodG1sXzdhNTRhMjJhZTYwZTQyYzdhODk2N2U1NTZiZDhiNWE1KTsKICAgICAgICAgICAgCgogICAgICAgICAgICBjaXJjbGVfbWFya2VyXzk2ODkyNjEzMmM3NDQ0NDFhNTQxYmJmOTM0NTAxNzBjLmJpbmRQb3B1cChwb3B1cF8yZDRkYWMzOTRkNmI0OWUzYjQzMzFmYTA5N2QyMmIwYik7CgogICAgICAgICAgICAKICAgICAgICAKICAgIAogICAgICAgICAgICB2YXIgY2lyY2xlX21hcmtlcl8wNDE1YTQ3OTY3MTA0ZWRjYTYzYzZiMWVkM2UyNDJiOCA9IEwuY2lyY2xlTWFya2VyKAogICAgICAgICAgICAgICAgWzUyLjU0MDU1NiwxMy4yNjMwNTZdLAogICAgICAgICAgICAgICAgewogICJidWJibGluZ01vdXNlRXZlbnRzIjogdHJ1ZSwKICAiY29sb3IiOiAiYmx1ZSIsCiAgImRhc2hBcnJheSI6IG51bGwsCiAgImRhc2hPZmZzZXQiOiBudWxsLAogICJmaWxsIjogdHJ1ZSwKICAiZmlsbENvbG9yIjogIiMzMTg2Y2MiLAogICJmaWxsT3BhY2l0eSI6IDAuNywKICAiZmlsbFJ1bGUiOiAiZXZlbm9kZCIsCiAgImxpbmVDYXAiOiAicm91bmQiLAogICJsaW5lSm9pbiI6ICJyb3VuZCIsCiAgIm9wYWNpdHkiOiAxLjAsCiAgInJhZGl1cyI6IDUsCiAgInN0cm9rZSI6IHRydWUsCiAgIndlaWdodCI6IDMKfQogICAgICAgICAgICAgICAgKS5hZGRUbyhtYXBfOGUyOGRjZTY1ZTdiNGZkOGI5YWNmMzc3OTkxMGUzY2MpOwogICAgICAgICAgICAKICAgIAogICAgICAgICAgICB2YXIgcG9wdXBfY2NmNzk0NzBhZjJiNDhlMmFkZjExMzgzNjVkMTlhMTMgPSBMLnBvcHVwKHttYXhXaWR0aDogJzMwMCd9KTsKCiAgICAgICAgICAgIAogICAgICAgICAgICAgICAgdmFyIGh0bWxfZDk5NDZlMmE5YzZlNDZhZWI4ZDZjYjdkMjU3ZjFmYTEgPSAkKCc8ZGl2IGlkPSJodG1sX2Q5OTQ2ZTJhOWM2ZTQ2YWViOGQ2Y2I3ZDI1N2YxZmExIiBzdHlsZT0id2lkdGg6IDEwMC4wJTsgaGVpZ2h0OiAxMDAuMCU7Ij5TaWVtZW5zc3RhZHQ8L2Rpdj4nKVswXTsKICAgICAgICAgICAgICAgIHBvcHVwX2NjZjc5NDcwYWYyYjQ4ZTJhZGYxMTM4MzY1ZDE5YTEzLnNldENvbnRlbnQoaHRtbF9kOTk0NmUyYTljNmU0NmFlYjhkNmNiN2QyNTdmMWZhMSk7CiAgICAgICAgICAgIAoKICAgICAgICAgICAgY2lyY2xlX21hcmtlcl8wNDE1YTQ3OTY3MTA0ZWRjYTYzYzZiMWVkM2UyNDJiOC5iaW5kUG9wdXAocG9wdXBfY2NmNzk0NzBhZjJiNDhlMmFkZjExMzgzNjVkMTlhMTMpOwoKICAgICAgICAgICAgCiAgICAgICAgCiAgICAKICAgICAgICAgICAgdmFyIGNpcmNsZV9tYXJrZXJfYmJkYzJhODYwMDYzNGYwNjk0OWRkZDVjNWViYTczOGQgPSBMLmNpcmNsZU1hcmtlcigKICAgICAgICAgICAgICAgIFs1Mi41MzI1LDEzLjE0MTM4OTAwMDAwMDAwMl0sCiAgICAgICAgICAgICAgICB7CiAgImJ1YmJsaW5nTW91c2VFdmVudHMiOiB0cnVlLAogICJjb2xvciI6ICJibHVlIiwKICAiZGFzaEFycmF5IjogbnVsbCwKICAiZGFzaE9mZnNldCI6IG51bGwsCiAgImZpbGwiOiB0cnVlLAogICJmaWxsQ29sb3IiOiAiIzMxODZjYyIsCiAgImZpbGxPcGFjaXR5IjogMC43LAogICJmaWxsUnVsZSI6ICJldmVub2RkIiwKICAibGluZUNhcCI6ICJyb3VuZCIsCiAgImxpbmVKb2luIjogInJvdW5kIiwKICAib3BhY2l0eSI6IDEuMCwKICAicmFkaXVzIjogNSwKICAic3Ryb2tlIjogdHJ1ZSwKICAid2VpZ2h0IjogMwp9CiAgICAgICAgICAgICAgICApLmFkZFRvKG1hcF84ZTI4ZGNlNjVlN2I0ZmQ4YjlhY2YzNzc5OTEwZTNjYyk7CiAgICAgICAgICAgIAogICAgCiAgICAgICAgICAgIHZhciBwb3B1cF9iMGFhYjYyNDY2MGI0ODMzOWZjNjAxMGI0YmZiNTM4MiA9IEwucG9wdXAoe21heFdpZHRoOiAnMzAwJ30pOwoKICAgICAgICAgICAgCiAgICAgICAgICAgICAgICB2YXIgaHRtbF85YThkYWRjZTkyOWQ0Y2I2ODI0MGJkYmJlZTU5NTAxNSA9ICQoJzxkaXYgaWQ9Imh0bWxfOWE4ZGFkY2U5MjlkNGNiNjgyNDBiZGJiZWU1OTUwMTUiIHN0eWxlPSJ3aWR0aDogMTAwLjAlOyBoZWlnaHQ6IDEwMC4wJTsiPlN0YWFrZW48L2Rpdj4nKVswXTsKICAgICAgICAgICAgICAgIHBvcHVwX2IwYWFiNjI0NjYwYjQ4MzM5ZmM2MDEwYjRiZmI1MzgyLnNldENvbnRlbnQoaHRtbF85YThkYWRjZTkyOWQ0Y2I2ODI0MGJkYmJlZTU5NTAxNSk7CiAgICAgICAgICAgIAoKICAgICAgICAgICAgY2lyY2xlX21hcmtlcl9iYmRjMmE4NjAwNjM0ZjA2OTQ5ZGRkNWM1ZWJhNzM4ZC5iaW5kUG9wdXAocG9wdXBfYjBhYWI2MjQ2NjBiNDgzMzlmYzYwMTBiNGJmYjUzODIpOwoKICAgICAgICAgICAgCiAgICAgICAgCiAgICAKICAgICAgICAgICAgdmFyIGNpcmNsZV9tYXJrZXJfNzIwYjVkYzA1Nzg3NDMxNmJjOGYzNjc2ZmI1Mzg2YjUgPSBMLmNpcmNsZU1hcmtlcigKICAgICAgICAgICAgICAgIFs1Mi40ODg4ODksMTMuMTgxNjY3MDAwMDAwMDAxXSwKICAgICAgICAgICAgICAgIHsKICAiYnViYmxpbmdNb3VzZUV2ZW50cyI6IHRydWUsCiAgImNvbG9yIjogImJsdWUiLAogICJkYXNoQXJyYXkiOiBudWxsLAogICJkYXNoT2Zmc2V0IjogbnVsbCwKICAiZmlsbCI6IHRydWUsCiAgImZpbGxDb2xvciI6ICIjMzE4NmNjIiwKICAiZmlsbE9wYWNpdHkiOiAwLjcsCiAgImZpbGxSdWxlIjogImV2ZW5vZGQiLAogICJsaW5lQ2FwIjogInJvdW5kIiwKICAibGluZUpvaW4iOiAicm91bmQiLAogICJvcGFjaXR5IjogMS4wLAogICJyYWRpdXMiOiA1LAogICJzdHJva2UiOiB0cnVlLAogICJ3ZWlnaHQiOiAzCn0KICAgICAgICAgICAgICAgICkuYWRkVG8obWFwXzhlMjhkY2U2NWU3YjRmZDhiOWFjZjM3Nzk5MTBlM2NjKTsKICAgICAgICAgICAgCiAgICAKICAgICAgICAgICAgdmFyIHBvcHVwX2YyNzQ3ZjczMjkyMjQ0N2FhMDY4MGNhNjMzMjc4MzMyID0gTC5wb3B1cCh7bWF4V2lkdGg6ICczMDAnfSk7CgogICAgICAgICAgICAKICAgICAgICAgICAgICAgIHZhciBodG1sX2VmMWM0Yjg3NDc3MDRkZGQ5OTkwNThjNDdmNTE5MmQ3ID0gJCgnPGRpdiBpZD0iaHRtbF9lZjFjNGI4NzQ3NzA0ZGRkOTk5MDU4YzQ3ZjUxOTJkNyIgc3R5bGU9IndpZHRoOiAxMDAuMCU7IGhlaWdodDogMTAwLjAlOyI+R2F0b3c8L2Rpdj4nKVswXTsKICAgICAgICAgICAgICAgIHBvcHVwX2YyNzQ3ZjczMjkyMjQ0N2FhMDY4MGNhNjMzMjc4MzMyLnNldENvbnRlbnQoaHRtbF9lZjFjNGI4NzQ3NzA0ZGRkOTk5MDU4YzQ3ZjUxOTJkNyk7CiAgICAgICAgICAgIAoKICAgICAgICAgICAgY2lyY2xlX21hcmtlcl83MjBiNWRjMDU3ODc0MzE2YmM4ZjM2NzZmYjUzODZiNS5iaW5kUG9wdXAocG9wdXBfZjI3NDdmNzMyOTIyNDQ3YWEwNjgwY2E2MzMyNzgzMzIpOwoKICAgICAgICAgICAgCiAgICAgICAgCiAgICAKICAgICAgICAgICAgdmFyIGNpcmNsZV9tYXJrZXJfYWRkNGYxY2U0YWE2NGU4MzkxZDJkZTRkZjI3NDUzZTEgPSBMLmNpcmNsZU1hcmtlcigKICAgICAgICAgICAgICAgIFs1Mi40NTMwNTYwMDAwMDAwMDQsMTMuMTQyNzc4XSwKICAgICAgICAgICAgICAgIHsKICAiYnViYmxpbmdNb3VzZUV2ZW50cyI6IHRydWUsCiAgImNvbG9yIjogImJsdWUiLAogICJkYXNoQXJyYXkiOiBudWxsLAogICJkYXNoT2Zmc2V0IjogbnVsbCwKICAiZmlsbCI6IHRydWUsCiAgImZpbGxDb2xvciI6ICIjMzE4NmNjIiwKICAiZmlsbE9wYWNpdHkiOiAwLjcsCiAgImZpbGxSdWxlIjogImV2ZW5vZGQiLAogICJsaW5lQ2FwIjogInJvdW5kIiwKICAibGluZUpvaW4iOiAicm91bmQiLAogICJvcGFjaXR5IjogMS4wLAogICJyYWRpdXMiOiA1LAogICJzdHJva2UiOiB0cnVlLAogICJ3ZWlnaHQiOiAzCn0KICAgICAgICAgICAgICAgICkuYWRkVG8obWFwXzhlMjhkY2U2NWU3YjRmZDhiOWFjZjM3Nzk5MTBlM2NjKTsKICAgICAgICAgICAgCiAgICAKICAgICAgICAgICAgdmFyIHBvcHVwXzYyNzQ5MDYwZmM1NDQwMWI5NTg5NjAxOTc0ODdhMjczID0gTC5wb3B1cCh7bWF4V2lkdGg6ICczMDAnfSk7CgogICAgICAgICAgICAKICAgICAgICAgICAgICAgIHZhciBodG1sXzg4OWZmNzkzOTE1OTRjNzRiYWFkMjg5M2MxYzc4MTcyID0gJCgnPGRpdiBpZD0iaHRtbF84ODlmZjc5MzkxNTk0Yzc0YmFhZDI4OTNjMWM3ODE3MiIgc3R5bGU9IndpZHRoOiAxMDAuMCU7IGhlaWdodDogMTAwLjAlOyI+S2xhZG93PC9kaXY+JylbMF07CiAgICAgICAgICAgICAgICBwb3B1cF82Mjc0OTA2MGZjNTQ0MDFiOTU4OTYwMTk3NDg3YTI3My5zZXRDb250ZW50KGh0bWxfODg5ZmY3OTM5MTU5NGM3NGJhYWQyODkzYzFjNzgxNzIpOwogICAgICAgICAgICAKCiAgICAgICAgICAgIGNpcmNsZV9tYXJrZXJfYWRkNGYxY2U0YWE2NGU4MzkxZDJkZTRkZjI3NDUzZTEuYmluZFBvcHVwKHBvcHVwXzYyNzQ5MDYwZmM1NDQwMWI5NTg5NjAxOTc0ODdhMjczKTsKCiAgICAgICAgICAgIAogICAgICAgIAogICAgCiAgICAgICAgICAgIHZhciBjaXJjbGVfbWFya2VyXzM2YTc4NzIwNzc3MzRkZGViOGMxMjliNjJhYWJiMzM1ID0gTC5jaXJjbGVNYXJrZXIoCiAgICAgICAgICAgICAgICBbNTIuNTc3Nzc4LDEzLjE4MDgzMjk5OTk5OTk5OF0sCiAgICAgICAgICAgICAgICB7CiAgImJ1YmJsaW5nTW91c2VFdmVudHMiOiB0cnVlLAogICJjb2xvciI6ICJibHVlIiwKICAiZGFzaEFycmF5IjogbnVsbCwKICAiZGFzaE9mZnNldCI6IG51bGwsCiAgImZpbGwiOiB0cnVlLAogICJmaWxsQ29sb3IiOiAiIzMxODZjYyIsCiAgImZpbGxPcGFjaXR5IjogMC43LAogICJmaWxsUnVsZSI6ICJldmVub2RkIiwKICAibGluZUNhcCI6ICJyb3VuZCIsCiAgImxpbmVKb2luIjogInJvdW5kIiwKICAib3BhY2l0eSI6IDEuMCwKICAicmFkaXVzIjogNSwKICAic3Ryb2tlIjogdHJ1ZSwKICAid2VpZ2h0IjogMwp9CiAgICAgICAgICAgICAgICApLmFkZFRvKG1hcF84ZTI4ZGNlNjVlN2I0ZmQ4YjlhY2YzNzc5OTEwZTNjYyk7CiAgICAgICAgICAgIAogICAgCiAgICAgICAgICAgIHZhciBwb3B1cF9lMDYyZDgxNDdhYWE0MGEzOTBlZjMzYzVlOGFmZTIxNiA9IEwucG9wdXAoe21heFdpZHRoOiAnMzAwJ30pOwoKICAgICAgICAgICAgCiAgICAgICAgICAgICAgICB2YXIgaHRtbF8yYTc2ZmY0YjM2OWE0OTBhYjg0MTY5NmIwYjJkN2U4YSA9ICQoJzxkaXYgaWQ9Imh0bWxfMmE3NmZmNGIzNjlhNDkwYWI4NDE2OTZiMGIyZDdlOGEiIHN0eWxlPSJ3aWR0aDogMTAwLjAlOyBoZWlnaHQ6IDEwMC4wJTsiPkhha2VuZmVsZGU8L2Rpdj4nKVswXTsKICAgICAgICAgICAgICAgIHBvcHVwX2UwNjJkODE0N2FhYTQwYTM5MGVmMzNjNWU4YWZlMjE2LnNldENvbnRlbnQoaHRtbF8yYTc2ZmY0YjM2OWE0OTBhYjg0MTY5NmIwYjJkN2U4YSk7CiAgICAgICAgICAgIAoKICAgICAgICAgICAgY2lyY2xlX21hcmtlcl8zNmE3ODcyMDc3NzM0ZGRlYjhjMTI5YjYyYWFiYjMzNS5iaW5kUG9wdXAocG9wdXBfZTA2MmQ4MTQ3YWFhNDBhMzkwZWYzM2M1ZThhZmUyMTYpOwoKICAgICAgICAgICAgCiAgICAgICAgCiAgICAKICAgICAgICAgICAgdmFyIGNpcmNsZV9tYXJrZXJfZTkzODZjNzY2Y2ViNGQ2MWIzZTE1YTU4OGMyOTZmNDIgPSBMLmNpcmNsZU1hcmtlcigKICAgICAgICAgICAgICAgIFs1Mi41NDY5NDM5OTk5OTk5OTYsMTMuMTc3Nzc4XSwKICAgICAgICAgICAgICAgIHsKICAiYnViYmxpbmdNb3VzZUV2ZW50cyI6IHRydWUsCiAgImNvbG9yIjogImJsdWUiLAogICJkYXNoQXJyYXkiOiBudWxsLAogICJkYXNoT2Zmc2V0IjogbnVsbCwKICAiZmlsbCI6IHRydWUsCiAgImZpbGxDb2xvciI6ICIjMzE4NmNjIiwKICAiZmlsbE9wYWNpdHkiOiAwLjcsCiAgImZpbGxSdWxlIjogImV2ZW5vZGQiLAogICJsaW5lQ2FwIjogInJvdW5kIiwKICAibGluZUpvaW4iOiAicm91bmQiLAogICJvcGFjaXR5IjogMS4wLAogICJyYWRpdXMiOiA1LAogICJzdHJva2UiOiB0cnVlLAogICJ3ZWlnaHQiOiAzCn0KICAgICAgICAgICAgICAgICkuYWRkVG8obWFwXzhlMjhkY2U2NWU3YjRmZDhiOWFjZjM3Nzk5MTBlM2NjKTsKICAgICAgICAgICAgCiAgICAKICAgICAgICAgICAgdmFyIHBvcHVwX2E2ZWY4NjBiOTkwMzQ0NWQ4MGQ2ZTEzNWFjMDYzMjdhID0gTC5wb3B1cCh7bWF4V2lkdGg6ICczMDAnfSk7CgogICAgICAgICAgICAKICAgICAgICAgICAgICAgIHZhciBodG1sX2YzZWZhMzFiYWE5NjQ0NjFiZjlmOWU3NjViYWI4MWYzID0gJCgnPGRpdiBpZD0iaHRtbF9mM2VmYTMxYmFhOTY0NDYxYmY5ZjllNzY1YmFiODFmMyIgc3R5bGU9IndpZHRoOiAxMDAuMCU7IGhlaWdodDogMTAwLjAlOyI+RmFsa2VuaGFnZW5lciBGZWxkPC9kaXY+JylbMF07CiAgICAgICAgICAgICAgICBwb3B1cF9hNmVmODYwYjk5MDM0NDVkODBkNmUxMzVhYzA2MzI3YS5zZXRDb250ZW50KGh0bWxfZjNlZmEzMWJhYTk2NDQ2MWJmOWY5ZTc2NWJhYjgxZjMpOwogICAgICAgICAgICAKCiAgICAgICAgICAgIGNpcmNsZV9tYXJrZXJfZTkzODZjNzY2Y2ViNGQ2MWIzZTE1YTU4OGMyOTZmNDIuYmluZFBvcHVwKHBvcHVwX2E2ZWY4NjBiOTkwMzQ0NWQ4MGQ2ZTEzNWFjMDYzMjdhKTsKCiAgICAgICAgICAgIAogICAgICAgIAogICAgCiAgICAgICAgICAgIHZhciBjaXJjbGVfbWFya2VyXzZlMzcyMTdmZWZlNTQyNjJiOTQzNWNhYzE3MzM5NzgwID0gTC5jaXJjbGVNYXJrZXIoCiAgICAgICAgICAgICAgICBbNTIuNTI1NTU2MDAwMDAwMDEsMTMuMTc2MTEwOTk5OTk5OTk5XSwKICAgICAgICAgICAgICAgIHsKICAiYnViYmxpbmdNb3VzZUV2ZW50cyI6IHRydWUsCiAgImNvbG9yIjogImJsdWUiLAogICJkYXNoQXJyYXkiOiBudWxsLAogICJkYXNoT2Zmc2V0IjogbnVsbCwKICAiZmlsbCI6IHRydWUsCiAgImZpbGxDb2xvciI6ICIjMzE4NmNjIiwKICAiZmlsbE9wYWNpdHkiOiAwLjcsCiAgImZpbGxSdWxlIjogImV2ZW5vZGQiLAogICJsaW5lQ2FwIjogInJvdW5kIiwKICAibGluZUpvaW4iOiAicm91bmQiLAogICJvcGFjaXR5IjogMS4wLAogICJyYWRpdXMiOiA1LAogICJzdHJva2UiOiB0cnVlLAogICJ3ZWlnaHQiOiAzCn0KICAgICAgICAgICAgICAgICkuYWRkVG8obWFwXzhlMjhkY2U2NWU3YjRmZDhiOWFjZjM3Nzk5MTBlM2NjKTsKICAgICAgICAgICAgCiAgICAKICAgICAgICAgICAgdmFyIHBvcHVwX2U4M2IzZTBhODRhYTRiNTFiZjY0MTI3MDEzYzY4MTc1ID0gTC5wb3B1cCh7bWF4V2lkdGg6ICczMDAnfSk7CgogICAgICAgICAgICAKICAgICAgICAgICAgICAgIHZhciBodG1sX2JhODg4OTM1MGFmNjQ4ZDY4MDNjZWU3ZDE5OWNkZjc4ID0gJCgnPGRpdiBpZD0iaHRtbF9iYTg4ODkzNTBhZjY0OGQ2ODAzY2VlN2QxOTljZGY3OCIgc3R5bGU9IndpZHRoOiAxMDAuMCU7IGhlaWdodDogMTAwLjAlOyI+V2lsaGVsbXN0YWR0PC9kaXY+JylbMF07CiAgICAgICAgICAgICAgICBwb3B1cF9lODNiM2UwYTg0YWE0YjUxYmY2NDEyNzAxM2M2ODE3NS5zZXRDb250ZW50KGh0bWxfYmE4ODg5MzUwYWY2NDhkNjgwM2NlZTdkMTk5Y2RmNzgpOwogICAgICAgICAgICAKCiAgICAgICAgICAgIGNpcmNsZV9tYXJrZXJfNmUzNzIxN2ZlZmU1NDI2MmI5NDM1Y2FjMTczMzk3ODAuYmluZFBvcHVwKHBvcHVwX2U4M2IzZTBhODRhYTRiNTFiZjY0MTI3MDEzYzY4MTc1KTsKCiAgICAgICAgICAgIAogICAgICAgIAogICAgCiAgICAgICAgICAgIHZhciBjaXJjbGVfbWFya2VyXzE5ZjM4YzQ2MWI1MjQ0MTliZGE5MDI0NzAyODI0YzRkID0gTC5jaXJjbGVNYXJrZXIoCiAgICAgICAgICAgICAgICBbNTIuNDY2NjY3LDEzLjMzMzMzMjk5OTk5OTk5OF0sCiAgICAgICAgICAgICAgICB7CiAgImJ1YmJsaW5nTW91c2VFdmVudHMiOiB0cnVlLAogICJjb2xvciI6ICJibHVlIiwKICAiZGFzaEFycmF5IjogbnVsbCwKICAiZGFzaE9mZnNldCI6IG51bGwsCiAgImZpbGwiOiB0cnVlLAogICJmaWxsQ29sb3IiOiAiIzMxODZjYyIsCiAgImZpbGxPcGFjaXR5IjogMC43LAogICJmaWxsUnVsZSI6ICJldmVub2RkIiwKICAibGluZUNhcCI6ICJyb3VuZCIsCiAgImxpbmVKb2luIjogInJvdW5kIiwKICAib3BhY2l0eSI6IDEuMCwKICAicmFkaXVzIjogNSwKICAic3Ryb2tlIjogdHJ1ZSwKICAid2VpZ2h0IjogMwp9CiAgICAgICAgICAgICAgICApLmFkZFRvKG1hcF84ZTI4ZGNlNjVlN2I0ZmQ4YjlhY2YzNzc5OTEwZTNjYyk7CiAgICAgICAgICAgIAogICAgCiAgICAgICAgICAgIHZhciBwb3B1cF80MjM2YTM4MTY0YmQ0NDY2YmU1ZTFhNjU4NGY0NDEyYyA9IEwucG9wdXAoe21heFdpZHRoOiAnMzAwJ30pOwoKICAgICAgICAgICAgCiAgICAgICAgICAgICAgICB2YXIgaHRtbF9kNmU0MmNmNGZmYzk0Yzk1YjU1ZjM2YWFjOWUwMDgzZiA9ICQoJzxkaXYgaWQ9Imh0bWxfZDZlNDJjZjRmZmM5NGM5NWI1NWYzNmFhYzllMDA4M2YiIHN0eWxlPSJ3aWR0aDogMTAwLjAlOyBoZWlnaHQ6IDEwMC4wJTsiPlN0ZWdsaXR6PC9kaXY+JylbMF07CiAgICAgICAgICAgICAgICBwb3B1cF80MjM2YTM4MTY0YmQ0NDY2YmU1ZTFhNjU4NGY0NDEyYy5zZXRDb250ZW50KGh0bWxfZDZlNDJjZjRmZmM5NGM5NWI1NWYzNmFhYzllMDA4M2YpOwogICAgICAgICAgICAKCiAgICAgICAgICAgIGNpcmNsZV9tYXJrZXJfMTlmMzhjNDYxYjUyNDQxOWJkYTkwMjQ3MDI4MjRjNGQuYmluZFBvcHVwKHBvcHVwXzQyMzZhMzgxNjRiZDQ0NjZiZTVlMWE2NTg0ZjQ0MTJjKTsKCiAgICAgICAgICAgIAogICAgICAgIAogICAgCiAgICAgICAgICAgIHZhciBjaXJjbGVfbWFya2VyX2FkM2E1M2U0NWJiZjQ0MDQ5ZTQxNWI5YWYwZTU3MWIyID0gTC5jaXJjbGVNYXJrZXIoCiAgICAgICAgICAgICAgICBbNTIuNDMzMzMzLDEzLjMxNjY2N10sCiAgICAgICAgICAgICAgICB7CiAgImJ1YmJsaW5nTW91c2VFdmVudHMiOiB0cnVlLAogICJjb2xvciI6ICJibHVlIiwKICAiZGFzaEFycmF5IjogbnVsbCwKICAiZGFzaE9mZnNldCI6IG51bGwsCiAgImZpbGwiOiB0cnVlLAogICJmaWxsQ29sb3IiOiAiIzMxODZjYyIsCiAgImZpbGxPcGFjaXR5IjogMC43LAogICJmaWxsUnVsZSI6ICJldmVub2RkIiwKICAibGluZUNhcCI6ICJyb3VuZCIsCiAgImxpbmVKb2luIjogInJvdW5kIiwKICAib3BhY2l0eSI6IDEuMCwKICAicmFkaXVzIjogNSwKICAic3Ryb2tlIjogdHJ1ZSwKICAid2VpZ2h0IjogMwp9CiAgICAgICAgICAgICAgICApLmFkZFRvKG1hcF84ZTI4ZGNlNjVlN2I0ZmQ4YjlhY2YzNzc5OTEwZTNjYyk7CiAgICAgICAgICAgIAogICAgCiAgICAgICAgICAgIHZhciBwb3B1cF9hNGE1MDY1MjhhNGI0NTk4ODI3ODllMGEzOTY2NjMzNyA9IEwucG9wdXAoe21heFdpZHRoOiAnMzAwJ30pOwoKICAgICAgICAgICAgCiAgICAgICAgICAgICAgICB2YXIgaHRtbF81MzA4MjVjNDcyYjI0N2U4YjNhYTIwNjI1ZTAzOTk5MSA9ICQoJzxkaXYgaWQ9Imh0bWxfNTMwODI1YzQ3MmIyNDdlOGIzYWEyMDYyNWUwMzk5OTEiIHN0eWxlPSJ3aWR0aDogMTAwLjAlOyBoZWlnaHQ6IDEwMC4wJTsiPkxpY2h0ZXJmZWxkZTwvZGl2PicpWzBdOwogICAgICAgICAgICAgICAgcG9wdXBfYTRhNTA2NTI4YTRiNDU5ODgyNzg5ZTBhMzk2NjYzMzcuc2V0Q29udGVudChodG1sXzUzMDgyNWM0NzJiMjQ3ZThiM2FhMjA2MjVlMDM5OTkxKTsKICAgICAgICAgICAgCgogICAgICAgICAgICBjaXJjbGVfbWFya2VyX2FkM2E1M2U0NWJiZjQ0MDQ5ZTQxNWI5YWYwZTU3MWIyLmJpbmRQb3B1cChwb3B1cF9hNGE1MDY1MjhhNGI0NTk4ODI3ODllMGEzOTY2NjMzNyk7CgogICAgICAgICAgICAKICAgICAgICAKICAgIAogICAgICAgICAgICB2YXIgY2lyY2xlX21hcmtlcl8xMzFkODJhOWU2NDQ0OTMwODlhMGNjZTRjZjA1YTQxYSA9IEwuY2lyY2xlTWFya2VyKAogICAgICAgICAgICAgICAgWzUyLjQzMzMzMywxMy4zNV0sCiAgICAgICAgICAgICAgICB7CiAgImJ1YmJsaW5nTW91c2VFdmVudHMiOiB0cnVlLAogICJjb2xvciI6ICJibHVlIiwKICAiZGFzaEFycmF5IjogbnVsbCwKICAiZGFzaE9mZnNldCI6IG51bGwsCiAgImZpbGwiOiB0cnVlLAogICJmaWxsQ29sb3IiOiAiIzMxODZjYyIsCiAgImZpbGxPcGFjaXR5IjogMC43LAogICJmaWxsUnVsZSI6ICJldmVub2RkIiwKICAibGluZUNhcCI6ICJyb3VuZCIsCiAgImxpbmVKb2luIjogInJvdW5kIiwKICAib3BhY2l0eSI6IDEuMCwKICAicmFkaXVzIjogNSwKICAic3Ryb2tlIjogdHJ1ZSwKICAid2VpZ2h0IjogMwp9CiAgICAgICAgICAgICAgICApLmFkZFRvKG1hcF84ZTI4ZGNlNjVlN2I0ZmQ4YjlhY2YzNzc5OTEwZTNjYyk7CiAgICAgICAgICAgIAogICAgCiAgICAgICAgICAgIHZhciBwb3B1cF81ZTc3OWE5ZWUwOGI0ZWI2YjBlZTc4OTE5N2EzMDljYSA9IEwucG9wdXAoe21heFdpZHRoOiAnMzAwJ30pOwoKICAgICAgICAgICAgCiAgICAgICAgICAgICAgICB2YXIgaHRtbF9hMThkZDA0ZjljZWE0MDhlOThhNjM5MzgxOTQzNGI0MyA9ICQoJzxkaXYgaWQ9Imh0bWxfYTE4ZGQwNGY5Y2VhNDA4ZTk4YTYzOTM4MTk0MzRiNDMiIHN0eWxlPSJ3aWR0aDogMTAwLjAlOyBoZWlnaHQ6IDEwMC4wJTsiPkxhbmt3aXR6PC9kaXY+JylbMF07CiAgICAgICAgICAgICAgICBwb3B1cF81ZTc3OWE5ZWUwOGI0ZWI2YjBlZTc4OTE5N2EzMDljYS5zZXRDb250ZW50KGh0bWxfYTE4ZGQwNGY5Y2VhNDA4ZTk4YTYzOTM4MTk0MzRiNDMpOwogICAgICAgICAgICAKCiAgICAgICAgICAgIGNpcmNsZV9tYXJrZXJfMTMxZDgyYTllNjQ0NDkzMDg5YTBjY2U0Y2YwNWE0MWEuYmluZFBvcHVwKHBvcHVwXzVlNzc5YTllZTA4YjRlYjZiMGVlNzg5MTk3YTMwOWNhKTsKCiAgICAgICAgICAgIAogICAgICAgIAogICAgCiAgICAgICAgICAgIHZhciBjaXJjbGVfbWFya2VyX2M2YzI1MmZlYzE0OTQ3N2Y4NmRkODQ2NGYyZWYyZGMzID0gTC5jaXJjbGVNYXJrZXIoCiAgICAgICAgICAgICAgICBbNTIuNDMzMzMzLDEzLjJdLAogICAgICAgICAgICAgICAgewogICJidWJibGluZ01vdXNlRXZlbnRzIjogdHJ1ZSwKICAiY29sb3IiOiAiYmx1ZSIsCiAgImRhc2hBcnJheSI6IG51bGwsCiAgImRhc2hPZmZzZXQiOiBudWxsLAogICJmaWxsIjogdHJ1ZSwKICAiZmlsbENvbG9yIjogIiMzMTg2Y2MiLAogICJmaWxsT3BhY2l0eSI6IDAuNywKICAiZmlsbFJ1bGUiOiAiZXZlbm9kZCIsCiAgImxpbmVDYXAiOiAicm91bmQiLAogICJsaW5lSm9pbiI6ICJyb3VuZCIsCiAgIm9wYWNpdHkiOiAxLjAsCiAgInJhZGl1cyI6IDUsCiAgInN0cm9rZSI6IHRydWUsCiAgIndlaWdodCI6IDMKfQogICAgICAgICAgICAgICAgKS5hZGRUbyhtYXBfOGUyOGRjZTY1ZTdiNGZkOGI5YWNmMzc3OTkxMGUzY2MpOwogICAgICAgICAgICAKICAgIAogICAgICAgICAgICB2YXIgcG9wdXBfM2QwZGRiZTZjYzRlNDdiMDliZjRmYWMxNmRkNDFmMzQgPSBMLnBvcHVwKHttYXhXaWR0aDogJzMwMCd9KTsKCiAgICAgICAgICAgIAogICAgICAgICAgICAgICAgdmFyIGh0bWxfOTkxOWU3OWYwZThkNDM2N2FiNWY4YjBjZjE2YjBkNGMgPSAkKCc8ZGl2IGlkPSJodG1sXzk5MTllNzlmMGU4ZDQzNjdhYjVmOGIwY2YxNmIwZDRjIiBzdHlsZT0id2lkdGg6IDEwMC4wJTsgaGVpZ2h0OiAxMDAuMCU7Ij5aZWhsZW5kb3JmPC9kaXY+JylbMF07CiAgICAgICAgICAgICAgICBwb3B1cF8zZDBkZGJlNmNjNGU0N2IwOWJmNGZhYzE2ZGQ0MWYzNC5zZXRDb250ZW50KGh0bWxfOTkxOWU3OWYwZThkNDM2N2FiNWY4YjBjZjE2YjBkNGMpOwogICAgICAgICAgICAKCiAgICAgICAgICAgIGNpcmNsZV9tYXJrZXJfYzZjMjUyZmVjMTQ5NDc3Zjg2ZGQ4NDY0ZjJlZjJkYzMuYmluZFBvcHVwKHBvcHVwXzNkMGRkYmU2Y2M0ZTQ3YjA5YmY0ZmFjMTZkZDQxZjM0KTsKCiAgICAgICAgICAgIAogICAgICAgIAogICAgCiAgICAgICAgICAgIHZhciBjaXJjbGVfbWFya2VyXzc4NGE4NjIwZDk2NjQ2NGVhM2I4NjczOTgwM2JmNDdkID0gTC5jaXJjbGVNYXJrZXIoCiAgICAgICAgICAgICAgICBbNTIuNDU4MDU2MDAwMDAwMDA2LDEzLjI4NzVdLAogICAgICAgICAgICAgICAgewogICJidWJibGluZ01vdXNlRXZlbnRzIjogdHJ1ZSwKICAiY29sb3IiOiAiYmx1ZSIsCiAgImRhc2hBcnJheSI6IG51bGwsCiAgImRhc2hPZmZzZXQiOiBudWxsLAogICJmaWxsIjogdHJ1ZSwKICAiZmlsbENvbG9yIjogIiMzMTg2Y2MiLAogICJmaWxsT3BhY2l0eSI6IDAuNywKICAiZmlsbFJ1bGUiOiAiZXZlbm9kZCIsCiAgImxpbmVDYXAiOiAicm91bmQiLAogICJsaW5lSm9pbiI6ICJyb3VuZCIsCiAgIm9wYWNpdHkiOiAxLjAsCiAgInJhZGl1cyI6IDUsCiAgInN0cm9rZSI6IHRydWUsCiAgIndlaWdodCI6IDMKfQogICAgICAgICAgICAgICAgKS5hZGRUbyhtYXBfOGUyOGRjZTY1ZTdiNGZkOGI5YWNmMzc3OTkxMGUzY2MpOwogICAgICAgICAgICAKICAgIAogICAgICAgICAgICB2YXIgcG9wdXBfODNmODI1MDU5Yjc4NGM5ZTgwNDAxNDllY2Y0NzIwOWEgPSBMLnBvcHVwKHttYXhXaWR0aDogJzMwMCd9KTsKCiAgICAgICAgICAgIAogICAgICAgICAgICAgICAgdmFyIGh0bWxfY2FkZGNhOGE2MGMzNDY2YjgyOTllMmMwNWMyNWI3ZjEgPSAkKCc8ZGl2IGlkPSJodG1sX2NhZGRjYThhNjBjMzQ2NmI4Mjk5ZTJjMDVjMjViN2YxIiBzdHlsZT0id2lkdGg6IDEwMC4wJTsgaGVpZ2h0OiAxMDAuMCU7Ij5EYWhsZW08L2Rpdj4nKVswXTsKICAgICAgICAgICAgICAgIHBvcHVwXzgzZjgyNTA1OWI3ODRjOWU4MDQwMTQ5ZWNmNDcyMDlhLnNldENvbnRlbnQoaHRtbF9jYWRkY2E4YTYwYzM0NjZiODI5OWUyYzA1YzI1YjdmMSk7CiAgICAgICAgICAgIAoKICAgICAgICAgICAgY2lyY2xlX21hcmtlcl83ODRhODYyMGQ5NjY0NjRlYTNiODY3Mzk4MDNiZjQ3ZC5iaW5kUG9wdXAocG9wdXBfODNmODI1MDU5Yjc4NGM5ZTgwNDAxNDllY2Y0NzIwOWEpOwoKICAgICAgICAgICAgCiAgICAgICAgCiAgICAKICAgICAgICAgICAgdmFyIGNpcmNsZV9tYXJrZXJfYzU3OGZiZjZmNmQxNDg1Yzk0MmYxZTE1NTgzYTQ5NDUgPSBMLmNpcmNsZU1hcmtlcigKICAgICAgICAgICAgICAgIFs1Mi40MzMzMzMsMTMuMl0sCiAgICAgICAgICAgICAgICB7CiAgImJ1YmJsaW5nTW91c2VFdmVudHMiOiB0cnVlLAogICJjb2xvciI6ICJibHVlIiwKICAiZGFzaEFycmF5IjogbnVsbCwKICAiZGFzaE9mZnNldCI6IG51bGwsCiAgImZpbGwiOiB0cnVlLAogICJmaWxsQ29sb3IiOiAiIzMxODZjYyIsCiAgImZpbGxPcGFjaXR5IjogMC43LAogICJmaWxsUnVsZSI6ICJldmVub2RkIiwKICAibGluZUNhcCI6ICJyb3VuZCIsCiAgImxpbmVKb2luIjogInJvdW5kIiwKICAib3BhY2l0eSI6IDEuMCwKICAicmFkaXVzIjogNSwKICAic3Ryb2tlIjogdHJ1ZSwKICAid2VpZ2h0IjogMwp9CiAgICAgICAgICAgICAgICApLmFkZFRvKG1hcF84ZTI4ZGNlNjVlN2I0ZmQ4YjlhY2YzNzc5OTEwZTNjYyk7CiAgICAgICAgICAgIAogICAgCiAgICAgICAgICAgIHZhciBwb3B1cF84MzliN2RhNWI1MWY0MWZmOTkxYjQxNmIyZmMxZmU2MiA9IEwucG9wdXAoe21heFdpZHRoOiAnMzAwJ30pOwoKICAgICAgICAgICAgCiAgICAgICAgICAgICAgICB2YXIgaHRtbF8yYzRhZTAzMjM5NWE0ZGJiOWMxMWI5MWI4NmQ1ZThmMSA9ICQoJzxkaXYgaWQ9Imh0bWxfMmM0YWUwMzIzOTVhNGRiYjljMTFiOTFiODZkNWU4ZjEiIHN0eWxlPSJ3aWR0aDogMTAwLjAlOyBoZWlnaHQ6IDEwMC4wJTsiPk5pa29sYXNzZWU8L2Rpdj4nKVswXTsKICAgICAgICAgICAgICAgIHBvcHVwXzgzOWI3ZGE1YjUxZjQxZmY5OTFiNDE2YjJmYzFmZTYyLnNldENvbnRlbnQoaHRtbF8yYzRhZTAzMjM5NWE0ZGJiOWMxMWI5MWI4NmQ1ZThmMSk7CiAgICAgICAgICAgIAoKICAgICAgICAgICAgY2lyY2xlX21hcmtlcl9jNTc4ZmJmNmY2ZDE0ODVjOTQyZjFlMTU1ODNhNDk0NS5iaW5kUG9wdXAocG9wdXBfODM5YjdkYTViNTFmNDFmZjk5MWI0MTZiMmZjMWZlNjIpOwoKICAgICAgICAgICAgCiAgICAgICAgCiAgICAKICAgICAgICAgICAgdmFyIGNpcmNsZV9tYXJrZXJfODEzNmExZTU0ODkxNGQwN2JlMTQ0MGU3OGFkOTM5OWYgPSBMLmNpcmNsZU1hcmtlcigKICAgICAgICAgICAgICAgIFs1Mi40MTY2NjcsMTMuMTVdLAogICAgICAgICAgICAgICAgewogICJidWJibGluZ01vdXNlRXZlbnRzIjogdHJ1ZSwKICAiY29sb3IiOiAiYmx1ZSIsCiAgImRhc2hBcnJheSI6IG51bGwsCiAgImRhc2hPZmZzZXQiOiBudWxsLAogICJmaWxsIjogdHJ1ZSwKICAiZmlsbENvbG9yIjogIiMzMTg2Y2MiLAogICJmaWxsT3BhY2l0eSI6IDAuNywKICAiZmlsbFJ1bGUiOiAiZXZlbm9kZCIsCiAgImxpbmVDYXAiOiAicm91bmQiLAogICJsaW5lSm9pbiI6ICJyb3VuZCIsCiAgIm9wYWNpdHkiOiAxLjAsCiAgInJhZGl1cyI6IDUsCiAgInN0cm9rZSI6IHRydWUsCiAgIndlaWdodCI6IDMKfQogICAgICAgICAgICAgICAgKS5hZGRUbyhtYXBfOGUyOGRjZTY1ZTdiNGZkOGI5YWNmMzc3OTkxMGUzY2MpOwogICAgICAgICAgICAKICAgIAogICAgICAgICAgICB2YXIgcG9wdXBfMTMxNzY0MWQ0MjQ0NDY1YTlkODY1OGRiN2I4Mjc0NTkgPSBMLnBvcHVwKHttYXhXaWR0aDogJzMwMCd9KTsKCiAgICAgICAgICAgIAogICAgICAgICAgICAgICAgdmFyIGh0bWxfMzdjOWQ5ODliYWM3NDdjYjlkMDAyOWZiMmU3NDE4YjggPSAkKCc8ZGl2IGlkPSJodG1sXzM3YzlkOTg5YmFjNzQ3Y2I5ZDAwMjlmYjJlNzQxOGI4IiBzdHlsZT0id2lkdGg6IDEwMC4wJTsgaGVpZ2h0OiAxMDAuMCU7Ij5XYW5uc2VlPC9kaXY+JylbMF07CiAgICAgICAgICAgICAgICBwb3B1cF8xMzE3NjQxZDQyNDQ0NjVhOWQ4NjU4ZGI3YjgyNzQ1OS5zZXRDb250ZW50KGh0bWxfMzdjOWQ5ODliYWM3NDdjYjlkMDAyOWZiMmU3NDE4YjgpOwogICAgICAgICAgICAKCiAgICAgICAgICAgIGNpcmNsZV9tYXJrZXJfODEzNmExZTU0ODkxNGQwN2JlMTQ0MGU3OGFkOTM5OWYuYmluZFBvcHVwKHBvcHVwXzEzMTc2NDFkNDI0NDQ2NWE5ZDg2NThkYjdiODI3NDU5KTsKCiAgICAgICAgICAgIAogICAgICAgIAogICAgCiAgICAgICAgICAgIHZhciBjaXJjbGVfbWFya2VyXzZmNDUxZWY5OTY0NDQ5MDBiNDBiNzdkOTU3MTQwNGZlID0gTC5jaXJjbGVNYXJrZXIoCiAgICAgICAgICAgICAgICBbNTIuNDg2MTExLDEzLjM1NTU1Nl0sCiAgICAgICAgICAgICAgICB7CiAgImJ1YmJsaW5nTW91c2VFdmVudHMiOiB0cnVlLAogICJjb2xvciI6ICJibHVlIiwKICAiZGFzaEFycmF5IjogbnVsbCwKICAiZGFzaE9mZnNldCI6IG51bGwsCiAgImZpbGwiOiB0cnVlLAogICJmaWxsQ29sb3IiOiAiIzMxODZjYyIsCiAgImZpbGxPcGFjaXR5IjogMC43LAogICJmaWxsUnVsZSI6ICJldmVub2RkIiwKICAibGluZUNhcCI6ICJyb3VuZCIsCiAgImxpbmVKb2luIjogInJvdW5kIiwKICAib3BhY2l0eSI6IDEuMCwKICAicmFkaXVzIjogNSwKICAic3Ryb2tlIjogdHJ1ZSwKICAid2VpZ2h0IjogMwp9CiAgICAgICAgICAgICAgICApLmFkZFRvKG1hcF84ZTI4ZGNlNjVlN2I0ZmQ4YjlhY2YzNzc5OTEwZTNjYyk7CiAgICAgICAgICAgIAogICAgCiAgICAgICAgICAgIHZhciBwb3B1cF9kYTRiMzMyZWFhZTM0NGYyYjBkODc0YTdiN2Q5NTNkYyA9IEwucG9wdXAoe21heFdpZHRoOiAnMzAwJ30pOwoKICAgICAgICAgICAgCiAgICAgICAgICAgICAgICB2YXIgaHRtbF8wMjEwM2U1MmVhNTI0MDI0YTRiZDhjODQwOGU0OTRmNyA9ICQoJzxkaXYgaWQ9Imh0bWxfMDIxMDNlNTJlYTUyNDAyNGE0YmQ4Yzg0MDhlNDk0ZjciIHN0eWxlPSJ3aWR0aDogMTAwLjAlOyBoZWlnaHQ6IDEwMC4wJTsiPlNjaMO2bmViZXJnPC9kaXY+JylbMF07CiAgICAgICAgICAgICAgICBwb3B1cF9kYTRiMzMyZWFhZTM0NGYyYjBkODc0YTdiN2Q5NTNkYy5zZXRDb250ZW50KGh0bWxfMDIxMDNlNTJlYTUyNDAyNGE0YmQ4Yzg0MDhlNDk0ZjcpOwogICAgICAgICAgICAKCiAgICAgICAgICAgIGNpcmNsZV9tYXJrZXJfNmY0NTFlZjk5NjQ0NDkwMGI0MGI3N2Q5NTcxNDA0ZmUuYmluZFBvcHVwKHBvcHVwX2RhNGIzMzJlYWFlMzQ0ZjJiMGQ4NzRhN2I3ZDk1M2RjKTsKCiAgICAgICAgICAgIAogICAgICAgIAogICAgCiAgICAgICAgICAgIHZhciBjaXJjbGVfbWFya2VyX2EzOWMxNTM1YjBjNTQxNmE4Y2M0ZTMzYjI4MGNlOWUzID0gTC5jaXJjbGVNYXJrZXIoCiAgICAgICAgICAgICAgICBbNTIuNDcyMjIxOTk5OTk5OTk1LDEzLjMyOTcyMl0sCiAgICAgICAgICAgICAgICB7CiAgImJ1YmJsaW5nTW91c2VFdmVudHMiOiB0cnVlLAogICJjb2xvciI6ICJibHVlIiwKICAiZGFzaEFycmF5IjogbnVsbCwKICAiZGFzaE9mZnNldCI6IG51bGwsCiAgImZpbGwiOiB0cnVlLAogICJmaWxsQ29sb3IiOiAiIzMxODZjYyIsCiAgImZpbGxPcGFjaXR5IjogMC43LAogICJmaWxsUnVsZSI6ICJldmVub2RkIiwKICAibGluZUNhcCI6ICJyb3VuZCIsCiAgImxpbmVKb2luIjogInJvdW5kIiwKICAib3BhY2l0eSI6IDEuMCwKICAicmFkaXVzIjogNSwKICAic3Ryb2tlIjogdHJ1ZSwKICAid2VpZ2h0IjogMwp9CiAgICAgICAgICAgICAgICApLmFkZFRvKG1hcF84ZTI4ZGNlNjVlN2I0ZmQ4YjlhY2YzNzc5OTEwZTNjYyk7CiAgICAgICAgICAgIAogICAgCiAgICAgICAgICAgIHZhciBwb3B1cF8xNDg1NzRmNjBhNjE0ZjhiYjhmNmVmMTdmNDc1MzAwMSA9IEwucG9wdXAoe21heFdpZHRoOiAnMzAwJ30pOwoKICAgICAgICAgICAgCiAgICAgICAgICAgICAgICB2YXIgaHRtbF80NDNkNWQ1MmM3Nzc0ZDhmYWE5MzY5MzU4MTBkNjhkYSA9ICQoJzxkaXYgaWQ9Imh0bWxfNDQzZDVkNTJjNzc3NGQ4ZmFhOTM2OTM1ODEwZDY4ZGEiIHN0eWxlPSJ3aWR0aDogMTAwLjAlOyBoZWlnaHQ6IDEwMC4wJTsiPkZyaWVkZW5hdTwvZGl2PicpWzBdOwogICAgICAgICAgICAgICAgcG9wdXBfMTQ4NTc0ZjYwYTYxNGY4YmI4ZjZlZjE3ZjQ3NTMwMDEuc2V0Q29udGVudChodG1sXzQ0M2Q1ZDUyYzc3NzRkOGZhYTkzNjkzNTgxMGQ2OGRhKTsKICAgICAgICAgICAgCgogICAgICAgICAgICBjaXJjbGVfbWFya2VyX2EzOWMxNTM1YjBjNTQxNmE4Y2M0ZTMzYjI4MGNlOWUzLmJpbmRQb3B1cChwb3B1cF8xNDg1NzRmNjBhNjE0ZjhiYjhmNmVmMTdmNDc1MzAwMSk7CgogICAgICAgICAgICAKICAgICAgICAKICAgIAogICAgICAgICAgICB2YXIgY2lyY2xlX21hcmtlcl85YTBlNTUyMTRiYWU0Y2ZjYTllOGE3M2Y1YTlmZjFhMiA9IEwuY2lyY2xlTWFya2VyKAogICAgICAgICAgICAgICAgWzUyLjQ2NjY2NywxMy4zODMzMzI5OTk5OTk5OTldLAogICAgICAgICAgICAgICAgewogICJidWJibGluZ01vdXNlRXZlbnRzIjogdHJ1ZSwKICAiY29sb3IiOiAiYmx1ZSIsCiAgImRhc2hBcnJheSI6IG51bGwsCiAgImRhc2hPZmZzZXQiOiBudWxsLAogICJmaWxsIjogdHJ1ZSwKICAiZmlsbENvbG9yIjogIiMzMTg2Y2MiLAogICJmaWxsT3BhY2l0eSI6IDAuNywKICAiZmlsbFJ1bGUiOiAiZXZlbm9kZCIsCiAgImxpbmVDYXAiOiAicm91bmQiLAogICJsaW5lSm9pbiI6ICJyb3VuZCIsCiAgIm9wYWNpdHkiOiAxLjAsCiAgInJhZGl1cyI6IDUsCiAgInN0cm9rZSI6IHRydWUsCiAgIndlaWdodCI6IDMKfQogICAgICAgICAgICAgICAgKS5hZGRUbyhtYXBfOGUyOGRjZTY1ZTdiNGZkOGI5YWNmMzc3OTkxMGUzY2MpOwogICAgICAgICAgICAKICAgIAogICAgICAgICAgICB2YXIgcG9wdXBfZjVlNzk5MTU5MzkzNGZjNmExOWQ4MGU1MWMxYTIzMmQgPSBMLnBvcHVwKHttYXhXaWR0aDogJzMwMCd9KTsKCiAgICAgICAgICAgIAogICAgICAgICAgICAgICAgdmFyIGh0bWxfYWU2YTZkODhkZTFkNDYzMWJiMjg2MzcyM2QzMmRmZTkgPSAkKCc8ZGl2IGlkPSJodG1sX2FlNmE2ZDg4ZGUxZDQ2MzFiYjI4NjM3MjNkMzJkZmU5IiBzdHlsZT0id2lkdGg6IDEwMC4wJTsgaGVpZ2h0OiAxMDAuMCU7Ij5UZW1wZWxob2Y8L2Rpdj4nKVswXTsKICAgICAgICAgICAgICAgIHBvcHVwX2Y1ZTc5OTE1OTM5MzRmYzZhMTlkODBlNTFjMWEyMzJkLnNldENvbnRlbnQoaHRtbF9hZTZhNmQ4OGRlMWQ0NjMxYmIyODYzNzIzZDMyZGZlOSk7CiAgICAgICAgICAgIAoKICAgICAgICAgICAgY2lyY2xlX21hcmtlcl85YTBlNTUyMTRiYWU0Y2ZjYTllOGE3M2Y1YTlmZjFhMi5iaW5kUG9wdXAocG9wdXBfZjVlNzk5MTU5MzkzNGZjNmExOWQ4MGU1MWMxYTIzMmQpOwoKICAgICAgICAgICAgCiAgICAgICAgCiAgICAKICAgICAgICAgICAgdmFyIGNpcmNsZV9tYXJrZXJfM2MyMDJiMWQ3MGU3NDY5YThlMGE0OTM0NDYxYmY0NTMgPSBMLmNpcmNsZU1hcmtlcigKICAgICAgICAgICAgICAgIFs1Mi40MzMzMzMsMTMuMzY2NjY3MDAwMDAwMDAxXSwKICAgICAgICAgICAgICAgIHsKICAiYnViYmxpbmdNb3VzZUV2ZW50cyI6IHRydWUsCiAgImNvbG9yIjogImJsdWUiLAogICJkYXNoQXJyYXkiOiBudWxsLAogICJkYXNoT2Zmc2V0IjogbnVsbCwKICAiZmlsbCI6IHRydWUsCiAgImZpbGxDb2xvciI6ICIjMzE4NmNjIiwKICAiZmlsbE9wYWNpdHkiOiAwLjcsCiAgImZpbGxSdWxlIjogImV2ZW5vZGQiLAogICJsaW5lQ2FwIjogInJvdW5kIiwKICAibGluZUpvaW4iOiAicm91bmQiLAogICJvcGFjaXR5IjogMS4wLAogICJyYWRpdXMiOiA1LAogICJzdHJva2UiOiB0cnVlLAogICJ3ZWlnaHQiOiAzCn0KICAgICAgICAgICAgICAgICkuYWRkVG8obWFwXzhlMjhkY2U2NWU3YjRmZDhiOWFjZjM3Nzk5MTBlM2NjKTsKICAgICAgICAgICAgCiAgICAKICAgICAgICAgICAgdmFyIHBvcHVwXzIwZWY1NzJjYzc1NDQxMTI5NThlZTk2MmVjMzc4YmNhID0gTC5wb3B1cCh7bWF4V2lkdGg6ICczMDAnfSk7CgogICAgICAgICAgICAKICAgICAgICAgICAgICAgIHZhciBodG1sXzg3OTJjMTE2ODhmZDQwYWM4MmJlMzk3OTVkMjNlMjU2ID0gJCgnPGRpdiBpZD0iaHRtbF84NzkyYzExNjg4ZmQ0MGFjODJiZTM5Nzk1ZDIzZTI1NiIgc3R5bGU9IndpZHRoOiAxMDAuMCU7IGhlaWdodDogMTAwLjAlOyI+TWFyaWVuZG9yZjwvZGl2PicpWzBdOwogICAgICAgICAgICAgICAgcG9wdXBfMjBlZjU3MmNjNzU0NDExMjk1OGVlOTYyZWMzNzhiY2Euc2V0Q29udGVudChodG1sXzg3OTJjMTE2ODhmZDQwYWM4MmJlMzk3OTVkMjNlMjU2KTsKICAgICAgICAgICAgCgogICAgICAgICAgICBjaXJjbGVfbWFya2VyXzNjMjAyYjFkNzBlNzQ2OWE4ZTBhNDkzNDQ2MWJmNDUzLmJpbmRQb3B1cChwb3B1cF8yMGVmNTcyY2M3NTQ0MTEyOTU4ZWU5NjJlYzM3OGJjYSk7CgogICAgICAgICAgICAKICAgICAgICAKICAgIAogICAgICAgICAgICB2YXIgY2lyY2xlX21hcmtlcl8xODY3MTEwNzRkMzU0MDliYTUxMGM3ZDg1YTc2ODZjNCA9IEwuY2lyY2xlTWFya2VyKAogICAgICAgICAgICAgICAgWzUyLjQxNjY2NywxMy4zNjY2NjcwMDAwMDAwMDFdLAogICAgICAgICAgICAgICAgewogICJidWJibGluZ01vdXNlRXZlbnRzIjogdHJ1ZSwKICAiY29sb3IiOiAiYmx1ZSIsCiAgImRhc2hBcnJheSI6IG51bGwsCiAgImRhc2hPZmZzZXQiOiBudWxsLAogICJmaWxsIjogdHJ1ZSwKICAiZmlsbENvbG9yIjogIiMzMTg2Y2MiLAogICJmaWxsT3BhY2l0eSI6IDAuNywKICAiZmlsbFJ1bGUiOiAiZXZlbm9kZCIsCiAgImxpbmVDYXAiOiAicm91bmQiLAogICJsaW5lSm9pbiI6ICJyb3VuZCIsCiAgIm9wYWNpdHkiOiAxLjAsCiAgInJhZGl1cyI6IDUsCiAgInN0cm9rZSI6IHRydWUsCiAgIndlaWdodCI6IDMKfQogICAgICAgICAgICAgICAgKS5hZGRUbyhtYXBfOGUyOGRjZTY1ZTdiNGZkOGI5YWNmMzc3OTkxMGUzY2MpOwogICAgICAgICAgICAKICAgIAogICAgICAgICAgICB2YXIgcG9wdXBfMzFkNGE1MzAyNDQzNGI1OWJiYmFmNmI4OWQzMTk2NDIgPSBMLnBvcHVwKHttYXhXaWR0aDogJzMwMCd9KTsKCiAgICAgICAgICAgIAogICAgICAgICAgICAgICAgdmFyIGh0bWxfMzcxMWE5ZWFiYzY4NGE2YjljZDU4ZjBhZTU2OTNiMmIgPSAkKCc8ZGl2IGlkPSJodG1sXzM3MTFhOWVhYmM2ODRhNmI5Y2Q1OGYwYWU1NjkzYjJiIiBzdHlsZT0id2lkdGg6IDEwMC4wJTsgaGVpZ2h0OiAxMDAuMCU7Ij5NYXJpZW5mZWxkZTwvZGl2PicpWzBdOwogICAgICAgICAgICAgICAgcG9wdXBfMzFkNGE1MzAyNDQzNGI1OWJiYmFmNmI4OWQzMTk2NDIuc2V0Q29udGVudChodG1sXzM3MTFhOWVhYmM2ODRhNmI5Y2Q1OGYwYWU1NjkzYjJiKTsKICAgICAgICAgICAgCgogICAgICAgICAgICBjaXJjbGVfbWFya2VyXzE4NjcxMTA3NGQzNTQwOWJhNTEwYzdkODVhNzY4NmM0LmJpbmRQb3B1cChwb3B1cF8zMWQ0YTUzMDI0NDM0YjU5YmJiYWY2Yjg5ZDMxOTY0Mik7CgogICAgICAgICAgICAKICAgICAgICAKICAgIAogICAgICAgICAgICB2YXIgY2lyY2xlX21hcmtlcl9lYjBhMjcyZjI5NTM0MDY1ODM3MWQ3Nzc3MTRiMmVkYiA9IEwuY2lyY2xlTWFya2VyKAogICAgICAgICAgICAgICAgWzUyLjQsMTMuNF0sCiAgICAgICAgICAgICAgICB7CiAgImJ1YmJsaW5nTW91c2VFdmVudHMiOiB0cnVlLAogICJjb2xvciI6ICJibHVlIiwKICAiZGFzaEFycmF5IjogbnVsbCwKICAiZGFzaE9mZnNldCI6IG51bGwsCiAgImZpbGwiOiB0cnVlLAogICJmaWxsQ29sb3IiOiAiIzMxODZjYyIsCiAgImZpbGxPcGFjaXR5IjogMC43LAogICJmaWxsUnVsZSI6ICJldmVub2RkIiwKICAibGluZUNhcCI6ICJyb3VuZCIsCiAgImxpbmVKb2luIjogInJvdW5kIiwKICAib3BhY2l0eSI6IDEuMCwKICAicmFkaXVzIjogNSwKICAic3Ryb2tlIjogdHJ1ZSwKICAid2VpZ2h0IjogMwp9CiAgICAgICAgICAgICAgICApLmFkZFRvKG1hcF84ZTI4ZGNlNjVlN2I0ZmQ4YjlhY2YzNzc5OTEwZTNjYyk7CiAgICAgICAgICAgIAogICAgCiAgICAgICAgICAgIHZhciBwb3B1cF8yMDZhNjA0ZDM5ZmI0ZWM0OGJmYTBkNzQ5OTQ0NTFlMiA9IEwucG9wdXAoe21heFdpZHRoOiAnMzAwJ30pOwoKICAgICAgICAgICAgCiAgICAgICAgICAgICAgICB2YXIgaHRtbF9hM2NlNjQwMjZjYjk0N2FlOGQ0ZmVhYWUzNTFkYjMzMSA9ICQoJzxkaXYgaWQ9Imh0bWxfYTNjZTY0MDI2Y2I5NDdhZThkNGZlYWFlMzUxZGIzMzEiIHN0eWxlPSJ3aWR0aDogMTAwLjAlOyBoZWlnaHQ6IDEwMC4wJTsiPkxpY2h0ZW5yYWRlPC9kaXY+JylbMF07CiAgICAgICAgICAgICAgICBwb3B1cF8yMDZhNjA0ZDM5ZmI0ZWM0OGJmYTBkNzQ5OTQ0NTFlMi5zZXRDb250ZW50KGh0bWxfYTNjZTY0MDI2Y2I5NDdhZThkNGZlYWFlMzUxZGIzMzEpOwogICAgICAgICAgICAKCiAgICAgICAgICAgIGNpcmNsZV9tYXJrZXJfZWIwYTI3MmYyOTUzNDA2NTgzNzFkNzc3NzE0YjJlZGIuYmluZFBvcHVwKHBvcHVwXzIwNmE2MDRkMzlmYjRlYzQ4YmZhMGQ3NDk5NDQ1MWUyKTsKCiAgICAgICAgICAgIAogICAgICAgIAogICAgCiAgICAgICAgICAgIHZhciBjaXJjbGVfbWFya2VyXzE5YTYxNGI2YTgxODRlNjA4YTliMGRlYjY3M2E4Mjk3ID0gTC5jaXJjbGVNYXJrZXIoCiAgICAgICAgICAgICAgICBbNTIuNDgxMzg5LDEzLjQzNTI3OF0sCiAgICAgICAgICAgICAgICB7CiAgImJ1YmJsaW5nTW91c2VFdmVudHMiOiB0cnVlLAogICJjb2xvciI6ICJibHVlIiwKICAiZGFzaEFycmF5IjogbnVsbCwKICAiZGFzaE9mZnNldCI6IG51bGwsCiAgImZpbGwiOiB0cnVlLAogICJmaWxsQ29sb3IiOiAiIzMxODZjYyIsCiAgImZpbGxPcGFjaXR5IjogMC43LAogICJmaWxsUnVsZSI6ICJldmVub2RkIiwKICAibGluZUNhcCI6ICJyb3VuZCIsCiAgImxpbmVKb2luIjogInJvdW5kIiwKICAib3BhY2l0eSI6IDEuMCwKICAicmFkaXVzIjogNSwKICAic3Ryb2tlIjogdHJ1ZSwKICAid2VpZ2h0IjogMwp9CiAgICAgICAgICAgICAgICApLmFkZFRvKG1hcF84ZTI4ZGNlNjVlN2I0ZmQ4YjlhY2YzNzc5OTEwZTNjYyk7CiAgICAgICAgICAgIAogICAgCiAgICAgICAgICAgIHZhciBwb3B1cF8wZTBhZjYwM2YwZDk0ZTY3YjliMDgyNmE0ODE1ZTVjNSA9IEwucG9wdXAoe21heFdpZHRoOiAnMzAwJ30pOwoKICAgICAgICAgICAgCiAgICAgICAgICAgICAgICB2YXIgaHRtbF9lMDM3OTNkZGZlMTQ0ZDJlYTE3NDE2ZTM2Y2Q2NzRmYyA9ICQoJzxkaXYgaWQ9Imh0bWxfZTAzNzkzZGRmZTE0NGQyZWExNzQxNmUzNmNkNjc0ZmMiIHN0eWxlPSJ3aWR0aDogMTAwLjAlOyBoZWlnaHQ6IDEwMC4wJTsiPk5ldWvDtmxsbjwvZGl2PicpWzBdOwogICAgICAgICAgICAgICAgcG9wdXBfMGUwYWY2MDNmMGQ5NGU2N2I5YjA4MjZhNDgxNWU1YzUuc2V0Q29udGVudChodG1sX2UwMzc5M2RkZmUxNDRkMmVhMTc0MTZlMzZjZDY3NGZjKTsKICAgICAgICAgICAgCgogICAgICAgICAgICBjaXJjbGVfbWFya2VyXzE5YTYxNGI2YTgxODRlNjA4YTliMGRlYjY3M2E4Mjk3LmJpbmRQb3B1cChwb3B1cF8wZTBhZjYwM2YwZDk0ZTY3YjliMDgyNmE0ODE1ZTVjNSk7CgogICAgICAgICAgICAKICAgICAgICAKICAgIAogICAgICAgICAgICB2YXIgY2lyY2xlX21hcmtlcl9lZWQ5MmRjZDRkZGM0OTY3OWNkMDg2ZTE0NzAyYmUwNyA9IEwuY2lyY2xlTWFya2VyKAogICAgICAgICAgICAgICAgWzUyLjQ1LDEzLjQzMzMzM10sCiAgICAgICAgICAgICAgICB7CiAgImJ1YmJsaW5nTW91c2VFdmVudHMiOiB0cnVlLAogICJjb2xvciI6ICJibHVlIiwKICAiZGFzaEFycmF5IjogbnVsbCwKICAiZGFzaE9mZnNldCI6IG51bGwsCiAgImZpbGwiOiB0cnVlLAogICJmaWxsQ29sb3IiOiAiIzMxODZjYyIsCiAgImZpbGxPcGFjaXR5IjogMC43LAogICJmaWxsUnVsZSI6ICJldmVub2RkIiwKICAibGluZUNhcCI6ICJyb3VuZCIsCiAgImxpbmVKb2luIjogInJvdW5kIiwKICAib3BhY2l0eSI6IDEuMCwKICAicmFkaXVzIjogNSwKICAic3Ryb2tlIjogdHJ1ZSwKICAid2VpZ2h0IjogMwp9CiAgICAgICAgICAgICAgICApLmFkZFRvKG1hcF84ZTI4ZGNlNjVlN2I0ZmQ4YjlhY2YzNzc5OTEwZTNjYyk7CiAgICAgICAgICAgIAogICAgCiAgICAgICAgICAgIHZhciBwb3B1cF9kMDcwZTZlNjIxM2Y0OTg1ODFkZDc5NTBiM2E3MDRiZSA9IEwucG9wdXAoe21heFdpZHRoOiAnMzAwJ30pOwoKICAgICAgICAgICAgCiAgICAgICAgICAgICAgICB2YXIgaHRtbF9iMDBkMmJhMmZhZmQ0NjM5YThjYzQ0OTg0ZThkNmJhMyA9ICQoJzxkaXYgaWQ9Imh0bWxfYjAwZDJiYTJmYWZkNDYzOWE4Y2M0NDk4NGU4ZDZiYTMiIHN0eWxlPSJ3aWR0aDogMTAwLjAlOyBoZWlnaHQ6IDEwMC4wJTsiPkJyaXR6PC9kaXY+JylbMF07CiAgICAgICAgICAgICAgICBwb3B1cF9kMDcwZTZlNjIxM2Y0OTg1ODFkZDc5NTBiM2E3MDRiZS5zZXRDb250ZW50KGh0bWxfYjAwZDJiYTJmYWZkNDYzOWE4Y2M0NDk4NGU4ZDZiYTMpOwogICAgICAgICAgICAKCiAgICAgICAgICAgIGNpcmNsZV9tYXJrZXJfZWVkOTJkY2Q0ZGRjNDk2NzljZDA4NmUxNDcwMmJlMDcuYmluZFBvcHVwKHBvcHVwX2QwNzBlNmU2MjEzZjQ5ODU4MWRkNzk1MGIzYTcwNGJlKTsKCiAgICAgICAgICAgIAogICAgICAgIAogICAgCiAgICAgICAgICAgIHZhciBjaXJjbGVfbWFya2VyXzE1YTJiMDhmYTA0YTRmNTNiOGMxYjJhNmE1MjhkZDk4ID0gTC5jaXJjbGVNYXJrZXIoCiAgICAgICAgICAgICAgICBbNTIuNDMxOTQzOTk5OTk5OTk0LDEzLjQ2MTY2NzAwMDAwMDAwMl0sCiAgICAgICAgICAgICAgICB7CiAgImJ1YmJsaW5nTW91c2VFdmVudHMiOiB0cnVlLAogICJjb2xvciI6ICJibHVlIiwKICAiZGFzaEFycmF5IjogbnVsbCwKICAiZGFzaE9mZnNldCI6IG51bGwsCiAgImZpbGwiOiB0cnVlLAogICJmaWxsQ29sb3IiOiAiIzMxODZjYyIsCiAgImZpbGxPcGFjaXR5IjogMC43LAogICJmaWxsUnVsZSI6ICJldmVub2RkIiwKICAibGluZUNhcCI6ICJyb3VuZCIsCiAgImxpbmVKb2luIjogInJvdW5kIiwKICAib3BhY2l0eSI6IDEuMCwKICAicmFkaXVzIjogNSwKICAic3Ryb2tlIjogdHJ1ZSwKICAid2VpZ2h0IjogMwp9CiAgICAgICAgICAgICAgICApLmFkZFRvKG1hcF84ZTI4ZGNlNjVlN2I0ZmQ4YjlhY2YzNzc5OTEwZTNjYyk7CiAgICAgICAgICAgIAogICAgCiAgICAgICAgICAgIHZhciBwb3B1cF84ZmNhNGMxNzBiZjI0OTgxYjZkNDBhY2FkYWY3ZjNkNyA9IEwucG9wdXAoe21heFdpZHRoOiAnMzAwJ30pOwoKICAgICAgICAgICAgCiAgICAgICAgICAgICAgICB2YXIgaHRtbF8wYTllODg0MzNiNDk0ZmNhOWQ2YTZhYTg1ZDFlOTQ0NiA9ICQoJzxkaXYgaWQ9Imh0bWxfMGE5ZTg4NDMzYjQ5NGZjYTlkNmE2YWE4NWQxZTk0NDYiIHN0eWxlPSJ3aWR0aDogMTAwLjAlOyBoZWlnaHQ6IDEwMC4wJTsiPkJ1Y2tvdzwvZGl2PicpWzBdOwogICAgICAgICAgICAgICAgcG9wdXBfOGZjYTRjMTcwYmYyNDk4MWI2ZDQwYWNhZGFmN2YzZDcuc2V0Q29udGVudChodG1sXzBhOWU4ODQzM2I0OTRmY2E5ZDZhNmFhODVkMWU5NDQ2KTsKICAgICAgICAgICAgCgogICAgICAgICAgICBjaXJjbGVfbWFya2VyXzE1YTJiMDhmYTA0YTRmNTNiOGMxYjJhNmE1MjhkZDk4LmJpbmRQb3B1cChwb3B1cF84ZmNhNGMxNzBiZjI0OTgxYjZkNDBhY2FkYWY3ZjNkNyk7CgogICAgICAgICAgICAKICAgICAgICAKICAgIAogICAgICAgICAgICB2YXIgY2lyY2xlX21hcmtlcl9kMTJiYWZiY2ZiYzQ0MmE1ODEyYzY0NjVlZDZkNzdlNyA9IEwuY2lyY2xlTWFya2VyKAogICAgICAgICAgICAgICAgWzUyLjQxNjY2NywxMy41XSwKICAgICAgICAgICAgICAgIHsKICAiYnViYmxpbmdNb3VzZUV2ZW50cyI6IHRydWUsCiAgImNvbG9yIjogImJsdWUiLAogICJkYXNoQXJyYXkiOiBudWxsLAogICJkYXNoT2Zmc2V0IjogbnVsbCwKICAiZmlsbCI6IHRydWUsCiAgImZpbGxDb2xvciI6ICIjMzE4NmNjIiwKICAiZmlsbE9wYWNpdHkiOiAwLjcsCiAgImZpbGxSdWxlIjogImV2ZW5vZGQiLAogICJsaW5lQ2FwIjogInJvdW5kIiwKICAibGluZUpvaW4iOiAicm91bmQiLAogICJvcGFjaXR5IjogMS4wLAogICJyYWRpdXMiOiA1LAogICJzdHJva2UiOiB0cnVlLAogICJ3ZWlnaHQiOiAzCn0KICAgICAgICAgICAgICAgICkuYWRkVG8obWFwXzhlMjhkY2U2NWU3YjRmZDhiOWFjZjM3Nzk5MTBlM2NjKTsKICAgICAgICAgICAgCiAgICAKICAgICAgICAgICAgdmFyIHBvcHVwX2YzYjlhYTEwMWQ2ZjRlOWE4YWYyN2U3ZDZiMWI3MGJiID0gTC5wb3B1cCh7bWF4V2lkdGg6ICczMDAnfSk7CgogICAgICAgICAgICAKICAgICAgICAgICAgICAgIHZhciBodG1sX2MyODFkNzczZmViZjRlOTk4NjI3N2ZhZWRjM2JhOGRjID0gJCgnPGRpdiBpZD0iaHRtbF9jMjgxZDc3M2ZlYmY0ZTk5ODYyNzdmYWVkYzNiYThkYyIgc3R5bGU9IndpZHRoOiAxMDAuMCU7IGhlaWdodDogMTAwLjAlOyI+UnVkb3c8L2Rpdj4nKVswXTsKICAgICAgICAgICAgICAgIHBvcHVwX2YzYjlhYTEwMWQ2ZjRlOWE4YWYyN2U3ZDZiMWI3MGJiLnNldENvbnRlbnQoaHRtbF9jMjgxZDc3M2ZlYmY0ZTk5ODYyNzdmYWVkYzNiYThkYyk7CiAgICAgICAgICAgIAoKICAgICAgICAgICAgY2lyY2xlX21hcmtlcl9kMTJiYWZiY2ZiYzQ0MmE1ODEyYzY0NjVlZDZkNzdlNy5iaW5kUG9wdXAocG9wdXBfZjNiOWFhMTAxZDZmNGU5YThhZjI3ZTdkNmIxYjcwYmIpOwoKICAgICAgICAgICAgCiAgICAgICAgCiAgICAKICAgICAgICAgICAgdmFyIGNpcmNsZV9tYXJrZXJfYjA3NzMwOWJmNmQwNGMyYTg2NjExN2NjZWIxYjM2NjkgPSBMLmNpcmNsZU1hcmtlcigKICAgICAgICAgICAgICAgIFs1Mi40MjU4MzMwMDAwMDAwMDQsMTMuNDYxMzg5MDAwMDAwMDAyXSwKICAgICAgICAgICAgICAgIHsKICAiYnViYmxpbmdNb3VzZUV2ZW50cyI6IHRydWUsCiAgImNvbG9yIjogImJsdWUiLAogICJkYXNoQXJyYXkiOiBudWxsLAogICJkYXNoT2Zmc2V0IjogbnVsbCwKICAiZmlsbCI6IHRydWUsCiAgImZpbGxDb2xvciI6ICIjMzE4NmNjIiwKICAiZmlsbE9wYWNpdHkiOiAwLjcsCiAgImZpbGxSdWxlIjogImV2ZW5vZGQiLAogICJsaW5lQ2FwIjogInJvdW5kIiwKICAibGluZUpvaW4iOiAicm91bmQiLAogICJvcGFjaXR5IjogMS4wLAogICJyYWRpdXMiOiA1LAogICJzdHJva2UiOiB0cnVlLAogICJ3ZWlnaHQiOiAzCn0KICAgICAgICAgICAgICAgICkuYWRkVG8obWFwXzhlMjhkY2U2NWU3YjRmZDhiOWFjZjM3Nzk5MTBlM2NjKTsKICAgICAgICAgICAgCiAgICAKICAgICAgICAgICAgdmFyIHBvcHVwXzgyZmNhZDgyMjZkMjQzZDhhNjQyZGQ4NGRmZTlhMTkwID0gTC5wb3B1cCh7bWF4V2lkdGg6ICczMDAnfSk7CgogICAgICAgICAgICAKICAgICAgICAgICAgICAgIHZhciBodG1sXzY2Y2M2MWE0ZTE3MDRlNjhiNmM2ZmZhNDllNjUzNThmID0gJCgnPGRpdiBpZD0iaHRtbF82NmNjNjFhNGUxNzA0ZTY4YjZjNmZmYTQ5ZTY1MzU4ZiIgc3R5bGU9IndpZHRoOiAxMDAuMCU7IGhlaWdodDogMTAwLjAlOyI+R3JvcGl1c3N0YWR0PC9kaXY+JylbMF07CiAgICAgICAgICAgICAgICBwb3B1cF84MmZjYWQ4MjI2ZDI0M2Q4YTY0MmRkODRkZmU5YTE5MC5zZXRDb250ZW50KGh0bWxfNjZjYzYxYTRlMTcwNGU2OGI2YzZmZmE0OWU2NTM1OGYpOwogICAgICAgICAgICAKCiAgICAgICAgICAgIGNpcmNsZV9tYXJrZXJfYjA3NzMwOWJmNmQwNGMyYTg2NjExN2NjZWIxYjM2NjkuYmluZFBvcHVwKHBvcHVwXzgyZmNhZDgyMjZkMjQzZDhhNjQyZGQ4NGRmZTlhMTkwKTsKCiAgICAgICAgICAgIAogICAgICAgIAogICAgCiAgICAgICAgICAgIHZhciBjaXJjbGVfbWFya2VyX2VkMThiMjE0NjZiNjQ2MTlhNzI4ZTEzMjI0N2RhYjczID0gTC5jaXJjbGVNYXJrZXIoCiAgICAgICAgICAgICAgICBbNTIuNDksMTMuNDQ5NDQ0XSwKICAgICAgICAgICAgICAgIHsKICAiYnViYmxpbmdNb3VzZUV2ZW50cyI6IHRydWUsCiAgImNvbG9yIjogImJsdWUiLAogICJkYXNoQXJyYXkiOiBudWxsLAogICJkYXNoT2Zmc2V0IjogbnVsbCwKICAiZmlsbCI6IHRydWUsCiAgImZpbGxDb2xvciI6ICIjMzE4NmNjIiwKICAiZmlsbE9wYWNpdHkiOiAwLjcsCiAgImZpbGxSdWxlIjogImV2ZW5vZGQiLAogICJsaW5lQ2FwIjogInJvdW5kIiwKICAibGluZUpvaW4iOiAicm91bmQiLAogICJvcGFjaXR5IjogMS4wLAogICJyYWRpdXMiOiA1LAogICJzdHJva2UiOiB0cnVlLAogICJ3ZWlnaHQiOiAzCn0KICAgICAgICAgICAgICAgICkuYWRkVG8obWFwXzhlMjhkY2U2NWU3YjRmZDhiOWFjZjM3Nzk5MTBlM2NjKTsKICAgICAgICAgICAgCiAgICAKICAgICAgICAgICAgdmFyIHBvcHVwXzlkYTY4MTc1ZjU2MDQzZDVhNWEyZDllYzM5ODM3YWQxID0gTC5wb3B1cCh7bWF4V2lkdGg6ICczMDAnfSk7CgogICAgICAgICAgICAKICAgICAgICAgICAgICAgIHZhciBodG1sX2FkNjIxMzk0NTdkMTQwMGJiNDQ0ODRiN2RjNmM4YjUzID0gJCgnPGRpdiBpZD0iaHRtbF9hZDYyMTM5NDU3ZDE0MDBiYjQ0NDg0YjdkYzZjOGI1MyIgc3R5bGU9IndpZHRoOiAxMDAuMCU7IGhlaWdodDogMTAwLjAlOyI+QWx0LVRyZXB0b3c8L2Rpdj4nKVswXTsKICAgICAgICAgICAgICAgIHBvcHVwXzlkYTY4MTc1ZjU2MDQzZDVhNWEyZDllYzM5ODM3YWQxLnNldENvbnRlbnQoaHRtbF9hZDYyMTM5NDU3ZDE0MDBiYjQ0NDg0YjdkYzZjOGI1Myk7CiAgICAgICAgICAgIAoKICAgICAgICAgICAgY2lyY2xlX21hcmtlcl9lZDE4YjIxNDY2YjY0NjE5YTcyOGUxMzIyNDdkYWI3My5iaW5kUG9wdXAocG9wdXBfOWRhNjgxNzVmNTYwNDNkNWE1YTJkOWVjMzk4MzdhZDEpOwoKICAgICAgICAgICAgCiAgICAgICAgCiAgICAKICAgICAgICAgICAgdmFyIGNpcmNsZV9tYXJrZXJfOWNjNDE2Y2RkZDM4NGM4Yjg0ZWJhMTM2NjRkZjVjODUgPSBMLmNpcmNsZU1hcmtlcigKICAgICAgICAgICAgICAgIFs1Mi40Nzk3MjE5OTk5OTk5OTUsMTMuNDc1Mjc4XSwKICAgICAgICAgICAgICAgIHsKICAiYnViYmxpbmdNb3VzZUV2ZW50cyI6IHRydWUsCiAgImNvbG9yIjogImJsdWUiLAogICJkYXNoQXJyYXkiOiBudWxsLAogICJkYXNoT2Zmc2V0IjogbnVsbCwKICAiZmlsbCI6IHRydWUsCiAgImZpbGxDb2xvciI6ICIjMzE4NmNjIiwKICAiZmlsbE9wYWNpdHkiOiAwLjcsCiAgImZpbGxSdWxlIjogImV2ZW5vZGQiLAogICJsaW5lQ2FwIjogInJvdW5kIiwKICAibGluZUpvaW4iOiAicm91bmQiLAogICJvcGFjaXR5IjogMS4wLAogICJyYWRpdXMiOiA1LAogICJzdHJva2UiOiB0cnVlLAogICJ3ZWlnaHQiOiAzCn0KICAgICAgICAgICAgICAgICkuYWRkVG8obWFwXzhlMjhkY2U2NWU3YjRmZDhiOWFjZjM3Nzk5MTBlM2NjKTsKICAgICAgICAgICAgCiAgICAKICAgICAgICAgICAgdmFyIHBvcHVwX2U1MzMxMWMxYzAyNjRiYjBiZDFkODE4ZjQ1NTBjNGU3ID0gTC5wb3B1cCh7bWF4V2lkdGg6ICczMDAnfSk7CgogICAgICAgICAgICAKICAgICAgICAgICAgICAgIHZhciBodG1sXzYxMjlhNGZkYjYyYzQwZDlhZDY4YTFkNzZjMDZkYTU2ID0gJCgnPGRpdiBpZD0iaHRtbF82MTI5YTRmZGI2MmM0MGQ5YWQ2OGExZDc2YzA2ZGE1NiIgc3R5bGU9IndpZHRoOiAxMDAuMCU7IGhlaWdodDogMTAwLjAlOyI+UGzDpG50ZXJ3YWxkPC9kaXY+JylbMF07CiAgICAgICAgICAgICAgICBwb3B1cF9lNTMzMTFjMWMwMjY0YmIwYmQxZDgxOGY0NTUwYzRlNy5zZXRDb250ZW50KGh0bWxfNjEyOWE0ZmRiNjJjNDBkOWFkNjhhMWQ3NmMwNmRhNTYpOwogICAgICAgICAgICAKCiAgICAgICAgICAgIGNpcmNsZV9tYXJrZXJfOWNjNDE2Y2RkZDM4NGM4Yjg0ZWJhMTM2NjRkZjVjODUuYmluZFBvcHVwKHBvcHVwX2U1MzMxMWMxYzAyNjRiYjBiZDFkODE4ZjQ1NTBjNGU3KTsKCiAgICAgICAgICAgIAogICAgICAgIAogICAgCiAgICAgICAgICAgIHZhciBjaXJjbGVfbWFya2VyXzcwM2FiYjJlYTdhNjQxNDA5NjM4OTRlN2ZhMTc2MmU4ID0gTC5jaXJjbGVNYXJrZXIoCiAgICAgICAgICAgICAgICBbNTIuNDY1LDEzLjQ4NjExMV0sCiAgICAgICAgICAgICAgICB7CiAgImJ1YmJsaW5nTW91c2VFdmVudHMiOiB0cnVlLAogICJjb2xvciI6ICJibHVlIiwKICAiZGFzaEFycmF5IjogbnVsbCwKICAiZGFzaE9mZnNldCI6IG51bGwsCiAgImZpbGwiOiB0cnVlLAogICJmaWxsQ29sb3IiOiAiIzMxODZjYyIsCiAgImZpbGxPcGFjaXR5IjogMC43LAogICJmaWxsUnVsZSI6ICJldmVub2RkIiwKICAibGluZUNhcCI6ICJyb3VuZCIsCiAgImxpbmVKb2luIjogInJvdW5kIiwKICAib3BhY2l0eSI6IDEuMCwKICAicmFkaXVzIjogNSwKICAic3Ryb2tlIjogdHJ1ZSwKICAid2VpZ2h0IjogMwp9CiAgICAgICAgICAgICAgICApLmFkZFRvKG1hcF84ZTI4ZGNlNjVlN2I0ZmQ4YjlhY2YzNzc5OTEwZTNjYyk7CiAgICAgICAgICAgIAogICAgCiAgICAgICAgICAgIHZhciBwb3B1cF8yOWE4Y2ViNzhlZGQ0MmIxYWI3OTUyYjMwNjExYWQyOCA9IEwucG9wdXAoe21heFdpZHRoOiAnMzAwJ30pOwoKICAgICAgICAgICAgCiAgICAgICAgICAgICAgICB2YXIgaHRtbF81NTFmYTI2MGIyNTg0ZWE5OWZmYjQyMGRmOTgxNTlhMyA9ICQoJzxkaXYgaWQ9Imh0bWxfNTUxZmEyNjBiMjU4NGVhOTlmZmI0MjBkZjk4MTU5YTMiIHN0eWxlPSJ3aWR0aDogMTAwLjAlOyBoZWlnaHQ6IDEwMC4wJTsiPkJhdW1zY2h1bGVud2VnPC9kaXY+JylbMF07CiAgICAgICAgICAgICAgICBwb3B1cF8yOWE4Y2ViNzhlZGQ0MmIxYWI3OTUyYjMwNjExYWQyOC5zZXRDb250ZW50KGh0bWxfNTUxZmEyNjBiMjU4NGVhOTlmZmI0MjBkZjk4MTU5YTMpOwogICAgICAgICAgICAKCiAgICAgICAgICAgIGNpcmNsZV9tYXJrZXJfNzAzYWJiMmVhN2E2NDE0MDk2Mzg5NGU3ZmExNzYyZTguYmluZFBvcHVwKHBvcHVwXzI5YThjZWI3OGVkZDQyYjFhYjc5NTJiMzA2MTFhZDI4KTsKCiAgICAgICAgICAgIAogICAgICAgIAogICAgCiAgICAgICAgICAgIHZhciBjaXJjbGVfbWFya2VyXzg0NmI0ZDZlZWFhYzRhNjU5YmI0NDIwOTA0OWJjMDQ1ID0gTC5jaXJjbGVNYXJrZXIoCiAgICAgICAgICAgICAgICBbNTIuNDQzMzMyOTk5OTk5OTk2LDEzLjUwMjIyMl0sCiAgICAgICAgICAgICAgICB7CiAgImJ1YmJsaW5nTW91c2VFdmVudHMiOiB0cnVlLAogICJjb2xvciI6ICJibHVlIiwKICAiZGFzaEFycmF5IjogbnVsbCwKICAiZGFzaE9mZnNldCI6IG51bGwsCiAgImZpbGwiOiB0cnVlLAogICJmaWxsQ29sb3IiOiAiIzMxODZjYyIsCiAgImZpbGxPcGFjaXR5IjogMC43LAogICJmaWxsUnVsZSI6ICJldmVub2RkIiwKICAibGluZUNhcCI6ICJyb3VuZCIsCiAgImxpbmVKb2luIjogInJvdW5kIiwKICAib3BhY2l0eSI6IDEuMCwKICAicmFkaXVzIjogNSwKICAic3Ryb2tlIjogdHJ1ZSwKICAid2VpZ2h0IjogMwp9CiAgICAgICAgICAgICAgICApLmFkZFRvKG1hcF84ZTI4ZGNlNjVlN2I0ZmQ4YjlhY2YzNzc5OTEwZTNjYyk7CiAgICAgICAgICAgIAogICAgCiAgICAgICAgICAgIHZhciBwb3B1cF8wMTkxMTc0NTY0MTI0ZGQ0OTNkOGRiMTVmNmJmOWExZSA9IEwucG9wdXAoe21heFdpZHRoOiAnMzAwJ30pOwoKICAgICAgICAgICAgCiAgICAgICAgICAgICAgICB2YXIgaHRtbF9mZmU2YjE4NmRhMWM0M2MwYTBjNzdhZGI3YjI3NjZlMiA9ICQoJzxkaXYgaWQ9Imh0bWxfZmZlNmIxODZkYTFjNDNjMGEwYzc3YWRiN2IyNzY2ZTIiIHN0eWxlPSJ3aWR0aDogMTAwLjAlOyBoZWlnaHQ6IDEwMC4wJTsiPkpvaGFubmlzdGhhbDwvZGl2PicpWzBdOwogICAgICAgICAgICAgICAgcG9wdXBfMDE5MTE3NDU2NDEyNGRkNDkzZDhkYjE1ZjZiZjlhMWUuc2V0Q29udGVudChodG1sX2ZmZTZiMTg2ZGExYzQzYzBhMGM3N2FkYjdiMjc2NmUyKTsKICAgICAgICAgICAgCgogICAgICAgICAgICBjaXJjbGVfbWFya2VyXzg0NmI0ZDZlZWFhYzRhNjU5YmI0NDIwOTA0OWJjMDQ1LmJpbmRQb3B1cChwb3B1cF8wMTkxMTc0NTY0MTI0ZGQ0OTNkOGRiMTVmNmJmOWExZSk7CgogICAgICAgICAgICAKICAgICAgICAKICAgIAogICAgICAgICAgICB2YXIgY2lyY2xlX21hcmtlcl82Yjk5OGNlMDE5YTc0ZTJkOGE5ZGFlNTAwZTU4MDY1NSA9IEwuY2lyY2xlTWFya2VyKAogICAgICAgICAgICAgICAgWzUyLjQ1NjExMSwxMy41MTMwNTZdLAogICAgICAgICAgICAgICAgewogICJidWJibGluZ01vdXNlRXZlbnRzIjogdHJ1ZSwKICAiY29sb3IiOiAiYmx1ZSIsCiAgImRhc2hBcnJheSI6IG51bGwsCiAgImRhc2hPZmZzZXQiOiBudWxsLAogICJmaWxsIjogdHJ1ZSwKICAiZmlsbENvbG9yIjogIiMzMTg2Y2MiLAogICJmaWxsT3BhY2l0eSI6IDAuNywKICAiZmlsbFJ1bGUiOiAiZXZlbm9kZCIsCiAgImxpbmVDYXAiOiAicm91bmQiLAogICJsaW5lSm9pbiI6ICJyb3VuZCIsCiAgIm9wYWNpdHkiOiAxLjAsCiAgInJhZGl1cyI6IDUsCiAgInN0cm9rZSI6IHRydWUsCiAgIndlaWdodCI6IDMKfQogICAgICAgICAgICAgICAgKS5hZGRUbyhtYXBfOGUyOGRjZTY1ZTdiNGZkOGI5YWNmMzc3OTkxMGUzY2MpOwogICAgICAgICAgICAKICAgIAogICAgICAgICAgICB2YXIgcG9wdXBfNTk1YzcwZmU1OTRjNGM4MTkwNDAzNDNjMzY4YTliOTUgPSBMLnBvcHVwKHttYXhXaWR0aDogJzMwMCd9KTsKCiAgICAgICAgICAgIAogICAgICAgICAgICAgICAgdmFyIGh0bWxfZjllN2M4YmJjOWMxNDFlNDhiNWVlODNkZTI0YTRlZWMgPSAkKCc8ZGl2IGlkPSJodG1sX2Y5ZTdjOGJiYzljMTQxZTQ4YjVlZTgzZGUyNGE0ZWVjIiBzdHlsZT0id2lkdGg6IDEwMC4wJTsgaGVpZ2h0OiAxMDAuMCU7Ij5OaWVkZXJzY2jDtm5ld2VpZGU8L2Rpdj4nKVswXTsKICAgICAgICAgICAgICAgIHBvcHVwXzU5NWM3MGZlNTk0YzRjODE5MDQwMzQzYzM2OGE5Yjk1LnNldENvbnRlbnQoaHRtbF9mOWU3YzhiYmM5YzE0MWU0OGI1ZWU4M2RlMjRhNGVlYyk7CiAgICAgICAgICAgIAoKICAgICAgICAgICAgY2lyY2xlX21hcmtlcl82Yjk5OGNlMDE5YTc0ZTJkOGE5ZGFlNTAwZTU4MDY1NS5iaW5kUG9wdXAocG9wdXBfNTk1YzcwZmU1OTRjNGM4MTkwNDAzNDNjMzY4YTliOTUpOwoKICAgICAgICAgICAgCiAgICAgICAgCiAgICAKICAgICAgICAgICAgdmFyIGNpcmNsZV9tYXJrZXJfOGMyYzNkMTBhNmIwNDQyNTllOWZmNTNhYjQzZGY0NTQgPSBMLmNpcmNsZU1hcmtlcigKICAgICAgICAgICAgICAgIFs1Mi40MTY2NjcsMTMuNTMzMzMyOTk5OTk5OTk5XSwKICAgICAgICAgICAgICAgIHsKICAiYnViYmxpbmdNb3VzZUV2ZW50cyI6IHRydWUsCiAgImNvbG9yIjogImJsdWUiLAogICJkYXNoQXJyYXkiOiBudWxsLAogICJkYXNoT2Zmc2V0IjogbnVsbCwKICAiZmlsbCI6IHRydWUsCiAgImZpbGxDb2xvciI6ICIjMzE4NmNjIiwKICAiZmlsbE9wYWNpdHkiOiAwLjcsCiAgImZpbGxSdWxlIjogImV2ZW5vZGQiLAogICJsaW5lQ2FwIjogInJvdW5kIiwKICAibGluZUpvaW4iOiAicm91bmQiLAogICJvcGFjaXR5IjogMS4wLAogICJyYWRpdXMiOiA1LAogICJzdHJva2UiOiB0cnVlLAogICJ3ZWlnaHQiOiAzCn0KICAgICAgICAgICAgICAgICkuYWRkVG8obWFwXzhlMjhkY2U2NWU3YjRmZDhiOWFjZjM3Nzk5MTBlM2NjKTsKICAgICAgICAgICAgCiAgICAKICAgICAgICAgICAgdmFyIHBvcHVwX2FmYTA3NjViNzI4YzQ0ODRhMTNhNjgzMmYzYTUwMjFjID0gTC5wb3B1cCh7bWF4V2lkdGg6ICczMDAnfSk7CgogICAgICAgICAgICAKICAgICAgICAgICAgICAgIHZhciBodG1sX2FlZjg4NjRkMTJhNzQ1ZjFiMTFjMmEwZDY5NzQxZTk1ID0gJCgnPGRpdiBpZD0iaHRtbF9hZWY4ODY0ZDEyYTc0NWYxYjExYzJhMGQ2OTc0MWU5NSIgc3R5bGU9IndpZHRoOiAxMDAuMCU7IGhlaWdodDogMTAwLjAlOyI+QWx0Z2xpZW5pY2tlPC9kaXY+JylbMF07CiAgICAgICAgICAgICAgICBwb3B1cF9hZmEwNzY1YjcyOGM0NDg0YTEzYTY4MzJmM2E1MDIxYy5zZXRDb250ZW50KGh0bWxfYWVmODg2NGQxMmE3NDVmMWIxMWMyYTBkNjk3NDFlOTUpOwogICAgICAgICAgICAKCiAgICAgICAgICAgIGNpcmNsZV9tYXJrZXJfOGMyYzNkMTBhNmIwNDQyNTllOWZmNTNhYjQzZGY0NTQuYmluZFBvcHVwKHBvcHVwX2FmYTA3NjViNzI4YzQ0ODRhMTNhNjgzMmYzYTUwMjFjKTsKCiAgICAgICAgICAgIAogICAgICAgIAogICAgCiAgICAgICAgICAgIHZhciBjaXJjbGVfbWFya2VyX2E3YzEzOWQxZWU0NjQ5MzBiOGRhNGVlYWM1NDdmNDE5ID0gTC5jaXJjbGVNYXJrZXIoCiAgICAgICAgICAgICAgICBbNTIuNDM3Nzc4LDEzLjU0NzVdLAogICAgICAgICAgICAgICAgewogICJidWJibGluZ01vdXNlRXZlbnRzIjogdHJ1ZSwKICAiY29sb3IiOiAiYmx1ZSIsCiAgImRhc2hBcnJheSI6IG51bGwsCiAgImRhc2hPZmZzZXQiOiBudWxsLAogICJmaWxsIjogdHJ1ZSwKICAiZmlsbENvbG9yIjogIiMzMTg2Y2MiLAogICJmaWxsT3BhY2l0eSI6IDAuNywKICAiZmlsbFJ1bGUiOiAiZXZlbm9kZCIsCiAgImxpbmVDYXAiOiAicm91bmQiLAogICJsaW5lSm9pbiI6ICJyb3VuZCIsCiAgIm9wYWNpdHkiOiAxLjAsCiAgInJhZGl1cyI6IDUsCiAgInN0cm9rZSI6IHRydWUsCiAgIndlaWdodCI6IDMKfQogICAgICAgICAgICAgICAgKS5hZGRUbyhtYXBfOGUyOGRjZTY1ZTdiNGZkOGI5YWNmMzc3OTkxMGUzY2MpOwogICAgICAgICAgICAKICAgIAogICAgICAgICAgICB2YXIgcG9wdXBfZDM5ODQ5NDA5MjJhNGVjNDhjM2NkZTBkYTQyYjlkMGUgPSBMLnBvcHVwKHttYXhXaWR0aDogJzMwMCd9KTsKCiAgICAgICAgICAgIAogICAgICAgICAgICAgICAgdmFyIGh0bWxfNmU2MzczYzcxYWRjNGQ2YzhhZmQzZTk5ZDQwNTA4NWYgPSAkKCc8ZGl2IGlkPSJodG1sXzZlNjM3M2M3MWFkYzRkNmM4YWZkM2U5OWQ0MDUwODVmIiBzdHlsZT0id2lkdGg6IDEwMC4wJTsgaGVpZ2h0OiAxMDAuMCU7Ij5BZGxlcnNob2Y8L2Rpdj4nKVswXTsKICAgICAgICAgICAgICAgIHBvcHVwX2QzOTg0OTQwOTIyYTRlYzQ4YzNjZGUwZGE0MmI5ZDBlLnNldENvbnRlbnQoaHRtbF82ZTYzNzNjNzFhZGM0ZDZjOGFmZDNlOTlkNDA1MDg1Zik7CiAgICAgICAgICAgIAoKICAgICAgICAgICAgY2lyY2xlX21hcmtlcl9hN2MxMzlkMWVlNDY0OTMwYjhkYTRlZWFjNTQ3ZjQxOS5iaW5kUG9wdXAocG9wdXBfZDM5ODQ5NDA5MjJhNGVjNDhjM2NkZTBkYTQyYjlkMGUpOwoKICAgICAgICAgICAgCiAgICAgICAgCiAgICAKICAgICAgICAgICAgdmFyIGNpcmNsZV9tYXJrZXJfY2M3Zjg2MTc1M2Q5NGUwNWEyODNkMGE3OGYyMGIxMTcgPSBMLmNpcmNsZU1hcmtlcigKICAgICAgICAgICAgICAgIFs1Mi40LDEzLjU2NjY2N10sCiAgICAgICAgICAgICAgICB7CiAgImJ1YmJsaW5nTW91c2VFdmVudHMiOiB0cnVlLAogICJjb2xvciI6ICJibHVlIiwKICAiZGFzaEFycmF5IjogbnVsbCwKICAiZGFzaE9mZnNldCI6IG51bGwsCiAgImZpbGwiOiB0cnVlLAogICJmaWxsQ29sb3IiOiAiIzMxODZjYyIsCiAgImZpbGxPcGFjaXR5IjogMC43LAogICJmaWxsUnVsZSI6ICJldmVub2RkIiwKICAibGluZUNhcCI6ICJyb3VuZCIsCiAgImxpbmVKb2luIjogInJvdW5kIiwKICAib3BhY2l0eSI6IDEuMCwKICAicmFkaXVzIjogNSwKICAic3Ryb2tlIjogdHJ1ZSwKICAid2VpZ2h0IjogMwp9CiAgICAgICAgICAgICAgICApLmFkZFRvKG1hcF84ZTI4ZGNlNjVlN2I0ZmQ4YjlhY2YzNzc5OTEwZTNjYyk7CiAgICAgICAgICAgIAogICAgCiAgICAgICAgICAgIHZhciBwb3B1cF8yZjI4Njg3NTMyM2U0M2U4YTgwYjc4NWNkZjg4MWFkNyA9IEwucG9wdXAoe21heFdpZHRoOiAnMzAwJ30pOwoKICAgICAgICAgICAgCiAgICAgICAgICAgICAgICB2YXIgaHRtbF8yOWExZWNiNzUzYjA0OWYwOTYxOTI4MWI3ODU3NGQwNSA9ICQoJzxkaXYgaWQ9Imh0bWxfMjlhMWVjYjc1M2IwNDlmMDk2MTkyODFiNzg1NzRkMDUiIHN0eWxlPSJ3aWR0aDogMTAwLjAlOyBoZWlnaHQ6IDEwMC4wJTsiPkJvaG5zZG9yZjwvZGl2PicpWzBdOwogICAgICAgICAgICAgICAgcG9wdXBfMmYyODY4NzUzMjNlNDNlOGE4MGI3ODVjZGY4ODFhZDcuc2V0Q29udGVudChodG1sXzI5YTFlY2I3NTNiMDQ5ZjA5NjE5MjgxYjc4NTc0ZDA1KTsKICAgICAgICAgICAgCgogICAgICAgICAgICBjaXJjbGVfbWFya2VyX2NjN2Y4NjE3NTNkOTRlMDVhMjgzZDBhNzhmMjBiMTE3LmJpbmRQb3B1cChwb3B1cF8yZjI4Njg3NTMyM2U0M2U4YTgwYjc4NWNkZjg4MWFkNyk7CgogICAgICAgICAgICAKICAgICAgICAKICAgIAogICAgICAgICAgICB2YXIgY2lyY2xlX21hcmtlcl83MTEwZjQ5OGY2MDY0ZDNhYWZmNTE5M2I5ZDU3NzhhNiA9IEwuY2lyY2xlTWFya2VyKAogICAgICAgICAgICAgICAgWzUyLjQ2MTk0Mzk5OTk5OTk5NSwxMy41MTVdLAogICAgICAgICAgICAgICAgewogICJidWJibGluZ01vdXNlRXZlbnRzIjogdHJ1ZSwKICAiY29sb3IiOiAiYmx1ZSIsCiAgImRhc2hBcnJheSI6IG51bGwsCiAgImRhc2hPZmZzZXQiOiBudWxsLAogICJmaWxsIjogdHJ1ZSwKICAiZmlsbENvbG9yIjogIiMzMTg2Y2MiLAogICJmaWxsT3BhY2l0eSI6IDAuNywKICAiZmlsbFJ1bGUiOiAiZXZlbm9kZCIsCiAgImxpbmVDYXAiOiAicm91bmQiLAogICJsaW5lSm9pbiI6ICJyb3VuZCIsCiAgIm9wYWNpdHkiOiAxLjAsCiAgInJhZGl1cyI6IDUsCiAgInN0cm9rZSI6IHRydWUsCiAgIndlaWdodCI6IDMKfQogICAgICAgICAgICAgICAgKS5hZGRUbyhtYXBfOGUyOGRjZTY1ZTdiNGZkOGI5YWNmMzc3OTkxMGUzY2MpOwogICAgICAgICAgICAKICAgIAogICAgICAgICAgICB2YXIgcG9wdXBfZDgxOWYwZWI2ZmIxNDkyZmJjYzU2YWFhNWJhNDNjZWYgPSBMLnBvcHVwKHttYXhXaWR0aDogJzMwMCd9KTsKCiAgICAgICAgICAgIAogICAgICAgICAgICAgICAgdmFyIGh0bWxfNGVhZTEzMTAyYzVmNDYzMmIzODk5YzFmOGFlYzZhMzQgPSAkKCc8ZGl2IGlkPSJodG1sXzRlYWUxMzEwMmM1ZjQ2MzJiMzg5OWMxZjhhZWM2YTM0IiBzdHlsZT0id2lkdGg6IDEwMC4wJTsgaGVpZ2h0OiAxMDAuMCU7Ij5PYmVyc2Now7ZuZXdlaWRlPC9kaXY+JylbMF07CiAgICAgICAgICAgICAgICBwb3B1cF9kODE5ZjBlYjZmYjE0OTJmYmNjNTZhYWE1YmE0M2NlZi5zZXRDb250ZW50KGh0bWxfNGVhZTEzMTAyYzVmNDYzMmIzODk5YzFmOGFlYzZhMzQpOwogICAgICAgICAgICAKCiAgICAgICAgICAgIGNpcmNsZV9tYXJrZXJfNzExMGY0OThmNjA2NGQzYWFmZjUxOTNiOWQ1Nzc4YTYuYmluZFBvcHVwKHBvcHVwX2Q4MTlmMGViNmZiMTQ5MmZiY2M1NmFhYTViYTQzY2VmKTsKCiAgICAgICAgICAgIAogICAgICAgIAogICAgCiAgICAgICAgICAgIHZhciBjaXJjbGVfbWFya2VyXzkzMDhlYTZkMWRkZjRjNTRhMGM0Zjc4N2RiOTkwOGUxID0gTC5jaXJjbGVNYXJrZXIoCiAgICAgICAgICAgICAgICBbNTIuNDQ1ODMyOTk5OTk5OTksMTMuNTc3MjIyXSwKICAgICAgICAgICAgICAgIHsKICAiYnViYmxpbmdNb3VzZUV2ZW50cyI6IHRydWUsCiAgImNvbG9yIjogImJsdWUiLAogICJkYXNoQXJyYXkiOiBudWxsLAogICJkYXNoT2Zmc2V0IjogbnVsbCwKICAiZmlsbCI6IHRydWUsCiAgImZpbGxDb2xvciI6ICIjMzE4NmNjIiwKICAiZmlsbE9wYWNpdHkiOiAwLjcsCiAgImZpbGxSdWxlIjogImV2ZW5vZGQiLAogICJsaW5lQ2FwIjogInJvdW5kIiwKICAibGluZUpvaW4iOiAicm91bmQiLAogICJvcGFjaXR5IjogMS4wLAogICJyYWRpdXMiOiA1LAogICJzdHJva2UiOiB0cnVlLAogICJ3ZWlnaHQiOiAzCn0KICAgICAgICAgICAgICAgICkuYWRkVG8obWFwXzhlMjhkY2U2NWU3YjRmZDhiOWFjZjM3Nzk5MTBlM2NjKTsKICAgICAgICAgICAgCiAgICAKICAgICAgICAgICAgdmFyIHBvcHVwXzRkODU0OTViNjljMTQ0MmJhMWJiNTQ3M2I1ZTA5ZTdkID0gTC5wb3B1cCh7bWF4V2lkdGg6ICczMDAnfSk7CgogICAgICAgICAgICAKICAgICAgICAgICAgICAgIHZhciBodG1sX2QxMzEwMjhlYjU2NDRmNDg5NzE2Y2Q3M2ZkZjY0NjUzID0gJCgnPGRpdiBpZD0iaHRtbF9kMTMxMDI4ZWI1NjQ0ZjQ4OTcxNmNkNzNmZGY2NDY1MyIgc3R5bGU9IndpZHRoOiAxMDAuMCU7IGhlaWdodDogMTAwLjAlOyI+S8O2cGVuaWNrPC9kaXY+JylbMF07CiAgICAgICAgICAgICAgICBwb3B1cF80ZDg1NDk1YjY5YzE0NDJiYTFiYjU0NzNiNWUwOWU3ZC5zZXRDb250ZW50KGh0bWxfZDEzMTAyOGViNTY0NGY0ODk3MTZjZDczZmRmNjQ2NTMpOwogICAgICAgICAgICAKCiAgICAgICAgICAgIGNpcmNsZV9tYXJrZXJfOTMwOGVhNmQxZGRmNGM1NGEwYzRmNzg3ZGI5OTA4ZTEuYmluZFBvcHVwKHBvcHVwXzRkODU0OTViNjljMTQ0MmJhMWJiNTQ3M2I1ZTA5ZTdkKTsKCiAgICAgICAgICAgIAogICAgICAgIAogICAgCiAgICAgICAgICAgIHZhciBjaXJjbGVfbWFya2VyXzkwNjA2MzU4MWQ1MDRjYTI4ZmU2MzY5NzljNTY3NDY3ID0gTC5jaXJjbGVNYXJrZXIoCiAgICAgICAgICAgICAgICBbNTIuNDUsMTMuNjE2NjY3MDAwMDAwMDAxXSwKICAgICAgICAgICAgICAgIHsKICAiYnViYmxpbmdNb3VzZUV2ZW50cyI6IHRydWUsCiAgImNvbG9yIjogImJsdWUiLAogICJkYXNoQXJyYXkiOiBudWxsLAogICJkYXNoT2Zmc2V0IjogbnVsbCwKICAiZmlsbCI6IHRydWUsCiAgImZpbGxDb2xvciI6ICIjMzE4NmNjIiwKICAiZmlsbE9wYWNpdHkiOiAwLjcsCiAgImZpbGxSdWxlIjogImV2ZW5vZGQiLAogICJsaW5lQ2FwIjogInJvdW5kIiwKICAibGluZUpvaW4iOiAicm91bmQiLAogICJvcGFjaXR5IjogMS4wLAogICJyYWRpdXMiOiA1LAogICJzdHJva2UiOiB0cnVlLAogICJ3ZWlnaHQiOiAzCn0KICAgICAgICAgICAgICAgICkuYWRkVG8obWFwXzhlMjhkY2U2NWU3YjRmZDhiOWFjZjM3Nzk5MTBlM2NjKTsKICAgICAgICAgICAgCiAgICAKICAgICAgICAgICAgdmFyIHBvcHVwXzk5MGFmMmU2ODZiOTQ0Yzg5ZTdiNzIzZWYzZmI3ZGY5ID0gTC5wb3B1cCh7bWF4V2lkdGg6ICczMDAnfSk7CgogICAgICAgICAgICAKICAgICAgICAgICAgICAgIHZhciBodG1sXzAxYzI5ZjQ3MmIxNjQyY2E5ZmM1ZmZiY2YwMjA1ZDk4ID0gJCgnPGRpdiBpZD0iaHRtbF8wMWMyOWY0NzJiMTY0MmNhOWZjNWZmYmNmMDIwNWQ5OCIgc3R5bGU9IndpZHRoOiAxMDAuMCU7IGhlaWdodDogMTAwLjAlOyI+RnJpZWRyaWNoc2hhZ2VuPC9kaXY+JylbMF07CiAgICAgICAgICAgICAgICBwb3B1cF85OTBhZjJlNjg2Yjk0NGM4OWU3YjcyM2VmM2ZiN2RmOS5zZXRDb250ZW50KGh0bWxfMDFjMjlmNDcyYjE2NDJjYTlmYzVmZmJjZjAyMDVkOTgpOwogICAgICAgICAgICAKCiAgICAgICAgICAgIGNpcmNsZV9tYXJrZXJfOTA2MDYzNTgxZDUwNGNhMjhmZTYzNjk3OWM1Njc0NjcuYmluZFBvcHVwKHBvcHVwXzk5MGFmMmU2ODZiOTQ0Yzg5ZTdiNzIzZWYzZmI3ZGY5KTsKCiAgICAgICAgICAgIAogICAgICAgIAogICAgCiAgICAgICAgICAgIHZhciBjaXJjbGVfbWFya2VyXzBkMGNiN2M3YTE4OTRhMDI4MjU2ZmZjYzAxZWQ1NTFlID0gTC5jaXJjbGVNYXJrZXIoCiAgICAgICAgICAgICAgICBbNTIuNDMzMzMzLDEzLjddLAogICAgICAgICAgICAgICAgewogICJidWJibGluZ01vdXNlRXZlbnRzIjogdHJ1ZSwKICAiY29sb3IiOiAiYmx1ZSIsCiAgImRhc2hBcnJheSI6IG51bGwsCiAgImRhc2hPZmZzZXQiOiBudWxsLAogICJmaWxsIjogdHJ1ZSwKICAiZmlsbENvbG9yIjogIiMzMTg2Y2MiLAogICJmaWxsT3BhY2l0eSI6IDAuNywKICAiZmlsbFJ1bGUiOiAiZXZlbm9kZCIsCiAgImxpbmVDYXAiOiAicm91bmQiLAogICJsaW5lSm9pbiI6ICJyb3VuZCIsCiAgIm9wYWNpdHkiOiAxLjAsCiAgInJhZGl1cyI6IDUsCiAgInN0cm9rZSI6IHRydWUsCiAgIndlaWdodCI6IDMKfQogICAgICAgICAgICAgICAgKS5hZGRUbyhtYXBfOGUyOGRjZTY1ZTdiNGZkOGI5YWNmMzc3OTkxMGUzY2MpOwogICAgICAgICAgICAKICAgIAogICAgICAgICAgICB2YXIgcG9wdXBfNGMwMjkwMmEzYTE5NDZjZjlmZDM3MjMyYzdiYjU5NGUgPSBMLnBvcHVwKHttYXhXaWR0aDogJzMwMCd9KTsKCiAgICAgICAgICAgIAogICAgICAgICAgICAgICAgdmFyIGh0bWxfODc0NzBiNmVkNmE5NGYzMTlhNzE2MGEyODVmZTRlZDkgPSAkKCc8ZGl2IGlkPSJodG1sXzg3NDcwYjZlZDZhOTRmMzE5YTcxNjBhMjg1ZmU0ZWQ5IiBzdHlsZT0id2lkdGg6IDEwMC4wJTsgaGVpZ2h0OiAxMDAuMCU7Ij5SYWhuc2RvcmY8L2Rpdj4nKVswXTsKICAgICAgICAgICAgICAgIHBvcHVwXzRjMDI5MDJhM2ExOTQ2Y2Y5ZmQzNzIzMmM3YmI1OTRlLnNldENvbnRlbnQoaHRtbF84NzQ3MGI2ZWQ2YTk0ZjMxOWE3MTYwYTI4NWZlNGVkOSk7CiAgICAgICAgICAgIAoKICAgICAgICAgICAgY2lyY2xlX21hcmtlcl8wZDBjYjdjN2ExODk0YTAyODI1NmZmY2MwMWVkNTUxZS5iaW5kUG9wdXAocG9wdXBfNGMwMjkwMmEzYTE5NDZjZjlmZDM3MjMyYzdiYjU5NGUpOwoKICAgICAgICAgICAgCiAgICAgICAgCiAgICAKICAgICAgICAgICAgdmFyIGNpcmNsZV9tYXJrZXJfNjA5ZDNlNjI3MzNmNDAxY2JmMTZlZWZiZmNhZjUwN2UgPSBMLmNpcmNsZU1hcmtlcigKICAgICAgICAgICAgICAgIFs1Mi40MTY2NjcsMTMuNTY2NjY3XSwKICAgICAgICAgICAgICAgIHsKICAiYnViYmxpbmdNb3VzZUV2ZW50cyI6IHRydWUsCiAgImNvbG9yIjogImJsdWUiLAogICJkYXNoQXJyYXkiOiBudWxsLAogICJkYXNoT2Zmc2V0IjogbnVsbCwKICAiZmlsbCI6IHRydWUsCiAgImZpbGxDb2xvciI6ICIjMzE4NmNjIiwKICAiZmlsbE9wYWNpdHkiOiAwLjcsCiAgImZpbGxSdWxlIjogImV2ZW5vZGQiLAogICJsaW5lQ2FwIjogInJvdW5kIiwKICAibGluZUpvaW4iOiAicm91bmQiLAogICJvcGFjaXR5IjogMS4wLAogICJyYWRpdXMiOiA1LAogICJzdHJva2UiOiB0cnVlLAogICJ3ZWlnaHQiOiAzCn0KICAgICAgICAgICAgICAgICkuYWRkVG8obWFwXzhlMjhkY2U2NWU3YjRmZDhiOWFjZjM3Nzk5MTBlM2NjKTsKICAgICAgICAgICAgCiAgICAKICAgICAgICAgICAgdmFyIHBvcHVwXzUzNzJmYjdkMjY3ZDQwMDFiM2Q0MDQyZDc5MWQ5Mjk2ID0gTC5wb3B1cCh7bWF4V2lkdGg6ICczMDAnfSk7CgogICAgICAgICAgICAKICAgICAgICAgICAgICAgIHZhciBodG1sXzYzNTEyNGFjYWFmZDRhMGJhNjZlZjg5ZjE0NTMxNzU5ID0gJCgnPGRpdiBpZD0iaHRtbF82MzUxMjRhY2FhZmQ0YTBiYTY2ZWY4OWYxNDUzMTc1OSIgc3R5bGU9IndpZHRoOiAxMDAuMCU7IGhlaWdodDogMTAwLjAlOyI+R3LDvG5hdTwvZGl2PicpWzBdOwogICAgICAgICAgICAgICAgcG9wdXBfNTM3MmZiN2QyNjdkNDAwMWIzZDQwNDJkNzkxZDkyOTYuc2V0Q29udGVudChodG1sXzYzNTEyNGFjYWFmZDRhMGJhNjZlZjg5ZjE0NTMxNzU5KTsKICAgICAgICAgICAgCgogICAgICAgICAgICBjaXJjbGVfbWFya2VyXzYwOWQzZTYyNzMzZjQwMWNiZjE2ZWVmYmZjYWY1MDdlLmJpbmRQb3B1cChwb3B1cF81MzcyZmI3ZDI2N2Q0MDAxYjNkNDA0MmQ3OTFkOTI5Nik7CgogICAgICAgICAgICAKICAgICAgICAKICAgIAogICAgICAgICAgICB2YXIgY2lyY2xlX21hcmtlcl9lNjFjMzdjNmY0ZTE0ZTk2ODJiZTExNTI4ZTc5YjA3MSA9IEwuY2lyY2xlTWFya2VyKAogICAgICAgICAgICAgICAgWzUyLjQsMTMuNjVdLAogICAgICAgICAgICAgICAgewogICJidWJibGluZ01vdXNlRXZlbnRzIjogdHJ1ZSwKICAiY29sb3IiOiAiYmx1ZSIsCiAgImRhc2hBcnJheSI6IG51bGwsCiAgImRhc2hPZmZzZXQiOiBudWxsLAogICJmaWxsIjogdHJ1ZSwKICAiZmlsbENvbG9yIjogIiMzMTg2Y2MiLAogICJmaWxsT3BhY2l0eSI6IDAuNywKICAiZmlsbFJ1bGUiOiAiZXZlbm9kZCIsCiAgImxpbmVDYXAiOiAicm91bmQiLAogICJsaW5lSm9pbiI6ICJyb3VuZCIsCiAgIm9wYWNpdHkiOiAxLjAsCiAgInJhZGl1cyI6IDUsCiAgInN0cm9rZSI6IHRydWUsCiAgIndlaWdodCI6IDMKfQogICAgICAgICAgICAgICAgKS5hZGRUbyhtYXBfOGUyOGRjZTY1ZTdiNGZkOGI5YWNmMzc3OTkxMGUzY2MpOwogICAgICAgICAgICAKICAgIAogICAgICAgICAgICB2YXIgcG9wdXBfZjE4NTJkOWQyOGM0NGI4MDk2MmUyN2ViNWNjNDZjNTQgPSBMLnBvcHVwKHttYXhXaWR0aDogJzMwMCd9KTsKCiAgICAgICAgICAgIAogICAgICAgICAgICAgICAgdmFyIGh0bWxfMmQzMjI2MmIwNDE0NDIxNDgzMDk1ZmZhZmI4NjMzZjEgPSAkKCc8ZGl2IGlkPSJodG1sXzJkMzIyNjJiMDQxNDQyMTQ4MzA5NWZmYWZiODYzM2YxIiBzdHlsZT0id2lkdGg6IDEwMC4wJTsgaGVpZ2h0OiAxMDAuMCU7Ij5Nw7xnZ2VsaGVpbTwvZGl2PicpWzBdOwogICAgICAgICAgICAgICAgcG9wdXBfZjE4NTJkOWQyOGM0NGI4MDk2MmUyN2ViNWNjNDZjNTQuc2V0Q29udGVudChodG1sXzJkMzIyNjJiMDQxNDQyMTQ4MzA5NWZmYWZiODYzM2YxKTsKICAgICAgICAgICAgCgogICAgICAgICAgICBjaXJjbGVfbWFya2VyX2U2MWMzN2M2ZjRlMTRlOTY4MmJlMTE1MjhlNzliMDcxLmJpbmRQb3B1cChwb3B1cF9mMTg1MmQ5ZDI4YzQ0YjgwOTYyZTI3ZWI1Y2M0NmM1NCk7CgogICAgICAgICAgICAKICAgICAgICAKICAgIAogICAgICAgICAgICB2YXIgY2lyY2xlX21hcmtlcl8zYmY2NWNmMGQxY2M0YzFjYWEyOGVmMzAzMTNmMmQ0OCA9IEwuY2lyY2xlTWFya2VyKAogICAgICAgICAgICAgICAgWzUyLjM2NjY2NywxMy42MzMzMzI5OTk5OTk5OTldLAogICAgICAgICAgICAgICAgewogICJidWJibGluZ01vdXNlRXZlbnRzIjogdHJ1ZSwKICAiY29sb3IiOiAiYmx1ZSIsCiAgImRhc2hBcnJheSI6IG51bGwsCiAgImRhc2hPZmZzZXQiOiBudWxsLAogICJmaWxsIjogdHJ1ZSwKICAiZmlsbENvbG9yIjogIiMzMTg2Y2MiLAogICJmaWxsT3BhY2l0eSI6IDAuNywKICAiZmlsbFJ1bGUiOiAiZXZlbm9kZCIsCiAgImxpbmVDYXAiOiAicm91bmQiLAogICJsaW5lSm9pbiI6ICJyb3VuZCIsCiAgIm9wYWNpdHkiOiAxLjAsCiAgInJhZGl1cyI6IDUsCiAgInN0cm9rZSI6IHRydWUsCiAgIndlaWdodCI6IDMKfQogICAgICAgICAgICAgICAgKS5hZGRUbyhtYXBfOGUyOGRjZTY1ZTdiNGZkOGI5YWNmMzc3OTkxMGUzY2MpOwogICAgICAgICAgICAKICAgIAogICAgICAgICAgICB2YXIgcG9wdXBfZGJhZGNhM2U2MzY3NDFmYjkyZTZhOWIyOWQzNzIxYTIgPSBMLnBvcHVwKHttYXhXaWR0aDogJzMwMCd9KTsKCiAgICAgICAgICAgIAogICAgICAgICAgICAgICAgdmFyIGh0bWxfYWRiNmM5N2E0ODRhNDU4NWFjNDQ5YzYyMmFlYWIxNDAgPSAkKCc8ZGl2IGlkPSJodG1sX2FkYjZjOTdhNDg0YTQ1ODVhYzQ0OWM2MjJhZWFiMTQwIiBzdHlsZT0id2lkdGg6IDEwMC4wJTsgaGVpZ2h0OiAxMDAuMCU7Ij5TY2htw7Zja3dpdHo8L2Rpdj4nKVswXTsKICAgICAgICAgICAgICAgIHBvcHVwX2RiYWRjYTNlNjM2NzQxZmI5MmU2YTliMjlkMzcyMWEyLnNldENvbnRlbnQoaHRtbF9hZGI2Yzk3YTQ4NGE0NTg1YWM0NDljNjIyYWVhYjE0MCk7CiAgICAgICAgICAgIAoKICAgICAgICAgICAgY2lyY2xlX21hcmtlcl8zYmY2NWNmMGQxY2M0YzFjYWEyOGVmMzAzMTNmMmQ0OC5iaW5kUG9wdXAocG9wdXBfZGJhZGNhM2U2MzY3NDFmYjkyZTZhOWIyOWQzNzIxYTIpOwoKICAgICAgICAgICAgCiAgICAgICAgCiAgICAKICAgICAgICAgICAgdmFyIGNpcmNsZV9tYXJrZXJfMDA4NThkMTg1ZTljNGFmMzhhM2IxZGUxMDFjYjliMWIgPSBMLmNpcmNsZU1hcmtlcigKICAgICAgICAgICAgICAgIFs1Mi41NSwxMy41NV0sCiAgICAgICAgICAgICAgICB7CiAgImJ1YmJsaW5nTW91c2VFdmVudHMiOiB0cnVlLAogICJjb2xvciI6ICJibHVlIiwKICAiZGFzaEFycmF5IjogbnVsbCwKICAiZGFzaE9mZnNldCI6IG51bGwsCiAgImZpbGwiOiB0cnVlLAogICJmaWxsQ29sb3IiOiAiIzMxODZjYyIsCiAgImZpbGxPcGFjaXR5IjogMC43LAogICJmaWxsUnVsZSI6ICJldmVub2RkIiwKICAibGluZUNhcCI6ICJyb3VuZCIsCiAgImxpbmVKb2luIjogInJvdW5kIiwKICAib3BhY2l0eSI6IDEuMCwKICAicmFkaXVzIjogNSwKICAic3Ryb2tlIjogdHJ1ZSwKICAid2VpZ2h0IjogMwp9CiAgICAgICAgICAgICAgICApLmFkZFRvKG1hcF84ZTI4ZGNlNjVlN2I0ZmQ4YjlhY2YzNzc5OTEwZTNjYyk7CiAgICAgICAgICAgIAogICAgCiAgICAgICAgICAgIHZhciBwb3B1cF8yNGYxMjk4Njg3NDE0NmU4YTViYjBjOGI5NjZlNWUyNiA9IEwucG9wdXAoe21heFdpZHRoOiAnMzAwJ30pOwoKICAgICAgICAgICAgCiAgICAgICAgICAgICAgICB2YXIgaHRtbF8wYmU3YWViMjdiNDI0NTIzYmIwN2FkZWE2YTY3Y2YxOSA9ICQoJzxkaXYgaWQ9Imh0bWxfMGJlN2FlYjI3YjQyNDUyM2JiMDdhZGVhNmE2N2NmMTkiIHN0eWxlPSJ3aWR0aDogMTAwLjAlOyBoZWlnaHQ6IDEwMC4wJTsiPk1hcnphaG48L2Rpdj4nKVswXTsKICAgICAgICAgICAgICAgIHBvcHVwXzI0ZjEyOTg2ODc0MTQ2ZThhNWJiMGM4Yjk2NmU1ZTI2LnNldENvbnRlbnQoaHRtbF8wYmU3YWViMjdiNDI0NTIzYmIwN2FkZWE2YTY3Y2YxOSk7CiAgICAgICAgICAgIAoKICAgICAgICAgICAgY2lyY2xlX21hcmtlcl8wMDg1OGQxODVlOWM0YWYzOGEzYjFkZTEwMWNiOWIxYi5iaW5kUG9wdXAocG9wdXBfMjRmMTI5ODY4NzQxNDZlOGE1YmIwYzhiOTY2ZTVlMjYpOwoKICAgICAgICAgICAgCiAgICAgICAgCiAgICAKICAgICAgICAgICAgdmFyIGNpcmNsZV9tYXJrZXJfZGFhZGE5OWNlNmNlNDZhZWIxYjNkMjQ1ZGEzMDU1YWYgPSBMLmNpcmNsZU1hcmtlcigKICAgICAgICAgICAgICAgIFs1Mi41MDkxNjcwMDAwMDAwMDUsMTMuNTU1Mjc4XSwKICAgICAgICAgICAgICAgIHsKICAiYnViYmxpbmdNb3VzZUV2ZW50cyI6IHRydWUsCiAgImNvbG9yIjogImJsdWUiLAogICJkYXNoQXJyYXkiOiBudWxsLAogICJkYXNoT2Zmc2V0IjogbnVsbCwKICAiZmlsbCI6IHRydWUsCiAgImZpbGxDb2xvciI6ICIjMzE4NmNjIiwKICAiZmlsbE9wYWNpdHkiOiAwLjcsCiAgImZpbGxSdWxlIjogImV2ZW5vZGQiLAogICJsaW5lQ2FwIjogInJvdW5kIiwKICAibGluZUpvaW4iOiAicm91bmQiLAogICJvcGFjaXR5IjogMS4wLAogICJyYWRpdXMiOiA1LAogICJzdHJva2UiOiB0cnVlLAogICJ3ZWlnaHQiOiAzCn0KICAgICAgICAgICAgICAgICkuYWRkVG8obWFwXzhlMjhkY2U2NWU3YjRmZDhiOWFjZjM3Nzk5MTBlM2NjKTsKICAgICAgICAgICAgCiAgICAKICAgICAgICAgICAgdmFyIHBvcHVwXzVhN2QwYzhlMTEyMDQ3MjdiNjNhZTFlNzUwMDBhODYxID0gTC5wb3B1cCh7bWF4V2lkdGg6ICczMDAnfSk7CgogICAgICAgICAgICAKICAgICAgICAgICAgICAgIHZhciBodG1sXzczYjdjMWVhZGVhMzQzZmRhNDUwMTgzMjMyYzYzNWVlID0gJCgnPGRpdiBpZD0iaHRtbF83M2I3YzFlYWRlYTM0M2ZkYTQ1MDE4MzIzMmM2MzVlZSIgc3R5bGU9IndpZHRoOiAxMDAuMCU7IGhlaWdodDogMTAwLjAlOyI+Qmllc2RvcmY8L2Rpdj4nKVswXTsKICAgICAgICAgICAgICAgIHBvcHVwXzVhN2QwYzhlMTEyMDQ3MjdiNjNhZTFlNzUwMDBhODYxLnNldENvbnRlbnQoaHRtbF83M2I3YzFlYWRlYTM0M2ZkYTQ1MDE4MzIzMmM2MzVlZSk7CiAgICAgICAgICAgIAoKICAgICAgICAgICAgY2lyY2xlX21hcmtlcl9kYWFkYTk5Y2U2Y2U0NmFlYjFiM2QyNDVkYTMwNTVhZi5iaW5kUG9wdXAocG9wdXBfNWE3ZDBjOGUxMTIwNDcyN2I2M2FlMWU3NTAwMGE4NjEpOwoKICAgICAgICAgICAgCiAgICAgICAgCiAgICAKICAgICAgICAgICAgdmFyIGNpcmNsZV9tYXJrZXJfMmVkMThjMWE0ODJhNDliMWFjNzA5ZWYyNDNlODRmMTggPSBMLmNpcmNsZU1hcmtlcigKICAgICAgICAgICAgICAgIFs1Mi41MDgwNTYsMTMuNTgwODMyOTk5OTk5OTk4XSwKICAgICAgICAgICAgICAgIHsKICAiYnViYmxpbmdNb3VzZUV2ZW50cyI6IHRydWUsCiAgImNvbG9yIjogImJsdWUiLAogICJkYXNoQXJyYXkiOiBudWxsLAogICJkYXNoT2Zmc2V0IjogbnVsbCwKICAiZmlsbCI6IHRydWUsCiAgImZpbGxDb2xvciI6ICIjMzE4NmNjIiwKICAiZmlsbE9wYWNpdHkiOiAwLjcsCiAgImZpbGxSdWxlIjogImV2ZW5vZGQiLAogICJsaW5lQ2FwIjogInJvdW5kIiwKICAibGluZUpvaW4iOiAicm91bmQiLAogICJvcGFjaXR5IjogMS4wLAogICJyYWRpdXMiOiA1LAogICJzdHJva2UiOiB0cnVlLAogICJ3ZWlnaHQiOiAzCn0KICAgICAgICAgICAgICAgICkuYWRkVG8obWFwXzhlMjhkY2U2NWU3YjRmZDhiOWFjZjM3Nzk5MTBlM2NjKTsKICAgICAgICAgICAgCiAgICAKICAgICAgICAgICAgdmFyIHBvcHVwXzM0NmQ4OTg1MTk5NzRkZmE4YjI4NDU2MzViZWFkYWE4ID0gTC5wb3B1cCh7bWF4V2lkdGg6ICczMDAnfSk7CgogICAgICAgICAgICAKICAgICAgICAgICAgICAgIHZhciBodG1sXzc5YTEzMDYzNTdiMDRmY2Q5ZDA2YWIyOTUyOWFiOTg0ID0gJCgnPGRpdiBpZD0iaHRtbF83OWExMzA2MzU3YjA0ZmNkOWQwNmFiMjk1MjlhYjk4NCIgc3R5bGU9IndpZHRoOiAxMDAuMCU7IGhlaWdodDogMTAwLjAlOyI+S2F1bHNkb3JmPC9kaXY+JylbMF07CiAgICAgICAgICAgICAgICBwb3B1cF8zNDZkODk4NTE5OTc0ZGZhOGIyODQ1NjM1YmVhZGFhOC5zZXRDb250ZW50KGh0bWxfNzlhMTMwNjM1N2IwNGZjZDlkMDZhYjI5NTI5YWI5ODQpOwogICAgICAgICAgICAKCiAgICAgICAgICAgIGNpcmNsZV9tYXJrZXJfMmVkMThjMWE0ODJhNDliMWFjNzA5ZWYyNDNlODRmMTguYmluZFBvcHVwKHBvcHVwXzM0NmQ4OTg1MTk5NzRkZmE4YjI4NDU2MzViZWFkYWE4KTsKCiAgICAgICAgICAgIAogICAgICAgIAogICAgCiAgICAgICAgICAgIHZhciBjaXJjbGVfbWFya2VyX2VmNGFlODI0NzQ4ZTRiYzc4OTZkNDhiZDhlMjJjMzQxID0gTC5jaXJjbGVNYXJrZXIoCiAgICAgICAgICAgICAgICBbNTIuNTA2MTExLDEzLjYxNV0sCiAgICAgICAgICAgICAgICB7CiAgImJ1YmJsaW5nTW91c2VFdmVudHMiOiB0cnVlLAogICJjb2xvciI6ICJibHVlIiwKICAiZGFzaEFycmF5IjogbnVsbCwKICAiZGFzaE9mZnNldCI6IG51bGwsCiAgImZpbGwiOiB0cnVlLAogICJmaWxsQ29sb3IiOiAiIzMxODZjYyIsCiAgImZpbGxPcGFjaXR5IjogMC43LAogICJmaWxsUnVsZSI6ICJldmVub2RkIiwKICAibGluZUNhcCI6ICJyb3VuZCIsCiAgImxpbmVKb2luIjogInJvdW5kIiwKICAib3BhY2l0eSI6IDEuMCwKICAicmFkaXVzIjogNSwKICAic3Ryb2tlIjogdHJ1ZSwKICAid2VpZ2h0IjogMwp9CiAgICAgICAgICAgICAgICApLmFkZFRvKG1hcF84ZTI4ZGNlNjVlN2I0ZmQ4YjlhY2YzNzc5OTEwZTNjYyk7CiAgICAgICAgICAgIAogICAgCiAgICAgICAgICAgIHZhciBwb3B1cF9kY2VjNzI0ZDZkMGE0ZjM0YWE5YjU1M2YwZjIzYmZhMiA9IEwucG9wdXAoe21heFdpZHRoOiAnMzAwJ30pOwoKICAgICAgICAgICAgCiAgICAgICAgICAgICAgICB2YXIgaHRtbF83NDhhNWQ2YWMwOGE0MTJlOTk1YTg2MWE5Yjc1NTgzYiA9ICQoJzxkaXYgaWQ9Imh0bWxfNzQ4YTVkNmFjMDhhNDEyZTk5NWE4NjFhOWI3NTU4M2IiIHN0eWxlPSJ3aWR0aDogMTAwLjAlOyBoZWlnaHQ6IDEwMC4wJTsiPk1haGxzZG9yZjwvZGl2PicpWzBdOwogICAgICAgICAgICAgICAgcG9wdXBfZGNlYzcyNGQ2ZDBhNGYzNGFhOWI1NTNmMGYyM2JmYTIuc2V0Q29udGVudChodG1sXzc0OGE1ZDZhYzA4YTQxMmU5OTVhODYxYTliNzU1ODNiKTsKICAgICAgICAgICAgCgogICAgICAgICAgICBjaXJjbGVfbWFya2VyX2VmNGFlODI0NzQ4ZTRiYzc4OTZkNDhiZDhlMjJjMzQxLmJpbmRQb3B1cChwb3B1cF9kY2VjNzI0ZDZkMGE0ZjM0YWE5YjU1M2YwZjIzYmZhMik7CgogICAgICAgICAgICAKICAgICAgICAKICAgIAogICAgICAgICAgICB2YXIgY2lyY2xlX21hcmtlcl81NjFlOTU5MmY2YjE0MmZkOWJlM2ExOTBkY2Y5Nzg4ZCA9IEwuY2lyY2xlTWFya2VyKAogICAgICAgICAgICAgICAgWzUyLjUzOTE2NzAwMDAwMDAwNiwxMy41OTIyMjJdLAogICAgICAgICAgICAgICAgewogICJidWJibGluZ01vdXNlRXZlbnRzIjogdHJ1ZSwKICAiY29sb3IiOiAiYmx1ZSIsCiAgImRhc2hBcnJheSI6IG51bGwsCiAgImRhc2hPZmZzZXQiOiBudWxsLAogICJmaWxsIjogdHJ1ZSwKICAiZmlsbENvbG9yIjogIiMzMTg2Y2MiLAogICJmaWxsT3BhY2l0eSI6IDAuNywKICAiZmlsbFJ1bGUiOiAiZXZlbm9kZCIsCiAgImxpbmVDYXAiOiAicm91bmQiLAogICJsaW5lSm9pbiI6ICJyb3VuZCIsCiAgIm9wYWNpdHkiOiAxLjAsCiAgInJhZGl1cyI6IDUsCiAgInN0cm9rZSI6IHRydWUsCiAgIndlaWdodCI6IDMKfQogICAgICAgICAgICAgICAgKS5hZGRUbyhtYXBfOGUyOGRjZTY1ZTdiNGZkOGI5YWNmMzc3OTkxMGUzY2MpOwogICAgICAgICAgICAKICAgIAogICAgICAgICAgICB2YXIgcG9wdXBfMjhkMTBhZDM4NTg1NDU5Y2FhYTlmNmQ1MDQxOTlhZmIgPSBMLnBvcHVwKHttYXhXaWR0aDogJzMwMCd9KTsKCiAgICAgICAgICAgIAogICAgICAgICAgICAgICAgdmFyIGh0bWxfY2E0N2U4NDI4YWFjNDU0MWFkNjc4MDJkY2UwNmE0NDkgPSAkKCc8ZGl2IGlkPSJodG1sX2NhNDdlODQyOGFhYzQ1NDFhZDY3ODAyZGNlMDZhNDQ5IiBzdHlsZT0id2lkdGg6IDEwMC4wJTsgaGVpZ2h0OiAxMDAuMCU7Ij5IZWxsZXJzZG9yZjwvZGl2PicpWzBdOwogICAgICAgICAgICAgICAgcG9wdXBfMjhkMTBhZDM4NTg1NDU5Y2FhYTlmNmQ1MDQxOTlhZmIuc2V0Q29udGVudChodG1sX2NhNDdlODQyOGFhYzQ1NDFhZDY3ODAyZGNlMDZhNDQ5KTsKICAgICAgICAgICAgCgogICAgICAgICAgICBjaXJjbGVfbWFya2VyXzU2MWU5NTkyZjZiMTQyZmQ5YmUzYTE5MGRjZjk3ODhkLmJpbmRQb3B1cChwb3B1cF8yOGQxMGFkMzg1ODU0NTljYWFhOWY2ZDUwNDE5OWFmYik7CgogICAgICAgICAgICAKICAgICAgICAKICAgIAogICAgICAgICAgICB2YXIgY2lyY2xlX21hcmtlcl9mNWMzNTUzMzcxOGM0YmRiYWNlNmNhOTQzZTY3ZmM2MyA9IEwuY2lyY2xlTWFya2VyKAogICAgICAgICAgICAgICAgWzUyLjUwNTgzMjk5OTk5OTk5NiwxMy41MTkxNjcwMDAwMDAwMDFdLAogICAgICAgICAgICAgICAgewogICJidWJibGluZ01vdXNlRXZlbnRzIjogdHJ1ZSwKICAiY29sb3IiOiAiYmx1ZSIsCiAgImRhc2hBcnJheSI6IG51bGwsCiAgImRhc2hPZmZzZXQiOiBudWxsLAogICJmaWxsIjogdHJ1ZSwKICAiZmlsbENvbG9yIjogIiMzMTg2Y2MiLAogICJmaWxsT3BhY2l0eSI6IDAuNywKICAiZmlsbFJ1bGUiOiAiZXZlbm9kZCIsCiAgImxpbmVDYXAiOiAicm91bmQiLAogICJsaW5lSm9pbiI6ICJyb3VuZCIsCiAgIm9wYWNpdHkiOiAxLjAsCiAgInJhZGl1cyI6IDUsCiAgInN0cm9rZSI6IHRydWUsCiAgIndlaWdodCI6IDMKfQogICAgICAgICAgICAgICAgKS5hZGRUbyhtYXBfOGUyOGRjZTY1ZTdiNGZkOGI5YWNmMzc3OTkxMGUzY2MpOwogICAgICAgICAgICAKICAgIAogICAgICAgICAgICB2YXIgcG9wdXBfOWJkMDE3MjEzYjBjNDJkNWJkYjRjMTkzMDM2ZDQwZWMgPSBMLnBvcHVwKHttYXhXaWR0aDogJzMwMCd9KTsKCiAgICAgICAgICAgIAogICAgICAgICAgICAgICAgdmFyIGh0bWxfY2EyM2QzZTExNjliNDJmYjllYzk0OGUwNWJiYWQ1YjQgPSAkKCc8ZGl2IGlkPSJodG1sX2NhMjNkM2UxMTY5YjQyZmI5ZWM5NDhlMDViYmFkNWI0IiBzdHlsZT0id2lkdGg6IDEwMC4wJTsgaGVpZ2h0OiAxMDAuMCU7Ij5GcmllZHJpY2hzZmVsZGU8L2Rpdj4nKVswXTsKICAgICAgICAgICAgICAgIHBvcHVwXzliZDAxNzIxM2IwYzQyZDViZGI0YzE5MzAzNmQ0MGVjLnNldENvbnRlbnQoaHRtbF9jYTIzZDNlMTE2OWI0MmZiOWVjOTQ4ZTA1YmJhZDViNCk7CiAgICAgICAgICAgIAoKICAgICAgICAgICAgY2lyY2xlX21hcmtlcl9mNWMzNTUzMzcxOGM0YmRiYWNlNmNhOTQzZTY3ZmM2My5iaW5kUG9wdXAocG9wdXBfOWJkMDE3MjEzYjBjNDJkNWJkYjRjMTkzMDM2ZDQwZWMpOwoKICAgICAgICAgICAgCiAgICAgICAgCiAgICAKICAgICAgICAgICAgdmFyIGNpcmNsZV9tYXJrZXJfMTRhMDc5MTg4ZGU5NDhiOWFiMjVkMTAzZDk0NmU0NGUgPSBMLmNpcmNsZU1hcmtlcigKICAgICAgICAgICAgICAgIFs1Mi41MjExMTEsMTMuNDhdLAogICAgICAgICAgICAgICAgewogICJidWJibGluZ01vdXNlRXZlbnRzIjogdHJ1ZSwKICAiY29sb3IiOiAiYmx1ZSIsCiAgImRhc2hBcnJheSI6IG51bGwsCiAgImRhc2hPZmZzZXQiOiBudWxsLAogICJmaWxsIjogdHJ1ZSwKICAiZmlsbENvbG9yIjogIiMzMTg2Y2MiLAogICJmaWxsT3BhY2l0eSI6IDAuNywKICAiZmlsbFJ1bGUiOiAiZXZlbm9kZCIsCiAgImxpbmVDYXAiOiAicm91bmQiLAogICJsaW5lSm9pbiI6ICJyb3VuZCIsCiAgIm9wYWNpdHkiOiAxLjAsCiAgInJhZGl1cyI6IDUsCiAgInN0cm9rZSI6IHRydWUsCiAgIndlaWdodCI6IDMKfQogICAgICAgICAgICAgICAgKS5hZGRUbyhtYXBfOGUyOGRjZTY1ZTdiNGZkOGI5YWNmMzc3OTkxMGUzY2MpOwogICAgICAgICAgICAKICAgIAogICAgICAgICAgICB2YXIgcG9wdXBfOTg1ZWRkMzE3NjY2NDIxYWE3OWU2ZThmYWE5Yjc4ZGMgPSBMLnBvcHVwKHttYXhXaWR0aDogJzMwMCd9KTsKCiAgICAgICAgICAgIAogICAgICAgICAgICAgICAgdmFyIGh0bWxfYTIzM2I1ODMyNzA4NGE3Y2FlZGQ5Y2Y1YzI1ZTlmZjUgPSAkKCc8ZGl2IGlkPSJodG1sX2EyMzNiNTgzMjcwODRhN2NhZWRkOWNmNWMyNWU5ZmY1IiBzdHlsZT0id2lkdGg6IDEwMC4wJTsgaGVpZ2h0OiAxMDAuMCU7Ij5LYXJsc2hvcnN0PC9kaXY+JylbMF07CiAgICAgICAgICAgICAgICBwb3B1cF85ODVlZGQzMTc2NjY0MjFhYTc5ZTZlOGZhYTliNzhkYy5zZXRDb250ZW50KGh0bWxfYTIzM2I1ODMyNzA4NGE3Y2FlZGQ5Y2Y1YzI1ZTlmZjUpOwogICAgICAgICAgICAKCiAgICAgICAgICAgIGNpcmNsZV9tYXJrZXJfMTRhMDc5MTg4ZGU5NDhiOWFiMjVkMTAzZDk0NmU0NGUuYmluZFBvcHVwKHBvcHVwXzk4NWVkZDMxNzY2NjQyMWFhNzllNmU4ZmFhOWI3OGRjKTsKCiAgICAgICAgICAgIAogICAgICAgIAogICAgCiAgICAgICAgICAgIHZhciBjaXJjbGVfbWFya2VyXzViNjQ2NDM2YWY4YzQzNWNiOWQ4ZTlmYmUwNGJlYTgyID0gTC5jaXJjbGVNYXJrZXIoCiAgICAgICAgICAgICAgICBbNTIuNTIxMTExLDEzLjQ4XSwKICAgICAgICAgICAgICAgIHsKICAiYnViYmxpbmdNb3VzZUV2ZW50cyI6IHRydWUsCiAgImNvbG9yIjogImJsdWUiLAogICJkYXNoQXJyYXkiOiBudWxsLAogICJkYXNoT2Zmc2V0IjogbnVsbCwKICAiZmlsbCI6IHRydWUsCiAgImZpbGxDb2xvciI6ICIjMzE4NmNjIiwKICAiZmlsbE9wYWNpdHkiOiAwLjcsCiAgImZpbGxSdWxlIjogImV2ZW5vZGQiLAogICJsaW5lQ2FwIjogInJvdW5kIiwKICAibGluZUpvaW4iOiAicm91bmQiLAogICJvcGFjaXR5IjogMS4wLAogICJyYWRpdXMiOiA1LAogICJzdHJva2UiOiB0cnVlLAogICJ3ZWlnaHQiOiAzCn0KICAgICAgICAgICAgICAgICkuYWRkVG8obWFwXzhlMjhkY2U2NWU3YjRmZDhiOWFjZjM3Nzk5MTBlM2NjKTsKICAgICAgICAgICAgCiAgICAKICAgICAgICAgICAgdmFyIHBvcHVwX2U1OTRmNzIyMjk1NDQzMzg5ZjIwZDkwZjIzYTFjOTRjID0gTC5wb3B1cCh7bWF4V2lkdGg6ICczMDAnfSk7CgogICAgICAgICAgICAKICAgICAgICAgICAgICAgIHZhciBodG1sXzI4Nzk2YzBmYzIyYTQ3Y2Q4NzczMTFmNDgyYjI3MjI1ID0gJCgnPGRpdiBpZD0iaHRtbF8yODc5NmMwZmMyMmE0N2NkODc3MzExZjQ4MmIyNzIyNSIgc3R5bGU9IndpZHRoOiAxMDAuMCU7IGhlaWdodDogMTAwLjAlOyI+TGljaHRlbmJlcmc8L2Rpdj4nKVswXTsKICAgICAgICAgICAgICAgIHBvcHVwX2U1OTRmNzIyMjk1NDQzMzg5ZjIwZDkwZjIzYTFjOTRjLnNldENvbnRlbnQoaHRtbF8yODc5NmMwZmMyMmE0N2NkODc3MzExZjQ4MmIyNzIyNSk7CiAgICAgICAgICAgIAoKICAgICAgICAgICAgY2lyY2xlX21hcmtlcl81YjY0NjQzNmFmOGM0MzVjYjlkOGU5ZmJlMDRiZWE4Mi5iaW5kUG9wdXAocG9wdXBfZTU5NGY3MjIyOTU0NDMzODlmMjBkOTBmMjNhMWM5NGMpOwoKICAgICAgICAgICAgCiAgICAgICAgCiAgICAKICAgICAgICAgICAgdmFyIGNpcmNsZV9tYXJrZXJfNmMwMDc4NjMzY2VlNGUyNDk1ZTE3NmVhYzgzMGU5ODkgPSBMLmNpcmNsZU1hcmtlcigKICAgICAgICAgICAgICAgIFs1Mi41MDU4MzI5OTk5OTk5OTYsMTMuNTE5MTY3MDAwMDAwMDAxXSwKICAgICAgICAgICAgICAgIHsKICAiYnViYmxpbmdNb3VzZUV2ZW50cyI6IHRydWUsCiAgImNvbG9yIjogImJsdWUiLAogICJkYXNoQXJyYXkiOiBudWxsLAogICJkYXNoT2Zmc2V0IjogbnVsbCwKICAiZmlsbCI6IHRydWUsCiAgImZpbGxDb2xvciI6ICIjMzE4NmNjIiwKICAiZmlsbE9wYWNpdHkiOiAwLjcsCiAgImZpbGxSdWxlIjogImV2ZW5vZGQiLAogICJsaW5lQ2FwIjogInJvdW5kIiwKICAibGluZUpvaW4iOiAicm91bmQiLAogICJvcGFjaXR5IjogMS4wLAogICJyYWRpdXMiOiA1LAogICJzdHJva2UiOiB0cnVlLAogICJ3ZWlnaHQiOiAzCn0KICAgICAgICAgICAgICAgICkuYWRkVG8obWFwXzhlMjhkY2U2NWU3YjRmZDhiOWFjZjM3Nzk5MTBlM2NjKTsKICAgICAgICAgICAgCiAgICAKICAgICAgICAgICAgdmFyIHBvcHVwXzJmN2QyMTg4ZjViZjQxZTlhMzc1YmJjZmQwOGE5YjM3ID0gTC5wb3B1cCh7bWF4V2lkdGg6ICczMDAnfSk7CgogICAgICAgICAgICAKICAgICAgICAgICAgICAgIHZhciBodG1sX2RmNTZhZmVhYjUzYjQyYzk4NDNlMDIzZDNlMjU1NTdlID0gJCgnPGRpdiBpZD0iaHRtbF9kZjU2YWZlYWI1M2I0MmM5ODQzZTAyM2QzZTI1NTU3ZSIgc3R5bGU9IndpZHRoOiAxMDAuMCU7IGhlaWdodDogMTAwLjAlOyI+RmFsa2VuYmVyZzwvZGl2PicpWzBdOwogICAgICAgICAgICAgICAgcG9wdXBfMmY3ZDIxODhmNWJmNDFlOWEzNzViYmNmZDA4YTliMzcuc2V0Q29udGVudChodG1sX2RmNTZhZmVhYjUzYjQyYzk4NDNlMDIzZDNlMjU1NTdlKTsKICAgICAgICAgICAgCgogICAgICAgICAgICBjaXJjbGVfbWFya2VyXzZjMDA3ODYzM2NlZTRlMjQ5NWUxNzZlYWM4MzBlOTg5LmJpbmRQb3B1cChwb3B1cF8yZjdkMjE4OGY1YmY0MWU5YTM3NWJiY2ZkMDhhOWIzNyk7CgogICAgICAgICAgICAKICAgICAgICAKICAgIAogICAgICAgICAgICB2YXIgY2lyY2xlX21hcmtlcl8xNTE1ZGQ0ZmFiYTQ0YTg1YjU2OWYwOTczOWJmOGVhNSA9IEwuY2lyY2xlTWFya2VyKAogICAgICAgICAgICAgICAgWzUyLjU3OTE2NzAwMDAwMDAwNSwxMy40ODI1XSwKICAgICAgICAgICAgICAgIHsKICAiYnViYmxpbmdNb3VzZUV2ZW50cyI6IHRydWUsCiAgImNvbG9yIjogImJsdWUiLAogICJkYXNoQXJyYXkiOiBudWxsLAogICJkYXNoT2Zmc2V0IjogbnVsbCwKICAiZmlsbCI6IHRydWUsCiAgImZpbGxDb2xvciI6ICIjMzE4NmNjIiwKICAiZmlsbE9wYWNpdHkiOiAwLjcsCiAgImZpbGxSdWxlIjogImV2ZW5vZGQiLAogICJsaW5lQ2FwIjogInJvdW5kIiwKICAibGluZUpvaW4iOiAicm91bmQiLAogICJvcGFjaXR5IjogMS4wLAogICJyYWRpdXMiOiA1LAogICJzdHJva2UiOiB0cnVlLAogICJ3ZWlnaHQiOiAzCn0KICAgICAgICAgICAgICAgICkuYWRkVG8obWFwXzhlMjhkY2U2NWU3YjRmZDhiOWFjZjM3Nzk5MTBlM2NjKTsKICAgICAgICAgICAgCiAgICAKICAgICAgICAgICAgdmFyIHBvcHVwX2Q5OWUwODc3OTBhMTQ2NzdhYzgzZmY0ZGI1NjMwNGZlID0gTC5wb3B1cCh7bWF4V2lkdGg6ICczMDAnfSk7CgogICAgICAgICAgICAKICAgICAgICAgICAgICAgIHZhciBodG1sX2VlOTdmMDE0MTM0NDRhMjg4Y2YyMzY4Y2NhZGMwNmQ3ID0gJCgnPGRpdiBpZD0iaHRtbF9lZTk3ZjAxNDEzNDQ0YTI4OGNmMjM2OGNjYWRjMDZkNyIgc3R5bGU9IndpZHRoOiAxMDAuMCU7IGhlaWdodDogMTAwLjAlOyI+TWFsY2hvdzwvZGl2PicpWzBdOwogICAgICAgICAgICAgICAgcG9wdXBfZDk5ZTA4Nzc5MGExNDY3N2FjODNmZjRkYjU2MzA0ZmUuc2V0Q29udGVudChodG1sX2VlOTdmMDE0MTM0NDRhMjg4Y2YyMzY4Y2NhZGMwNmQ3KTsKICAgICAgICAgICAgCgogICAgICAgICAgICBjaXJjbGVfbWFya2VyXzE1MTVkZDRmYWJhNDRhODViNTY5ZjA5NzM5YmY4ZWE1LmJpbmRQb3B1cChwb3B1cF9kOTllMDg3NzkwYTE0Njc3YWM4M2ZmNGRiNTYzMDRmZSk7CgogICAgICAgICAgICAKICAgICAgICAKICAgIAogICAgICAgICAgICB2YXIgY2lyY2xlX21hcmtlcl83ZTBmMmZlOGJkNDI0MGU0YWQ2MDBmZDQ5NThmNjhlMCA9IEwuY2lyY2xlTWFya2VyKAogICAgICAgICAgICAgICAgWzUyLjU3NDcyMTk5OTk5OTk5NCwxMy41MTgwNTZdLAogICAgICAgICAgICAgICAgewogICJidWJibGluZ01vdXNlRXZlbnRzIjogdHJ1ZSwKICAiY29sb3IiOiAiYmx1ZSIsCiAgImRhc2hBcnJheSI6IG51bGwsCiAgImRhc2hPZmZzZXQiOiBudWxsLAogICJmaWxsIjogdHJ1ZSwKICAiZmlsbENvbG9yIjogIiMzMTg2Y2MiLAogICJmaWxsT3BhY2l0eSI6IDAuNywKICAiZmlsbFJ1bGUiOiAiZXZlbm9kZCIsCiAgImxpbmVDYXAiOiAicm91bmQiLAogICJsaW5lSm9pbiI6ICJyb3VuZCIsCiAgIm9wYWNpdHkiOiAxLjAsCiAgInJhZGl1cyI6IDUsCiAgInN0cm9rZSI6IHRydWUsCiAgIndlaWdodCI6IDMKfQogICAgICAgICAgICAgICAgKS5hZGRUbyhtYXBfOGUyOGRjZTY1ZTdiNGZkOGI5YWNmMzc3OTkxMGUzY2MpOwogICAgICAgICAgICAKICAgIAogICAgICAgICAgICB2YXIgcG9wdXBfOTZiMTA2ZjZkZTkzNDJlNmEwOTNmMjBhZWZmZDI3NDMgPSBMLnBvcHVwKHttYXhXaWR0aDogJzMwMCd9KTsKCiAgICAgICAgICAgIAogICAgICAgICAgICAgICAgdmFyIGh0bWxfZDNiZDhhNDI5NzBkNDI2OThlN2M4NDVkNjk0ZDRlM2UgPSAkKCc8ZGl2IGlkPSJodG1sX2QzYmQ4YTQyOTcwZDQyNjk4ZTdjODQ1ZDY5NGQ0ZTNlIiBzdHlsZT0id2lkdGg6IDEwMC4wJTsgaGVpZ2h0OiAxMDAuMCU7Ij5XYXJ0ZW5iZXJnPC9kaXY+JylbMF07CiAgICAgICAgICAgICAgICBwb3B1cF85NmIxMDZmNmRlOTM0MmU2YTA5M2YyMGFlZmZkMjc0My5zZXRDb250ZW50KGh0bWxfZDNiZDhhNDI5NzBkNDI2OThlN2M4NDVkNjk0ZDRlM2UpOwogICAgICAgICAgICAKCiAgICAgICAgICAgIGNpcmNsZV9tYXJrZXJfN2UwZjJmZThiZDQyNDBlNGFkNjAwZmQ0OTU4ZjY4ZTAuYmluZFBvcHVwKHBvcHVwXzk2YjEwNmY2ZGU5MzQyZTZhMDkzZjIwYWVmZmQyNzQzKTsKCiAgICAgICAgICAgIAogICAgICAgIAogICAgCiAgICAgICAgICAgIHZhciBjaXJjbGVfbWFya2VyXzNmNzAzNDFmN2RkYjQwNmY4YmYxMWUyMjA0ZTk4MTRiID0gTC5jaXJjbGVNYXJrZXIoCiAgICAgICAgICAgICAgICBbNTIuNTYzMzMyOTk5OTk5OTksMTMuNTA1XSwKICAgICAgICAgICAgICAgIHsKICAiYnViYmxpbmdNb3VzZUV2ZW50cyI6IHRydWUsCiAgImNvbG9yIjogImJsdWUiLAogICJkYXNoQXJyYXkiOiBudWxsLAogICJkYXNoT2Zmc2V0IjogbnVsbCwKICAiZmlsbCI6IHRydWUsCiAgImZpbGxDb2xvciI6ICIjMzE4NmNjIiwKICAiZmlsbE9wYWNpdHkiOiAwLjcsCiAgImZpbGxSdWxlIjogImV2ZW5vZGQiLAogICJsaW5lQ2FwIjogInJvdW5kIiwKICAibGluZUpvaW4iOiAicm91bmQiLAogICJvcGFjaXR5IjogMS4wLAogICJyYWRpdXMiOiA1LAogICJzdHJva2UiOiB0cnVlLAogICJ3ZWlnaHQiOiAzCn0KICAgICAgICAgICAgICAgICkuYWRkVG8obWFwXzhlMjhkY2U2NWU3YjRmZDhiOWFjZjM3Nzk5MTBlM2NjKTsKICAgICAgICAgICAgCiAgICAKICAgICAgICAgICAgdmFyIHBvcHVwXzI4ZmIzY2I5Mzk0NzRkMjVhMTJmMGRkMDU1NWU2ZGEyID0gTC5wb3B1cCh7bWF4V2lkdGg6ICczMDAnfSk7CgogICAgICAgICAgICAKICAgICAgICAgICAgICAgIHZhciBodG1sXzI5YTQxMWI3YTM4ZjQzOThiNGQ2MjhmOWQ2ZjA5ZTY2ID0gJCgnPGRpdiBpZD0iaHRtbF8yOWE0MTFiN2EzOGY0Mzk4YjRkNjI4ZjlkNmYwOWU2NiIgc3R5bGU9IndpZHRoOiAxMDAuMCU7IGhlaWdodDogMTAwLjAlOyI+TmV1LUhvaGVuc2Now7ZuaGF1c2VuPC9kaXY+JylbMF07CiAgICAgICAgICAgICAgICBwb3B1cF8yOGZiM2NiOTM5NDc0ZDI1YTEyZjBkZDA1NTVlNmRhMi5zZXRDb250ZW50KGh0bWxfMjlhNDExYjdhMzhmNDM5OGI0ZDYyOGY5ZDZmMDllNjYpOwogICAgICAgICAgICAKCiAgICAgICAgICAgIGNpcmNsZV9tYXJrZXJfM2Y3MDM0MWY3ZGRiNDA2ZjhiZjExZTIyMDRlOTgxNGIuYmluZFBvcHVwKHBvcHVwXzI4ZmIzY2I5Mzk0NzRkMjVhMTJmMGRkMDU1NWU2ZGEyKTsKCiAgICAgICAgICAgIAogICAgICAgIAogICAgCiAgICAgICAgICAgIHZhciBjaXJjbGVfbWFya2VyXzhmY2U3M2ZjOWVmZTQ2YjM5MDJkYTQzNDE0YWExOTc5ID0gTC5jaXJjbGVNYXJrZXIoCiAgICAgICAgICAgICAgICBbNTIuNTk4NjExLDEzLjUwNzVdLAogICAgICAgICAgICAgICAgewogICJidWJibGluZ01vdXNlRXZlbnRzIjogdHJ1ZSwKICAiY29sb3IiOiAiYmx1ZSIsCiAgImRhc2hBcnJheSI6IG51bGwsCiAgImRhc2hPZmZzZXQiOiBudWxsLAogICJmaWxsIjogdHJ1ZSwKICAiZmlsbENvbG9yIjogIiMzMTg2Y2MiLAogICJmaWxsT3BhY2l0eSI6IDAuNywKICAiZmlsbFJ1bGUiOiAiZXZlbm9kZCIsCiAgImxpbmVDYXAiOiAicm91bmQiLAogICJsaW5lSm9pbiI6ICJyb3VuZCIsCiAgIm9wYWNpdHkiOiAxLjAsCiAgInJhZGl1cyI6IDUsCiAgInN0cm9rZSI6IHRydWUsCiAgIndlaWdodCI6IDMKfQogICAgICAgICAgICAgICAgKS5hZGRUbyhtYXBfOGUyOGRjZTY1ZTdiNGZkOGI5YWNmMzc3OTkxMGUzY2MpOwogICAgICAgICAgICAKICAgIAogICAgICAgICAgICB2YXIgcG9wdXBfODNkYTA2YmY1MGMyNDhiNWI2YmJlODU1MDk0YTAwYTAgPSBMLnBvcHVwKHttYXhXaWR0aDogJzMwMCd9KTsKCiAgICAgICAgICAgIAogICAgICAgICAgICAgICAgdmFyIGh0bWxfNjIzMWRlMTBjOTI1NDU3ZDkzOWJiNDY2YTZiZDI2N2EgPSAkKCc8ZGl2IGlkPSJodG1sXzYyMzFkZTEwYzkyNTQ1N2Q5MzliYjQ2NmE2YmQyNjdhIiBzdHlsZT0id2lkdGg6IDEwMC4wJTsgaGVpZ2h0OiAxMDAuMCU7Ij5BbHQtSG9oZW5zY2jDtm5oYXVzZW48L2Rpdj4nKVswXTsKICAgICAgICAgICAgICAgIHBvcHVwXzgzZGEwNmJmNTBjMjQ4YjViNmJiZTg1NTA5NGEwMGEwLnNldENvbnRlbnQoaHRtbF82MjMxZGUxMGM5MjU0NTdkOTM5YmI0NjZhNmJkMjY3YSk7CiAgICAgICAgICAgIAoKICAgICAgICAgICAgY2lyY2xlX21hcmtlcl84ZmNlNzNmYzllZmU0NmIzOTAyZGE0MzQxNGFhMTk3OS5iaW5kUG9wdXAocG9wdXBfODNkYTA2YmY1MGMyNDhiNWI2YmJlODU1MDk0YTAwYTApOwoKICAgICAgICAgICAgCiAgICAgICAgCiAgICAKICAgICAgICAgICAgdmFyIGNpcmNsZV9tYXJrZXJfOTM3OTJkMWJjZTZkNDUyYzgyY2YyZGQ4N2IwZGI3NjQgPSBMLmNpcmNsZU1hcmtlcigKICAgICAgICAgICAgICAgIFs1Mi41MjgzMzI5OTk5OTk5OTYsMTMuNDc0MTY3MDAwMDAwMDAxXSwKICAgICAgICAgICAgICAgIHsKICAiYnViYmxpbmdNb3VzZUV2ZW50cyI6IHRydWUsCiAgImNvbG9yIjogImJsdWUiLAogICJkYXNoQXJyYXkiOiBudWxsLAogICJkYXNoT2Zmc2V0IjogbnVsbCwKICAiZmlsbCI6IHRydWUsCiAgImZpbGxDb2xvciI6ICIjMzE4NmNjIiwKICAiZmlsbE9wYWNpdHkiOiAwLjcsCiAgImZpbGxSdWxlIjogImV2ZW5vZGQiLAogICJsaW5lQ2FwIjogInJvdW5kIiwKICAibGluZUpvaW4iOiAicm91bmQiLAogICJvcGFjaXR5IjogMS4wLAogICJyYWRpdXMiOiA1LAogICJzdHJva2UiOiB0cnVlLAogICJ3ZWlnaHQiOiAzCn0KICAgICAgICAgICAgICAgICkuYWRkVG8obWFwXzhlMjhkY2U2NWU3YjRmZDhiOWFjZjM3Nzk5MTBlM2NjKTsKICAgICAgICAgICAgCiAgICAKICAgICAgICAgICAgdmFyIHBvcHVwXzgxNGJkZmU5NzJjMDQzZjVhZTU4MDU4YTZlZTJhZjBlID0gTC5wb3B1cCh7bWF4V2lkdGg6ICczMDAnfSk7CgogICAgICAgICAgICAKICAgICAgICAgICAgICAgIHZhciBodG1sXzlhZmRlYzhjOTI2MjQ1OTE4ZWVmMDM4MTRjOWE5ZGM0ID0gJCgnPGRpdiBpZD0iaHRtbF85YWZkZWM4YzkyNjI0NTkxOGVlZjAzODE0YzlhOWRjNCIgc3R5bGU9IndpZHRoOiAxMDAuMCU7IGhlaWdodDogMTAwLjAlOyI+RmVubnBmdWhsPC9kaXY+JylbMF07CiAgICAgICAgICAgICAgICBwb3B1cF84MTRiZGZlOTcyYzA0M2Y1YWU1ODA1OGE2ZWUyYWYwZS5zZXRDb250ZW50KGh0bWxfOWFmZGVjOGM5MjYyNDU5MThlZWYwMzgxNGM5YTlkYzQpOwogICAgICAgICAgICAKCiAgICAgICAgICAgIGNpcmNsZV9tYXJrZXJfOTM3OTJkMWJjZTZkNDUyYzgyY2YyZGQ4N2IwZGI3NjQuYmluZFBvcHVwKHBvcHVwXzgxNGJkZmU5NzJjMDQzZjVhZTU4MDU4YTZlZTJhZjBlKTsKCiAgICAgICAgICAgIAogICAgICAgIAogICAgCiAgICAgICAgICAgIHZhciBjaXJjbGVfbWFya2VyXzUzNzU1OGFiODE3MjQ4ODU4M2Q4ODAwOWY1Y2M3OTY2ID0gTC5jaXJjbGVNYXJrZXIoCiAgICAgICAgICAgICAgICBbNTIuNSwxMy40OTI1XSwKICAgICAgICAgICAgICAgIHsKICAiYnViYmxpbmdNb3VzZUV2ZW50cyI6IHRydWUsCiAgImNvbG9yIjogImJsdWUiLAogICJkYXNoQXJyYXkiOiBudWxsLAogICJkYXNoT2Zmc2V0IjogbnVsbCwKICAiZmlsbCI6IHRydWUsCiAgImZpbGxDb2xvciI6ICIjMzE4NmNjIiwKICAiZmlsbE9wYWNpdHkiOiAwLjcsCiAgImZpbGxSdWxlIjogImV2ZW5vZGQiLAogICJsaW5lQ2FwIjogInJvdW5kIiwKICAibGluZUpvaW4iOiAicm91bmQiLAogICJvcGFjaXR5IjogMS4wLAogICJyYWRpdXMiOiA1LAogICJzdHJva2UiOiB0cnVlLAogICJ3ZWlnaHQiOiAzCn0KICAgICAgICAgICAgICAgICkuYWRkVG8obWFwXzhlMjhkY2U2NWU3YjRmZDhiOWFjZjM3Nzk5MTBlM2NjKTsKICAgICAgICAgICAgCiAgICAKICAgICAgICAgICAgdmFyIHBvcHVwXzE0ZWNiZjMwMDkxODQzNjViMzM0NGY2ZjBjOWE3YzkwID0gTC5wb3B1cCh7bWF4V2lkdGg6ICczMDAnfSk7CgogICAgICAgICAgICAKICAgICAgICAgICAgICAgIHZhciBodG1sX2FhNWQzMDQ2NmYyYzQ2ZGQ4OTI1MzRiZjRjZjQ1ZDI4ID0gJCgnPGRpdiBpZD0iaHRtbF9hYTVkMzA0NjZmMmM0NmRkODkyNTM0YmY0Y2Y0NWQyOCIgc3R5bGU9IndpZHRoOiAxMDAuMCU7IGhlaWdodDogMTAwLjAlOyI+UnVtbWVsc2J1cmc8L2Rpdj4nKVswXTsKICAgICAgICAgICAgICAgIHBvcHVwXzE0ZWNiZjMwMDkxODQzNjViMzM0NGY2ZjBjOWE3YzkwLnNldENvbnRlbnQoaHRtbF9hYTVkMzA0NjZmMmM0NmRkODkyNTM0YmY0Y2Y0NWQyOCk7CiAgICAgICAgICAgIAoKICAgICAgICAgICAgY2lyY2xlX21hcmtlcl81Mzc1NThhYjgxNzI0ODg1ODNkODgwMDlmNWNjNzk2Ni5iaW5kUG9wdXAocG9wdXBfMTRlY2JmMzAwOTE4NDM2NWIzMzQ0ZjZmMGM5YTdjOTApOwoKICAgICAgICAgICAgCiAgICAgICAgCiAgICAKICAgICAgICAgICAgdmFyIGNpcmNsZV9tYXJrZXJfOGI2MzYzZmRhZmMyNDBhNTk4YTA1NDQ5NTZiMTAwYjIgPSBMLmNpcmNsZU1hcmtlcigKICAgICAgICAgICAgICAgIFs1Mi41NjY2NjcsMTMuMzMzMzMyOTk5OTk5OTk4XSwKICAgICAgICAgICAgICAgIHsKICAiYnViYmxpbmdNb3VzZUV2ZW50cyI6IHRydWUsCiAgImNvbG9yIjogImJsdWUiLAogICJkYXNoQXJyYXkiOiBudWxsLAogICJkYXNoT2Zmc2V0IjogbnVsbCwKICAiZmlsbCI6IHRydWUsCiAgImZpbGxDb2xvciI6ICIjMzE4NmNjIiwKICAiZmlsbE9wYWNpdHkiOiAwLjcsCiAgImZpbGxSdWxlIjogImV2ZW5vZGQiLAogICJsaW5lQ2FwIjogInJvdW5kIiwKICAibGluZUpvaW4iOiAicm91bmQiLAogICJvcGFjaXR5IjogMS4wLAogICJyYWRpdXMiOiA1LAogICJzdHJva2UiOiB0cnVlLAogICJ3ZWlnaHQiOiAzCn0KICAgICAgICAgICAgICAgICkuYWRkVG8obWFwXzhlMjhkY2U2NWU3YjRmZDhiOWFjZjM3Nzk5MTBlM2NjKTsKICAgICAgICAgICAgCiAgICAKICAgICAgICAgICAgdmFyIHBvcHVwX2Y5OTU0MTJmOTg3MzRiODhiZTI5ZTlkNTcwMzgzMzMwID0gTC5wb3B1cCh7bWF4V2lkdGg6ICczMDAnfSk7CgogICAgICAgICAgICAKICAgICAgICAgICAgICAgIHZhciBodG1sXzM5N2E3NDVkODRkMTQyMjM4YzNhZGVjZThlZmMxZjI1ID0gJCgnPGRpdiBpZD0iaHRtbF8zOTdhNzQ1ZDg0ZDE0MjIzOGMzYWRlY2U4ZWZjMWYyNSIgc3R5bGU9IndpZHRoOiAxMDAuMCU7IGhlaWdodDogMTAwLjAlOyI+UmVpbmlja2VuZG9yZjwvZGl2PicpWzBdOwogICAgICAgICAgICAgICAgcG9wdXBfZjk5NTQxMmY5ODczNGI4OGJlMjllOWQ1NzAzODMzMzAuc2V0Q29udGVudChodG1sXzM5N2E3NDVkODRkMTQyMjM4YzNhZGVjZThlZmMxZjI1KTsKICAgICAgICAgICAgCgogICAgICAgICAgICBjaXJjbGVfbWFya2VyXzhiNjM2M2ZkYWZjMjQwYTU5OGEwNTQ0OTU2YjEwMGIyLmJpbmRQb3B1cChwb3B1cF9mOTk1NDEyZjk4NzM0Yjg4YmUyOWU5ZDU3MDM4MzMzMCk7CgogICAgICAgICAgICAKICAgICAgICAKICAgIAogICAgICAgICAgICB2YXIgY2lyY2xlX21hcmtlcl85MTlmMzE4MmFmZDQ0M2M4OGMzZjAxYmRjMTFkNDVhMSA9IEwuY2lyY2xlTWFya2VyKAogICAgICAgICAgICAgICAgWzUyLjU4MzMzMjk5OTk5OTk5NiwxMy4yODMzMzI5OTk5OTk5OTldLAogICAgICAgICAgICAgICAgewogICJidWJibGluZ01vdXNlRXZlbnRzIjogdHJ1ZSwKICAiY29sb3IiOiAiYmx1ZSIsCiAgImRhc2hBcnJheSI6IG51bGwsCiAgImRhc2hPZmZzZXQiOiBudWxsLAogICJmaWxsIjogdHJ1ZSwKICAiZmlsbENvbG9yIjogIiMzMTg2Y2MiLAogICJmaWxsT3BhY2l0eSI6IDAuNywKICAiZmlsbFJ1bGUiOiAiZXZlbm9kZCIsCiAgImxpbmVDYXAiOiAicm91bmQiLAogICJsaW5lSm9pbiI6ICJyb3VuZCIsCiAgIm9wYWNpdHkiOiAxLjAsCiAgInJhZGl1cyI6IDUsCiAgInN0cm9rZSI6IHRydWUsCiAgIndlaWdodCI6IDMKfQogICAgICAgICAgICAgICAgKS5hZGRUbyhtYXBfOGUyOGRjZTY1ZTdiNGZkOGI5YWNmMzc3OTkxMGUzY2MpOwogICAgICAgICAgICAKICAgIAogICAgICAgICAgICB2YXIgcG9wdXBfOThlYjY0N2Y3MzgzNGI4NWExNDBmNGI3ZDQ0NDRiZDIgPSBMLnBvcHVwKHttYXhXaWR0aDogJzMwMCd9KTsKCiAgICAgICAgICAgIAogICAgICAgICAgICAgICAgdmFyIGh0bWxfOTEwN2M0ZjkwODZmNDNlYWIyNzIyZGQ5M2Q2NWNiNWQgPSAkKCc8ZGl2IGlkPSJodG1sXzkxMDdjNGY5MDg2ZjQzZWFiMjcyMmRkOTNkNjVjYjVkIiBzdHlsZT0id2lkdGg6IDEwMC4wJTsgaGVpZ2h0OiAxMDAuMCU7Ij5UZWdlbDwvZGl2PicpWzBdOwogICAgICAgICAgICAgICAgcG9wdXBfOThlYjY0N2Y3MzgzNGI4NWExNDBmNGI3ZDQ0NDRiZDIuc2V0Q29udGVudChodG1sXzkxMDdjNGY5MDg2ZjQzZWFiMjcyMmRkOTNkNjVjYjVkKTsKICAgICAgICAgICAgCgogICAgICAgICAgICBjaXJjbGVfbWFya2VyXzkxOWYzMTgyYWZkNDQzYzg4YzNmMDFiZGMxMWQ0NWExLmJpbmRQb3B1cChwb3B1cF85OGViNjQ3ZjczODM0Yjg1YTE0MGY0YjdkNDQ0NGJkMik7CgogICAgICAgICAgICAKICAgICAgICAKICAgIAogICAgICAgICAgICB2YXIgY2lyY2xlX21hcmtlcl8xNjEyMmZlYTM5ZGU0ZjlhYmZjNjQ4ZDlkMGE4OGY5MCA9IEwuY2lyY2xlTWFya2VyKAogICAgICAgICAgICAgICAgWzUyLjYxNjY2NzAwMDAwMDAxLDEzLjM2NjY2NzAwMDAwMDAwMV0sCiAgICAgICAgICAgICAgICB7CiAgImJ1YmJsaW5nTW91c2VFdmVudHMiOiB0cnVlLAogICJjb2xvciI6ICJibHVlIiwKICAiZGFzaEFycmF5IjogbnVsbCwKICAiZGFzaE9mZnNldCI6IG51bGwsCiAgImZpbGwiOiB0cnVlLAogICJmaWxsQ29sb3IiOiAiIzMxODZjYyIsCiAgImZpbGxPcGFjaXR5IjogMC43LAogICJmaWxsUnVsZSI6ICJldmVub2RkIiwKICAibGluZUNhcCI6ICJyb3VuZCIsCiAgImxpbmVKb2luIjogInJvdW5kIiwKICAib3BhY2l0eSI6IDEuMCwKICAicmFkaXVzIjogNSwKICAic3Ryb2tlIjogdHJ1ZSwKICAid2VpZ2h0IjogMwp9CiAgICAgICAgICAgICAgICApLmFkZFRvKG1hcF84ZTI4ZGNlNjVlN2I0ZmQ4YjlhY2YzNzc5OTEwZTNjYyk7CiAgICAgICAgICAgIAogICAgCiAgICAgICAgICAgIHZhciBwb3B1cF8wOTlmODVmNmU4ZGE0OGIzYjA2NWFkNTgzYjVhNGFhMyA9IEwucG9wdXAoe21heFdpZHRoOiAnMzAwJ30pOwoKICAgICAgICAgICAgCiAgICAgICAgICAgICAgICB2YXIgaHRtbF9jZjFmNDg5NzNiM2Q0OTIwYWRhMjQ1OGMyMjFjNjRjYyA9ICQoJzxkaXYgaWQ9Imh0bWxfY2YxZjQ4OTczYjNkNDkyMGFkYTI0NThjMjIxYzY0Y2MiIHN0eWxlPSJ3aWR0aDogMTAwLjAlOyBoZWlnaHQ6IDEwMC4wJTsiPktvbnJhZHNow7ZoZTwvZGl2PicpWzBdOwogICAgICAgICAgICAgICAgcG9wdXBfMDk5Zjg1ZjZlOGRhNDhiM2IwNjVhZDU4M2I1YTRhYTMuc2V0Q29udGVudChodG1sX2NmMWY0ODk3M2IzZDQ5MjBhZGEyNDU4YzIyMWM2NGNjKTsKICAgICAgICAgICAgCgogICAgICAgICAgICBjaXJjbGVfbWFya2VyXzE2MTIyZmVhMzlkZTRmOWFiZmM2NDhkOWQwYTg4ZjkwLmJpbmRQb3B1cChwb3B1cF8wOTlmODVmNmU4ZGE0OGIzYjA2NWFkNTgzYjVhNGFhMyk7CgogICAgICAgICAgICAKICAgICAgICAKICAgIAogICAgICAgICAgICB2YXIgY2lyY2xlX21hcmtlcl84MGVhOWY5NmU4ZGE0ZDM1OThkYmM3MzZmNTkxNDg4MiA9IEwuY2lyY2xlTWFya2VyKAogICAgICAgICAgICAgICAgWzUyLjYxNjY2NzAwMDAwMDAxLDEzLjIzMzMzMjk5OTk5OTk5OF0sCiAgICAgICAgICAgICAgICB7CiAgImJ1YmJsaW5nTW91c2VFdmVudHMiOiB0cnVlLAogICJjb2xvciI6ICJibHVlIiwKICAiZGFzaEFycmF5IjogbnVsbCwKICAiZGFzaE9mZnNldCI6IG51bGwsCiAgImZpbGwiOiB0cnVlLAogICJmaWxsQ29sb3IiOiAiIzMxODZjYyIsCiAgImZpbGxPcGFjaXR5IjogMC43LAogICJmaWxsUnVsZSI6ICJldmVub2RkIiwKICAibGluZUNhcCI6ICJyb3VuZCIsCiAgImxpbmVKb2luIjogInJvdW5kIiwKICAib3BhY2l0eSI6IDEuMCwKICAicmFkaXVzIjogNSwKICAic3Ryb2tlIjogdHJ1ZSwKICAid2VpZ2h0IjogMwp9CiAgICAgICAgICAgICAgICApLmFkZFRvKG1hcF84ZTI4ZGNlNjVlN2I0ZmQ4YjlhY2YzNzc5OTEwZTNjYyk7CiAgICAgICAgICAgIAogICAgCiAgICAgICAgICAgIHZhciBwb3B1cF9mZDI4OTY3NmM1Y2Y0NTk2YjNhYTQ2ZGMxN2M4NGJjMSA9IEwucG9wdXAoe21heFdpZHRoOiAnMzAwJ30pOwoKICAgICAgICAgICAgCiAgICAgICAgICAgICAgICB2YXIgaHRtbF81ZDg5YzQyNDgzMTI0NjhkOTFjNjY0YTc2N2FjZTI2YyA9ICQoJzxkaXYgaWQ9Imh0bWxfNWQ4OWM0MjQ4MzEyNDY4ZDkxYzY2NGE3NjdhY2UyNmMiIHN0eWxlPSJ3aWR0aDogMTAwLjAlOyBoZWlnaHQ6IDEwMC4wJTsiPkhlaWxpZ2Vuc2VlPC9kaXY+JylbMF07CiAgICAgICAgICAgICAgICBwb3B1cF9mZDI4OTY3NmM1Y2Y0NTk2YjNhYTQ2ZGMxN2M4NGJjMS5zZXRDb250ZW50KGh0bWxfNWQ4OWM0MjQ4MzEyNDY4ZDkxYzY2NGE3NjdhY2UyNmMpOwogICAgICAgICAgICAKCiAgICAgICAgICAgIGNpcmNsZV9tYXJrZXJfODBlYTlmOTZlOGRhNGQzNTk4ZGJjNzM2ZjU5MTQ4ODIuYmluZFBvcHVwKHBvcHVwX2ZkMjg5Njc2YzVjZjQ1OTZiM2FhNDZkYzE3Yzg0YmMxKTsKCiAgICAgICAgICAgIAogICAgICAgIAogICAgCiAgICAgICAgICAgIHZhciBjaXJjbGVfbWFya2VyXzQ1NjlmNDk5OTllMjQ4NzhhYjA1ZjNjNjJhYWQyNjU4ID0gTC5jaXJjbGVNYXJrZXIoCiAgICAgICAgICAgICAgICBbNTIuNjMzMzMyOTk5OTk5OTksMTMuM10sCiAgICAgICAgICAgICAgICB7CiAgImJ1YmJsaW5nTW91c2VFdmVudHMiOiB0cnVlLAogICJjb2xvciI6ICJibHVlIiwKICAiZGFzaEFycmF5IjogbnVsbCwKICAiZGFzaE9mZnNldCI6IG51bGwsCiAgImZpbGwiOiB0cnVlLAogICJmaWxsQ29sb3IiOiAiIzMxODZjYyIsCiAgImZpbGxPcGFjaXR5IjogMC43LAogICJmaWxsUnVsZSI6ICJldmVub2RkIiwKICAibGluZUNhcCI6ICJyb3VuZCIsCiAgImxpbmVKb2luIjogInJvdW5kIiwKICAib3BhY2l0eSI6IDEuMCwKICAicmFkaXVzIjogNSwKICAic3Ryb2tlIjogdHJ1ZSwKICAid2VpZ2h0IjogMwp9CiAgICAgICAgICAgICAgICApLmFkZFRvKG1hcF84ZTI4ZGNlNjVlN2I0ZmQ4YjlhY2YzNzc5OTEwZTNjYyk7CiAgICAgICAgICAgIAogICAgCiAgICAgICAgICAgIHZhciBwb3B1cF8zMWRjZTRlOGIzMTk0OTM0YjUwYjA1M2Q1MWMyZjhlMyA9IEwucG9wdXAoe21heFdpZHRoOiAnMzAwJ30pOwoKICAgICAgICAgICAgCiAgICAgICAgICAgICAgICB2YXIgaHRtbF9mOWFlMjYxYWNmOWM0MGFhYWQ5MWViMmRhNjMyODEyYSA9ICQoJzxkaXYgaWQ9Imh0bWxfZjlhZTI2MWFjZjljNDBhYWFkOTFlYjJkYTYzMjgxMmEiIHN0eWxlPSJ3aWR0aDogMTAwLjAlOyBoZWlnaHQ6IDEwMC4wJTsiPkZyb2huYXU8L2Rpdj4nKVswXTsKICAgICAgICAgICAgICAgIHBvcHVwXzMxZGNlNGU4YjMxOTQ5MzRiNTBiMDUzZDUxYzJmOGUzLnNldENvbnRlbnQoaHRtbF9mOWFlMjYxYWNmOWM0MGFhYWQ5MWViMmRhNjMyODEyYSk7CiAgICAgICAgICAgIAoKICAgICAgICAgICAgY2lyY2xlX21hcmtlcl80NTY5ZjQ5OTk5ZTI0ODc4YWIwNWYzYzYyYWFkMjY1OC5iaW5kUG9wdXAocG9wdXBfMzFkY2U0ZThiMzE5NDkzNGI1MGIwNTNkNTFjMmY4ZTMpOwoKICAgICAgICAgICAgCiAgICAgICAgCiAgICAKICAgICAgICAgICAgdmFyIGNpcmNsZV9tYXJrZXJfNjc0ZDIwY2FlMmUwNGQ5NmJlMmQ1NGZmNWU3MGZiZTAgPSBMLmNpcmNsZU1hcmtlcigKICAgICAgICAgICAgICAgIFs1Mi42MTY2NjcwMDAwMDAwMSwxMy4zMTY2NjddLAogICAgICAgICAgICAgICAgewogICJidWJibGluZ01vdXNlRXZlbnRzIjogdHJ1ZSwKICAiY29sb3IiOiAiYmx1ZSIsCiAgImRhc2hBcnJheSI6IG51bGwsCiAgImRhc2hPZmZzZXQiOiBudWxsLAogICJmaWxsIjogdHJ1ZSwKICAiZmlsbENvbG9yIjogIiMzMTg2Y2MiLAogICJmaWxsT3BhY2l0eSI6IDAuNywKICAiZmlsbFJ1bGUiOiAiZXZlbm9kZCIsCiAgImxpbmVDYXAiOiAicm91bmQiLAogICJsaW5lSm9pbiI6ICJyb3VuZCIsCiAgIm9wYWNpdHkiOiAxLjAsCiAgInJhZGl1cyI6IDUsCiAgInN0cm9rZSI6IHRydWUsCiAgIndlaWdodCI6IDMKfQogICAgICAgICAgICAgICAgKS5hZGRUbyhtYXBfOGUyOGRjZTY1ZTdiNGZkOGI5YWNmMzc3OTkxMGUzY2MpOwogICAgICAgICAgICAKICAgIAogICAgICAgICAgICB2YXIgcG9wdXBfYWFlYjMwYzZmYzlmNGE0ZjgwMGI4YWU0OTk1YmEwYWYgPSBMLnBvcHVwKHttYXhXaWR0aDogJzMwMCd9KTsKCiAgICAgICAgICAgIAogICAgICAgICAgICAgICAgdmFyIGh0bWxfYTU4OGZhOTJlOTM1NDY5MmJjZDQ4ZWFmMDY3NTBlZTEgPSAkKCc8ZGl2IGlkPSJodG1sX2E1ODhmYTkyZTkzNTQ2OTJiY2Q0OGVhZjA2NzUwZWUxIiBzdHlsZT0id2lkdGg6IDEwMC4wJTsgaGVpZ2h0OiAxMDAuMCU7Ij5IZXJtc2RvcmY8L2Rpdj4nKVswXTsKICAgICAgICAgICAgICAgIHBvcHVwX2FhZWIzMGM2ZmM5ZjRhNGY4MDBiOGFlNDk5NWJhMGFmLnNldENvbnRlbnQoaHRtbF9hNTg4ZmE5MmU5MzU0NjkyYmNkNDhlYWYwNjc1MGVlMSk7CiAgICAgICAgICAgIAoKICAgICAgICAgICAgY2lyY2xlX21hcmtlcl82NzRkMjBjYWUyZTA0ZDk2YmUyZDU0ZmY1ZTcwZmJlMC5iaW5kUG9wdXAocG9wdXBfYWFlYjMwYzZmYzlmNGE0ZjgwMGI4YWU0OTk1YmEwYWYpOwoKICAgICAgICAgICAgCiAgICAgICAgCiAgICAKICAgICAgICAgICAgdmFyIGNpcmNsZV9tYXJrZXJfZGUyMmQzZjE4NmU0NDY0ZGEzODgwMzk4MzQyNGY1ZDEgPSBMLmNpcmNsZU1hcmtlcigKICAgICAgICAgICAgICAgIFs1Mi42MDY2NjcsMTMuMzIwODMyOTk5OTk5OTk5XSwKICAgICAgICAgICAgICAgIHsKICAiYnViYmxpbmdNb3VzZUV2ZW50cyI6IHRydWUsCiAgImNvbG9yIjogImJsdWUiLAogICJkYXNoQXJyYXkiOiBudWxsLAogICJkYXNoT2Zmc2V0IjogbnVsbCwKICAiZmlsbCI6IHRydWUsCiAgImZpbGxDb2xvciI6ICIjMzE4NmNjIiwKICAiZmlsbE9wYWNpdHkiOiAwLjcsCiAgImZpbGxSdWxlIjogImV2ZW5vZGQiLAogICJsaW5lQ2FwIjogInJvdW5kIiwKICAibGluZUpvaW4iOiAicm91bmQiLAogICJvcGFjaXR5IjogMS4wLAogICJyYWRpdXMiOiA1LAogICJzdHJva2UiOiB0cnVlLAogICJ3ZWlnaHQiOiAzCn0KICAgICAgICAgICAgICAgICkuYWRkVG8obWFwXzhlMjhkY2U2NWU3YjRmZDhiOWFjZjM3Nzk5MTBlM2NjKTsKICAgICAgICAgICAgCiAgICAKICAgICAgICAgICAgdmFyIHBvcHVwXzE3OTNmYTZhODE4YTQyNGI4NmMyYjkyYWRiMzc5MTdiID0gTC5wb3B1cCh7bWF4V2lkdGg6ICczMDAnfSk7CgogICAgICAgICAgICAKICAgICAgICAgICAgICAgIHZhciBodG1sXzhhZDFiNDIyYTZjNDRmMTU4MzE1ZGY2ZGUzNmVhNWY3ID0gJCgnPGRpdiBpZD0iaHRtbF84YWQxYjQyMmE2YzQ0ZjE1ODMxNWRmNmRlMzZlYTVmNyIgc3R5bGU9IndpZHRoOiAxMDAuMCU7IGhlaWdodDogMTAwLjAlOyI+V2FpZG1hbm5zbHVzdDwvZGl2PicpWzBdOwogICAgICAgICAgICAgICAgcG9wdXBfMTc5M2ZhNmE4MThhNDI0Yjg2YzJiOTJhZGIzNzkxN2Iuc2V0Q29udGVudChodG1sXzhhZDFiNDIyYTZjNDRmMTU4MzE1ZGY2ZGUzNmVhNWY3KTsKICAgICAgICAgICAgCgogICAgICAgICAgICBjaXJjbGVfbWFya2VyX2RlMjJkM2YxODZlNDQ2NGRhMzg4MDM5ODM0MjRmNWQxLmJpbmRQb3B1cChwb3B1cF8xNzkzZmE2YTgxOGE0MjRiODZjMmI5MmFkYjM3OTE3Yik7CgogICAgICAgICAgICAKICAgICAgICAKICAgIAogICAgICAgICAgICB2YXIgY2lyY2xlX21hcmtlcl83MmM5MDg1MDA4YTg0ODNiOTk0MzMwN2FiN2M0NmJlNyA9IEwuY2lyY2xlTWFya2VyKAogICAgICAgICAgICAgICAgWzUyLjYxNjY2NzAwMDAwMDAxLDEzLjM2NjY2NzAwMDAwMDAwMV0sCiAgICAgICAgICAgICAgICB7CiAgImJ1YmJsaW5nTW91c2VFdmVudHMiOiB0cnVlLAogICJjb2xvciI6ICJibHVlIiwKICAiZGFzaEFycmF5IjogbnVsbCwKICAiZGFzaE9mZnNldCI6IG51bGwsCiAgImZpbGwiOiB0cnVlLAogICJmaWxsQ29sb3IiOiAiIzMxODZjYyIsCiAgImZpbGxPcGFjaXR5IjogMC43LAogICJmaWxsUnVsZSI6ICJldmVub2RkIiwKICAibGluZUNhcCI6ICJyb3VuZCIsCiAgImxpbmVKb2luIjogInJvdW5kIiwKICAib3BhY2l0eSI6IDEuMCwKICAicmFkaXVzIjogNSwKICAic3Ryb2tlIjogdHJ1ZSwKICAid2VpZ2h0IjogMwp9CiAgICAgICAgICAgICAgICApLmFkZFRvKG1hcF84ZTI4ZGNlNjVlN2I0ZmQ4YjlhY2YzNzc5OTEwZTNjYyk7CiAgICAgICAgICAgIAogICAgCiAgICAgICAgICAgIHZhciBwb3B1cF85ODEzZWFiNzAwZTM0MmI2OWEyMDkwMGRkMzFjMjhjMiA9IEwucG9wdXAoe21heFdpZHRoOiAnMzAwJ30pOwoKICAgICAgICAgICAgCiAgICAgICAgICAgICAgICB2YXIgaHRtbF9hYWU0NjQzMjE1MmE0ZDc5YTI0MWRjMjA5OTUyNjc0YyA9ICQoJzxkaXYgaWQ9Imh0bWxfYWFlNDY0MzIxNTJhNGQ3OWEyNDFkYzIwOTk1MjY3NGMiIHN0eWxlPSJ3aWR0aDogMTAwLjAlOyBoZWlnaHQ6IDEwMC4wJTsiPkzDvGJhcnM8L2Rpdj4nKVswXTsKICAgICAgICAgICAgICAgIHBvcHVwXzk4MTNlYWI3MDBlMzQyYjY5YTIwOTAwZGQzMWMyOGMyLnNldENvbnRlbnQoaHRtbF9hYWU0NjQzMjE1MmE0ZDc5YTI0MWRjMjA5OTUyNjc0Yyk7CiAgICAgICAgICAgIAoKICAgICAgICAgICAgY2lyY2xlX21hcmtlcl83MmM5MDg1MDA4YTg0ODNiOTk0MzMwN2FiN2M0NmJlNy5iaW5kUG9wdXAocG9wdXBfOTgxM2VhYjcwMGUzNDJiNjlhMjA5MDBkZDMxYzI4YzIpOwoKICAgICAgICAgICAgCiAgICAgICAgCiAgICAKICAgICAgICAgICAgdmFyIGNpcmNsZV9tYXJrZXJfYjhmOGQwZmVhM2YxNDBiMWE3Y2I4MDFkNmM3MGE4YTEgPSBMLmNpcmNsZU1hcmtlcigKICAgICAgICAgICAgICAgIFs1Mi42LDEzLjMzMzMzMjk5OTk5OTk5OF0sCiAgICAgICAgICAgICAgICB7CiAgImJ1YmJsaW5nTW91c2VFdmVudHMiOiB0cnVlLAogICJjb2xvciI6ICJibHVlIiwKICAiZGFzaEFycmF5IjogbnVsbCwKICAiZGFzaE9mZnNldCI6IG51bGwsCiAgImZpbGwiOiB0cnVlLAogICJmaWxsQ29sb3IiOiAiIzMxODZjYyIsCiAgImZpbGxPcGFjaXR5IjogMC43LAogICJmaWxsUnVsZSI6ICJldmVub2RkIiwKICAibGluZUNhcCI6ICJyb3VuZCIsCiAgImxpbmVKb2luIjogInJvdW5kIiwKICAib3BhY2l0eSI6IDEuMCwKICAicmFkaXVzIjogNSwKICAic3Ryb2tlIjogdHJ1ZSwKICAid2VpZ2h0IjogMwp9CiAgICAgICAgICAgICAgICApLmFkZFRvKG1hcF84ZTI4ZGNlNjVlN2I0ZmQ4YjlhY2YzNzc5OTEwZTNjYyk7CiAgICAgICAgICAgIAogICAgCiAgICAgICAgICAgIHZhciBwb3B1cF83MzRlZThjNjhkOTI0ZTA4YTk4NjY1M2M0ZWU4ZjM1YyA9IEwucG9wdXAoe21heFdpZHRoOiAnMzAwJ30pOwoKICAgICAgICAgICAgCiAgICAgICAgICAgICAgICB2YXIgaHRtbF8zOGVmMTc1OGI3YWI0M2VlYWQ1OWJmNzYzOWRjYTI1ZCA9ICQoJzxkaXYgaWQ9Imh0bWxfMzhlZjE3NThiN2FiNDNlZWFkNTliZjc2MzlkY2EyNWQiIHN0eWxlPSJ3aWR0aDogMTAwLjAlOyBoZWlnaHQ6IDEwMC4wJTsiPldpdHRlbmF1PC9kaXY+JylbMF07CiAgICAgICAgICAgICAgICBwb3B1cF83MzRlZThjNjhkOTI0ZTA4YTk4NjY1M2M0ZWU4ZjM1Yy5zZXRDb250ZW50KGh0bWxfMzhlZjE3NThiN2FiNDNlZWFkNTliZjc2MzlkY2EyNWQpOwogICAgICAgICAgICAKCiAgICAgICAgICAgIGNpcmNsZV9tYXJrZXJfYjhmOGQwZmVhM2YxNDBiMWE3Y2I4MDFkNmM3MGE4YTEuYmluZFBvcHVwKHBvcHVwXzczNGVlOGM2OGQ5MjRlMDhhOTg2NjUzYzRlZThmMzVjKTsKCiAgICAgICAgICAgIAogICAgICAgIAogICAgCiAgICAgICAgICAgIHZhciBjaXJjbGVfbWFya2VyXzYyNDQ5ODMxZjU4YTQyMjI4ZTdmZGQ1OWI4NWZkMGMyID0gTC5jaXJjbGVNYXJrZXIoCiAgICAgICAgICAgICAgICBbNTIuNiwxMy4zNTgzMzI5OTk5OTk5OThdLAogICAgICAgICAgICAgICAgewogICJidWJibGluZ01vdXNlRXZlbnRzIjogdHJ1ZSwKICAiY29sb3IiOiAiYmx1ZSIsCiAgImRhc2hBcnJheSI6IG51bGwsCiAgImRhc2hPZmZzZXQiOiBudWxsLAogICJmaWxsIjogdHJ1ZSwKICAiZmlsbENvbG9yIjogIiMzMTg2Y2MiLAogICJmaWxsT3BhY2l0eSI6IDAuNywKICAiZmlsbFJ1bGUiOiAiZXZlbm9kZCIsCiAgImxpbmVDYXAiOiAicm91bmQiLAogICJsaW5lSm9pbiI6ICJyb3VuZCIsCiAgIm9wYWNpdHkiOiAxLjAsCiAgInJhZGl1cyI6IDUsCiAgInN0cm9rZSI6IHRydWUsCiAgIndlaWdodCI6IDMKfQogICAgICAgICAgICAgICAgKS5hZGRUbyhtYXBfOGUyOGRjZTY1ZTdiNGZkOGI5YWNmMzc3OTkxMGUzY2MpOwogICAgICAgICAgICAKICAgIAogICAgICAgICAgICB2YXIgcG9wdXBfM2Q0OTdkZTFmN2M5NDUyZjkzODRlOWM5MDkzNGMzOGYgPSBMLnBvcHVwKHttYXhXaWR0aDogJzMwMCd9KTsKCiAgICAgICAgICAgIAogICAgICAgICAgICAgICAgdmFyIGh0bWxfMzM4MjE4ZTg2YmNlNDI0YWExZjIyZTk5MmUxZmFiMGIgPSAkKCc8ZGl2IGlkPSJodG1sXzMzODIxOGU4NmJjZTQyNGFhMWYyMmU5OTJlMWZhYjBiIiBzdHlsZT0id2lkdGg6IDEwMC4wJTsgaGVpZ2h0OiAxMDAuMCU7Ij5Nw6Rya2lzY2hlcyBWaWVydGVsPC9kaXY+JylbMF07CiAgICAgICAgICAgICAgICBwb3B1cF8zZDQ5N2RlMWY3Yzk0NTJmOTM4NGU5YzkwOTM0YzM4Zi5zZXRDb250ZW50KGh0bWxfMzM4MjE4ZTg2YmNlNDI0YWExZjIyZTk5MmUxZmFiMGIpOwogICAgICAgICAgICAKCiAgICAgICAgICAgIGNpcmNsZV9tYXJrZXJfNjI0NDk4MzFmNThhNDIyMjhlN2ZkZDU5Yjg1ZmQwYzIuYmluZFBvcHVwKHBvcHVwXzNkNDk3ZGUxZjdjOTQ1MmY5Mzg0ZTljOTA5MzRjMzhmKTsKCiAgICAgICAgICAgIAogICAgICAgIAogICAgCiAgICAgICAgICAgIHZhciBjaXJjbGVfbWFya2VyXzliNDdkYWVkODlhNDQ2ODZhMWYyMjA5YjUxMjk3ZmQ5ID0gTC5jaXJjbGVNYXJrZXIoCiAgICAgICAgICAgICAgICBbNTIuNTgzMDU2MDAwMDAwMDA2LDEzLjMxMTExMDk5OTk5OTk5OV0sCiAgICAgICAgICAgICAgICB7CiAgImJ1YmJsaW5nTW91c2VFdmVudHMiOiB0cnVlLAogICJjb2xvciI6ICJibHVlIiwKICAiZGFzaEFycmF5IjogbnVsbCwKICAiZGFzaE9mZnNldCI6IG51bGwsCiAgImZpbGwiOiB0cnVlLAogICJmaWxsQ29sb3IiOiAiIzMxODZjYyIsCiAgImZpbGxPcGFjaXR5IjogMC43LAogICJmaWxsUnVsZSI6ICJldmVub2RkIiwKICAibGluZUNhcCI6ICJyb3VuZCIsCiAgImxpbmVKb2luIjogInJvdW5kIiwKICAib3BhY2l0eSI6IDEuMCwKICAicmFkaXVzIjogNSwKICAic3Ryb2tlIjogdHJ1ZSwKICAid2VpZ2h0IjogMwp9CiAgICAgICAgICAgICAgICApLmFkZFRvKG1hcF84ZTI4ZGNlNjVlN2I0ZmQ4YjlhY2YzNzc5OTEwZTNjYyk7CiAgICAgICAgICAgIAogICAgCiAgICAgICAgICAgIHZhciBwb3B1cF9kMjFjNmRiNGE5YTE0NmMxOTE4ODA3NzFiMDZhMzVmMiA9IEwucG9wdXAoe21heFdpZHRoOiAnMzAwJ30pOwoKICAgICAgICAgICAgCiAgICAgICAgICAgICAgICB2YXIgaHRtbF8zMTAxNDYxYzMzZDA0ZTBiODBmN2M0YjM3Y2VlZGM2NSA9ICQoJzxkaXYgaWQ9Imh0bWxfMzEwMTQ2MWMzM2QwNGUwYjgwZjdjNGIzN2NlZWRjNjUiIHN0eWxlPSJ3aWR0aDogMTAwLjAlOyBoZWlnaHQ6IDEwMC4wJTsiPkJvcnNpZ3dhbGRlPC9kaXY+JylbMF07CiAgICAgICAgICAgICAgICBwb3B1cF9kMjFjNmRiNGE5YTE0NmMxOTE4ODA3NzFiMDZhMzVmMi5zZXRDb250ZW50KGh0bWxfMzEwMTQ2MWMzM2QwNGUwYjgwZjdjNGIzN2NlZWRjNjUpOwogICAgICAgICAgICAKCiAgICAgICAgICAgIGNpcmNsZV9tYXJrZXJfOWI0N2RhZWQ4OWE0NDY4NmExZjIyMDliNTEyOTdmZDkuYmluZFBvcHVwKHBvcHVwX2QyMWM2ZGI0YTlhMTQ2YzE5MTg4MDc3MWIwNmEzNWYyKTsKCiAgICAgICAgICAgIAogICAgICAgIAo8L3NjcmlwdD4=\" style=\"position:absolute;width:100%;height:100%;left:0;top:0;border:none !important;\" allowfullscreen webkitallowfullscreen mozallowfullscreen></iframe></div></div>"
      ],
      "text/plain": [
       "<folium.folium.Map at 0x115da30f0>"
      ]
     },
     "execution_count": 13,
     "metadata": {},
     "output_type": "execute_result"
    }
   ],
   "source": [
    "map_berlin = folium.Map(location=[latitude, longitude], zoom_start=10.5)\n",
    "\n",
    "for lat, lng, neighborhood in zip(neighborhoods['Lat'], neighborhoods['Long'], neighborhoods['District']):\n",
    "    label = '{}'.format(neighborhood)\n",
    "    label = folium.Popup(label, parse_html=True)\n",
    "    folium.CircleMarker(\n",
    "        [lat, lng],\n",
    "        radius=5,\n",
    "        popup=label,\n",
    "        color='blue',\n",
    "        fill=True,\n",
    "        fill_color='#3186cc',\n",
    "        fill_opacity=0.7,\n",
    "        parse_html=False).add_to(map_berlin)  \n",
    "    \n",
    "map_berlin"
   ]
  },
  {
   "cell_type": "markdown",
   "metadata": {},
   "source": [
    "#### Displaying the distribution"
   ]
  },
  {
   "cell_type": "code",
   "execution_count": 14,
   "metadata": {},
   "outputs": [
    {
     "data": {
      "text/plain": [
       "<matplotlib.axes._subplots.AxesSubplot at 0x1a18609eb8>"
      ]
     },
     "execution_count": 14,
     "metadata": {},
     "output_type": "execute_result"
    }
   ],
   "source": [
    "import seaborn as sns\n",
    "import matplotlib.pyplot as plt\n",
    "\n",
    "sns.set(style=\"whitegrid\")\n",
    "sns.boxplot(y='Area in km²', data=neighborhoods)"
   ]
  },
  {
   "cell_type": "markdown",
   "metadata": {},
   "source": [
    "#### 5-10km2 is the size of the 50% of the districts\n",
    "This will allows us to set a appropriate perimater for our radius of scan."
   ]
  },
  {
   "cell_type": "markdown",
   "metadata": {},
   "source": [
    "#### Define Foursquare Credentials and Version"
   ]
  },
  {
   "cell_type": "code",
   "execution_count": 15,
   "metadata": {},
   "outputs": [
    {
     "name": "stdout",
     "output_type": "stream",
     "text": [
      "My credentails:\n",
      "CLIENT_ID: X0UR5GR2EL3FBUPRBTPQW0M1XOECT3RPNNPUXEPACXEPO44J\n",
      "CLIENT_SECRET:ANFDRV2DKSZG1J453PD3JW0V4DHM4FDKLR5UHFVDEW5IYFZO\n"
     ]
    }
   ],
   "source": [
    "CLIENT_ID = 'X0UR5GR2EL3FBUPRBTPQW0M1XOECT3RPNNPUXEPACXEPO44J' \n",
    "CLIENT_SECRET = 'ANFDRV2DKSZG1J453PD3JW0V4DHM4FDKLR5UHFVDEW5IYFZO' \n",
    "VERSION = '20180605' \n",
    "\n",
    "print('My credentails:')\n",
    "print('CLIENT_ID: ' + CLIENT_ID)\n",
    "print('CLIENT_SECRET:' + CLIENT_SECRET)"
   ]
  },
  {
   "cell_type": "code",
   "execution_count": 16,
   "metadata": {},
   "outputs": [
    {
     "name": "stdout",
     "output_type": "stream",
     "text": [
      "Latitude and longitude values of Mitte are 52.51944399999999, 13.406667.\n"
     ]
    }
   ],
   "source": [
    "neighborhood_latitude = neighborhoods.loc[0, 'Lat'] \n",
    "neighborhood_longitude = neighborhoods.loc[0, 'Long'] \n",
    "\n",
    "neighborhood_name = neighborhoods.loc[0, 'District'] \n",
    "\n",
    "print('Latitude and longitude values of {} are {}, {}.'.format(neighborhood_name, \n",
    "                                                               neighborhood_latitude, \n",
    "                                                               neighborhood_longitude))"
   ]
  },
  {
   "cell_type": "code",
   "execution_count": 36,
   "metadata": {},
   "outputs": [
    {
     "data": {
      "text/plain": [
       "'https://api.foursquare.com/v2/venues/explore?&client_id=X0UR5GR2EL3FBUPRBTPQW0M1XOECT3RPNNPUXEPACXEPO44J&client_secret=ANFDRV2DKSZG1J453PD3JW0V4DHM4FDKLR5UHFVDEW5IYFZO&v=20180605&ll=52.51944399999999,13.406667&radius=500&limit=sights'"
      ]
     },
     "execution_count": 36,
     "metadata": {},
     "output_type": "execute_result"
    }
   ],
   "source": [
    "LIMIT = 50\n",
    "radius = 500\n",
    "\n",
    "section = \"sights\"\n",
    "url = 'https://api.foursquare.com/v2/venues/explore?&client_id={}&client_secret={}&v={}&ll={},{}&radius={}&limit={}'.format(\n",
    "    CLIENT_ID, \n",
    "    CLIENT_SECRET, \n",
    "    VERSION, \n",
    "    neighborhood_latitude, \n",
    "    neighborhood_longitude, \n",
    "    radius,\n",
    "    section,\n",
    "    LIMIT)\n",
    "url # display URL"
   ]
  },
  {
   "cell_type": "code",
   "execution_count": 37,
   "metadata": {},
   "outputs": [],
   "source": [
    "new_results = requests.get(url).json()"
   ]
  },
  {
   "cell_type": "code",
   "execution_count": 38,
   "metadata": {},
   "outputs": [],
   "source": [
    "def get_category_type(row):\n",
    "    try:\n",
    "        categories_list = row['categories']\n",
    "    except:\n",
    "        categories_list = row['venue.categories']\n",
    "        \n",
    "    if len(categories_list) == 0:\n",
    "        return None\n",
    "    else:\n",
    "        return categories_list[0]['name']"
   ]
  },
  {
   "cell_type": "code",
   "execution_count": 41,
   "metadata": {},
   "outputs": [
    {
     "ename": "KeyError",
     "evalue": "'groups'",
     "output_type": "error",
     "traceback": [
      "\u001b[0;31m---------------------------------------------------------------------------\u001b[0m",
      "\u001b[0;31mKeyError\u001b[0m                                  Traceback (most recent call last)",
      "\u001b[0;32m<ipython-input-41-c1832d945856>\u001b[0m in \u001b[0;36m<module>\u001b[0;34m\u001b[0m\n\u001b[0;32m----> 1\u001b[0;31m \u001b[0mvenues\u001b[0m \u001b[0;34m=\u001b[0m \u001b[0mnew_results\u001b[0m\u001b[0;34m[\u001b[0m\u001b[0;34m'response'\u001b[0m\u001b[0;34m]\u001b[0m\u001b[0;34m[\u001b[0m\u001b[0;34m'groups'\u001b[0m\u001b[0;34m]\u001b[0m\u001b[0;34m[\u001b[0m\u001b[0;36m0\u001b[0m\u001b[0;34m]\u001b[0m\u001b[0;34m[\u001b[0m\u001b[0;34m'items'\u001b[0m\u001b[0;34m]\u001b[0m\u001b[0;34m\u001b[0m\u001b[0;34m\u001b[0m\u001b[0m\n\u001b[0m\u001b[1;32m      2\u001b[0m \u001b[0;34m\u001b[0m\u001b[0m\n\u001b[1;32m      3\u001b[0m \u001b[0mnearby_venues\u001b[0m \u001b[0;34m=\u001b[0m \u001b[0mjson_normalize\u001b[0m\u001b[0;34m(\u001b[0m\u001b[0mvenues\u001b[0m\u001b[0;34m)\u001b[0m\u001b[0;34m\u001b[0m\u001b[0;34m\u001b[0m\u001b[0m\n\u001b[1;32m      4\u001b[0m \u001b[0;34m\u001b[0m\u001b[0m\n\u001b[1;32m      5\u001b[0m \u001b[0mfiltered_columns\u001b[0m \u001b[0;34m=\u001b[0m \u001b[0;34m[\u001b[0m\u001b[0;34m'venue.name'\u001b[0m\u001b[0;34m,\u001b[0m \u001b[0;34m'venue.categories'\u001b[0m\u001b[0;34m,\u001b[0m \u001b[0;34m'venue.location.lat'\u001b[0m\u001b[0;34m,\u001b[0m \u001b[0;34m'venue.location.lng'\u001b[0m\u001b[0;34m]\u001b[0m\u001b[0;34m\u001b[0m\u001b[0;34m\u001b[0m\u001b[0m\n",
      "\u001b[0;31mKeyError\u001b[0m: 'groups'"
     ]
    }
   ],
   "source": [
    "venues = new_results['response']['groups'][0]['items']\n",
    "    \n",
    "nearby_venues = json_normalize(venues)\n",
    "\n",
    "filtered_columns = ['venue.name', 'venue.categories', 'venue.location.lat', 'venue.location.lng']\n",
    "nearby_venues =nearby_venues.loc[:, filtered_columns]\n",
    "\n",
    "nearby_venues['venue.categories'] = nearby_venues.apply(get_category_type, axis=1)\n",
    "\n",
    "nearby_venues.columns = [col.split(\".\")[-1] for col in nearby_venues.columns]\n",
    "nearby_venues.head()"
   ]
  },
  {
   "cell_type": "code",
   "execution_count": 40,
   "metadata": {},
   "outputs": [
    {
     "name": "stdout",
     "output_type": "stream",
     "text": [
      "50 venues were returned by Foursquare.\n"
     ]
    }
   ],
   "source": [
    "print('{} venues were returned by Foursquare.'.format(nearby_venues.shape[0]))"
   ]
  },
  {
   "cell_type": "code",
   "execution_count": 29,
   "metadata": {},
   "outputs": [],
   "source": [
    "def getNearbyVenues(names, latitudes, longitudes, radius=50):\n",
    "    \n",
    "    venues_list=[]\n",
    "    for name, lat, lng in zip(names, latitudes, longitudes):\n",
    "        print(name)\n",
    "        section = \"sights\"    \n",
    "        # create the API request URL\n",
    "        url = 'https://api.foursquare.com/v2/venues/explore?&client_id={}&client_secret={}&v={}&ll={},{}&radius={}&limit={}'.format(\n",
    "            CLIENT_ID, \n",
    "            CLIENT_SECRET, \n",
    "            VERSION, \n",
    "            lat, \n",
    "            lng, \n",
    "            radius,\n",
    "            section,\n",
    "            LIMIT)\n",
    "            \n",
    "        # make the GET request\n",
    "        new_results = requests.get(url).json()[\"response\"]['groups'][0]['items']\n",
    "        \n",
    "        # return only relevant information for each nearby venue\n",
    "        venues_list.append([(\n",
    "            name, \n",
    "            lat, \n",
    "            lng, \n",
    "            v['venue']['name'], \n",
    "            v['venue']['location']['lat'], \n",
    "            v['venue']['location']['lng'],  \n",
    "            v['venue']['categories'][0]['name']) for v in new_results])\n",
    "\n",
    "    nearby_venues = pd.DataFrame([item for venue_list in venues_list for item in venue_list])\n",
    "    nearby_venues.columns = ['District', \n",
    "                  'Neighborhood Latitude', \n",
    "                  'Neighborhood Longitude', \n",
    "                  'Venue', \n",
    "                  'Venue Latitude', \n",
    "                  'Venue Longitude', \n",
    "                  'Venue Category']\n",
    "    \n",
    "    return(nearby_venues)"
   ]
  },
  {
   "cell_type": "code",
   "execution_count": 30,
   "metadata": {},
   "outputs": [
    {
     "name": "stdout",
     "output_type": "stream",
     "text": [
      "Mitte\n"
     ]
    },
    {
     "ename": "KeyError",
     "evalue": "'groups'",
     "output_type": "error",
     "traceback": [
      "\u001b[0;31m---------------------------------------------------------------------------\u001b[0m",
      "\u001b[0;31mKeyError\u001b[0m                                  Traceback (most recent call last)",
      "\u001b[0;32m<ipython-input-30-fef94f113e9e>\u001b[0m in \u001b[0;36m<module>\u001b[0;34m\u001b[0m\n\u001b[1;32m      1\u001b[0m berlin_venues = getNearbyVenues(names=neighborhoods['District'],\n\u001b[1;32m      2\u001b[0m                                    \u001b[0mlatitudes\u001b[0m\u001b[0;34m=\u001b[0m\u001b[0mneighborhoods\u001b[0m\u001b[0;34m[\u001b[0m\u001b[0;34m'Lat'\u001b[0m\u001b[0;34m]\u001b[0m\u001b[0;34m,\u001b[0m\u001b[0;34m\u001b[0m\u001b[0;34m\u001b[0m\u001b[0m\n\u001b[0;32m----> 3\u001b[0;31m                                    \u001b[0mlongitudes\u001b[0m\u001b[0;34m=\u001b[0m\u001b[0mneighborhoods\u001b[0m\u001b[0;34m[\u001b[0m\u001b[0;34m'Long'\u001b[0m\u001b[0;34m]\u001b[0m\u001b[0;34m\u001b[0m\u001b[0;34m\u001b[0m\u001b[0m\n\u001b[0m\u001b[1;32m      4\u001b[0m                                   )\n",
      "\u001b[0;32m<ipython-input-29-4bca0386233f>\u001b[0m in \u001b[0;36mgetNearbyVenues\u001b[0;34m(names, latitudes, longitudes, radius)\u001b[0m\n\u001b[1;32m     17\u001b[0m \u001b[0;34m\u001b[0m\u001b[0m\n\u001b[1;32m     18\u001b[0m         \u001b[0;31m# make the GET request\u001b[0m\u001b[0;34m\u001b[0m\u001b[0;34m\u001b[0m\u001b[0;34m\u001b[0m\u001b[0m\n\u001b[0;32m---> 19\u001b[0;31m         \u001b[0mnew_results\u001b[0m \u001b[0;34m=\u001b[0m \u001b[0mrequests\u001b[0m\u001b[0;34m.\u001b[0m\u001b[0mget\u001b[0m\u001b[0;34m(\u001b[0m\u001b[0murl\u001b[0m\u001b[0;34m)\u001b[0m\u001b[0;34m.\u001b[0m\u001b[0mjson\u001b[0m\u001b[0;34m(\u001b[0m\u001b[0;34m)\u001b[0m\u001b[0;34m[\u001b[0m\u001b[0;34m\"response\"\u001b[0m\u001b[0;34m]\u001b[0m\u001b[0;34m[\u001b[0m\u001b[0;34m'groups'\u001b[0m\u001b[0;34m]\u001b[0m\u001b[0;34m[\u001b[0m\u001b[0;36m0\u001b[0m\u001b[0;34m]\u001b[0m\u001b[0;34m[\u001b[0m\u001b[0;34m'items'\u001b[0m\u001b[0;34m]\u001b[0m\u001b[0;34m\u001b[0m\u001b[0;34m\u001b[0m\u001b[0m\n\u001b[0m\u001b[1;32m     20\u001b[0m \u001b[0;34m\u001b[0m\u001b[0m\n\u001b[1;32m     21\u001b[0m         \u001b[0;31m# return only relevant information for each nearby venue\u001b[0m\u001b[0;34m\u001b[0m\u001b[0;34m\u001b[0m\u001b[0;34m\u001b[0m\u001b[0m\n",
      "\u001b[0;31mKeyError\u001b[0m: 'groups'"
     ]
    }
   ],
   "source": [
    "berlin_venues = getNearbyVenues(names=neighborhoods['District'],\n",
    "                                   latitudes=neighborhoods['Lat'],\n",
    "                                   longitudes=neighborhoods['Long']\n",
    "                                  )"
   ]
  },
  {
   "cell_type": "code",
   "execution_count": null,
   "metadata": {},
   "outputs": [],
   "source": [
    "print(berlin_venues.shape)\n",
    "berlin_venues.tail()"
   ]
  },
  {
   "cell_type": "code",
   "execution_count": null,
   "metadata": {},
   "outputs": [],
   "source": [
    "berlin_venues.groupby('District').count()"
   ]
  },
  {
   "cell_type": "code",
   "execution_count": null,
   "metadata": {},
   "outputs": [],
   "source": [
    "print('There are {} uniques categories.'.format(len(berlin_venues['Venue Category'].unique())))"
   ]
  },
  {
   "cell_type": "code",
   "execution_count": null,
   "metadata": {},
   "outputs": [],
   "source": []
  }
 ],
 "metadata": {
  "kernelspec": {
   "display_name": "Python 3",
   "language": "python",
   "name": "python3"
  },
  "language_info": {
   "codemirror_mode": {
    "name": "ipython",
    "version": 3
   },
   "file_extension": ".py",
   "mimetype": "text/x-python",
   "name": "python",
   "nbconvert_exporter": "python",
   "pygments_lexer": "ipython3",
   "version": "3.7.3"
  }
 },
 "nbformat": 4,
 "nbformat_minor": 4
}
