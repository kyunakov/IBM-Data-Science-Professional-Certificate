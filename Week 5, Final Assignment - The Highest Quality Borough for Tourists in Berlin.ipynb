{
 "cells": [
  {
   "cell_type": "markdown",
   "metadata": {},
   "source": [
    "### Applied Data Science Capstone by IBM/Coursera\n",
    "\n",
    "\n",
    "## Capstone Project -  Week 4 - Questions 1&2\n",
    "<br></br>\n",
    "<br></br>\n",
    "## Topic: The Highest Quality Borough for Tourists in Berlin \n",
    "\n",
    "\n",
    "\n",
    "## Table of contents\n",
    "* [Introduction](#introduction)\n",
    "* [Data](#data)\n",
    "* [Methodology](#methodology)\n",
    "* [Results](#results)\n",
    "* [Discussion](#discussion)\n",
    "* [Conclusion](#conclusion)"
   ]
  },
  {
   "cell_type": "markdown",
   "metadata": {},
   "source": [
    "## Introduction <a name=\"introduction\"></a>"
   ]
  },
  {
   "cell_type": "markdown",
   "metadata": {},
   "source": [
    "**Berlin** is a great city for tourists. It is not a surprise that it is ranked as the most visited German city by <a href=\"https://www.worldatlas.com/articles/the-10-most-visited-cities-in-germany.html\" target=\"_blank\" rel=\"noopener\">Worldatlas</a> with 31.1 milion tourists for 2016. \n",
    "\n",
    "However, as a tourist, you may find it **diffucult** to find out in which part of the city you should spend most of your time while being in Berlin. The city is relatively big compared to ... . It is consisted by 891,8 km² of urbanized area, which is divided in 12 boroughs, full of great places to visit. The question I will try to answer is **which borough has the highest variaty of high quality tourist venues.** \n",
    "\n",
    "The main audience which may benefit by solving the problem above is the **one-day tourists.** It will be extremely valuable for them to know in which district should they spend their only day in Berlin in order to get the best out of it."
   ]
  },
  {
   "cell_type": "markdown",
   "metadata": {},
   "source": [
    "## Data <a name=\"data\"></a>"
   ]
  },
  {
   "cell_type": "markdown",
   "metadata": {},
   "source": [
    "Based on definition of the problem, factors that will influence the solution are:\n",
    "\n",
    "* geolocation of the Berlin boroughs\n",
    "* number of unique categories of venues in the borough\n",
    "* average rating of the venues measured by the number of likes\n",
    "\n",
    "In order to get this data, I decided to use three data providers:\n",
    "\n",
    "* the list of the names of boroughs will be obtained from **Wikipedia**\n",
    "* the geolocation latitute and longitute of the boroughs in Berlin will be obtained using **Google Maps API**\n",
    "* number of unique categories of venues in the district and average rating of the venues measured by the number of likes will be obtained using **Foursquare API**"
   ]
  },
  {
   "cell_type": "markdown",
   "metadata": {},
   "source": [
    "### Obtaining the names of the Berlin boroughs from Wikipedia\n",
    "\n"
   ]
  },
  {
   "cell_type": "markdown",
   "metadata": {},
   "source": [
    "#### Installing the necessary libriaries"
   ]
  },
  {
   "cell_type": "code",
   "execution_count": 1,
   "metadata": {},
   "outputs": [
    {
     "name": "stdout",
     "output_type": "stream",
     "text": [
      "Requirement already satisfied: pandas in /Users/kirilyunakov/anaconda3/lib/python3.7/site-packages (0.24.2)\n",
      "Requirement already satisfied: python-dateutil>=2.5.0 in /Users/kirilyunakov/anaconda3/lib/python3.7/site-packages (from pandas) (2.8.0)\n",
      "Requirement already satisfied: pytz>=2011k in /Users/kirilyunakov/anaconda3/lib/python3.7/site-packages (from pandas) (2019.1)\n",
      "Requirement already satisfied: numpy>=1.12.0 in /Users/kirilyunakov/anaconda3/lib/python3.7/site-packages (from pandas) (1.16.4)\n",
      "Requirement already satisfied: six>=1.5 in /Users/kirilyunakov/anaconda3/lib/python3.7/site-packages (from python-dateutil>=2.5.0->pandas) (1.12.0)\n",
      "Collecting package metadata (current_repodata.json): done\n",
      "Solving environment: done\n",
      "\n",
      "# All requested packages already installed.\n",
      "\n",
      "Collecting package metadata (current_repodata.json): done\n",
      "Solving environment: done\n",
      "\n",
      "# All requested packages already installed.\n",
      "\n",
      "Libraries installed\n"
     ]
    }
   ],
   "source": [
    "! pip install pandas\n",
    "import pandas as pd\n",
    "\n",
    "from pandas.io.html import read_html\n",
    "\n",
    "!conda install -c conda-forge geopy --yes \n",
    "from geopy.geocoders import Nominatim \n",
    "import requests\n",
    "\n",
    "from pandas.io.json import json_normalize \n",
    "\n",
    "!conda install -c conda-forge folium=0.5.0 --yes\n",
    "import folium\n",
    "\n",
    "print(\"Libraries installed\")"
   ]
  },
  {
   "cell_type": "markdown",
   "metadata": {},
   "source": [
    "#### Obtaining the data from Wikipedia"
   ]
  },
  {
   "cell_type": "code",
   "execution_count": 2,
   "metadata": {},
   "outputs": [
    {
     "name": "stdout",
     "output_type": "stream",
     "text": [
      "Exracted 13 wikitables\n"
     ]
    }
   ],
   "source": [
    "page = \"https://en.wikipedia.org/wiki/Boroughs_and_neighborhoods_of_Berlin\"\n",
    "\n",
    "wikitables = read_html(page, attrs={\"class\":\"wikitable\"})\n",
    "print(\"Exracted {num} wikitables\".format(num=len(wikitables)))"
   ]
  },
  {
   "cell_type": "markdown",
   "metadata": {},
   "source": [
    "#### Converting the Wikitable into a Pandas DataFrame"
   ]
  },
  {
   "cell_type": "code",
   "execution_count": 3,
   "metadata": {},
   "outputs": [],
   "source": [
    "df1 = pd.DataFrame(wikitables[1])\n",
    "df2 = pd.DataFrame(wikitables[2])\n",
    "df3 = pd.DataFrame(wikitables[3])\n",
    "df4 = pd.DataFrame(wikitables[4])\n",
    "df5 = pd.DataFrame(wikitables[5])\n",
    "df6 = pd.DataFrame(wikitables[6])\n",
    "df7 = pd.DataFrame(wikitables[7])\n",
    "df8 = pd.DataFrame(wikitables[8])\n",
    "df9 = pd.DataFrame(wikitables[9])\n",
    "df10 = pd.DataFrame(wikitables[10])\n",
    "df11 = pd.DataFrame(wikitables[11])\n",
    "df12 = pd.DataFrame(wikitables[12])"
   ]
  },
  {
   "cell_type": "markdown",
   "metadata": {},
   "source": [
    "#### Concatenating all wikitables into one Pandas DataFrame "
   ]
  },
  {
   "cell_type": "code",
   "execution_count": 4,
   "metadata": {},
   "outputs": [
    {
     "data": {
      "text/html": [
       "<div>\n",
       "<style scoped>\n",
       "    .dataframe tbody tr th:only-of-type {\n",
       "        vertical-align: middle;\n",
       "    }\n",
       "\n",
       "    .dataframe tbody tr th {\n",
       "        vertical-align: top;\n",
       "    }\n",
       "\n",
       "    .dataframe thead th {\n",
       "        text-align: right;\n",
       "    }\n",
       "</style>\n",
       "<table border=\"1\" class=\"dataframe\">\n",
       "  <thead>\n",
       "    <tr style=\"text-align: right;\">\n",
       "      <th></th>\n",
       "      <th>Locality</th>\n",
       "      <th>Area in km²</th>\n",
       "      <th>Population as of 2008</th>\n",
       "      <th>Density inhabitants per km²</th>\n",
       "      <th>Map</th>\n",
       "    </tr>\n",
       "  </thead>\n",
       "  <tbody>\n",
       "    <tr>\n",
       "      <th>0</th>\n",
       "      <td>(0101) Mitte</td>\n",
       "      <td>10.70</td>\n",
       "      <td>79582</td>\n",
       "      <td>7445</td>\n",
       "      <td>NaN</td>\n",
       "    </tr>\n",
       "    <tr>\n",
       "      <th>1</th>\n",
       "      <td>(0102) Moabit</td>\n",
       "      <td>7.72</td>\n",
       "      <td>69425</td>\n",
       "      <td>8993</td>\n",
       "      <td>NaN</td>\n",
       "    </tr>\n",
       "    <tr>\n",
       "      <th>2</th>\n",
       "      <td>(0103) Hansaviertel</td>\n",
       "      <td>0.53</td>\n",
       "      <td>5889</td>\n",
       "      <td>11111</td>\n",
       "      <td>NaN</td>\n",
       "    </tr>\n",
       "    <tr>\n",
       "      <th>3</th>\n",
       "      <td>(0104) Tiergarten</td>\n",
       "      <td>5.17</td>\n",
       "      <td>12486</td>\n",
       "      <td>2415</td>\n",
       "      <td>NaN</td>\n",
       "    </tr>\n",
       "    <tr>\n",
       "      <th>4</th>\n",
       "      <td>(0105) Wedding</td>\n",
       "      <td>9.23</td>\n",
       "      <td>76363</td>\n",
       "      <td>8273</td>\n",
       "      <td>NaN</td>\n",
       "    </tr>\n",
       "  </tbody>\n",
       "</table>\n",
       "</div>"
      ],
      "text/plain": [
       "              Locality  Area in km²  Population as of 2008  \\\n",
       "0         (0101) Mitte        10.70                  79582   \n",
       "1        (0102) Moabit         7.72                  69425   \n",
       "2  (0103) Hansaviertel         0.53                   5889   \n",
       "3    (0104) Tiergarten         5.17                  12486   \n",
       "4       (0105) Wedding         9.23                  76363   \n",
       "\n",
       "   Density inhabitants per km²  Map  \n",
       "0                         7445  NaN  \n",
       "1                         8993  NaN  \n",
       "2                        11111  NaN  \n",
       "3                         2415  NaN  \n",
       "4                         8273  NaN  "
      ]
     },
     "execution_count": 4,
     "metadata": {},
     "output_type": "execute_result"
    }
   ],
   "source": [
    "district_list = pd.concat([df1, df2, df3, df4, df5, df6, df7, df8, df9, df10, df11, df12], ignore_index=True)\n",
    "district_list.head()"
   ]
  },
  {
   "cell_type": "markdown",
   "metadata": {},
   "source": [
    "#### Removing the unnecessary columns"
   ]
  },
  {
   "cell_type": "code",
   "execution_count": 5,
   "metadata": {},
   "outputs": [
    {
     "data": {
      "text/html": [
       "<div>\n",
       "<style scoped>\n",
       "    .dataframe tbody tr th:only-of-type {\n",
       "        vertical-align: middle;\n",
       "    }\n",
       "\n",
       "    .dataframe tbody tr th {\n",
       "        vertical-align: top;\n",
       "    }\n",
       "\n",
       "    .dataframe thead th {\n",
       "        text-align: right;\n",
       "    }\n",
       "</style>\n",
       "<table border=\"1\" class=\"dataframe\">\n",
       "  <thead>\n",
       "    <tr style=\"text-align: right;\">\n",
       "      <th></th>\n",
       "      <th>Locality</th>\n",
       "      <th>Area in km²</th>\n",
       "    </tr>\n",
       "  </thead>\n",
       "  <tbody>\n",
       "    <tr>\n",
       "      <th>0</th>\n",
       "      <td>(0101) Mitte</td>\n",
       "      <td>10.70</td>\n",
       "    </tr>\n",
       "    <tr>\n",
       "      <th>1</th>\n",
       "      <td>(0102) Moabit</td>\n",
       "      <td>7.72</td>\n",
       "    </tr>\n",
       "    <tr>\n",
       "      <th>2</th>\n",
       "      <td>(0103) Hansaviertel</td>\n",
       "      <td>0.53</td>\n",
       "    </tr>\n",
       "    <tr>\n",
       "      <th>3</th>\n",
       "      <td>(0104) Tiergarten</td>\n",
       "      <td>5.17</td>\n",
       "    </tr>\n",
       "    <tr>\n",
       "      <th>4</th>\n",
       "      <td>(0105) Wedding</td>\n",
       "      <td>9.23</td>\n",
       "    </tr>\n",
       "  </tbody>\n",
       "</table>\n",
       "</div>"
      ],
      "text/plain": [
       "              Locality  Area in km²\n",
       "0         (0101) Mitte        10.70\n",
       "1        (0102) Moabit         7.72\n",
       "2  (0103) Hansaviertel         0.53\n",
       "3    (0104) Tiergarten         5.17\n",
       "4       (0105) Wedding         9.23"
      ]
     },
     "execution_count": 5,
     "metadata": {},
     "output_type": "execute_result"
    }
   ],
   "source": [
    "dropped_df = district_list.drop(columns=['Population as of 2008', 'Density inhabitants per km²', 'Map'], axis=1)\n",
    "dropped_df.head()"
   ]
  },
  {
   "cell_type": "markdown",
   "metadata": {},
   "source": [
    "#### Renaming the Locality column into District"
   ]
  },
  {
   "cell_type": "code",
   "execution_count": 6,
   "metadata": {},
   "outputs": [
    {
     "data": {
      "text/html": [
       "<div>\n",
       "<style scoped>\n",
       "    .dataframe tbody tr th:only-of-type {\n",
       "        vertical-align: middle;\n",
       "    }\n",
       "\n",
       "    .dataframe tbody tr th {\n",
       "        vertical-align: top;\n",
       "    }\n",
       "\n",
       "    .dataframe thead th {\n",
       "        text-align: right;\n",
       "    }\n",
       "</style>\n",
       "<table border=\"1\" class=\"dataframe\">\n",
       "  <thead>\n",
       "    <tr style=\"text-align: right;\">\n",
       "      <th></th>\n",
       "      <th>District</th>\n",
       "      <th>Area in km²</th>\n",
       "    </tr>\n",
       "  </thead>\n",
       "  <tbody>\n",
       "    <tr>\n",
       "      <th>0</th>\n",
       "      <td>(0101) Mitte</td>\n",
       "      <td>10.70</td>\n",
       "    </tr>\n",
       "    <tr>\n",
       "      <th>1</th>\n",
       "      <td>(0102) Moabit</td>\n",
       "      <td>7.72</td>\n",
       "    </tr>\n",
       "    <tr>\n",
       "      <th>2</th>\n",
       "      <td>(0103) Hansaviertel</td>\n",
       "      <td>0.53</td>\n",
       "    </tr>\n",
       "    <tr>\n",
       "      <th>3</th>\n",
       "      <td>(0104) Tiergarten</td>\n",
       "      <td>5.17</td>\n",
       "    </tr>\n",
       "    <tr>\n",
       "      <th>4</th>\n",
       "      <td>(0105) Wedding</td>\n",
       "      <td>9.23</td>\n",
       "    </tr>\n",
       "  </tbody>\n",
       "</table>\n",
       "</div>"
      ],
      "text/plain": [
       "              District  Area in km²\n",
       "0         (0101) Mitte        10.70\n",
       "1        (0102) Moabit         7.72\n",
       "2  (0103) Hansaviertel         0.53\n",
       "3    (0104) Tiergarten         5.17\n",
       "4       (0105) Wedding         9.23"
      ]
     },
     "execution_count": 6,
     "metadata": {},
     "output_type": "execute_result"
    }
   ],
   "source": [
    "renamed_df = dropped_df.rename(columns={\"Locality\": \"District\"})\n",
    "renamed_df.head()"
   ]
  },
  {
   "cell_type": "markdown",
   "metadata": {},
   "source": [
    "#### Removing the codes from the District names"
   ]
  },
  {
   "cell_type": "code",
   "execution_count": 7,
   "metadata": {},
   "outputs": [
    {
     "data": {
      "text/html": [
       "<div>\n",
       "<style scoped>\n",
       "    .dataframe tbody tr th:only-of-type {\n",
       "        vertical-align: middle;\n",
       "    }\n",
       "\n",
       "    .dataframe tbody tr th {\n",
       "        vertical-align: top;\n",
       "    }\n",
       "\n",
       "    .dataframe thead th {\n",
       "        text-align: right;\n",
       "    }\n",
       "</style>\n",
       "<table border=\"1\" class=\"dataframe\">\n",
       "  <thead>\n",
       "    <tr style=\"text-align: right;\">\n",
       "      <th></th>\n",
       "      <th>District</th>\n",
       "      <th>Area in km²</th>\n",
       "    </tr>\n",
       "  </thead>\n",
       "  <tbody>\n",
       "    <tr>\n",
       "      <th>0</th>\n",
       "      <td>Mitte</td>\n",
       "      <td>10.70</td>\n",
       "    </tr>\n",
       "    <tr>\n",
       "      <th>1</th>\n",
       "      <td>Moabit</td>\n",
       "      <td>7.72</td>\n",
       "    </tr>\n",
       "    <tr>\n",
       "      <th>2</th>\n",
       "      <td>Hansaviertel</td>\n",
       "      <td>0.53</td>\n",
       "    </tr>\n",
       "    <tr>\n",
       "      <th>3</th>\n",
       "      <td>Tiergarten</td>\n",
       "      <td>5.17</td>\n",
       "    </tr>\n",
       "    <tr>\n",
       "      <th>4</th>\n",
       "      <td>Wedding</td>\n",
       "      <td>9.23</td>\n",
       "    </tr>\n",
       "  </tbody>\n",
       "</table>\n",
       "</div>"
      ],
      "text/plain": [
       "       District  Area in km²\n",
       "0         Mitte        10.70\n",
       "1        Moabit         7.72\n",
       "2  Hansaviertel         0.53\n",
       "3    Tiergarten         5.17\n",
       "4       Wedding         9.23"
      ]
     },
     "execution_count": 7,
     "metadata": {},
     "output_type": "execute_result"
    }
   ],
   "source": [
    "renamed_df['District'] = pd.DataFrame(renamed_df['District'].str[7:])\n",
    "renamed_df.head()"
   ]
  },
  {
   "cell_type": "markdown",
   "metadata": {},
   "source": [
    "#### Importing the Geospatial data of the Districts"
   ]
  },
  {
   "cell_type": "code",
   "execution_count": 8,
   "metadata": {},
   "outputs": [
    {
     "data": {
      "text/html": [
       "<div>\n",
       "<style scoped>\n",
       "    .dataframe tbody tr th:only-of-type {\n",
       "        vertical-align: middle;\n",
       "    }\n",
       "\n",
       "    .dataframe tbody tr th {\n",
       "        vertical-align: top;\n",
       "    }\n",
       "\n",
       "    .dataframe thead th {\n",
       "        text-align: right;\n",
       "    }\n",
       "</style>\n",
       "<table border=\"1\" class=\"dataframe\">\n",
       "  <thead>\n",
       "    <tr style=\"text-align: right;\">\n",
       "      <th></th>\n",
       "      <th>Locale</th>\n",
       "      <th>Lat</th>\n",
       "      <th>Long</th>\n",
       "    </tr>\n",
       "  </thead>\n",
       "  <tbody>\n",
       "    <tr>\n",
       "      <th>0</th>\n",
       "      <td>Mitte</td>\n",
       "      <td>52.519444</td>\n",
       "      <td>13.406667</td>\n",
       "    </tr>\n",
       "    <tr>\n",
       "      <th>1</th>\n",
       "      <td>Moabit</td>\n",
       "      <td>52.533333</td>\n",
       "      <td>13.333333</td>\n",
       "    </tr>\n",
       "    <tr>\n",
       "      <th>2</th>\n",
       "      <td>Hansaviertel</td>\n",
       "      <td>52.516667</td>\n",
       "      <td>13.338889</td>\n",
       "    </tr>\n",
       "    <tr>\n",
       "      <th>3</th>\n",
       "      <td>Tiergarten</td>\n",
       "      <td>52.516667</td>\n",
       "      <td>13.366667</td>\n",
       "    </tr>\n",
       "    <tr>\n",
       "      <th>4</th>\n",
       "      <td>Wedding</td>\n",
       "      <td>52.550000</td>\n",
       "      <td>13.366667</td>\n",
       "    </tr>\n",
       "  </tbody>\n",
       "</table>\n",
       "</div>"
      ],
      "text/plain": [
       "         Locale        Lat       Long\n",
       "0         Mitte  52.519444  13.406667\n",
       "1        Moabit  52.533333  13.333333\n",
       "2  Hansaviertel  52.516667  13.338889\n",
       "3    Tiergarten  52.516667  13.366667\n",
       "4       Wedding  52.550000  13.366667"
      ]
     },
     "execution_count": 8,
     "metadata": {},
     "output_type": "execute_result"
    }
   ],
   "source": [
    "geo_data = pd.read_csv('/Users/kirilyunakov/Downloads/Berlin_District_Coordinates.csv')\n",
    "geo_data.head()"
   ]
  },
  {
   "cell_type": "markdown",
   "metadata": {},
   "source": [
    "#### Renaming the column based on which will perform the merge (District)"
   ]
  },
  {
   "cell_type": "code",
   "execution_count": 9,
   "metadata": {},
   "outputs": [
    {
     "data": {
      "text/html": [
       "<div>\n",
       "<style scoped>\n",
       "    .dataframe tbody tr th:only-of-type {\n",
       "        vertical-align: middle;\n",
       "    }\n",
       "\n",
       "    .dataframe tbody tr th {\n",
       "        vertical-align: top;\n",
       "    }\n",
       "\n",
       "    .dataframe thead th {\n",
       "        text-align: right;\n",
       "    }\n",
       "</style>\n",
       "<table border=\"1\" class=\"dataframe\">\n",
       "  <thead>\n",
       "    <tr style=\"text-align: right;\">\n",
       "      <th></th>\n",
       "      <th>District</th>\n",
       "      <th>Lat</th>\n",
       "      <th>Long</th>\n",
       "    </tr>\n",
       "  </thead>\n",
       "  <tbody>\n",
       "    <tr>\n",
       "      <th>0</th>\n",
       "      <td>Mitte</td>\n",
       "      <td>52.519444</td>\n",
       "      <td>13.406667</td>\n",
       "    </tr>\n",
       "    <tr>\n",
       "      <th>1</th>\n",
       "      <td>Moabit</td>\n",
       "      <td>52.533333</td>\n",
       "      <td>13.333333</td>\n",
       "    </tr>\n",
       "    <tr>\n",
       "      <th>2</th>\n",
       "      <td>Hansaviertel</td>\n",
       "      <td>52.516667</td>\n",
       "      <td>13.338889</td>\n",
       "    </tr>\n",
       "    <tr>\n",
       "      <th>3</th>\n",
       "      <td>Tiergarten</td>\n",
       "      <td>52.516667</td>\n",
       "      <td>13.366667</td>\n",
       "    </tr>\n",
       "    <tr>\n",
       "      <th>4</th>\n",
       "      <td>Wedding</td>\n",
       "      <td>52.550000</td>\n",
       "      <td>13.366667</td>\n",
       "    </tr>\n",
       "  </tbody>\n",
       "</table>\n",
       "</div>"
      ],
      "text/plain": [
       "       District        Lat       Long\n",
       "0         Mitte  52.519444  13.406667\n",
       "1        Moabit  52.533333  13.333333\n",
       "2  Hansaviertel  52.516667  13.338889\n",
       "3    Tiergarten  52.516667  13.366667\n",
       "4       Wedding  52.550000  13.366667"
      ]
     },
     "execution_count": 9,
     "metadata": {},
     "output_type": "execute_result"
    }
   ],
   "source": [
    "renamed_geo_data = geo_data.rename(columns={'Locale': 'District'})\n",
    "renamed_geo_data.head()"
   ]
  },
  {
   "cell_type": "markdown",
   "metadata": {},
   "source": [
    "#### Merging the Geospatial data with the data from Wikipedia based on the District name"
   ]
  },
  {
   "cell_type": "code",
   "execution_count": 10,
   "metadata": {},
   "outputs": [
    {
     "data": {
      "text/html": [
       "<div>\n",
       "<style scoped>\n",
       "    .dataframe tbody tr th:only-of-type {\n",
       "        vertical-align: middle;\n",
       "    }\n",
       "\n",
       "    .dataframe tbody tr th {\n",
       "        vertical-align: top;\n",
       "    }\n",
       "\n",
       "    .dataframe thead th {\n",
       "        text-align: right;\n",
       "    }\n",
       "</style>\n",
       "<table border=\"1\" class=\"dataframe\">\n",
       "  <thead>\n",
       "    <tr style=\"text-align: right;\">\n",
       "      <th></th>\n",
       "      <th>District</th>\n",
       "      <th>Area in km²</th>\n",
       "      <th>Lat</th>\n",
       "      <th>Long</th>\n",
       "    </tr>\n",
       "  </thead>\n",
       "  <tbody>\n",
       "    <tr>\n",
       "      <th>0</th>\n",
       "      <td>Mitte</td>\n",
       "      <td>10.70</td>\n",
       "      <td>52.519444</td>\n",
       "      <td>13.406667</td>\n",
       "    </tr>\n",
       "    <tr>\n",
       "      <th>1</th>\n",
       "      <td>Moabit</td>\n",
       "      <td>7.72</td>\n",
       "      <td>52.533333</td>\n",
       "      <td>13.333333</td>\n",
       "    </tr>\n",
       "    <tr>\n",
       "      <th>2</th>\n",
       "      <td>Hansaviertel</td>\n",
       "      <td>0.53</td>\n",
       "      <td>52.516667</td>\n",
       "      <td>13.338889</td>\n",
       "    </tr>\n",
       "    <tr>\n",
       "      <th>3</th>\n",
       "      <td>Tiergarten</td>\n",
       "      <td>5.17</td>\n",
       "      <td>52.516667</td>\n",
       "      <td>13.366667</td>\n",
       "    </tr>\n",
       "    <tr>\n",
       "      <th>4</th>\n",
       "      <td>Wedding</td>\n",
       "      <td>9.23</td>\n",
       "      <td>52.550000</td>\n",
       "      <td>13.366667</td>\n",
       "    </tr>\n",
       "  </tbody>\n",
       "</table>\n",
       "</div>"
      ],
      "text/plain": [
       "       District  Area in km²        Lat       Long\n",
       "0         Mitte        10.70  52.519444  13.406667\n",
       "1        Moabit         7.72  52.533333  13.333333\n",
       "2  Hansaviertel         0.53  52.516667  13.338889\n",
       "3    Tiergarten         5.17  52.516667  13.366667\n",
       "4       Wedding         9.23  52.550000  13.366667"
      ]
     },
     "execution_count": 10,
     "metadata": {},
     "output_type": "execute_result"
    }
   ],
   "source": [
    "result = pd.merge(renamed_df, renamed_geo_data, on='District', how='left')\n",
    "result.head()"
   ]
  },
  {
   "cell_type": "code",
   "execution_count": 11,
   "metadata": {},
   "outputs": [],
   "source": [
    "neighborhoods = result"
   ]
  },
  {
   "cell_type": "code",
   "execution_count": 12,
   "metadata": {},
   "outputs": [
    {
     "name": "stdout",
     "output_type": "stream",
     "text": [
      "The geograpical coordinate of Berlin are 52.5170365, 13.3888599.\n"
     ]
    }
   ],
   "source": [
    "address = 'Berlin'\n",
    "\n",
    "geolocator = Nominatim(user_agent=\"tor_explorer\")\n",
    "location = geolocator.geocode(address)\n",
    "latitude = location.latitude\n",
    "longitude = location.longitude\n",
    "print('The geograpical coordinate of Berlin are {}, {}.'.format(latitude, longitude))"
   ]
  },
  {
   "cell_type": "code",
   "execution_count": 13,
   "metadata": {},
   "outputs": [
    {
     "data": {
      "text/html": [
       "<div style=\"width:100%;\"><div style=\"position:relative;width:100%;height:0;padding-bottom:60%;\"><iframe src=\"data:text/html;charset=utf-8;base64,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\" style=\"position:absolute;width:100%;height:100%;left:0;top:0;border:none !important;\" allowfullscreen webkitallowfullscreen mozallowfullscreen></iframe></div></div>"
      ],
      "text/plain": [
       "<folium.folium.Map at 0x116719cc0>"
      ]
     },
     "execution_count": 13,
     "metadata": {},
     "output_type": "execute_result"
    }
   ],
   "source": [
    "map_berlin = folium.Map(location=[latitude, longitude], zoom_start=10.5)\n",
    "\n",
    "for lat, lng, neighborhood in zip(neighborhoods['Lat'], neighborhoods['Long'], neighborhoods['District']):\n",
    "    label = '{}'.format(neighborhood)\n",
    "    label = folium.Popup(label, parse_html=True)\n",
    "    folium.CircleMarker(\n",
    "        [lat, lng],\n",
    "        radius=5,\n",
    "        popup=label,\n",
    "        color='blue',\n",
    "        fill=True,\n",
    "        fill_color='#3186cc',\n",
    "        fill_opacity=0.7,\n",
    "        parse_html=False).add_to(map_berlin)  \n",
    "    \n",
    "map_berlin"
   ]
  },
  {
   "cell_type": "markdown",
   "metadata": {},
   "source": [
    "#### Displaying the distribution"
   ]
  },
  {
   "cell_type": "code",
   "execution_count": 14,
   "metadata": {},
   "outputs": [
    {
     "data": {
      "text/plain": [
       "<matplotlib.axes._subplots.AxesSubplot at 0x1a190315c0>"
      ]
     },
     "execution_count": 14,
     "metadata": {},
     "output_type": "execute_result"
    }
   ],
   "source": [
    "import seaborn as sns\n",
    "import matplotlib.pyplot as plt\n",
    "\n",
    "sns.set(style=\"whitegrid\")\n",
    "sns.boxplot(y='Area in km²', data=neighborhoods)"
   ]
  },
  {
   "cell_type": "markdown",
   "metadata": {},
   "source": [
    "#### 5-10km2 is the size of the 50% of the districts\n",
    "This will allows us to set a appropriate perimater for our radius of scan."
   ]
  },
  {
   "cell_type": "markdown",
   "metadata": {},
   "source": [
    "#### Define Foursquare Credentials and Version"
   ]
  },
  {
   "cell_type": "code",
   "execution_count": 15,
   "metadata": {},
   "outputs": [
    {
     "data": {
      "text/html": [
       "<div>\n",
       "<style scoped>\n",
       "    .dataframe tbody tr th:only-of-type {\n",
       "        vertical-align: middle;\n",
       "    }\n",
       "\n",
       "    .dataframe tbody tr th {\n",
       "        vertical-align: top;\n",
       "    }\n",
       "\n",
       "    .dataframe thead th {\n",
       "        text-align: right;\n",
       "    }\n",
       "</style>\n",
       "<table border=\"1\" class=\"dataframe\">\n",
       "  <thead>\n",
       "    <tr style=\"text-align: right;\">\n",
       "      <th></th>\n",
       "      <th>District</th>\n",
       "      <th>Area in km²</th>\n",
       "      <th>Lat</th>\n",
       "      <th>Long</th>\n",
       "    </tr>\n",
       "  </thead>\n",
       "  <tbody>\n",
       "    <tr>\n",
       "      <th>0</th>\n",
       "      <td>Mitte</td>\n",
       "      <td>10.70</td>\n",
       "      <td>52.519444</td>\n",
       "      <td>13.406667</td>\n",
       "    </tr>\n",
       "    <tr>\n",
       "      <th>1</th>\n",
       "      <td>Moabit</td>\n",
       "      <td>7.72</td>\n",
       "      <td>52.533333</td>\n",
       "      <td>13.333333</td>\n",
       "    </tr>\n",
       "    <tr>\n",
       "      <th>2</th>\n",
       "      <td>Hansaviertel</td>\n",
       "      <td>0.53</td>\n",
       "      <td>52.516667</td>\n",
       "      <td>13.338889</td>\n",
       "    </tr>\n",
       "    <tr>\n",
       "      <th>3</th>\n",
       "      <td>Tiergarten</td>\n",
       "      <td>5.17</td>\n",
       "      <td>52.516667</td>\n",
       "      <td>13.366667</td>\n",
       "    </tr>\n",
       "    <tr>\n",
       "      <th>4</th>\n",
       "      <td>Wedding</td>\n",
       "      <td>9.23</td>\n",
       "      <td>52.550000</td>\n",
       "      <td>13.366667</td>\n",
       "    </tr>\n",
       "  </tbody>\n",
       "</table>\n",
       "</div>"
      ],
      "text/plain": [
       "       District  Area in km²        Lat       Long\n",
       "0         Mitte        10.70  52.519444  13.406667\n",
       "1        Moabit         7.72  52.533333  13.333333\n",
       "2  Hansaviertel         0.53  52.516667  13.338889\n",
       "3    Tiergarten         5.17  52.516667  13.366667\n",
       "4       Wedding         9.23  52.550000  13.366667"
      ]
     },
     "execution_count": 15,
     "metadata": {},
     "output_type": "execute_result"
    }
   ],
   "source": [
    "neighborhoods.head()"
   ]
  },
  {
   "cell_type": "code",
   "execution_count": 16,
   "metadata": {},
   "outputs": [
    {
     "name": "stdout",
     "output_type": "stream",
     "text": [
      "My credentails:\n",
      "CLIENT_ID: X0UR5GR2EL3FBUPRBTPQW0M1XOECT3RPNNPUXEPACXEPO44J\n",
      "CLIENT_SECRET:ANFDRV2DKSZG1J453PD3JW0V4DHM4FDKLR5UHFVDEW5IYFZO\n"
     ]
    }
   ],
   "source": [
    "CLIENT_ID = 'X0UR5GR2EL3FBUPRBTPQW0M1XOECT3RPNNPUXEPACXEPO44J' \n",
    "CLIENT_SECRET = 'ANFDRV2DKSZG1J453PD3JW0V4DHM4FDKLR5UHFVDEW5IYFZO' \n",
    "VERSION = '20180605'\n",
    "LIMIT = 100\n",
    "\n",
    "print('My credentails:')\n",
    "print('CLIENT_ID: ' + CLIENT_ID)\n",
    "print('CLIENT_SECRET:' + CLIENT_SECRET)"
   ]
  },
  {
   "cell_type": "code",
   "execution_count": 17,
   "metadata": {},
   "outputs": [
    {
     "name": "stdout",
     "output_type": "stream",
     "text": [
      "Latitude and longitude values of Mitte are 52.51944399999999, 13.406667.\n"
     ]
    }
   ],
   "source": [
    "neighborhood_name = neighborhoods.loc[0, 'District']\n",
    "neighborhood_latitude = neighborhoods.loc[0, 'Lat'] \n",
    "neighborhood_longitude = neighborhoods.loc[0, 'Long'] \n",
    "\n",
    "LIMIT = 100 \n",
    "radius = 500\n",
    "\n",
    "print('Latitude and longitude values of {} are {}, {}.'.format(neighborhood_name, \n",
    "                                                               neighborhood_latitude, \n",
    "                                                               neighborhood_longitude))"
   ]
  },
  {
   "cell_type": "code",
   "execution_count": 18,
   "metadata": {},
   "outputs": [],
   "source": [
    "url = 'https://api.foursquare.com/v2/venues/explore?&client_id={}&client_secret={}&v={}&ll={},{}&radius={}&limit={}'.format(\n",
    "    CLIENT_ID, \n",
    "    CLIENT_SECRET, \n",
    "    VERSION, \n",
    "    neighborhood_latitude, \n",
    "    neighborhood_longitude, \n",
    "    radius, \n",
    "    LIMIT)\n",
    "results = requests.get(url).json()"
   ]
  },
  {
   "cell_type": "code",
   "execution_count": 19,
   "metadata": {},
   "outputs": [],
   "source": [
    "venues = results['response']['groups'][0]['items']\n",
    "nearby_venues = json_normalize(venues)"
   ]
  },
  {
   "cell_type": "code",
   "execution_count": 21,
   "metadata": {},
   "outputs": [
    {
     "ename": "TypeError",
     "evalue": "('string indices must be integers', 'occurred at index 0')",
     "output_type": "error",
     "traceback": [
      "\u001b[0;31m---------------------------------------------------------------------------\u001b[0m",
      "\u001b[0;31mTypeError\u001b[0m                                 Traceback (most recent call last)",
      "\u001b[0;32m<ipython-input-21-21619c573ba6>\u001b[0m in \u001b[0;36m<module>\u001b[0;34m\u001b[0m\n\u001b[1;32m      5\u001b[0m \u001b[0;34m\u001b[0m\u001b[0m\n\u001b[1;32m      6\u001b[0m \u001b[0;31m# filter the category for each row\u001b[0m\u001b[0;34m\u001b[0m\u001b[0;34m\u001b[0m\u001b[0;34m\u001b[0m\u001b[0m\n\u001b[0;32m----> 7\u001b[0;31m \u001b[0mnearby_venues\u001b[0m\u001b[0;34m[\u001b[0m\u001b[0;34m'venue.categories'\u001b[0m\u001b[0;34m]\u001b[0m \u001b[0;34m=\u001b[0m \u001b[0mnearby_venues\u001b[0m\u001b[0;34m.\u001b[0m\u001b[0mapply\u001b[0m\u001b[0;34m(\u001b[0m\u001b[0mget_categories\u001b[0m\u001b[0;34m,\u001b[0m \u001b[0maxis\u001b[0m\u001b[0;34m=\u001b[0m\u001b[0;36m1\u001b[0m\u001b[0;34m)\u001b[0m\u001b[0;34m\u001b[0m\u001b[0;34m\u001b[0m\u001b[0m\n\u001b[0m\u001b[1;32m      8\u001b[0m \u001b[0;34m\u001b[0m\u001b[0m\n\u001b[1;32m      9\u001b[0m \u001b[0;31m# clean columns\u001b[0m\u001b[0;34m\u001b[0m\u001b[0;34m\u001b[0m\u001b[0;34m\u001b[0m\u001b[0m\n",
      "\u001b[0;32m~/anaconda3/lib/python3.7/site-packages/pandas/core/frame.py\u001b[0m in \u001b[0;36mapply\u001b[0;34m(self, func, axis, broadcast, raw, reduce, result_type, args, **kwds)\u001b[0m\n\u001b[1;32m   6485\u001b[0m                          \u001b[0margs\u001b[0m\u001b[0;34m=\u001b[0m\u001b[0margs\u001b[0m\u001b[0;34m,\u001b[0m\u001b[0;34m\u001b[0m\u001b[0;34m\u001b[0m\u001b[0m\n\u001b[1;32m   6486\u001b[0m                          kwds=kwds)\n\u001b[0;32m-> 6487\u001b[0;31m         \u001b[0;32mreturn\u001b[0m \u001b[0mop\u001b[0m\u001b[0;34m.\u001b[0m\u001b[0mget_result\u001b[0m\u001b[0;34m(\u001b[0m\u001b[0;34m)\u001b[0m\u001b[0;34m\u001b[0m\u001b[0;34m\u001b[0m\u001b[0m\n\u001b[0m\u001b[1;32m   6488\u001b[0m \u001b[0;34m\u001b[0m\u001b[0m\n\u001b[1;32m   6489\u001b[0m     \u001b[0;32mdef\u001b[0m \u001b[0mapplymap\u001b[0m\u001b[0;34m(\u001b[0m\u001b[0mself\u001b[0m\u001b[0;34m,\u001b[0m \u001b[0mfunc\u001b[0m\u001b[0;34m)\u001b[0m\u001b[0;34m:\u001b[0m\u001b[0;34m\u001b[0m\u001b[0;34m\u001b[0m\u001b[0m\n",
      "\u001b[0;32m~/anaconda3/lib/python3.7/site-packages/pandas/core/apply.py\u001b[0m in \u001b[0;36mget_result\u001b[0;34m(self)\u001b[0m\n\u001b[1;32m    149\u001b[0m             \u001b[0;32mreturn\u001b[0m \u001b[0mself\u001b[0m\u001b[0;34m.\u001b[0m\u001b[0mapply_raw\u001b[0m\u001b[0;34m(\u001b[0m\u001b[0;34m)\u001b[0m\u001b[0;34m\u001b[0m\u001b[0;34m\u001b[0m\u001b[0m\n\u001b[1;32m    150\u001b[0m \u001b[0;34m\u001b[0m\u001b[0m\n\u001b[0;32m--> 151\u001b[0;31m         \u001b[0;32mreturn\u001b[0m \u001b[0mself\u001b[0m\u001b[0;34m.\u001b[0m\u001b[0mapply_standard\u001b[0m\u001b[0;34m(\u001b[0m\u001b[0;34m)\u001b[0m\u001b[0;34m\u001b[0m\u001b[0;34m\u001b[0m\u001b[0m\n\u001b[0m\u001b[1;32m    152\u001b[0m \u001b[0;34m\u001b[0m\u001b[0m\n\u001b[1;32m    153\u001b[0m     \u001b[0;32mdef\u001b[0m \u001b[0mapply_empty_result\u001b[0m\u001b[0;34m(\u001b[0m\u001b[0mself\u001b[0m\u001b[0;34m)\u001b[0m\u001b[0;34m:\u001b[0m\u001b[0;34m\u001b[0m\u001b[0;34m\u001b[0m\u001b[0m\n",
      "\u001b[0;32m~/anaconda3/lib/python3.7/site-packages/pandas/core/apply.py\u001b[0m in \u001b[0;36mapply_standard\u001b[0;34m(self)\u001b[0m\n\u001b[1;32m    255\u001b[0m \u001b[0;34m\u001b[0m\u001b[0m\n\u001b[1;32m    256\u001b[0m         \u001b[0;31m# compute the result using the series generator\u001b[0m\u001b[0;34m\u001b[0m\u001b[0;34m\u001b[0m\u001b[0;34m\u001b[0m\u001b[0m\n\u001b[0;32m--> 257\u001b[0;31m         \u001b[0mself\u001b[0m\u001b[0;34m.\u001b[0m\u001b[0mapply_series_generator\u001b[0m\u001b[0;34m(\u001b[0m\u001b[0;34m)\u001b[0m\u001b[0;34m\u001b[0m\u001b[0;34m\u001b[0m\u001b[0m\n\u001b[0m\u001b[1;32m    258\u001b[0m \u001b[0;34m\u001b[0m\u001b[0m\n\u001b[1;32m    259\u001b[0m         \u001b[0;31m# wrap results\u001b[0m\u001b[0;34m\u001b[0m\u001b[0;34m\u001b[0m\u001b[0;34m\u001b[0m\u001b[0m\n",
      "\u001b[0;32m~/anaconda3/lib/python3.7/site-packages/pandas/core/apply.py\u001b[0m in \u001b[0;36mapply_series_generator\u001b[0;34m(self)\u001b[0m\n\u001b[1;32m    284\u001b[0m             \u001b[0;32mtry\u001b[0m\u001b[0;34m:\u001b[0m\u001b[0;34m\u001b[0m\u001b[0;34m\u001b[0m\u001b[0m\n\u001b[1;32m    285\u001b[0m                 \u001b[0;32mfor\u001b[0m \u001b[0mi\u001b[0m\u001b[0;34m,\u001b[0m \u001b[0mv\u001b[0m \u001b[0;32min\u001b[0m \u001b[0menumerate\u001b[0m\u001b[0;34m(\u001b[0m\u001b[0mseries_gen\u001b[0m\u001b[0;34m)\u001b[0m\u001b[0;34m:\u001b[0m\u001b[0;34m\u001b[0m\u001b[0;34m\u001b[0m\u001b[0m\n\u001b[0;32m--> 286\u001b[0;31m                     \u001b[0mresults\u001b[0m\u001b[0;34m[\u001b[0m\u001b[0mi\u001b[0m\u001b[0;34m]\u001b[0m \u001b[0;34m=\u001b[0m \u001b[0mself\u001b[0m\u001b[0;34m.\u001b[0m\u001b[0mf\u001b[0m\u001b[0;34m(\u001b[0m\u001b[0mv\u001b[0m\u001b[0;34m)\u001b[0m\u001b[0;34m\u001b[0m\u001b[0;34m\u001b[0m\u001b[0m\n\u001b[0m\u001b[1;32m    287\u001b[0m                     \u001b[0mkeys\u001b[0m\u001b[0;34m.\u001b[0m\u001b[0mappend\u001b[0m\u001b[0;34m(\u001b[0m\u001b[0mv\u001b[0m\u001b[0;34m.\u001b[0m\u001b[0mname\u001b[0m\u001b[0;34m)\u001b[0m\u001b[0;34m\u001b[0m\u001b[0;34m\u001b[0m\u001b[0m\n\u001b[1;32m    288\u001b[0m             \u001b[0;32mexcept\u001b[0m \u001b[0mException\u001b[0m \u001b[0;32mas\u001b[0m \u001b[0me\u001b[0m\u001b[0;34m:\u001b[0m\u001b[0;34m\u001b[0m\u001b[0;34m\u001b[0m\u001b[0m\n",
      "\u001b[0;32m<ipython-input-20-0cb7eeca1be9>\u001b[0m in \u001b[0;36mget_categories\u001b[0;34m(categories)\u001b[0m\n\u001b[1;32m      4\u001b[0m \u001b[0;34m\u001b[0m\u001b[0m\n\u001b[1;32m      5\u001b[0m \u001b[0;32mdef\u001b[0m \u001b[0mget_categories\u001b[0m\u001b[0;34m(\u001b[0m\u001b[0mcategories\u001b[0m\u001b[0;34m)\u001b[0m\u001b[0;34m:\u001b[0m\u001b[0;34m\u001b[0m\u001b[0;34m\u001b[0m\u001b[0m\n\u001b[0;32m----> 6\u001b[0;31m     \u001b[0;32mreturn\u001b[0m \u001b[0;34m[\u001b[0m\u001b[0;34m(\u001b[0m\u001b[0mcat\u001b[0m\u001b[0;34m[\u001b[0m\u001b[0;34m'name'\u001b[0m\u001b[0;34m]\u001b[0m\u001b[0;34m,\u001b[0m \u001b[0mcat\u001b[0m\u001b[0;34m[\u001b[0m\u001b[0;34m'id'\u001b[0m\u001b[0;34m]\u001b[0m\u001b[0;34m)\u001b[0m \u001b[0;32mfor\u001b[0m \u001b[0mcat\u001b[0m \u001b[0;32min\u001b[0m \u001b[0mcategories\u001b[0m\u001b[0;34m]\u001b[0m\u001b[0;34m\u001b[0m\u001b[0;34m\u001b[0m\u001b[0m\n\u001b[0m\u001b[1;32m      7\u001b[0m \u001b[0;34m\u001b[0m\u001b[0m\n\u001b[1;32m      8\u001b[0m \u001b[0;31m# filter the category for each row\u001b[0m\u001b[0;34m\u001b[0m\u001b[0;34m\u001b[0m\u001b[0;34m\u001b[0m\u001b[0m\n",
      "\u001b[0;32m<ipython-input-20-0cb7eeca1be9>\u001b[0m in \u001b[0;36m<listcomp>\u001b[0;34m(.0)\u001b[0m\n\u001b[1;32m      4\u001b[0m \u001b[0;34m\u001b[0m\u001b[0m\n\u001b[1;32m      5\u001b[0m \u001b[0;32mdef\u001b[0m \u001b[0mget_categories\u001b[0m\u001b[0;34m(\u001b[0m\u001b[0mcategories\u001b[0m\u001b[0;34m)\u001b[0m\u001b[0;34m:\u001b[0m\u001b[0;34m\u001b[0m\u001b[0;34m\u001b[0m\u001b[0m\n\u001b[0;32m----> 6\u001b[0;31m     \u001b[0;32mreturn\u001b[0m \u001b[0;34m[\u001b[0m\u001b[0;34m(\u001b[0m\u001b[0mcat\u001b[0m\u001b[0;34m[\u001b[0m\u001b[0;34m'name'\u001b[0m\u001b[0;34m]\u001b[0m\u001b[0;34m,\u001b[0m \u001b[0mcat\u001b[0m\u001b[0;34m[\u001b[0m\u001b[0;34m'id'\u001b[0m\u001b[0;34m]\u001b[0m\u001b[0;34m)\u001b[0m \u001b[0;32mfor\u001b[0m \u001b[0mcat\u001b[0m \u001b[0;32min\u001b[0m \u001b[0mcategories\u001b[0m\u001b[0;34m]\u001b[0m\u001b[0;34m\u001b[0m\u001b[0;34m\u001b[0m\u001b[0m\n\u001b[0m\u001b[1;32m      7\u001b[0m \u001b[0;34m\u001b[0m\u001b[0m\n\u001b[1;32m      8\u001b[0m \u001b[0;31m# filter the category for each row\u001b[0m\u001b[0;34m\u001b[0m\u001b[0;34m\u001b[0m\u001b[0;34m\u001b[0m\u001b[0m\n",
      "\u001b[0;31mTypeError\u001b[0m: ('string indices must be integers', 'occurred at index 0')"
     ]
    }
   ],
   "source": [
    "# filter columns\n",
    "filtered_columns = ['venue.name', 'venue.categories', 'venue.location.lat', 'venue.location.lng']\n",
    "nearby_venues =nearby_venues.loc[:, filtered_columns]\n",
    "\n",
    "\n",
    "# filter the category for each row\n",
    "nearby_venues['venue.categories'] = nearby_venues.apply(get_categories, axis=1)\n",
    "\n",
    "# clean columns\n",
    "nearby_venues.columns = [col.split(\".\")[-1] for col in nearby_venues.columns]\n",
    "nearby_venues.head()"
   ]
  },
  {
   "cell_type": "code",
   "execution_count": null,
   "metadata": {},
   "outputs": [],
   "source": []
  }
 ],
 "metadata": {
  "kernelspec": {
   "display_name": "Python 3",
   "language": "python",
   "name": "python3"
  },
  "language_info": {
   "codemirror_mode": {
    "name": "ipython",
    "version": 3
   },
   "file_extension": ".py",
   "mimetype": "text/x-python",
   "name": "python",
   "nbconvert_exporter": "python",
   "pygments_lexer": "ipython3",
   "version": "3.7.3"
  }
 },
 "nbformat": 4,
 "nbformat_minor": 4
}
