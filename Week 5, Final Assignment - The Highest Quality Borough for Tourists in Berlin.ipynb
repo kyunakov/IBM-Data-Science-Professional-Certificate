{
 "cells": [
  {
   "cell_type": "markdown",
   "metadata": {},
   "source": [
    "### Applied Data Science Capstone by IBM/Coursera\n",
    "\n",
    "\n",
    "## Capstone Project -  Week 4 - Questions 1&2\n",
    "<br></br>\n",
    "<br></br>\n",
    "## Topic: The Highest Quality Borough for Tourists in Berlin \n",
    "\n",
    "\n",
    "\n",
    "## Table of contents\n",
    "* [Introduction](#introduction)\n",
    "* [Data](#data)\n",
    "* [Methodology](#methodology)\n",
    "* [Results](#results)\n",
    "* [Discussion](#discussion)\n",
    "* [Conclusion](#conclusion)"
   ]
  },
  {
   "cell_type": "markdown",
   "metadata": {},
   "source": [
    "## Introduction <a name=\"introduction\"></a>"
   ]
  },
  {
   "cell_type": "markdown",
   "metadata": {},
   "source": [
    "**Berlin** is a great city for tourists. It is not a surprise that it is ranked as the most visited German city by <a href=\"https://www.worldatlas.com/articles/the-10-most-visited-cities-in-germany.html\" target=\"_blank\" rel=\"noopener\">Worldatlas</a> with 31.1 milion tourists for 2016. \n",
    "\n",
    "However, as a tourist, you may find it **diffucult** to find out in which part of the city you should spend most of your time while being in Berlin. The city is relatively big. It is consisted by 891,8 km² of urbanized area, which is divided in 12 boroughs, full of great places to visit. The question I will try to answer is **which borough has the highest variaty of high quality tourist venues.** \n",
    "\n",
    "The main audience which may benefit by solving the problem above is the **one-day tourists.** It will be extremely valuable for them to know in which district should they spend their only day in Berlin in order to get the best out of it."
   ]
  },
  {
   "cell_type": "markdown",
   "metadata": {},
   "source": [
    "## Data <a name=\"data\"></a>"
   ]
  },
  {
   "cell_type": "markdown",
   "metadata": {},
   "source": [
    "Based on definition of the problem, factors that will influence the solution are:\n",
    "\n",
    "* geolocation of the Berlin boroughs\n",
    "* number of unique categories of venues in the borough\n",
    "* average rating of the venues measured by the number of likes\n",
    "\n",
    "In order to get this data, I decided to use three data providers:\n",
    "\n",
    "* the list of the names of boroughs will be obtained from **Wikipedia**\n",
    "* the geolocation latitute and longitute of the boroughs in Berlin will be obtained using **Google Maps API**\n",
    "* number of unique categories of venues in the district and average rating of the venues measured by the number of likes will be obtained using **Foursquare API**"
   ]
  },
  {
   "cell_type": "markdown",
   "metadata": {},
   "source": [
    "### Obtaining the names of the Berlin boroughs from Wikipedia\n",
    "\n"
   ]
  },
  {
   "cell_type": "markdown",
   "metadata": {},
   "source": [
    "#### Installing the necessary libriaries"
   ]
  },
  {
   "cell_type": "code",
   "execution_count": 1,
   "metadata": {},
   "outputs": [
    {
     "name": "stdout",
     "output_type": "stream",
     "text": [
      "Requirement already satisfied: pandas in /Users/kirilyunakov/anaconda3/lib/python3.7/site-packages (0.24.2)\n",
      "Requirement already satisfied: pytz>=2011k in /Users/kirilyunakov/anaconda3/lib/python3.7/site-packages (from pandas) (2019.1)\n",
      "Requirement already satisfied: python-dateutil>=2.5.0 in /Users/kirilyunakov/anaconda3/lib/python3.7/site-packages (from pandas) (2.8.0)\n",
      "Requirement already satisfied: numpy>=1.12.0 in /Users/kirilyunakov/anaconda3/lib/python3.7/site-packages (from pandas) (1.16.4)\n",
      "Requirement already satisfied: six>=1.5 in /Users/kirilyunakov/anaconda3/lib/python3.7/site-packages (from python-dateutil>=2.5.0->pandas) (1.12.0)\n",
      "Libraries installed\n"
     ]
    }
   ],
   "source": [
    "! pip install pandas\n",
    "import pandas as pd\n",
    "\n",
    "!conda install -c conda-forge geopy --yes \n",
    "from geopy.geocoders import Nominatim \n",
    "\n",
    "!conda install -c conda-forge folium=0.5.0 --yes\n",
    "import folium\n",
    "\n",
    "print(\"Libraries installed\")"
   ]
  },
  {
   "cell_type": "markdown",
   "metadata": {},
   "source": [
    "#### Obtaining the data from Wikipedia"
   ]
  },
  {
   "cell_type": "code",
   "execution_count": 2,
   "metadata": {},
   "outputs": [
    {
     "name": "stdout",
     "output_type": "stream",
     "text": [
      "Exracted 13 wikitables\n"
     ]
    }
   ],
   "source": [
    "from pandas.io.html import read_html\n",
    "page = \"https://en.wikipedia.org/wiki/Boroughs_and_neighborhoods_of_Berlin\"\n",
    "\n",
    "wikitables = read_html(page, attrs={\"class\":\"wikitable\"})\n",
    "print(\"Exracted {num} wikitables\".format(num=len(wikitables)))"
   ]
  },
  {
   "cell_type": "markdown",
   "metadata": {},
   "source": [
    "#### Converting the Wikitable into a Pandas DataFrame"
   ]
  },
  {
   "cell_type": "code",
   "execution_count": 3,
   "metadata": {},
   "outputs": [],
   "source": [
    "df1 = pd.DataFrame(wikitables[1])\n",
    "df2 = pd.DataFrame(wikitables[2])\n",
    "df3 = pd.DataFrame(wikitables[3])\n",
    "df4 = pd.DataFrame(wikitables[4])\n",
    "df5 = pd.DataFrame(wikitables[5])\n",
    "df6 = pd.DataFrame(wikitables[6])\n",
    "df7 = pd.DataFrame(wikitables[7])\n",
    "df8 = pd.DataFrame(wikitables[8])\n",
    "df9 = pd.DataFrame(wikitables[9])\n",
    "df10 = pd.DataFrame(wikitables[10])\n",
    "df11 = pd.DataFrame(wikitables[11])\n",
    "df12 = pd.DataFrame(wikitables[12])"
   ]
  },
  {
   "cell_type": "markdown",
   "metadata": {},
   "source": [
    "#### Concatenating all wikitables into one Pandas DataFrame "
   ]
  },
  {
   "cell_type": "code",
   "execution_count": 4,
   "metadata": {},
   "outputs": [
    {
     "data": {
      "text/html": [
       "<div>\n",
       "<style scoped>\n",
       "    .dataframe tbody tr th:only-of-type {\n",
       "        vertical-align: middle;\n",
       "    }\n",
       "\n",
       "    .dataframe tbody tr th {\n",
       "        vertical-align: top;\n",
       "    }\n",
       "\n",
       "    .dataframe thead th {\n",
       "        text-align: right;\n",
       "    }\n",
       "</style>\n",
       "<table border=\"1\" class=\"dataframe\">\n",
       "  <thead>\n",
       "    <tr style=\"text-align: right;\">\n",
       "      <th></th>\n",
       "      <th>Locality</th>\n",
       "      <th>Area in km²</th>\n",
       "      <th>Population as of 2008</th>\n",
       "      <th>Density inhabitants per km²</th>\n",
       "      <th>Map</th>\n",
       "    </tr>\n",
       "  </thead>\n",
       "  <tbody>\n",
       "    <tr>\n",
       "      <th>0</th>\n",
       "      <td>(0101) Mitte</td>\n",
       "      <td>10.70</td>\n",
       "      <td>79582</td>\n",
       "      <td>7445</td>\n",
       "      <td>NaN</td>\n",
       "    </tr>\n",
       "    <tr>\n",
       "      <th>1</th>\n",
       "      <td>(0102) Moabit</td>\n",
       "      <td>7.72</td>\n",
       "      <td>69425</td>\n",
       "      <td>8993</td>\n",
       "      <td>NaN</td>\n",
       "    </tr>\n",
       "    <tr>\n",
       "      <th>2</th>\n",
       "      <td>(0103) Hansaviertel</td>\n",
       "      <td>0.53</td>\n",
       "      <td>5889</td>\n",
       "      <td>11111</td>\n",
       "      <td>NaN</td>\n",
       "    </tr>\n",
       "    <tr>\n",
       "      <th>3</th>\n",
       "      <td>(0104) Tiergarten</td>\n",
       "      <td>5.17</td>\n",
       "      <td>12486</td>\n",
       "      <td>2415</td>\n",
       "      <td>NaN</td>\n",
       "    </tr>\n",
       "    <tr>\n",
       "      <th>4</th>\n",
       "      <td>(0105) Wedding</td>\n",
       "      <td>9.23</td>\n",
       "      <td>76363</td>\n",
       "      <td>8273</td>\n",
       "      <td>NaN</td>\n",
       "    </tr>\n",
       "  </tbody>\n",
       "</table>\n",
       "</div>"
      ],
      "text/plain": [
       "              Locality  Area in km²  Population as of 2008  \\\n",
       "0         (0101) Mitte        10.70                  79582   \n",
       "1        (0102) Moabit         7.72                  69425   \n",
       "2  (0103) Hansaviertel         0.53                   5889   \n",
       "3    (0104) Tiergarten         5.17                  12486   \n",
       "4       (0105) Wedding         9.23                  76363   \n",
       "\n",
       "   Density inhabitants per km²  Map  \n",
       "0                         7445  NaN  \n",
       "1                         8993  NaN  \n",
       "2                        11111  NaN  \n",
       "3                         2415  NaN  \n",
       "4                         8273  NaN  "
      ]
     },
     "execution_count": 4,
     "metadata": {},
     "output_type": "execute_result"
    }
   ],
   "source": [
    "district_list = pd.concat([df1, df2, df3, df4, df5, df6, df7, df8, df9, df10, df11, df12], ignore_index=True)\n",
    "district_list.head()"
   ]
  },
  {
   "cell_type": "markdown",
   "metadata": {},
   "source": [
    "#### Removing the unnecessary columns and renaming the main column"
   ]
  },
  {
   "cell_type": "code",
   "execution_count": 5,
   "metadata": {},
   "outputs": [
    {
     "data": {
      "text/html": [
       "<div>\n",
       "<style scoped>\n",
       "    .dataframe tbody tr th:only-of-type {\n",
       "        vertical-align: middle;\n",
       "    }\n",
       "\n",
       "    .dataframe tbody tr th {\n",
       "        vertical-align: top;\n",
       "    }\n",
       "\n",
       "    .dataframe thead th {\n",
       "        text-align: right;\n",
       "    }\n",
       "</style>\n",
       "<table border=\"1\" class=\"dataframe\">\n",
       "  <thead>\n",
       "    <tr style=\"text-align: right;\">\n",
       "      <th></th>\n",
       "      <th>Locality</th>\n",
       "      <th>Area in km²</th>\n",
       "    </tr>\n",
       "  </thead>\n",
       "  <tbody>\n",
       "    <tr>\n",
       "      <th>0</th>\n",
       "      <td>(0101) Mitte</td>\n",
       "      <td>10.70</td>\n",
       "    </tr>\n",
       "    <tr>\n",
       "      <th>1</th>\n",
       "      <td>(0102) Moabit</td>\n",
       "      <td>7.72</td>\n",
       "    </tr>\n",
       "    <tr>\n",
       "      <th>2</th>\n",
       "      <td>(0103) Hansaviertel</td>\n",
       "      <td>0.53</td>\n",
       "    </tr>\n",
       "    <tr>\n",
       "      <th>3</th>\n",
       "      <td>(0104) Tiergarten</td>\n",
       "      <td>5.17</td>\n",
       "    </tr>\n",
       "    <tr>\n",
       "      <th>4</th>\n",
       "      <td>(0105) Wedding</td>\n",
       "      <td>9.23</td>\n",
       "    </tr>\n",
       "  </tbody>\n",
       "</table>\n",
       "</div>"
      ],
      "text/plain": [
       "              Locality  Area in km²\n",
       "0         (0101) Mitte        10.70\n",
       "1        (0102) Moabit         7.72\n",
       "2  (0103) Hansaviertel         0.53\n",
       "3    (0104) Tiergarten         5.17\n",
       "4       (0105) Wedding         9.23"
      ]
     },
     "execution_count": 5,
     "metadata": {},
     "output_type": "execute_result"
    }
   ],
   "source": [
    "dropped_df = district_list.drop(columns=['Population as of 2008', 'Density inhabitants per km²', 'Map'], axis=1)\n",
    "dropped_df.head()"
   ]
  },
  {
   "cell_type": "markdown",
   "metadata": {},
   "source": [
    "#### Renaming the Locality column into District"
   ]
  },
  {
   "cell_type": "code",
   "execution_count": 6,
   "metadata": {},
   "outputs": [
    {
     "data": {
      "text/html": [
       "<div>\n",
       "<style scoped>\n",
       "    .dataframe tbody tr th:only-of-type {\n",
       "        vertical-align: middle;\n",
       "    }\n",
       "\n",
       "    .dataframe tbody tr th {\n",
       "        vertical-align: top;\n",
       "    }\n",
       "\n",
       "    .dataframe thead th {\n",
       "        text-align: right;\n",
       "    }\n",
       "</style>\n",
       "<table border=\"1\" class=\"dataframe\">\n",
       "  <thead>\n",
       "    <tr style=\"text-align: right;\">\n",
       "      <th></th>\n",
       "      <th>District</th>\n",
       "      <th>Area in km²</th>\n",
       "    </tr>\n",
       "  </thead>\n",
       "  <tbody>\n",
       "    <tr>\n",
       "      <th>0</th>\n",
       "      <td>(0101) Mitte</td>\n",
       "      <td>10.70</td>\n",
       "    </tr>\n",
       "    <tr>\n",
       "      <th>1</th>\n",
       "      <td>(0102) Moabit</td>\n",
       "      <td>7.72</td>\n",
       "    </tr>\n",
       "    <tr>\n",
       "      <th>2</th>\n",
       "      <td>(0103) Hansaviertel</td>\n",
       "      <td>0.53</td>\n",
       "    </tr>\n",
       "    <tr>\n",
       "      <th>3</th>\n",
       "      <td>(0104) Tiergarten</td>\n",
       "      <td>5.17</td>\n",
       "    </tr>\n",
       "    <tr>\n",
       "      <th>4</th>\n",
       "      <td>(0105) Wedding</td>\n",
       "      <td>9.23</td>\n",
       "    </tr>\n",
       "  </tbody>\n",
       "</table>\n",
       "</div>"
      ],
      "text/plain": [
       "              District  Area in km²\n",
       "0         (0101) Mitte        10.70\n",
       "1        (0102) Moabit         7.72\n",
       "2  (0103) Hansaviertel         0.53\n",
       "3    (0104) Tiergarten         5.17\n",
       "4       (0105) Wedding         9.23"
      ]
     },
     "execution_count": 6,
     "metadata": {},
     "output_type": "execute_result"
    }
   ],
   "source": [
    "renamed_df = dropped_df.rename(columns={\"Locality\": \"District\"})\n",
    "renamed_df.head()"
   ]
  },
  {
   "cell_type": "markdown",
   "metadata": {},
   "source": [
    "#### Removing the codes from the District names"
   ]
  },
  {
   "cell_type": "code",
   "execution_count": 7,
   "metadata": {},
   "outputs": [
    {
     "data": {
      "text/html": [
       "<div>\n",
       "<style scoped>\n",
       "    .dataframe tbody tr th:only-of-type {\n",
       "        vertical-align: middle;\n",
       "    }\n",
       "\n",
       "    .dataframe tbody tr th {\n",
       "        vertical-align: top;\n",
       "    }\n",
       "\n",
       "    .dataframe thead th {\n",
       "        text-align: right;\n",
       "    }\n",
       "</style>\n",
       "<table border=\"1\" class=\"dataframe\">\n",
       "  <thead>\n",
       "    <tr style=\"text-align: right;\">\n",
       "      <th></th>\n",
       "      <th>District</th>\n",
       "      <th>Area in km²</th>\n",
       "    </tr>\n",
       "  </thead>\n",
       "  <tbody>\n",
       "    <tr>\n",
       "      <th>0</th>\n",
       "      <td>Mitte</td>\n",
       "      <td>10.70</td>\n",
       "    </tr>\n",
       "    <tr>\n",
       "      <th>1</th>\n",
       "      <td>Moabit</td>\n",
       "      <td>7.72</td>\n",
       "    </tr>\n",
       "    <tr>\n",
       "      <th>2</th>\n",
       "      <td>Hansaviertel</td>\n",
       "      <td>0.53</td>\n",
       "    </tr>\n",
       "    <tr>\n",
       "      <th>3</th>\n",
       "      <td>Tiergarten</td>\n",
       "      <td>5.17</td>\n",
       "    </tr>\n",
       "    <tr>\n",
       "      <th>4</th>\n",
       "      <td>Wedding</td>\n",
       "      <td>9.23</td>\n",
       "    </tr>\n",
       "  </tbody>\n",
       "</table>\n",
       "</div>"
      ],
      "text/plain": [
       "       District  Area in km²\n",
       "0         Mitte        10.70\n",
       "1        Moabit         7.72\n",
       "2  Hansaviertel         0.53\n",
       "3    Tiergarten         5.17\n",
       "4       Wedding         9.23"
      ]
     },
     "execution_count": 7,
     "metadata": {},
     "output_type": "execute_result"
    }
   ],
   "source": [
    "renamed_df['District'] = pd.DataFrame(renamed_df['District'].str[7:])\n",
    "renamed_df.head()"
   ]
  },
  {
   "cell_type": "markdown",
   "metadata": {},
   "source": [
    "#### Importing the Geospatial data of the Districts"
   ]
  },
  {
   "cell_type": "code",
   "execution_count": 8,
   "metadata": {},
   "outputs": [
    {
     "data": {
      "text/html": [
       "<div>\n",
       "<style scoped>\n",
       "    .dataframe tbody tr th:only-of-type {\n",
       "        vertical-align: middle;\n",
       "    }\n",
       "\n",
       "    .dataframe tbody tr th {\n",
       "        vertical-align: top;\n",
       "    }\n",
       "\n",
       "    .dataframe thead th {\n",
       "        text-align: right;\n",
       "    }\n",
       "</style>\n",
       "<table border=\"1\" class=\"dataframe\">\n",
       "  <thead>\n",
       "    <tr style=\"text-align: right;\">\n",
       "      <th></th>\n",
       "      <th>Locale</th>\n",
       "      <th>Lat</th>\n",
       "      <th>Long</th>\n",
       "    </tr>\n",
       "  </thead>\n",
       "  <tbody>\n",
       "    <tr>\n",
       "      <th>0</th>\n",
       "      <td>Mitte</td>\n",
       "      <td>52.519444</td>\n",
       "      <td>13.406667</td>\n",
       "    </tr>\n",
       "    <tr>\n",
       "      <th>1</th>\n",
       "      <td>Moabit</td>\n",
       "      <td>52.533333</td>\n",
       "      <td>13.333333</td>\n",
       "    </tr>\n",
       "    <tr>\n",
       "      <th>2</th>\n",
       "      <td>Hansaviertel</td>\n",
       "      <td>52.516667</td>\n",
       "      <td>13.338889</td>\n",
       "    </tr>\n",
       "    <tr>\n",
       "      <th>3</th>\n",
       "      <td>Tiergarten</td>\n",
       "      <td>52.516667</td>\n",
       "      <td>13.366667</td>\n",
       "    </tr>\n",
       "    <tr>\n",
       "      <th>4</th>\n",
       "      <td>Wedding</td>\n",
       "      <td>52.550000</td>\n",
       "      <td>13.366667</td>\n",
       "    </tr>\n",
       "  </tbody>\n",
       "</table>\n",
       "</div>"
      ],
      "text/plain": [
       "         Locale        Lat       Long\n",
       "0         Mitte  52.519444  13.406667\n",
       "1        Moabit  52.533333  13.333333\n",
       "2  Hansaviertel  52.516667  13.338889\n",
       "3    Tiergarten  52.516667  13.366667\n",
       "4       Wedding  52.550000  13.366667"
      ]
     },
     "execution_count": 8,
     "metadata": {},
     "output_type": "execute_result"
    }
   ],
   "source": [
    "import pandas as pd\n",
    "geo_data = pd.read_csv('/Users/kirilyunakov/Downloads/Berlin_District_Coordinates.csv')\n",
    "geo_data.head()"
   ]
  },
  {
   "cell_type": "markdown",
   "metadata": {},
   "source": [
    "#### Renaming the column based on which will perform the merge (District)"
   ]
  },
  {
   "cell_type": "code",
   "execution_count": 9,
   "metadata": {},
   "outputs": [
    {
     "data": {
      "text/html": [
       "<div>\n",
       "<style scoped>\n",
       "    .dataframe tbody tr th:only-of-type {\n",
       "        vertical-align: middle;\n",
       "    }\n",
       "\n",
       "    .dataframe tbody tr th {\n",
       "        vertical-align: top;\n",
       "    }\n",
       "\n",
       "    .dataframe thead th {\n",
       "        text-align: right;\n",
       "    }\n",
       "</style>\n",
       "<table border=\"1\" class=\"dataframe\">\n",
       "  <thead>\n",
       "    <tr style=\"text-align: right;\">\n",
       "      <th></th>\n",
       "      <th>District</th>\n",
       "      <th>Lat</th>\n",
       "      <th>Long</th>\n",
       "    </tr>\n",
       "  </thead>\n",
       "  <tbody>\n",
       "    <tr>\n",
       "      <th>0</th>\n",
       "      <td>Mitte</td>\n",
       "      <td>52.519444</td>\n",
       "      <td>13.406667</td>\n",
       "    </tr>\n",
       "    <tr>\n",
       "      <th>1</th>\n",
       "      <td>Moabit</td>\n",
       "      <td>52.533333</td>\n",
       "      <td>13.333333</td>\n",
       "    </tr>\n",
       "    <tr>\n",
       "      <th>2</th>\n",
       "      <td>Hansaviertel</td>\n",
       "      <td>52.516667</td>\n",
       "      <td>13.338889</td>\n",
       "    </tr>\n",
       "    <tr>\n",
       "      <th>3</th>\n",
       "      <td>Tiergarten</td>\n",
       "      <td>52.516667</td>\n",
       "      <td>13.366667</td>\n",
       "    </tr>\n",
       "    <tr>\n",
       "      <th>4</th>\n",
       "      <td>Wedding</td>\n",
       "      <td>52.550000</td>\n",
       "      <td>13.366667</td>\n",
       "    </tr>\n",
       "  </tbody>\n",
       "</table>\n",
       "</div>"
      ],
      "text/plain": [
       "       District        Lat       Long\n",
       "0         Mitte  52.519444  13.406667\n",
       "1        Moabit  52.533333  13.333333\n",
       "2  Hansaviertel  52.516667  13.338889\n",
       "3    Tiergarten  52.516667  13.366667\n",
       "4       Wedding  52.550000  13.366667"
      ]
     },
     "execution_count": 9,
     "metadata": {},
     "output_type": "execute_result"
    }
   ],
   "source": [
    "renamed_geo_data = geo_data.rename(columns={'Locale': 'District'})\n",
    "renamed_geo_data.head()"
   ]
  },
  {
   "cell_type": "markdown",
   "metadata": {},
   "source": [
    "#### Merging the Geospatial data with the data from Wikipedia based on the District name"
   ]
  },
  {
   "cell_type": "code",
   "execution_count": 10,
   "metadata": {},
   "outputs": [
    {
     "data": {
      "text/html": [
       "<div>\n",
       "<style scoped>\n",
       "    .dataframe tbody tr th:only-of-type {\n",
       "        vertical-align: middle;\n",
       "    }\n",
       "\n",
       "    .dataframe tbody tr th {\n",
       "        vertical-align: top;\n",
       "    }\n",
       "\n",
       "    .dataframe thead th {\n",
       "        text-align: right;\n",
       "    }\n",
       "</style>\n",
       "<table border=\"1\" class=\"dataframe\">\n",
       "  <thead>\n",
       "    <tr style=\"text-align: right;\">\n",
       "      <th></th>\n",
       "      <th>District</th>\n",
       "      <th>Area in km²</th>\n",
       "      <th>Lat</th>\n",
       "      <th>Long</th>\n",
       "    </tr>\n",
       "  </thead>\n",
       "  <tbody>\n",
       "    <tr>\n",
       "      <th>0</th>\n",
       "      <td>Mitte</td>\n",
       "      <td>10.70</td>\n",
       "      <td>52.519444</td>\n",
       "      <td>13.406667</td>\n",
       "    </tr>\n",
       "    <tr>\n",
       "      <th>1</th>\n",
       "      <td>Moabit</td>\n",
       "      <td>7.72</td>\n",
       "      <td>52.533333</td>\n",
       "      <td>13.333333</td>\n",
       "    </tr>\n",
       "    <tr>\n",
       "      <th>2</th>\n",
       "      <td>Hansaviertel</td>\n",
       "      <td>0.53</td>\n",
       "      <td>52.516667</td>\n",
       "      <td>13.338889</td>\n",
       "    </tr>\n",
       "    <tr>\n",
       "      <th>3</th>\n",
       "      <td>Tiergarten</td>\n",
       "      <td>5.17</td>\n",
       "      <td>52.516667</td>\n",
       "      <td>13.366667</td>\n",
       "    </tr>\n",
       "    <tr>\n",
       "      <th>4</th>\n",
       "      <td>Wedding</td>\n",
       "      <td>9.23</td>\n",
       "      <td>52.550000</td>\n",
       "      <td>13.366667</td>\n",
       "    </tr>\n",
       "  </tbody>\n",
       "</table>\n",
       "</div>"
      ],
      "text/plain": [
       "       District  Area in km²        Lat       Long\n",
       "0         Mitte        10.70  52.519444  13.406667\n",
       "1        Moabit         7.72  52.533333  13.333333\n",
       "2  Hansaviertel         0.53  52.516667  13.338889\n",
       "3    Tiergarten         5.17  52.516667  13.366667\n",
       "4       Wedding         9.23  52.550000  13.366667"
      ]
     },
     "execution_count": 10,
     "metadata": {},
     "output_type": "execute_result"
    }
   ],
   "source": [
    "result = pd.merge(renamed_df, renamed_geo_data, on='District', how='left')\n",
    "result.head()"
   ]
  },
  {
   "cell_type": "code",
   "execution_count": 11,
   "metadata": {},
   "outputs": [],
   "source": [
    "neighborhoods = result"
   ]
  },
  {
   "cell_type": "code",
   "execution_count": 13,
   "metadata": {},
   "outputs": [
    {
     "name": "stdout",
     "output_type": "stream",
     "text": [
      "The geograpical coordinate of Berlin are 52.5170365, 13.3888599.\n"
     ]
    }
   ],
   "source": [
    "address = 'Berlin'\n",
    "\n",
    "geolocator = Nominatim(user_agent=\"tor_explorer\")\n",
    "location = geolocator.geocode(address)\n",
    "latitude = location.latitude\n",
    "longitude = location.longitude\n",
    "print('The geograpical coordinate of Berlin are {}, {}.'.format(latitude, longitude))"
   ]
  },
  {
   "cell_type": "code",
   "execution_count": 21,
   "metadata": {},
   "outputs": [
    {
     "data": {
      "text/html": [
       "<div style=\"width:100%;\"><div style=\"position:relative;width:100%;height:0;padding-bottom:60%;\"><iframe src=\"data:text/html;charset=utf-8;base64,PCFET0NUWVBFIGh0bWw+CjxoZWFkPiAgICAKICAgIDxtZXRhIGh0dHAtZXF1aXY9ImNvbnRlbnQtdHlwZSIgY29udGVudD0idGV4dC9odG1sOyBjaGFyc2V0PVVURi04IiAvPgogICAgPHNjcmlwdD5MX1BSRUZFUl9DQU5WQVMgPSBmYWxzZTsgTF9OT19UT1VDSCA9IGZhbHNlOyBMX0RJU0FCTEVfM0QgPSBmYWxzZTs8L3NjcmlwdD4KICAgIDxzY3JpcHQgc3JjPSJodHRwczovL2Nkbi5qc2RlbGl2ci5uZXQvbnBtL2xlYWZsZXRAMS4yLjAvZGlzdC9sZWFmbGV0LmpzIj48L3NjcmlwdD4KICAgIDxzY3JpcHQgc3JjPSJodHRwczovL2FqYXguZ29vZ2xlYXBpcy5jb20vYWpheC9saWJzL2pxdWVyeS8xLjExLjEvanF1ZXJ5Lm1pbi5qcyI+PC9zY3JpcHQ+CiAgICA8c2NyaXB0IHNyYz0iaHR0cHM6Ly9tYXhjZG4uYm9vdHN0cmFwY2RuLmNvbS9ib290c3RyYXAvMy4yLjAvanMvYm9vdHN0cmFwLm1pbi5qcyI+PC9zY3JpcHQ+CiAgICA8c2NyaXB0IHNyYz0iaHR0cHM6Ly9jZG5qcy5jbG91ZGZsYXJlLmNvbS9hamF4L2xpYnMvTGVhZmxldC5hd2Vzb21lLW1hcmtlcnMvMi4wLjIvbGVhZmxldC5hd2Vzb21lLW1hcmtlcnMuanMiPjwvc2NyaXB0PgogICAgPGxpbmsgcmVsPSJzdHlsZXNoZWV0IiBocmVmPSJodHRwczovL2Nkbi5qc2RlbGl2ci5uZXQvbnBtL2xlYWZsZXRAMS4yLjAvZGlzdC9sZWFmbGV0LmNzcyIvPgogICAgPGxpbmsgcmVsPSJzdHlsZXNoZWV0IiBocmVmPSJodHRwczovL21heGNkbi5ib290c3RyYXBjZG4uY29tL2Jvb3RzdHJhcC8zLjIuMC9jc3MvYm9vdHN0cmFwLm1pbi5jc3MiLz4KICAgIDxsaW5rIHJlbD0ic3R5bGVzaGVldCIgaHJlZj0iaHR0cHM6Ly9tYXhjZG4uYm9vdHN0cmFwY2RuLmNvbS9ib290c3RyYXAvMy4yLjAvY3NzL2Jvb3RzdHJhcC10aGVtZS5taW4uY3NzIi8+CiAgICA8bGluayByZWw9InN0eWxlc2hlZXQiIGhyZWY9Imh0dHBzOi8vbWF4Y2RuLmJvb3RzdHJhcGNkbi5jb20vZm9udC1hd2Vzb21lLzQuNi4zL2Nzcy9mb250LWF3ZXNvbWUubWluLmNzcyIvPgogICAgPGxpbmsgcmVsPSJzdHlsZXNoZWV0IiBocmVmPSJodHRwczovL2NkbmpzLmNsb3VkZmxhcmUuY29tL2FqYXgvbGlicy9MZWFmbGV0LmF3ZXNvbWUtbWFya2Vycy8yLjAuMi9sZWFmbGV0LmF3ZXNvbWUtbWFya2Vycy5jc3MiLz4KICAgIDxsaW5rIHJlbD0ic3R5bGVzaGVldCIgaHJlZj0iaHR0cHM6Ly9yYXdnaXQuY29tL3B5dGhvbi12aXN1YWxpemF0aW9uL2ZvbGl1bS9tYXN0ZXIvZm9saXVtL3RlbXBsYXRlcy9sZWFmbGV0LmF3ZXNvbWUucm90YXRlLmNzcyIvPgogICAgPHN0eWxlPmh0bWwsIGJvZHkge3dpZHRoOiAxMDAlO2hlaWdodDogMTAwJTttYXJnaW46IDA7cGFkZGluZzogMDt9PC9zdHlsZT4KICAgIDxzdHlsZT4jbWFwIHtwb3NpdGlvbjphYnNvbHV0ZTt0b3A6MDtib3R0b206MDtyaWdodDowO2xlZnQ6MDt9PC9zdHlsZT4KICAgIAogICAgICAgICAgICA8c3R5bGU+ICNtYXBfN2ZhNWVjNzU4MjhhNDZmYjgwM2M4N2Y5ZTQ2YTkzMjggewogICAgICAgICAgICAgICAgcG9zaXRpb24gOiByZWxhdGl2ZTsKICAgICAgICAgICAgICAgIHdpZHRoIDogMTAwLjAlOwogICAgICAgICAgICAgICAgaGVpZ2h0OiAxMDAuMCU7CiAgICAgICAgICAgICAgICBsZWZ0OiAwLjAlOwogICAgICAgICAgICAgICAgdG9wOiAwLjAlOwogICAgICAgICAgICAgICAgfQogICAgICAgICAgICA8L3N0eWxlPgogICAgICAgIAo8L2hlYWQ+Cjxib2R5PiAgICAKICAgIAogICAgICAgICAgICA8ZGl2IGNsYXNzPSJmb2xpdW0tbWFwIiBpZD0ibWFwXzdmYTVlYzc1ODI4YTQ2ZmI4MDNjODdmOWU0NmE5MzI4IiA+PC9kaXY+CiAgICAgICAgCjwvYm9keT4KPHNjcmlwdD4gICAgCiAgICAKCiAgICAgICAgICAgIAogICAgICAgICAgICAgICAgdmFyIGJvdW5kcyA9IG51bGw7CiAgICAgICAgICAgIAoKICAgICAgICAgICAgdmFyIG1hcF83ZmE1ZWM3NTgyOGE0NmZiODAzYzg3ZjllNDZhOTMyOCA9IEwubWFwKAogICAgICAgICAgICAgICAgICAgICAgICAgICAgICAgICAgJ21hcF83ZmE1ZWM3NTgyOGE0NmZiODAzYzg3ZjllNDZhOTMyOCcsCiAgICAgICAgICAgICAgICAgICAgICAgICAgICAgICAgICB7Y2VudGVyOiBbNTIuNTE3MDM2NSwxMy4zODg4NTk5XSwKICAgICAgICAgICAgICAgICAgICAgICAgICAgICAgICAgIHpvb206IDEwLjUsCiAgICAgICAgICAgICAgICAgICAgICAgICAgICAgICAgICBtYXhCb3VuZHM6IGJvdW5kcywKICAgICAgICAgICAgICAgICAgICAgICAgICAgICAgICAgIGxheWVyczogW10sCiAgICAgICAgICAgICAgICAgICAgICAgICAgICAgICAgICB3b3JsZENvcHlKdW1wOiBmYWxzZSwKICAgICAgICAgICAgICAgICAgICAgICAgICAgICAgICAgIGNyczogTC5DUlMuRVBTRzM4NTcKICAgICAgICAgICAgICAgICAgICAgICAgICAgICAgICAgfSk7CiAgICAgICAgICAgIAogICAgICAgIAogICAgCiAgICAgICAgICAgIHZhciB0aWxlX2xheWVyXzY4ODdhZDFjODM0YTQ0ZjViNjhlMTY4ZDk3MDFkYmVmID0gTC50aWxlTGF5ZXIoCiAgICAgICAgICAgICAgICAnaHR0cHM6Ly97c30udGlsZS5vcGVuc3RyZWV0bWFwLm9yZy97en0ve3h9L3t5fS5wbmcnLAogICAgICAgICAgICAgICAgewogICJhdHRyaWJ1dGlvbiI6IG51bGwsCiAgImRldGVjdFJldGluYSI6IGZhbHNlLAogICJtYXhab29tIjogMTgsCiAgIm1pblpvb20iOiAxLAogICJub1dyYXAiOiBmYWxzZSwKICAic3ViZG9tYWlucyI6ICJhYmMiCn0KICAgICAgICAgICAgICAgICkuYWRkVG8obWFwXzdmYTVlYzc1ODI4YTQ2ZmI4MDNjODdmOWU0NmE5MzI4KTsKICAgICAgICAKICAgIAogICAgICAgICAgICB2YXIgY2lyY2xlX21hcmtlcl84YjBmYjJmZGQ1ZDE0NTIzYTA4ZDBlM2JiNWM5YTI2OSA9IEwuY2lyY2xlTWFya2VyKAogICAgICAgICAgICAgICAgWzUyLjUxOTQ0Mzk5OTk5OTk5LDEzLjQwNjY2N10sCiAgICAgICAgICAgICAgICB7CiAgImJ1YmJsaW5nTW91c2VFdmVudHMiOiB0cnVlLAogICJjb2xvciI6ICJibHVlIiwKICAiZGFzaEFycmF5IjogbnVsbCwKICAiZGFzaE9mZnNldCI6IG51bGwsCiAgImZpbGwiOiB0cnVlLAogICJmaWxsQ29sb3IiOiAiIzMxODZjYyIsCiAgImZpbGxPcGFjaXR5IjogMC43LAogICJmaWxsUnVsZSI6ICJldmVub2RkIiwKICAibGluZUNhcCI6ICJyb3VuZCIsCiAgImxpbmVKb2luIjogInJvdW5kIiwKICAib3BhY2l0eSI6IDEuMCwKICAicmFkaXVzIjogNSwKICAic3Ryb2tlIjogdHJ1ZSwKICAid2VpZ2h0IjogMwp9CiAgICAgICAgICAgICAgICApLmFkZFRvKG1hcF83ZmE1ZWM3NTgyOGE0NmZiODAzYzg3ZjllNDZhOTMyOCk7CiAgICAgICAgICAgIAogICAgCiAgICAgICAgICAgIHZhciBwb3B1cF9hNjFiYjk1ODUyMjI0YzdlYmNlNWJhN2I2NjAxNDBjZiA9IEwucG9wdXAoe21heFdpZHRoOiAnMzAwJ30pOwoKICAgICAgICAgICAgCiAgICAgICAgICAgICAgICB2YXIgaHRtbF82YWYyN2JlMzIzZTM0Y2MyYmUwMTU0NThlOTdkMGU5ZiA9ICQoJzxkaXYgaWQ9Imh0bWxfNmFmMjdiZTMyM2UzNGNjMmJlMDE1NDU4ZTk3ZDBlOWYiIHN0eWxlPSJ3aWR0aDogMTAwLjAlOyBoZWlnaHQ6IDEwMC4wJTsiPk1pdHRlPC9kaXY+JylbMF07CiAgICAgICAgICAgICAgICBwb3B1cF9hNjFiYjk1ODUyMjI0YzdlYmNlNWJhN2I2NjAxNDBjZi5zZXRDb250ZW50KGh0bWxfNmFmMjdiZTMyM2UzNGNjMmJlMDE1NDU4ZTk3ZDBlOWYpOwogICAgICAgICAgICAKCiAgICAgICAgICAgIGNpcmNsZV9tYXJrZXJfOGIwZmIyZmRkNWQxNDUyM2EwOGQwZTNiYjVjOWEyNjkuYmluZFBvcHVwKHBvcHVwX2E2MWJiOTU4NTIyMjRjN2ViY2U1YmE3YjY2MDE0MGNmKTsKCiAgICAgICAgICAgIAogICAgICAgIAogICAgCiAgICAgICAgICAgIHZhciBjaXJjbGVfbWFya2VyXzU5NDUzNjMyYTZjZjQzNmY5NmM2MGVmMzhhNTFmNzVjID0gTC5jaXJjbGVNYXJrZXIoCiAgICAgICAgICAgICAgICBbNTIuNTMzMzMzLDEzLjMzMzMzMjk5OTk5OTk5OF0sCiAgICAgICAgICAgICAgICB7CiAgImJ1YmJsaW5nTW91c2VFdmVudHMiOiB0cnVlLAogICJjb2xvciI6ICJibHVlIiwKICAiZGFzaEFycmF5IjogbnVsbCwKICAiZGFzaE9mZnNldCI6IG51bGwsCiAgImZpbGwiOiB0cnVlLAogICJmaWxsQ29sb3IiOiAiIzMxODZjYyIsCiAgImZpbGxPcGFjaXR5IjogMC43LAogICJmaWxsUnVsZSI6ICJldmVub2RkIiwKICAibGluZUNhcCI6ICJyb3VuZCIsCiAgImxpbmVKb2luIjogInJvdW5kIiwKICAib3BhY2l0eSI6IDEuMCwKICAicmFkaXVzIjogNSwKICAic3Ryb2tlIjogdHJ1ZSwKICAid2VpZ2h0IjogMwp9CiAgICAgICAgICAgICAgICApLmFkZFRvKG1hcF83ZmE1ZWM3NTgyOGE0NmZiODAzYzg3ZjllNDZhOTMyOCk7CiAgICAgICAgICAgIAogICAgCiAgICAgICAgICAgIHZhciBwb3B1cF8zNTc0MmY2MjJjNTM0MDQzOTkyNWVmZmQ2ZGQyMWU3MCA9IEwucG9wdXAoe21heFdpZHRoOiAnMzAwJ30pOwoKICAgICAgICAgICAgCiAgICAgICAgICAgICAgICB2YXIgaHRtbF8wNmE2OTI2Mzg3OGM0Yzk2YjBjYmU4MGQ5MjNiZGQzZSA9ICQoJzxkaXYgaWQ9Imh0bWxfMDZhNjkyNjM4NzhjNGM5NmIwY2JlODBkOTIzYmRkM2UiIHN0eWxlPSJ3aWR0aDogMTAwLjAlOyBoZWlnaHQ6IDEwMC4wJTsiPk1vYWJpdDwvZGl2PicpWzBdOwogICAgICAgICAgICAgICAgcG9wdXBfMzU3NDJmNjIyYzUzNDA0Mzk5MjVlZmZkNmRkMjFlNzAuc2V0Q29udGVudChodG1sXzA2YTY5MjYzODc4YzRjOTZiMGNiZTgwZDkyM2JkZDNlKTsKICAgICAgICAgICAgCgogICAgICAgICAgICBjaXJjbGVfbWFya2VyXzU5NDUzNjMyYTZjZjQzNmY5NmM2MGVmMzhhNTFmNzVjLmJpbmRQb3B1cChwb3B1cF8zNTc0MmY2MjJjNTM0MDQzOTkyNWVmZmQ2ZGQyMWU3MCk7CgogICAgICAgICAgICAKICAgICAgICAKICAgIAogICAgICAgICAgICB2YXIgY2lyY2xlX21hcmtlcl8xNWJlMWQ1YzgwMTM0OTkzOTVhZWVmOGE2OTM0ZGYyMSA9IEwuY2lyY2xlTWFya2VyKAogICAgICAgICAgICAgICAgWzUyLjUxNjY2NzAwMDAwMDAwNSwxMy4zMzg4ODkwMDAwMDAwMDJdLAogICAgICAgICAgICAgICAgewogICJidWJibGluZ01vdXNlRXZlbnRzIjogdHJ1ZSwKICAiY29sb3IiOiAiYmx1ZSIsCiAgImRhc2hBcnJheSI6IG51bGwsCiAgImRhc2hPZmZzZXQiOiBudWxsLAogICJmaWxsIjogdHJ1ZSwKICAiZmlsbENvbG9yIjogIiMzMTg2Y2MiLAogICJmaWxsT3BhY2l0eSI6IDAuNywKICAiZmlsbFJ1bGUiOiAiZXZlbm9kZCIsCiAgImxpbmVDYXAiOiAicm91bmQiLAogICJsaW5lSm9pbiI6ICJyb3VuZCIsCiAgIm9wYWNpdHkiOiAxLjAsCiAgInJhZGl1cyI6IDUsCiAgInN0cm9rZSI6IHRydWUsCiAgIndlaWdodCI6IDMKfQogICAgICAgICAgICAgICAgKS5hZGRUbyhtYXBfN2ZhNWVjNzU4MjhhNDZmYjgwM2M4N2Y5ZTQ2YTkzMjgpOwogICAgICAgICAgICAKICAgIAogICAgICAgICAgICB2YXIgcG9wdXBfMjU4ZmFiZDJlY2M4NDdhOWEyMTRjNjA4Y2JmODMwODMgPSBMLnBvcHVwKHttYXhXaWR0aDogJzMwMCd9KTsKCiAgICAgICAgICAgIAogICAgICAgICAgICAgICAgdmFyIGh0bWxfZDNiMTEwN2IzYmJkNDI1ODkyOGE5MDY4NDE2Y2ZmNzIgPSAkKCc8ZGl2IGlkPSJodG1sX2QzYjExMDdiM2JiZDQyNTg5MjhhOTA2ODQxNmNmZjcyIiBzdHlsZT0id2lkdGg6IDEwMC4wJTsgaGVpZ2h0OiAxMDAuMCU7Ij5IYW5zYXZpZXJ0ZWw8L2Rpdj4nKVswXTsKICAgICAgICAgICAgICAgIHBvcHVwXzI1OGZhYmQyZWNjODQ3YTlhMjE0YzYwOGNiZjgzMDgzLnNldENvbnRlbnQoaHRtbF9kM2IxMTA3YjNiYmQ0MjU4OTI4YTkwNjg0MTZjZmY3Mik7CiAgICAgICAgICAgIAoKICAgICAgICAgICAgY2lyY2xlX21hcmtlcl8xNWJlMWQ1YzgwMTM0OTkzOTVhZWVmOGE2OTM0ZGYyMS5iaW5kUG9wdXAocG9wdXBfMjU4ZmFiZDJlY2M4NDdhOWEyMTRjNjA4Y2JmODMwODMpOwoKICAgICAgICAgICAgCiAgICAgICAgCiAgICAKICAgICAgICAgICAgdmFyIGNpcmNsZV9tYXJrZXJfYWEyNWRiMzFkYzI5NGIzN2ExMDFjMmE5Y2EyNmIwZDQgPSBMLmNpcmNsZU1hcmtlcigKICAgICAgICAgICAgICAgIFs1Mi41MTY2NjcwMDAwMDAwMDUsMTMuMzY2NjY3MDAwMDAwMDAxXSwKICAgICAgICAgICAgICAgIHsKICAiYnViYmxpbmdNb3VzZUV2ZW50cyI6IHRydWUsCiAgImNvbG9yIjogImJsdWUiLAogICJkYXNoQXJyYXkiOiBudWxsLAogICJkYXNoT2Zmc2V0IjogbnVsbCwKICAiZmlsbCI6IHRydWUsCiAgImZpbGxDb2xvciI6ICIjMzE4NmNjIiwKICAiZmlsbE9wYWNpdHkiOiAwLjcsCiAgImZpbGxSdWxlIjogImV2ZW5vZGQiLAogICJsaW5lQ2FwIjogInJvdW5kIiwKICAibGluZUpvaW4iOiAicm91bmQiLAogICJvcGFjaXR5IjogMS4wLAogICJyYWRpdXMiOiA1LAogICJzdHJva2UiOiB0cnVlLAogICJ3ZWlnaHQiOiAzCn0KICAgICAgICAgICAgICAgICkuYWRkVG8obWFwXzdmYTVlYzc1ODI4YTQ2ZmI4MDNjODdmOWU0NmE5MzI4KTsKICAgICAgICAgICAgCiAgICAKICAgICAgICAgICAgdmFyIHBvcHVwX2M0NzgyMjlhYzUwYjQzMjQ4Y2I2OWU2NjdlMDhhNDMxID0gTC5wb3B1cCh7bWF4V2lkdGg6ICczMDAnfSk7CgogICAgICAgICAgICAKICAgICAgICAgICAgICAgIHZhciBodG1sX2ZlMmJjZTc2YjQ1NTRhNzQ4YzAyODU3MTg0ODIwZGMwID0gJCgnPGRpdiBpZD0iaHRtbF9mZTJiY2U3NmI0NTU0YTc0OGMwMjg1NzE4NDgyMGRjMCIgc3R5bGU9IndpZHRoOiAxMDAuMCU7IGhlaWdodDogMTAwLjAlOyI+VGllcmdhcnRlbjwvZGl2PicpWzBdOwogICAgICAgICAgICAgICAgcG9wdXBfYzQ3ODIyOWFjNTBiNDMyNDhjYjY5ZTY2N2UwOGE0MzEuc2V0Q29udGVudChodG1sX2ZlMmJjZTc2YjQ1NTRhNzQ4YzAyODU3MTg0ODIwZGMwKTsKICAgICAgICAgICAgCgogICAgICAgICAgICBjaXJjbGVfbWFya2VyX2FhMjVkYjMxZGMyOTRiMzdhMTAxYzJhOWNhMjZiMGQ0LmJpbmRQb3B1cChwb3B1cF9jNDc4MjI5YWM1MGI0MzI0OGNiNjllNjY3ZTA4YTQzMSk7CgogICAgICAgICAgICAKICAgICAgICAKICAgIAogICAgICAgICAgICB2YXIgY2lyY2xlX21hcmtlcl9lNDUwNDI0MmM4Yjc0ODM3YTZhODlmNzNiMjMzNWEzMSA9IEwuY2lyY2xlTWFya2VyKAogICAgICAgICAgICAgICAgWzUyLjU1LDEzLjM2NjY2NzAwMDAwMDAwMV0sCiAgICAgICAgICAgICAgICB7CiAgImJ1YmJsaW5nTW91c2VFdmVudHMiOiB0cnVlLAogICJjb2xvciI6ICJibHVlIiwKICAiZGFzaEFycmF5IjogbnVsbCwKICAiZGFzaE9mZnNldCI6IG51bGwsCiAgImZpbGwiOiB0cnVlLAogICJmaWxsQ29sb3IiOiAiIzMxODZjYyIsCiAgImZpbGxPcGFjaXR5IjogMC43LAogICJmaWxsUnVsZSI6ICJldmVub2RkIiwKICAibGluZUNhcCI6ICJyb3VuZCIsCiAgImxpbmVKb2luIjogInJvdW5kIiwKICAib3BhY2l0eSI6IDEuMCwKICAicmFkaXVzIjogNSwKICAic3Ryb2tlIjogdHJ1ZSwKICAid2VpZ2h0IjogMwp9CiAgICAgICAgICAgICAgICApLmFkZFRvKG1hcF83ZmE1ZWM3NTgyOGE0NmZiODAzYzg3ZjllNDZhOTMyOCk7CiAgICAgICAgICAgIAogICAgCiAgICAgICAgICAgIHZhciBwb3B1cF9kYzU1ZjliNTIzZjU0ZDlmYjUzZjIwMjAwMGI0NjJkZiA9IEwucG9wdXAoe21heFdpZHRoOiAnMzAwJ30pOwoKICAgICAgICAgICAgCiAgICAgICAgICAgICAgICB2YXIgaHRtbF8xOTQxNDg4ODA5MDc0OTAwYTE0OWJhZTJhZGUwZGMwNyA9ICQoJzxkaXYgaWQ9Imh0bWxfMTk0MTQ4ODgwOTA3NDkwMGExNDliYWUyYWRlMGRjMDciIHN0eWxlPSJ3aWR0aDogMTAwLjAlOyBoZWlnaHQ6IDEwMC4wJTsiPldlZGRpbmc8L2Rpdj4nKVswXTsKICAgICAgICAgICAgICAgIHBvcHVwX2RjNTVmOWI1MjNmNTRkOWZiNTNmMjAyMDAwYjQ2MmRmLnNldENvbnRlbnQoaHRtbF8xOTQxNDg4ODA5MDc0OTAwYTE0OWJhZTJhZGUwZGMwNyk7CiAgICAgICAgICAgIAoKICAgICAgICAgICAgY2lyY2xlX21hcmtlcl9lNDUwNDI0MmM4Yjc0ODM3YTZhODlmNzNiMjMzNWEzMS5iaW5kUG9wdXAocG9wdXBfZGM1NWY5YjUyM2Y1NGQ5ZmI1M2YyMDIwMDBiNDYyZGYpOwoKICAgICAgICAgICAgCiAgICAgICAgCiAgICAKICAgICAgICAgICAgdmFyIGNpcmNsZV9tYXJrZXJfMTMzNDc5Mjc0YTIzNDMwOTlkN2ZjMjBkZTEyNDI3MWIgPSBMLmNpcmNsZU1hcmtlcigKICAgICAgICAgICAgICAgIFs1Mi41NDg2MTEsMTMuMzkwMjc4XSwKICAgICAgICAgICAgICAgIHsKICAiYnViYmxpbmdNb3VzZUV2ZW50cyI6IHRydWUsCiAgImNvbG9yIjogImJsdWUiLAogICJkYXNoQXJyYXkiOiBudWxsLAogICJkYXNoT2Zmc2V0IjogbnVsbCwKICAiZmlsbCI6IHRydWUsCiAgImZpbGxDb2xvciI6ICIjMzE4NmNjIiwKICAiZmlsbE9wYWNpdHkiOiAwLjcsCiAgImZpbGxSdWxlIjogImV2ZW5vZGQiLAogICJsaW5lQ2FwIjogInJvdW5kIiwKICAibGluZUpvaW4iOiAicm91bmQiLAogICJvcGFjaXR5IjogMS4wLAogICJyYWRpdXMiOiA1LAogICJzdHJva2UiOiB0cnVlLAogICJ3ZWlnaHQiOiAzCn0KICAgICAgICAgICAgICAgICkuYWRkVG8obWFwXzdmYTVlYzc1ODI4YTQ2ZmI4MDNjODdmOWU0NmE5MzI4KTsKICAgICAgICAgICAgCiAgICAKICAgICAgICAgICAgdmFyIHBvcHVwXzkxZTc2YTFjZTYwODQzZDFiZDA1M2U5MTI2ZmJmMmIxID0gTC5wb3B1cCh7bWF4V2lkdGg6ICczMDAnfSk7CgogICAgICAgICAgICAKICAgICAgICAgICAgICAgIHZhciBodG1sXzI0MTg5ZGYzY2QzNTQ3MmZhZDY3MjQ4N2MyYjYzMTczID0gJCgnPGRpdiBpZD0iaHRtbF8yNDE4OWRmM2NkMzU0NzJmYWQ2NzI0ODdjMmI2MzE3MyIgc3R5bGU9IndpZHRoOiAxMDAuMCU7IGhlaWdodDogMTAwLjAlOyI+R2VzdW5kYnJ1bm5lbjwvZGl2PicpWzBdOwogICAgICAgICAgICAgICAgcG9wdXBfOTFlNzZhMWNlNjA4NDNkMWJkMDUzZTkxMjZmYmYyYjEuc2V0Q29udGVudChodG1sXzI0MTg5ZGYzY2QzNTQ3MmZhZDY3MjQ4N2MyYjYzMTczKTsKICAgICAgICAgICAgCgogICAgICAgICAgICBjaXJjbGVfbWFya2VyXzEzMzQ3OTI3NGEyMzQzMDk5ZDdmYzIwZGUxMjQyNzFiLmJpbmRQb3B1cChwb3B1cF85MWU3NmExY2U2MDg0M2QxYmQwNTNlOTEyNmZiZjJiMSk7CgogICAgICAgICAgICAKICAgICAgICAKICAgIAogICAgICAgICAgICB2YXIgY2lyY2xlX21hcmtlcl8zMGQ4N2YyZTQ3NzY0OWRiODRkYzRhZDE1YmM5MzBkZCA9IEwuY2lyY2xlTWFya2VyKAogICAgICAgICAgICAgICAgWzUyLjUxNTgzMjk5OTk5OTk5LDEzLjQ1NDE2NzAwMDAwMDAwMl0sCiAgICAgICAgICAgICAgICB7CiAgImJ1YmJsaW5nTW91c2VFdmVudHMiOiB0cnVlLAogICJjb2xvciI6ICJibHVlIiwKICAiZGFzaEFycmF5IjogbnVsbCwKICAiZGFzaE9mZnNldCI6IG51bGwsCiAgImZpbGwiOiB0cnVlLAogICJmaWxsQ29sb3IiOiAiIzMxODZjYyIsCiAgImZpbGxPcGFjaXR5IjogMC43LAogICJmaWxsUnVsZSI6ICJldmVub2RkIiwKICAibGluZUNhcCI6ICJyb3VuZCIsCiAgImxpbmVKb2luIjogInJvdW5kIiwKICAib3BhY2l0eSI6IDEuMCwKICAicmFkaXVzIjogNSwKICAic3Ryb2tlIjogdHJ1ZSwKICAid2VpZ2h0IjogMwp9CiAgICAgICAgICAgICAgICApLmFkZFRvKG1hcF83ZmE1ZWM3NTgyOGE0NmZiODAzYzg3ZjllNDZhOTMyOCk7CiAgICAgICAgICAgIAogICAgCiAgICAgICAgICAgIHZhciBwb3B1cF8zMzYzYjdhMDI1NDA0ZTY4OTM3ZDUzNTVjOTY2MGQwMCA9IEwucG9wdXAoe21heFdpZHRoOiAnMzAwJ30pOwoKICAgICAgICAgICAgCiAgICAgICAgICAgICAgICB2YXIgaHRtbF82Yzg5ZGIzYjViYzE0N2Y2OTRiNTVmMzkwYTJmZDY1YSA9ICQoJzxkaXYgaWQ9Imh0bWxfNmM4OWRiM2I1YmMxNDdmNjk0YjU1ZjM5MGEyZmQ2NWEiIHN0eWxlPSJ3aWR0aDogMTAwLjAlOyBoZWlnaHQ6IDEwMC4wJTsiPkZyaWVkcmljaHNoYWluPC9kaXY+JylbMF07CiAgICAgICAgICAgICAgICBwb3B1cF8zMzYzYjdhMDI1NDA0ZTY4OTM3ZDUzNTVjOTY2MGQwMC5zZXRDb250ZW50KGh0bWxfNmM4OWRiM2I1YmMxNDdmNjk0YjU1ZjM5MGEyZmQ2NWEpOwogICAgICAgICAgICAKCiAgICAgICAgICAgIGNpcmNsZV9tYXJrZXJfMzBkODdmMmU0Nzc2NDlkYjg0ZGM0YWQxNWJjOTMwZGQuYmluZFBvcHVwKHBvcHVwXzMzNjNiN2EwMjU0MDRlNjg5MzdkNTM1NWM5NjYwZDAwKTsKCiAgICAgICAgICAgIAogICAgICAgIAogICAgCiAgICAgICAgICAgIHZhciBjaXJjbGVfbWFya2VyXzc1Njc2NmFmOTg1NTQ1MzNhMzUwMmM1OTVjZTYwODc1ID0gTC5jaXJjbGVNYXJrZXIoCiAgICAgICAgICAgICAgICBbNTIuNDk4MzY0LDEzLjQwNjcxOV0sCiAgICAgICAgICAgICAgICB7CiAgImJ1YmJsaW5nTW91c2VFdmVudHMiOiB0cnVlLAogICJjb2xvciI6ICJibHVlIiwKICAiZGFzaEFycmF5IjogbnVsbCwKICAiZGFzaE9mZnNldCI6IG51bGwsCiAgImZpbGwiOiB0cnVlLAogICJmaWxsQ29sb3IiOiAiIzMxODZjYyIsCiAgImZpbGxPcGFjaXR5IjogMC43LAogICJmaWxsUnVsZSI6ICJldmVub2RkIiwKICAibGluZUNhcCI6ICJyb3VuZCIsCiAgImxpbmVKb2luIjogInJvdW5kIiwKICAib3BhY2l0eSI6IDEuMCwKICAicmFkaXVzIjogNSwKICAic3Ryb2tlIjogdHJ1ZSwKICAid2VpZ2h0IjogMwp9CiAgICAgICAgICAgICAgICApLmFkZFRvKG1hcF83ZmE1ZWM3NTgyOGE0NmZiODAzYzg3ZjllNDZhOTMyOCk7CiAgICAgICAgICAgIAogICAgCiAgICAgICAgICAgIHZhciBwb3B1cF82ZTJlYThhMWMzMjQ0NGJmYjhkYTE4MGE3N2I3NmMzOSA9IEwucG9wdXAoe21heFdpZHRoOiAnMzAwJ30pOwoKICAgICAgICAgICAgCiAgICAgICAgICAgICAgICB2YXIgaHRtbF8yMTlkNzJjZTFjNDI0MjEyOTJhYjIwOTFiYTg5NmExMCA9ICQoJzxkaXYgaWQ9Imh0bWxfMjE5ZDcyY2UxYzQyNDIxMjkyYWIyMDkxYmE4OTZhMTAiIHN0eWxlPSJ3aWR0aDogMTAwLjAlOyBoZWlnaHQ6IDEwMC4wJTsiPktyZXV6YmVyZzwvZGl2PicpWzBdOwogICAgICAgICAgICAgICAgcG9wdXBfNmUyZWE4YTFjMzI0NDRiZmI4ZGExODBhNzdiNzZjMzkuc2V0Q29udGVudChodG1sXzIxOWQ3MmNlMWM0MjQyMTI5MmFiMjA5MWJhODk2YTEwKTsKICAgICAgICAgICAgCgogICAgICAgICAgICBjaXJjbGVfbWFya2VyXzc1Njc2NmFmOTg1NTQ1MzNhMzUwMmM1OTVjZTYwODc1LmJpbmRQb3B1cChwb3B1cF82ZTJlYThhMWMzMjQ0NGJmYjhkYTE4MGE3N2I3NmMzOSk7CgogICAgICAgICAgICAKICAgICAgICAKICAgIAogICAgICAgICAgICB2YXIgY2lyY2xlX21hcmtlcl9iMmYyY2JhNzYxYzY0NmVjODEwYTExNGJiZjlkMmU2MSA9IEwuY2lyY2xlTWFya2VyKAogICAgICAgICAgICAgICAgWzUyLjUzOTE2NzAwMDAwMDAwNiwxMy40MjQxNjddLAogICAgICAgICAgICAgICAgewogICJidWJibGluZ01vdXNlRXZlbnRzIjogdHJ1ZSwKICAiY29sb3IiOiAiYmx1ZSIsCiAgImRhc2hBcnJheSI6IG51bGwsCiAgImRhc2hPZmZzZXQiOiBudWxsLAogICJmaWxsIjogdHJ1ZSwKICAiZmlsbENvbG9yIjogIiMzMTg2Y2MiLAogICJmaWxsT3BhY2l0eSI6IDAuNywKICAiZmlsbFJ1bGUiOiAiZXZlbm9kZCIsCiAgImxpbmVDYXAiOiAicm91bmQiLAogICJsaW5lSm9pbiI6ICJyb3VuZCIsCiAgIm9wYWNpdHkiOiAxLjAsCiAgInJhZGl1cyI6IDUsCiAgInN0cm9rZSI6IHRydWUsCiAgIndlaWdodCI6IDMKfQogICAgICAgICAgICAgICAgKS5hZGRUbyhtYXBfN2ZhNWVjNzU4MjhhNDZmYjgwM2M4N2Y5ZTQ2YTkzMjgpOwogICAgICAgICAgICAKICAgIAogICAgICAgICAgICB2YXIgcG9wdXBfNDdmNmZkMTI3NDA0NGZhYjg5ZTkzYzNhNDZmNDJlMzMgPSBMLnBvcHVwKHttYXhXaWR0aDogJzMwMCd9KTsKCiAgICAgICAgICAgIAogICAgICAgICAgICAgICAgdmFyIGh0bWxfZTE3MWYxOTJiOWZlNGQyNWJlNDQxZjdjNTNhZTgwYjUgPSAkKCc8ZGl2IGlkPSJodG1sX2UxNzFmMTkyYjlmZTRkMjViZTQ0MWY3YzUzYWU4MGI1IiBzdHlsZT0id2lkdGg6IDEwMC4wJTsgaGVpZ2h0OiAxMDAuMCU7Ij5QcmVuemxhdWVyIEJlcmc8L2Rpdj4nKVswXTsKICAgICAgICAgICAgICAgIHBvcHVwXzQ3ZjZmZDEyNzQwNDRmYWI4OWU5M2MzYTQ2ZjQyZTMzLnNldENvbnRlbnQoaHRtbF9lMTcxZjE5MmI5ZmU0ZDI1YmU0NDFmN2M1M2FlODBiNSk7CiAgICAgICAgICAgIAoKICAgICAgICAgICAgY2lyY2xlX21hcmtlcl9iMmYyY2JhNzYxYzY0NmVjODEwYTExNGJiZjlkMmU2MS5iaW5kUG9wdXAocG9wdXBfNDdmNmZkMTI3NDA0NGZhYjg5ZTkzYzNhNDZmNDJlMzMpOwoKICAgICAgICAgICAgCiAgICAgICAgCiAgICAKICAgICAgICAgICAgdmFyIGNpcmNsZV9tYXJrZXJfNGQ4OWJjOWY5NDE1NDczOWI3NDVlOGUxZWQ4MGEwNzcgPSBMLmNpcmNsZU1hcmtlcigKICAgICAgICAgICAgICAgIFs1Mi41NSwxMy40NjY2NjcwMDAwMDAwMDFdLAogICAgICAgICAgICAgICAgewogICJidWJibGluZ01vdXNlRXZlbnRzIjogdHJ1ZSwKICAiY29sb3IiOiAiYmx1ZSIsCiAgImRhc2hBcnJheSI6IG51bGwsCiAgImRhc2hPZmZzZXQiOiBudWxsLAogICJmaWxsIjogdHJ1ZSwKICAiZmlsbENvbG9yIjogIiMzMTg2Y2MiLAogICJmaWxsT3BhY2l0eSI6IDAuNywKICAiZmlsbFJ1bGUiOiAiZXZlbm9kZCIsCiAgImxpbmVDYXAiOiAicm91bmQiLAogICJsaW5lSm9pbiI6ICJyb3VuZCIsCiAgIm9wYWNpdHkiOiAxLjAsCiAgInJhZGl1cyI6IDUsCiAgInN0cm9rZSI6IHRydWUsCiAgIndlaWdodCI6IDMKfQogICAgICAgICAgICAgICAgKS5hZGRUbyhtYXBfN2ZhNWVjNzU4MjhhNDZmYjgwM2M4N2Y5ZTQ2YTkzMjgpOwogICAgICAgICAgICAKICAgIAogICAgICAgICAgICB2YXIgcG9wdXBfZGI1YTBlMjllZjBhNDczZDk4ODczNjk3OTg4MDhlMTUgPSBMLnBvcHVwKHttYXhXaWR0aDogJzMwMCd9KTsKCiAgICAgICAgICAgIAogICAgICAgICAgICAgICAgdmFyIGh0bWxfYTgwYTE0NmQ2MTZhNGE3ZGIwMTE5NzIwMjFiNDZlYTQgPSAkKCc8ZGl2IGlkPSJodG1sX2E4MGExNDZkNjE2YTRhN2RiMDExOTcyMDIxYjQ2ZWE0IiBzdHlsZT0id2lkdGg6IDEwMC4wJTsgaGVpZ2h0OiAxMDAuMCU7Ij5XZWnDn2Vuc2VlPC9kaXY+JylbMF07CiAgICAgICAgICAgICAgICBwb3B1cF9kYjVhMGUyOWVmMGE0NzNkOTg4NzM2OTc5ODgwOGUxNS5zZXRDb250ZW50KGh0bWxfYTgwYTE0NmQ2MTZhNGE3ZGIwMTE5NzIwMjFiNDZlYTQpOwogICAgICAgICAgICAKCiAgICAgICAgICAgIGNpcmNsZV9tYXJrZXJfNGQ4OWJjOWY5NDE1NDczOWI3NDVlOGUxZWQ4MGEwNzcuYmluZFBvcHVwKHBvcHVwX2RiNWEwZTI5ZWYwYTQ3M2Q5ODg3MzY5Nzk4ODA4ZTE1KTsKCiAgICAgICAgICAgIAogICAgICAgIAogICAgCiAgICAgICAgICAgIHZhciBjaXJjbGVfbWFya2VyX2MzOTkzNTU2MWE1MjRiYmRiYThmMmFhZDM5N2FlYzUyID0gTC5jaXJjbGVNYXJrZXIoCiAgICAgICAgICAgICAgICBbNTIuNiwxMy40NV0sCiAgICAgICAgICAgICAgICB7CiAgImJ1YmJsaW5nTW91c2VFdmVudHMiOiB0cnVlLAogICJjb2xvciI6ICJibHVlIiwKICAiZGFzaEFycmF5IjogbnVsbCwKICAiZGFzaE9mZnNldCI6IG51bGwsCiAgImZpbGwiOiB0cnVlLAogICJmaWxsQ29sb3IiOiAiIzMxODZjYyIsCiAgImZpbGxPcGFjaXR5IjogMC43LAogICJmaWxsUnVsZSI6ICJldmVub2RkIiwKICAibGluZUNhcCI6ICJyb3VuZCIsCiAgImxpbmVKb2luIjogInJvdW5kIiwKICAib3BhY2l0eSI6IDEuMCwKICAicmFkaXVzIjogNSwKICAic3Ryb2tlIjogdHJ1ZSwKICAid2VpZ2h0IjogMwp9CiAgICAgICAgICAgICAgICApLmFkZFRvKG1hcF83ZmE1ZWM3NTgyOGE0NmZiODAzYzg3ZjllNDZhOTMyOCk7CiAgICAgICAgICAgIAogICAgCiAgICAgICAgICAgIHZhciBwb3B1cF9hNWJiY2JiNjJjNDg0YzllODgzMTEyNmFiNDc0OTFkOCA9IEwucG9wdXAoe21heFdpZHRoOiAnMzAwJ30pOwoKICAgICAgICAgICAgCiAgICAgICAgICAgICAgICB2YXIgaHRtbF9jZjVkYTU1NmFlNjI0ODIwOWQ0NGM2OGFkZjc1OGVjYSA9ICQoJzxkaXYgaWQ9Imh0bWxfY2Y1ZGE1NTZhZTYyNDgyMDlkNDRjNjhhZGY3NThlY2EiIHN0eWxlPSJ3aWR0aDogMTAwLjAlOyBoZWlnaHQ6IDEwMC4wJTsiPkJsYW5rZW5idXJnPC9kaXY+JylbMF07CiAgICAgICAgICAgICAgICBwb3B1cF9hNWJiY2JiNjJjNDg0YzllODgzMTEyNmFiNDc0OTFkOC5zZXRDb250ZW50KGh0bWxfY2Y1ZGE1NTZhZTYyNDgyMDlkNDRjNjhhZGY3NThlY2EpOwogICAgICAgICAgICAKCiAgICAgICAgICAgIGNpcmNsZV9tYXJrZXJfYzM5OTM1NTYxYTUyNGJiZGJhOGYyYWFkMzk3YWVjNTIuYmluZFBvcHVwKHBvcHVwX2E1YmJjYmI2MmM0ODRjOWU4ODMxMTI2YWI0NzQ5MWQ4KTsKCiAgICAgICAgICAgIAogICAgICAgIAogICAgCiAgICAgICAgICAgIHZhciBjaXJjbGVfbWFya2VyXzU4MzYwODRkY2Y4OTRjMjM4YWZmOTEwODg5MGVmZGVhID0gTC5jaXJjbGVNYXJrZXIoCiAgICAgICAgICAgICAgICBbNTIuNTY2OTQzOTk5OTk5OTksMTMuNDRdLAogICAgICAgICAgICAgICAgewogICJidWJibGluZ01vdXNlRXZlbnRzIjogdHJ1ZSwKICAiY29sb3IiOiAiYmx1ZSIsCiAgImRhc2hBcnJheSI6IG51bGwsCiAgImRhc2hPZmZzZXQiOiBudWxsLAogICJmaWxsIjogdHJ1ZSwKICAiZmlsbENvbG9yIjogIiMzMTg2Y2MiLAogICJmaWxsT3BhY2l0eSI6IDAuNywKICAiZmlsbFJ1bGUiOiAiZXZlbm9kZCIsCiAgImxpbmVDYXAiOiAicm91bmQiLAogICJsaW5lSm9pbiI6ICJyb3VuZCIsCiAgIm9wYWNpdHkiOiAxLjAsCiAgInJhZGl1cyI6IDUsCiAgInN0cm9rZSI6IHRydWUsCiAgIndlaWdodCI6IDMKfQogICAgICAgICAgICAgICAgKS5hZGRUbyhtYXBfN2ZhNWVjNzU4MjhhNDZmYjgwM2M4N2Y5ZTQ2YTkzMjgpOwogICAgICAgICAgICAKICAgIAogICAgICAgICAgICB2YXIgcG9wdXBfOTQ1ODQ5MjVlNTI3NDUwOGFmOTEyMjVkOGY2YTgwNWEgPSBMLnBvcHVwKHttYXhXaWR0aDogJzMwMCd9KTsKCiAgICAgICAgICAgIAogICAgICAgICAgICAgICAgdmFyIGh0bWxfNjhhNWJlOTFkYzJjNGMzYmJlNmIyNGQ4NDFhNWFjYTggPSAkKCc8ZGl2IGlkPSJodG1sXzY4YTViZTkxZGMyYzRjM2JiZTZiMjRkODQxYTVhY2E4IiBzdHlsZT0id2lkdGg6IDEwMC4wJTsgaGVpZ2h0OiAxMDAuMCU7Ij5IZWluZXJzZG9yZjwvZGl2PicpWzBdOwogICAgICAgICAgICAgICAgcG9wdXBfOTQ1ODQ5MjVlNTI3NDUwOGFmOTEyMjVkOGY2YTgwNWEuc2V0Q29udGVudChodG1sXzY4YTViZTkxZGMyYzRjM2JiZTZiMjRkODQxYTVhY2E4KTsKICAgICAgICAgICAgCgogICAgICAgICAgICBjaXJjbGVfbWFya2VyXzU4MzYwODRkY2Y4OTRjMjM4YWZmOTEwODg5MGVmZGVhLmJpbmRQb3B1cChwb3B1cF85NDU4NDkyNWU1Mjc0NTA4YWY5MTIyNWQ4ZjZhODA1YSk7CgogICAgICAgICAgICAKICAgICAgICAKICAgIAogICAgICAgICAgICB2YXIgY2lyY2xlX21hcmtlcl9jZThjNDIxYTQyMDU0ZDgzYjFkNTRkMzg5ZTU5ZDdmZiA9IEwuY2lyY2xlTWFya2VyKAogICAgICAgICAgICAgICAgWzUyLjYxNDQ0Mzk5OTk5OTk5LDEzLjQ2OTcyMl0sCiAgICAgICAgICAgICAgICB7CiAgImJ1YmJsaW5nTW91c2VFdmVudHMiOiB0cnVlLAogICJjb2xvciI6ICJibHVlIiwKICAiZGFzaEFycmF5IjogbnVsbCwKICAiZGFzaE9mZnNldCI6IG51bGwsCiAgImZpbGwiOiB0cnVlLAogICJmaWxsQ29sb3IiOiAiIzMxODZjYyIsCiAgImZpbGxPcGFjaXR5IjogMC43LAogICJmaWxsUnVsZSI6ICJldmVub2RkIiwKICAibGluZUNhcCI6ICJyb3VuZCIsCiAgImxpbmVKb2luIjogInJvdW5kIiwKICAib3BhY2l0eSI6IDEuMCwKICAicmFkaXVzIjogNSwKICAic3Ryb2tlIjogdHJ1ZSwKICAid2VpZ2h0IjogMwp9CiAgICAgICAgICAgICAgICApLmFkZFRvKG1hcF83ZmE1ZWM3NTgyOGE0NmZiODAzYzg3ZjllNDZhOTMyOCk7CiAgICAgICAgICAgIAogICAgCiAgICAgICAgICAgIHZhciBwb3B1cF81MDJkZDg2ZDMzNWQ0ODczOTZlZGQ2N2M1ZGQzNGQ3NCA9IEwucG9wdXAoe21heFdpZHRoOiAnMzAwJ30pOwoKICAgICAgICAgICAgCiAgICAgICAgICAgICAgICB2YXIgaHRtbF9kMDgxNjE4ODcwZTQ0Mzk5YTQxNmIxM2Y5YzY5NTFkYSA9ICQoJzxkaXYgaWQ9Imh0bWxfZDA4MTYxODg3MGU0NDM5OWE0MTZiMTNmOWM2OTUxZGEiIHN0eWxlPSJ3aWR0aDogMTAwLjAlOyBoZWlnaHQ6IDEwMC4wJTsiPkthcm93PC9kaXY+JylbMF07CiAgICAgICAgICAgICAgICBwb3B1cF81MDJkZDg2ZDMzNWQ0ODczOTZlZGQ2N2M1ZGQzNGQ3NC5zZXRDb250ZW50KGh0bWxfZDA4MTYxODg3MGU0NDM5OWE0MTZiMTNmOWM2OTUxZGEpOwogICAgICAgICAgICAKCiAgICAgICAgICAgIGNpcmNsZV9tYXJrZXJfY2U4YzQyMWE0MjA1NGQ4M2IxZDU0ZDM4OWU1OWQ3ZmYuYmluZFBvcHVwKHBvcHVwXzUwMmRkODZkMzM1ZDQ4NzM5NmVkZDY3YzVkZDM0ZDc0KTsKCiAgICAgICAgICAgIAogICAgICAgIAogICAgCiAgICAgICAgICAgIHZhciBjaXJjbGVfbWFya2VyX2UyMTQyM2ZhOGJmNTRhZmViY2I5MzMyNzVhNzNmNTRhID0gTC5jaXJjbGVNYXJrZXIoCiAgICAgICAgICAgICAgICBbNTIuNTcyNzc4LDEzLjQ2ODA1NTk5OTk5OTk5OV0sCiAgICAgICAgICAgICAgICB7CiAgImJ1YmJsaW5nTW91c2VFdmVudHMiOiB0cnVlLAogICJjb2xvciI6ICJibHVlIiwKICAiZGFzaEFycmF5IjogbnVsbCwKICAiZGFzaE9mZnNldCI6IG51bGwsCiAgImZpbGwiOiB0cnVlLAogICJmaWxsQ29sb3IiOiAiIzMxODZjYyIsCiAgImZpbGxPcGFjaXR5IjogMC43LAogICJmaWxsUnVsZSI6ICJldmVub2RkIiwKICAibGluZUNhcCI6ICJyb3VuZCIsCiAgImxpbmVKb2luIjogInJvdW5kIiwKICAib3BhY2l0eSI6IDEuMCwKICAicmFkaXVzIjogNSwKICAic3Ryb2tlIjogdHJ1ZSwKICAid2VpZ2h0IjogMwp9CiAgICAgICAgICAgICAgICApLmFkZFRvKG1hcF83ZmE1ZWM3NTgyOGE0NmZiODAzYzg3ZjllNDZhOTMyOCk7CiAgICAgICAgICAgIAogICAgCiAgICAgICAgICAgIHZhciBwb3B1cF8yZTExNTNiMWU3MWE0Y2I4ODBlZDhlYWFiMzU1ZmZkZCA9IEwucG9wdXAoe21heFdpZHRoOiAnMzAwJ30pOwoKICAgICAgICAgICAgCiAgICAgICAgICAgICAgICB2YXIgaHRtbF82NTE0YzliZmVmNWE0ZDllYTliOTllNTM1MDVhNjY2ZSA9ICQoJzxkaXYgaWQ9Imh0bWxfNjUxNGM5YmZlZjVhNGQ5ZWE5Yjk5ZTUzNTA1YTY2NmUiIHN0eWxlPSJ3aWR0aDogMTAwLjAlOyBoZWlnaHQ6IDEwMC4wJTsiPlN0YWR0cmFuZHNpZWRsdW5nIE1hbGNob3c8L2Rpdj4nKVswXTsKICAgICAgICAgICAgICAgIHBvcHVwXzJlMTE1M2IxZTcxYTRjYjg4MGVkOGVhYWIzNTVmZmRkLnNldENvbnRlbnQoaHRtbF82NTE0YzliZmVmNWE0ZDllYTliOTllNTM1MDVhNjY2ZSk7CiAgICAgICAgICAgIAoKICAgICAgICAgICAgY2lyY2xlX21hcmtlcl9lMjE0MjNmYThiZjU0YWZlYmNiOTMzMjc1YTczZjU0YS5iaW5kUG9wdXAocG9wdXBfMmUxMTUzYjFlNzFhNGNiODgwZWQ4ZWFhYjM1NWZmZGQpOwoKICAgICAgICAgICAgCiAgICAgICAgCiAgICAKICAgICAgICAgICAgdmFyIGNpcmNsZV9tYXJrZXJfNzkwYTgxZTE5ZWVkNGQ0Yzk2ZTA2MGM5OTUxNGI5YzIgPSBMLmNpcmNsZU1hcmtlcigKICAgICAgICAgICAgICAgIFs1Mi41NjkxNjcwMDAwMDAwMSwxMy40MDMzMzI5OTk5OTk5OThdLAogICAgICAgICAgICAgICAgewogICJidWJibGluZ01vdXNlRXZlbnRzIjogdHJ1ZSwKICAiY29sb3IiOiAiYmx1ZSIsCiAgImRhc2hBcnJheSI6IG51bGwsCiAgImRhc2hPZmZzZXQiOiBudWxsLAogICJmaWxsIjogdHJ1ZSwKICAiZmlsbENvbG9yIjogIiMzMTg2Y2MiLAogICJmaWxsT3BhY2l0eSI6IDAuNywKICAiZmlsbFJ1bGUiOiAiZXZlbm9kZCIsCiAgImxpbmVDYXAiOiAicm91bmQiLAogICJsaW5lSm9pbiI6ICJyb3VuZCIsCiAgIm9wYWNpdHkiOiAxLjAsCiAgInJhZGl1cyI6IDUsCiAgInN0cm9rZSI6IHRydWUsCiAgIndlaWdodCI6IDMKfQogICAgICAgICAgICAgICAgKS5hZGRUbyhtYXBfN2ZhNWVjNzU4MjhhNDZmYjgwM2M4N2Y5ZTQ2YTkzMjgpOwogICAgICAgICAgICAKICAgIAogICAgICAgICAgICB2YXIgcG9wdXBfYjI1NzFjMTU3ZmIxNDk4NTg2YzExOTQ1NTgzNjhlY2UgPSBMLnBvcHVwKHttYXhXaWR0aDogJzMwMCd9KTsKCiAgICAgICAgICAgIAogICAgICAgICAgICAgICAgdmFyIGh0bWxfNDM2YTc5NDNhNmYyNDFmOWExZDAzNTI0MTUyODIyZTkgPSAkKCc8ZGl2IGlkPSJodG1sXzQzNmE3OTQzYTZmMjQxZjlhMWQwMzUyNDE1MjgyMmU5IiBzdHlsZT0id2lkdGg6IDEwMC4wJTsgaGVpZ2h0OiAxMDAuMCU7Ij5QYW5rb3c8L2Rpdj4nKVswXTsKICAgICAgICAgICAgICAgIHBvcHVwX2IyNTcxYzE1N2ZiMTQ5ODU4NmMxMTk0NTU4MzY4ZWNlLnNldENvbnRlbnQoaHRtbF80MzZhNzk0M2E2ZjI0MWY5YTFkMDM1MjQxNTI4MjJlOSk7CiAgICAgICAgICAgIAoKICAgICAgICAgICAgY2lyY2xlX21hcmtlcl83OTBhODFlMTllZWQ0ZDRjOTZlMDYwYzk5NTE0YjljMi5iaW5kUG9wdXAocG9wdXBfYjI1NzFjMTU3ZmIxNDk4NTg2YzExOTQ1NTgzNjhlY2UpOwoKICAgICAgICAgICAgCiAgICAgICAgCiAgICAKICAgICAgICAgICAgdmFyIGNpcmNsZV9tYXJrZXJfNzgzMWQ1ZTUzMDE4NDViY2JlYTc4Mjc4NTZhMWI2ZjAgPSBMLmNpcmNsZU1hcmtlcigKICAgICAgICAgICAgICAgIFs1Mi42MTg2MTEsMTMuMzldLAogICAgICAgICAgICAgICAgewogICJidWJibGluZ01vdXNlRXZlbnRzIjogdHJ1ZSwKICAiY29sb3IiOiAiYmx1ZSIsCiAgImRhc2hBcnJheSI6IG51bGwsCiAgImRhc2hPZmZzZXQiOiBudWxsLAogICJmaWxsIjogdHJ1ZSwKICAiZmlsbENvbG9yIjogIiMzMTg2Y2MiLAogICJmaWxsT3BhY2l0eSI6IDAuNywKICAiZmlsbFJ1bGUiOiAiZXZlbm9kZCIsCiAgImxpbmVDYXAiOiAicm91bmQiLAogICJsaW5lSm9pbiI6ICJyb3VuZCIsCiAgIm9wYWNpdHkiOiAxLjAsCiAgInJhZGl1cyI6IDUsCiAgInN0cm9rZSI6IHRydWUsCiAgIndlaWdodCI6IDMKfQogICAgICAgICAgICAgICAgKS5hZGRUbyhtYXBfN2ZhNWVjNzU4MjhhNDZmYjgwM2M4N2Y5ZTQ2YTkzMjgpOwogICAgICAgICAgICAKICAgIAogICAgICAgICAgICB2YXIgcG9wdXBfNmI4MjQzY2MwMmI4NGIwNmJlODAwOTNjMjAzMWI5ODkgPSBMLnBvcHVwKHttYXhXaWR0aDogJzMwMCd9KTsKCiAgICAgICAgICAgIAogICAgICAgICAgICAgICAgdmFyIGh0bWxfZDZlYmU0NzlhMTUyNDE0NGI2YjQzZWJiODQ0MTc0OGEgPSAkKCc8ZGl2IGlkPSJodG1sX2Q2ZWJlNDc5YTE1MjQxNDRiNmI0M2ViYjg0NDE3NDhhIiBzdHlsZT0id2lkdGg6IDEwMC4wJTsgaGVpZ2h0OiAxMDAuMCU7Ij5CbGFua2VuZmVsZGU8L2Rpdj4nKVswXTsKICAgICAgICAgICAgICAgIHBvcHVwXzZiODI0M2NjMDJiODRiMDZiZTgwMDkzYzIwMzFiOTg5LnNldENvbnRlbnQoaHRtbF9kNmViZTQ3OWExNTI0MTQ0YjZiNDNlYmI4NDQxNzQ4YSk7CiAgICAgICAgICAgIAoKICAgICAgICAgICAgY2lyY2xlX21hcmtlcl83ODMxZDVlNTMwMTg0NWJjYmVhNzgyNzg1NmExYjZmMC5iaW5kUG9wdXAocG9wdXBfNmI4MjQzY2MwMmI4NGIwNmJlODAwOTNjMjAzMWI5ODkpOwoKICAgICAgICAgICAgCiAgICAgICAgCiAgICAKICAgICAgICAgICAgdmFyIGNpcmNsZV9tYXJrZXJfMWJiMjZlNmJmYzg2NDBlODk5NTExYWMwZGQ4MzU4YTEgPSBMLmNpcmNsZU1hcmtlcigKICAgICAgICAgICAgICAgIFs1Mi42MzM2MTEsMTMuNDk5MTY3MDAwMDAwMDAyXSwKICAgICAgICAgICAgICAgIHsKICAiYnViYmxpbmdNb3VzZUV2ZW50cyI6IHRydWUsCiAgImNvbG9yIjogImJsdWUiLAogICJkYXNoQXJyYXkiOiBudWxsLAogICJkYXNoT2Zmc2V0IjogbnVsbCwKICAiZmlsbCI6IHRydWUsCiAgImZpbGxDb2xvciI6ICIjMzE4NmNjIiwKICAiZmlsbE9wYWNpdHkiOiAwLjcsCiAgImZpbGxSdWxlIjogImV2ZW5vZGQiLAogICJsaW5lQ2FwIjogInJvdW5kIiwKICAibGluZUpvaW4iOiAicm91bmQiLAogICJvcGFjaXR5IjogMS4wLAogICJyYWRpdXMiOiA1LAogICJzdHJva2UiOiB0cnVlLAogICJ3ZWlnaHQiOiAzCn0KICAgICAgICAgICAgICAgICkuYWRkVG8obWFwXzdmYTVlYzc1ODI4YTQ2ZmI4MDNjODdmOWU0NmE5MzI4KTsKICAgICAgICAgICAgCiAgICAKICAgICAgICAgICAgdmFyIHBvcHVwXzJmMTBlNzY5YmIxYzQ3NTZiNGI5NTczZDAzYjlkZDc4ID0gTC5wb3B1cCh7bWF4V2lkdGg6ICczMDAnfSk7CgogICAgICAgICAgICAKICAgICAgICAgICAgICAgIHZhciBodG1sXzQwMTUxOTIwMjc1NDRiYmFiMmI4NjQzOWYyOTZiZWJhID0gJCgnPGRpdiBpZD0iaHRtbF80MDE1MTkyMDI3NTQ0YmJhYjJiODY0MzlmMjk2YmViYSIgc3R5bGU9IndpZHRoOiAxMDAuMCU7IGhlaWdodDogMTAwLjAlOyI+QnVjaDwvZGl2PicpWzBdOwogICAgICAgICAgICAgICAgcG9wdXBfMmYxMGU3NjliYjFjNDc1NmI0Yjk1NzNkMDNiOWRkNzguc2V0Q29udGVudChodG1sXzQwMTUxOTIwMjc1NDRiYmFiMmI4NjQzOWYyOTZiZWJhKTsKICAgICAgICAgICAgCgogICAgICAgICAgICBjaXJjbGVfbWFya2VyXzFiYjI2ZTZiZmM4NjQwZTg5OTUxMWFjMGRkODM1OGExLmJpbmRQb3B1cChwb3B1cF8yZjEwZTc2OWJiMWM0NzU2YjRiOTU3M2QwM2I5ZGQ3OCk7CgogICAgICAgICAgICAKICAgICAgICAKICAgIAogICAgICAgICAgICB2YXIgY2lyY2xlX21hcmtlcl9kY2JmNGQ2N2YwYjQ0NDQwOGU0MDkxMzIzZWJlYTllNyA9IEwuY2lyY2xlTWFya2VyKAogICAgICAgICAgICAgICAgWzUyLjYxODYxMSwxMy4zOV0sCiAgICAgICAgICAgICAgICB7CiAgImJ1YmJsaW5nTW91c2VFdmVudHMiOiB0cnVlLAogICJjb2xvciI6ICJibHVlIiwKICAiZGFzaEFycmF5IjogbnVsbCwKICAiZGFzaE9mZnNldCI6IG51bGwsCiAgImZpbGwiOiB0cnVlLAogICJmaWxsQ29sb3IiOiAiIzMxODZjYyIsCiAgImZpbGxPcGFjaXR5IjogMC43LAogICJmaWxsUnVsZSI6ICJldmVub2RkIiwKICAibGluZUNhcCI6ICJyb3VuZCIsCiAgImxpbmVKb2luIjogInJvdW5kIiwKICAib3BhY2l0eSI6IDEuMCwKICAicmFkaXVzIjogNSwKICAic3Ryb2tlIjogdHJ1ZSwKICAid2VpZ2h0IjogMwp9CiAgICAgICAgICAgICAgICApLmFkZFRvKG1hcF83ZmE1ZWM3NTgyOGE0NmZiODAzYzg3ZjllNDZhOTMyOCk7CiAgICAgICAgICAgIAogICAgCiAgICAgICAgICAgIHZhciBwb3B1cF8xNzE5MjkyZWQ4MzU0ZTczOGFmZGExOTE4OGRiMzhjZCA9IEwucG9wdXAoe21heFdpZHRoOiAnMzAwJ30pOwoKICAgICAgICAgICAgCiAgICAgICAgICAgICAgICB2YXIgaHRtbF8xMjc4NmY3ZjYzN2E0MzRhYjdmNGRkOTA1ZTRmNmJjMyA9ICQoJzxkaXYgaWQ9Imh0bWxfMTI3ODZmN2Y2MzdhNDM0YWI3ZjRkZDkwNWU0ZjZiYzMiIHN0eWxlPSJ3aWR0aDogMTAwLjAlOyBoZWlnaHQ6IDEwMC4wJTsiPkZyYW56w7ZzaXNjaCBCdWNoaG9sejwvZGl2PicpWzBdOwogICAgICAgICAgICAgICAgcG9wdXBfMTcxOTI5MmVkODM1NGU3MzhhZmRhMTkxODhkYjM4Y2Quc2V0Q29udGVudChodG1sXzEyNzg2ZjdmNjM3YTQzNGFiN2Y0ZGQ5MDVlNGY2YmMzKTsKICAgICAgICAgICAgCgogICAgICAgICAgICBjaXJjbGVfbWFya2VyX2RjYmY0ZDY3ZjBiNDQ0NDA4ZTQwOTEzMjNlYmVhOWU3LmJpbmRQb3B1cChwb3B1cF8xNzE5MjkyZWQ4MzU0ZTczOGFmZGExOTE4OGRiMzhjZCk7CgogICAgICAgICAgICAKICAgICAgICAKICAgIAogICAgICAgICAgICB2YXIgY2lyY2xlX21hcmtlcl83ODgzZTA4YjRiNmU0NWM4YTljZDdkZDIwNzUzNTY3YyA9IEwuY2lyY2xlTWFya2VyKAogICAgICAgICAgICAgICAgWzUyLjU4MzMzMjk5OTk5OTk5NiwxMy40XSwKICAgICAgICAgICAgICAgIHsKICAiYnViYmxpbmdNb3VzZUV2ZW50cyI6IHRydWUsCiAgImNvbG9yIjogImJsdWUiLAogICJkYXNoQXJyYXkiOiBudWxsLAogICJkYXNoT2Zmc2V0IjogbnVsbCwKICAiZmlsbCI6IHRydWUsCiAgImZpbGxDb2xvciI6ICIjMzE4NmNjIiwKICAiZmlsbE9wYWNpdHkiOiAwLjcsCiAgImZpbGxSdWxlIjogImV2ZW5vZGQiLAogICJsaW5lQ2FwIjogInJvdW5kIiwKICAibGluZUpvaW4iOiAicm91bmQiLAogICJvcGFjaXR5IjogMS4wLAogICJyYWRpdXMiOiA1LAogICJzdHJva2UiOiB0cnVlLAogICJ3ZWlnaHQiOiAzCn0KICAgICAgICAgICAgICAgICkuYWRkVG8obWFwXzdmYTVlYzc1ODI4YTQ2ZmI4MDNjODdmOWU0NmE5MzI4KTsKICAgICAgICAgICAgCiAgICAKICAgICAgICAgICAgdmFyIHBvcHVwXzE4MTZhZjRhYjNmYzRlNmY5OTU5ZjkwNWNmODUzYmRkID0gTC5wb3B1cCh7bWF4V2lkdGg6ICczMDAnfSk7CgogICAgICAgICAgICAKICAgICAgICAgICAgICAgIHZhciBodG1sXzBhMDFjY2Q3ZDY3YzQwODU5YjZhMmZkNTFiMDJjZmM3ID0gJCgnPGRpdiBpZD0iaHRtbF8wYTAxY2NkN2Q2N2M0MDg1OWI2YTJmZDUxYjAyY2ZjNyIgc3R5bGU9IndpZHRoOiAxMDAuMCU7IGhlaWdodDogMTAwLjAlOyI+TmllZGVyc2Now7ZuaGF1c2VuPC9kaXY+JylbMF07CiAgICAgICAgICAgICAgICBwb3B1cF8xODE2YWY0YWIzZmM0ZTZmOTk1OWY5MDVjZjg1M2JkZC5zZXRDb250ZW50KGh0bWxfMGEwMWNjZDdkNjdjNDA4NTliNmEyZmQ1MWIwMmNmYzcpOwogICAgICAgICAgICAKCiAgICAgICAgICAgIGNpcmNsZV9tYXJrZXJfNzg4M2UwOGI0YjZlNDVjOGE5Y2Q3ZGQyMDc1MzU2N2MuYmluZFBvcHVwKHBvcHVwXzE4MTZhZjRhYjNmYzRlNmY5OTU5ZjkwNWNmODUzYmRkKTsKCiAgICAgICAgICAgIAogICAgICAgIAogICAgCiAgICAgICAgICAgIHZhciBjaXJjbGVfbWFya2VyX2EzN2FhODVmMzY0MjRmN2NhYzkzNGZhZGE4OTU0MjBmID0gTC5jaXJjbGVNYXJrZXIoCiAgICAgICAgICAgICAgICBbNTIuNTk5MTY3LDEzLjM3NzIyMl0sCiAgICAgICAgICAgICAgICB7CiAgImJ1YmJsaW5nTW91c2VFdmVudHMiOiB0cnVlLAogICJjb2xvciI6ICJibHVlIiwKICAiZGFzaEFycmF5IjogbnVsbCwKICAiZGFzaE9mZnNldCI6IG51bGwsCiAgImZpbGwiOiB0cnVlLAogICJmaWxsQ29sb3IiOiAiIzMxODZjYyIsCiAgImZpbGxPcGFjaXR5IjogMC43LAogICJmaWxsUnVsZSI6ICJldmVub2RkIiwKICAibGluZUNhcCI6ICJyb3VuZCIsCiAgImxpbmVKb2luIjogInJvdW5kIiwKICAib3BhY2l0eSI6IDEuMCwKICAicmFkaXVzIjogNSwKICAic3Ryb2tlIjogdHJ1ZSwKICAid2VpZ2h0IjogMwp9CiAgICAgICAgICAgICAgICApLmFkZFRvKG1hcF83ZmE1ZWM3NTgyOGE0NmZiODAzYzg3ZjllNDZhOTMyOCk7CiAgICAgICAgICAgIAogICAgCiAgICAgICAgICAgIHZhciBwb3B1cF9mNDBiNjcyNjMxYmI0NTcwYWFkNWYzZjUxZDJkY2ZiYyA9IEwucG9wdXAoe21heFdpZHRoOiAnMzAwJ30pOwoKICAgICAgICAgICAgCiAgICAgICAgICAgICAgICB2YXIgaHRtbF9iMjY3MWVmMGYzY2M0MjU2YjU1ZjQxMTU4MDNjYjM2OCA9ICQoJzxkaXYgaWQ9Imh0bWxfYjI2NzFlZjBmM2NjNDI1NmI1NWY0MTE1ODAzY2IzNjgiIHN0eWxlPSJ3aWR0aDogMTAwLjAlOyBoZWlnaHQ6IDEwMC4wJTsiPlJvc2VudGhhbDwvZGl2PicpWzBdOwogICAgICAgICAgICAgICAgcG9wdXBfZjQwYjY3MjYzMWJiNDU3MGFhZDVmM2Y1MWQyZGNmYmMuc2V0Q29udGVudChodG1sX2IyNjcxZWYwZjNjYzQyNTZiNTVmNDExNTgwM2NiMzY4KTsKICAgICAgICAgICAgCgogICAgICAgICAgICBjaXJjbGVfbWFya2VyX2EzN2FhODVmMzY0MjRmN2NhYzkzNGZhZGE4OTU0MjBmLmJpbmRQb3B1cChwb3B1cF9mNDBiNjcyNjMxYmI0NTcwYWFkNWYzZjUxZDJkY2ZiYyk7CgogICAgICAgICAgICAKICAgICAgICAKICAgIAogICAgICAgICAgICB2YXIgY2lyY2xlX21hcmtlcl9iMTRiMDgzZGJkNDA0OWJjYjg4ZmNlOTQ2ZjZhOTRkZSA9IEwuY2lyY2xlTWFya2VyKAogICAgICAgICAgICAgICAgWzUyLjU4NzIyMiwxMy4zNjgwNTZdLAogICAgICAgICAgICAgICAgewogICJidWJibGluZ01vdXNlRXZlbnRzIjogdHJ1ZSwKICAiY29sb3IiOiAiYmx1ZSIsCiAgImRhc2hBcnJheSI6IG51bGwsCiAgImRhc2hPZmZzZXQiOiBudWxsLAogICJmaWxsIjogdHJ1ZSwKICAiZmlsbENvbG9yIjogIiMzMTg2Y2MiLAogICJmaWxsT3BhY2l0eSI6IDAuNywKICAiZmlsbFJ1bGUiOiAiZXZlbm9kZCIsCiAgImxpbmVDYXAiOiAicm91bmQiLAogICJsaW5lSm9pbiI6ICJyb3VuZCIsCiAgIm9wYWNpdHkiOiAxLjAsCiAgInJhZGl1cyI6IDUsCiAgInN0cm9rZSI6IHRydWUsCiAgIndlaWdodCI6IDMKfQogICAgICAgICAgICAgICAgKS5hZGRUbyhtYXBfN2ZhNWVjNzU4MjhhNDZmYjgwM2M4N2Y5ZTQ2YTkzMjgpOwogICAgICAgICAgICAKICAgIAogICAgICAgICAgICB2YXIgcG9wdXBfMWM2ZmQ0MWZhODg5NGU4ZjlmMjQxMjAwYjRhODU2YTEgPSBMLnBvcHVwKHttYXhXaWR0aDogJzMwMCd9KTsKCiAgICAgICAgICAgIAogICAgICAgICAgICAgICAgdmFyIGh0bWxfNTQwMTM0MjkxMDA5NDg4MDhlMjdiYmM2MTIyN2Y4MDAgPSAkKCc8ZGl2IGlkPSJodG1sXzU0MDEzNDI5MTAwOTQ4ODA4ZTI3YmJjNjEyMjdmODAwIiBzdHlsZT0id2lkdGg6IDEwMC4wJTsgaGVpZ2h0OiAxMDAuMCU7Ij5XaWxoZWxtc3J1aDwvZGl2PicpWzBdOwogICAgICAgICAgICAgICAgcG9wdXBfMWM2ZmQ0MWZhODg5NGU4ZjlmMjQxMjAwYjRhODU2YTEuc2V0Q29udGVudChodG1sXzU0MDEzNDI5MTAwOTQ4ODA4ZTI3YmJjNjEyMjdmODAwKTsKICAgICAgICAgICAgCgogICAgICAgICAgICBjaXJjbGVfbWFya2VyX2IxNGIwODNkYmQ0MDQ5YmNiODhmY2U5NDZmNmE5NGRlLmJpbmRQb3B1cChwb3B1cF8xYzZmZDQxZmE4ODk0ZThmOWYyNDEyMDBiNGE4NTZhMSk7CgogICAgICAgICAgICAKICAgICAgICAKICAgIAogICAgICAgICAgICB2YXIgY2lyY2xlX21hcmtlcl83Njc5YTQyMjExYjk0Y2M3YmM3MWFkODY2NWZmZDI4ZCA9IEwuY2lyY2xlTWFya2VyKAogICAgICAgICAgICAgICAgWzUyLjUxNjY2NzAwMDAwMDAwNSwxMy4zXSwKICAgICAgICAgICAgICAgIHsKICAiYnViYmxpbmdNb3VzZUV2ZW50cyI6IHRydWUsCiAgImNvbG9yIjogImJsdWUiLAogICJkYXNoQXJyYXkiOiBudWxsLAogICJkYXNoT2Zmc2V0IjogbnVsbCwKICAiZmlsbCI6IHRydWUsCiAgImZpbGxDb2xvciI6ICIjMzE4NmNjIiwKICAiZmlsbE9wYWNpdHkiOiAwLjcsCiAgImZpbGxSdWxlIjogImV2ZW5vZGQiLAogICJsaW5lQ2FwIjogInJvdW5kIiwKICAibGluZUpvaW4iOiAicm91bmQiLAogICJvcGFjaXR5IjogMS4wLAogICJyYWRpdXMiOiA1LAogICJzdHJva2UiOiB0cnVlLAogICJ3ZWlnaHQiOiAzCn0KICAgICAgICAgICAgICAgICkuYWRkVG8obWFwXzdmYTVlYzc1ODI4YTQ2ZmI4MDNjODdmOWU0NmE5MzI4KTsKICAgICAgICAgICAgCiAgICAKICAgICAgICAgICAgdmFyIHBvcHVwXzA2NDY4ZDY5NjhjNjRkNzU5MzIzNDBmMTk2N2Q0Mjg4ID0gTC5wb3B1cCh7bWF4V2lkdGg6ICczMDAnfSk7CgogICAgICAgICAgICAKICAgICAgICAgICAgICAgIHZhciBodG1sXzMxZmIxYTM5YzAxOTQ0YzBiNzcyNTRjNjk5MDUwZWYwID0gJCgnPGRpdiBpZD0iaHRtbF8zMWZiMWEzOWMwMTk0NGMwYjc3MjU0YzY5OTA1MGVmMCIgc3R5bGU9IndpZHRoOiAxMDAuMCU7IGhlaWdodDogMTAwLjAlOyI+Q2hhcmxvdHRlbmJ1cmc8L2Rpdj4nKVswXTsKICAgICAgICAgICAgICAgIHBvcHVwXzA2NDY4ZDY5NjhjNjRkNzU5MzIzNDBmMTk2N2Q0Mjg4LnNldENvbnRlbnQoaHRtbF8zMWZiMWEzOWMwMTk0NGMwYjc3MjU0YzY5OTA1MGVmMCk7CiAgICAgICAgICAgIAoKICAgICAgICAgICAgY2lyY2xlX21hcmtlcl83Njc5YTQyMjExYjk0Y2M3YmM3MWFkODY2NWZmZDI4ZC5iaW5kUG9wdXAocG9wdXBfMDY0NjhkNjk2OGM2NGQ3NTkzMjM0MGYxOTY3ZDQyODgpOwoKICAgICAgICAgICAgCiAgICAgICAgCiAgICAKICAgICAgICAgICAgdmFyIGNpcmNsZV9tYXJrZXJfNzI0MWFkMzUwYWU0NDk2MmI1OTk5YTg0NGY3MjA1YTggPSBMLmNpcmNsZU1hcmtlcigKICAgICAgICAgICAgICAgIFs1Mi40ODMzMzI5OTk5OTk5OTUsMTMuMzE2NjY3XSwKICAgICAgICAgICAgICAgIHsKICAiYnViYmxpbmdNb3VzZUV2ZW50cyI6IHRydWUsCiAgImNvbG9yIjogImJsdWUiLAogICJkYXNoQXJyYXkiOiBudWxsLAogICJkYXNoT2Zmc2V0IjogbnVsbCwKICAiZmlsbCI6IHRydWUsCiAgImZpbGxDb2xvciI6ICIjMzE4NmNjIiwKICAiZmlsbE9wYWNpdHkiOiAwLjcsCiAgImZpbGxSdWxlIjogImV2ZW5vZGQiLAogICJsaW5lQ2FwIjogInJvdW5kIiwKICAibGluZUpvaW4iOiAicm91bmQiLAogICJvcGFjaXR5IjogMS4wLAogICJyYWRpdXMiOiA1LAogICJzdHJva2UiOiB0cnVlLAogICJ3ZWlnaHQiOiAzCn0KICAgICAgICAgICAgICAgICkuYWRkVG8obWFwXzdmYTVlYzc1ODI4YTQ2ZmI4MDNjODdmOWU0NmE5MzI4KTsKICAgICAgICAgICAgCiAgICAKICAgICAgICAgICAgdmFyIHBvcHVwXzZmYmMxNGViODY3ODRkOTg5ZjFiY2I2YWQ3NGY3MDQ5ID0gTC5wb3B1cCh7bWF4V2lkdGg6ICczMDAnfSk7CgogICAgICAgICAgICAKICAgICAgICAgICAgICAgIHZhciBodG1sX2VjMzE5MTU5NGQ4NTRjMWNiODM5Yzk1OWQxOGNhNjBhID0gJCgnPGRpdiBpZD0iaHRtbF9lYzMxOTE1OTRkODU0YzFjYjgzOWM5NTlkMThjYTYwYSIgc3R5bGU9IndpZHRoOiAxMDAuMCU7IGhlaWdodDogMTAwLjAlOyI+V2lsbWVyc2RvcmY8L2Rpdj4nKVswXTsKICAgICAgICAgICAgICAgIHBvcHVwXzZmYmMxNGViODY3ODRkOTg5ZjFiY2I2YWQ3NGY3MDQ5LnNldENvbnRlbnQoaHRtbF9lYzMxOTE1OTRkODU0YzFjYjgzOWM5NTlkMThjYTYwYSk7CiAgICAgICAgICAgIAoKICAgICAgICAgICAgY2lyY2xlX21hcmtlcl83MjQxYWQzNTBhZTQ0OTYyYjU5OTlhODQ0ZjcyMDVhOC5iaW5kUG9wdXAocG9wdXBfNmZiYzE0ZWI4Njc4NGQ5ODlmMWJjYjZhZDc0ZjcwNDkpOwoKICAgICAgICAgICAgCiAgICAgICAgCiAgICAKICAgICAgICAgICAgdmFyIGNpcmNsZV9tYXJrZXJfMWI4OGY5MTllNGEwNGI1Y2JmZGM2ZDA4YTQzN2YyOTcgPSBMLmNpcmNsZU1hcmtlcigKICAgICAgICAgICAgICAgIFs1Mi40NzcyMjIsMTMuMjg4MDU2XSwKICAgICAgICAgICAgICAgIHsKICAiYnViYmxpbmdNb3VzZUV2ZW50cyI6IHRydWUsCiAgImNvbG9yIjogImJsdWUiLAogICJkYXNoQXJyYXkiOiBudWxsLAogICJkYXNoT2Zmc2V0IjogbnVsbCwKICAiZmlsbCI6IHRydWUsCiAgImZpbGxDb2xvciI6ICIjMzE4NmNjIiwKICAiZmlsbE9wYWNpdHkiOiAwLjcsCiAgImZpbGxSdWxlIjogImV2ZW5vZGQiLAogICJsaW5lQ2FwIjogInJvdW5kIiwKICAibGluZUpvaW4iOiAicm91bmQiLAogICJvcGFjaXR5IjogMS4wLAogICJyYWRpdXMiOiA1LAogICJzdHJva2UiOiB0cnVlLAogICJ3ZWlnaHQiOiAzCn0KICAgICAgICAgICAgICAgICkuYWRkVG8obWFwXzdmYTVlYzc1ODI4YTQ2ZmI4MDNjODdmOWU0NmE5MzI4KTsKICAgICAgICAgICAgCiAgICAKICAgICAgICAgICAgdmFyIHBvcHVwXzFhNjA4Njk5YTE3ZjQ5ZjM5Y2FkZmI5NDQ3ZDQ4ZmEyID0gTC5wb3B1cCh7bWF4V2lkdGg6ICczMDAnfSk7CgogICAgICAgICAgICAKICAgICAgICAgICAgICAgIHZhciBodG1sXzdjY2I0YTI1N2NiZDRiNTE4NDNhOTA0MTIyN2M5OWE0ID0gJCgnPGRpdiBpZD0iaHRtbF83Y2NiNGEyNTdjYmQ0YjUxODQzYTkwNDEyMjdjOTlhNCIgc3R5bGU9IndpZHRoOiAxMDAuMCU7IGhlaWdodDogMTAwLjAlOyI+U2NobWFyZ2VuZG9yZjwvZGl2PicpWzBdOwogICAgICAgICAgICAgICAgcG9wdXBfMWE2MDg2OTlhMTdmNDlmMzljYWRmYjk0NDdkNDhmYTIuc2V0Q29udGVudChodG1sXzdjY2I0YTI1N2NiZDRiNTE4NDNhOTA0MTIyN2M5OWE0KTsKICAgICAgICAgICAgCgogICAgICAgICAgICBjaXJjbGVfbWFya2VyXzFiODhmOTE5ZTRhMDRiNWNiZmRjNmQwOGE0MzdmMjk3LmJpbmRQb3B1cChwb3B1cF8xYTYwODY5OWExN2Y0OWYzOWNhZGZiOTQ0N2Q0OGZhMik7CgogICAgICAgICAgICAKICAgICAgICAKICAgIAogICAgICAgICAgICB2YXIgY2lyY2xlX21hcmtlcl9kZmE5ZWU3YjgwZmM0NTQxODZlNjU5ZWU0MmIzYTZiOSA9IEwuY2lyY2xlTWFya2VyKAogICAgICAgICAgICAgICAgWzUyLjQ4MzMzMjk5OTk5OTk5NSwxMy4yNjY2NjcwMDAwMDAwMDJdLAogICAgICAgICAgICAgICAgewogICJidWJibGluZ01vdXNlRXZlbnRzIjogdHJ1ZSwKICAiY29sb3IiOiAiYmx1ZSIsCiAgImRhc2hBcnJheSI6IG51bGwsCiAgImRhc2hPZmZzZXQiOiBudWxsLAogICJmaWxsIjogdHJ1ZSwKICAiZmlsbENvbG9yIjogIiMzMTg2Y2MiLAogICJmaWxsT3BhY2l0eSI6IDAuNywKICAiZmlsbFJ1bGUiOiAiZXZlbm9kZCIsCiAgImxpbmVDYXAiOiAicm91bmQiLAogICJsaW5lSm9pbiI6ICJyb3VuZCIsCiAgIm9wYWNpdHkiOiAxLjAsCiAgInJhZGl1cyI6IDUsCiAgInN0cm9rZSI6IHRydWUsCiAgIndlaWdodCI6IDMKfQogICAgICAgICAgICAgICAgKS5hZGRUbyhtYXBfN2ZhNWVjNzU4MjhhNDZmYjgwM2M4N2Y5ZTQ2YTkzMjgpOwogICAgICAgICAgICAKICAgIAogICAgICAgICAgICB2YXIgcG9wdXBfZjAyMmQ3OGI3N2NiNDA3Zjk1ZTUyMGI0ZTg5MzIzMjQgPSBMLnBvcHVwKHttYXhXaWR0aDogJzMwMCd9KTsKCiAgICAgICAgICAgIAogICAgICAgICAgICAgICAgdmFyIGh0bWxfMGU4MTU0OWNmY2I2NDNiZDliZjYxZGZjYjk5ZDc3MTYgPSAkKCc8ZGl2IGlkPSJodG1sXzBlODE1NDljZmNiNjQzYmQ5YmY2MWRmY2I5OWQ3NzE2IiBzdHlsZT0id2lkdGg6IDEwMC4wJTsgaGVpZ2h0OiAxMDAuMCU7Ij5HcnVuZXdhbGQ8L2Rpdj4nKVswXTsKICAgICAgICAgICAgICAgIHBvcHVwX2YwMjJkNzhiNzdjYjQwN2Y5NWU1MjBiNGU4OTMyMzI0LnNldENvbnRlbnQoaHRtbF8wZTgxNTQ5Y2ZjYjY0M2JkOWJmNjFkZmNiOTlkNzcxNik7CiAgICAgICAgICAgIAoKICAgICAgICAgICAgY2lyY2xlX21hcmtlcl9kZmE5ZWU3YjgwZmM0NTQxODZlNjU5ZWU0MmIzYTZiOS5iaW5kUG9wdXAocG9wdXBfZjAyMmQ3OGI3N2NiNDA3Zjk1ZTUyMGI0ZTg5MzIzMjQpOwoKICAgICAgICAgICAgCiAgICAgICAgCiAgICAKICAgICAgICAgICAgdmFyIGNpcmNsZV9tYXJrZXJfN2M1NzQ5ZDExNzMyNGEwYjk5NWQwZjE0YzA2YWQ4MTQgPSBMLmNpcmNsZU1hcmtlcigKICAgICAgICAgICAgICAgIFs1Mi41MTY2NjcwMDAwMDAwMDUsMTMuMjgzMzMyOTk5OTk5OTk5XSwKICAgICAgICAgICAgICAgIHsKICAiYnViYmxpbmdNb3VzZUV2ZW50cyI6IHRydWUsCiAgImNvbG9yIjogImJsdWUiLAogICJkYXNoQXJyYXkiOiBudWxsLAogICJkYXNoT2Zmc2V0IjogbnVsbCwKICAiZmlsbCI6IHRydWUsCiAgImZpbGxDb2xvciI6ICIjMzE4NmNjIiwKICAiZmlsbE9wYWNpdHkiOiAwLjcsCiAgImZpbGxSdWxlIjogImV2ZW5vZGQiLAogICJsaW5lQ2FwIjogInJvdW5kIiwKICAibGluZUpvaW4iOiAicm91bmQiLAogICJvcGFjaXR5IjogMS4wLAogICJyYWRpdXMiOiA1LAogICJzdHJva2UiOiB0cnVlLAogICJ3ZWlnaHQiOiAzCn0KICAgICAgICAgICAgICAgICkuYWRkVG8obWFwXzdmYTVlYzc1ODI4YTQ2ZmI4MDNjODdmOWU0NmE5MzI4KTsKICAgICAgICAgICAgCiAgICAKICAgICAgICAgICAgdmFyIHBvcHVwXzM2MTg0ZjBhZmFlNDRiMGFhNDQyMjY4OGE4MmEyMWUxID0gTC5wb3B1cCh7bWF4V2lkdGg6ICczMDAnfSk7CgogICAgICAgICAgICAKICAgICAgICAgICAgICAgIHZhciBodG1sXzg0MDI1MWU2ZTIyOTRmMTU5NjNhMmMyNjNlYTk4MmU1ID0gJCgnPGRpdiBpZD0iaHRtbF84NDAyNTFlNmUyMjk0ZjE1OTYzYTJjMjYzZWE5ODJlNSIgc3R5bGU9IndpZHRoOiAxMDAuMCU7IGhlaWdodDogMTAwLjAlOyI+V2VzdGVuZDwvZGl2PicpWzBdOwogICAgICAgICAgICAgICAgcG9wdXBfMzYxODRmMGFmYWU0NGIwYWE0NDIyNjg4YTgyYTIxZTEuc2V0Q29udGVudChodG1sXzg0MDI1MWU2ZTIyOTRmMTU5NjNhMmMyNjNlYTk4MmU1KTsKICAgICAgICAgICAgCgogICAgICAgICAgICBjaXJjbGVfbWFya2VyXzdjNTc0OWQxMTczMjRhMGI5OTVkMGYxNGMwNmFkODE0LmJpbmRQb3B1cChwb3B1cF8zNjE4NGYwYWZhZTQ0YjBhYTQ0MjI2ODhhODJhMjFlMSk7CgogICAgICAgICAgICAKICAgICAgICAKICAgIAogICAgICAgICAgICB2YXIgY2lyY2xlX21hcmtlcl81OTA0YTFlZmRkZjU0N2I1OTg5YjEzMmM4YmJjMTgzYyA9IEwuY2lyY2xlTWFya2VyKAogICAgICAgICAgICAgICAgWzUyLjUzODg4OTAwMDAwMDAwNSwxMy4yOTMwNTZdLAogICAgICAgICAgICAgICAgewogICJidWJibGluZ01vdXNlRXZlbnRzIjogdHJ1ZSwKICAiY29sb3IiOiAiYmx1ZSIsCiAgImRhc2hBcnJheSI6IG51bGwsCiAgImRhc2hPZmZzZXQiOiBudWxsLAogICJmaWxsIjogdHJ1ZSwKICAiZmlsbENvbG9yIjogIiMzMTg2Y2MiLAogICJmaWxsT3BhY2l0eSI6IDAuNywKICAiZmlsbFJ1bGUiOiAiZXZlbm9kZCIsCiAgImxpbmVDYXAiOiAicm91bmQiLAogICJsaW5lSm9pbiI6ICJyb3VuZCIsCiAgIm9wYWNpdHkiOiAxLjAsCiAgInJhZGl1cyI6IDUsCiAgInN0cm9rZSI6IHRydWUsCiAgIndlaWdodCI6IDMKfQogICAgICAgICAgICAgICAgKS5hZGRUbyhtYXBfN2ZhNWVjNzU4MjhhNDZmYjgwM2M4N2Y5ZTQ2YTkzMjgpOwogICAgICAgICAgICAKICAgIAogICAgICAgICAgICB2YXIgcG9wdXBfM2QwMWVkOGY0NGE2NDA3ZGFjMTkwNjk4YjhkOTJhOGMgPSBMLnBvcHVwKHttYXhXaWR0aDogJzMwMCd9KTsKCiAgICAgICAgICAgIAogICAgICAgICAgICAgICAgdmFyIGh0bWxfZjg0OTViMzNjZDAyNDg2MWJmYmU5MGI3ZjY1ZDgwMTUgPSAkKCc8ZGl2IGlkPSJodG1sX2Y4NDk1YjMzY2QwMjQ4NjFiZmJlOTBiN2Y2NWQ4MDE1IiBzdHlsZT0id2lkdGg6IDEwMC4wJTsgaGVpZ2h0OiAxMDAuMCU7Ij5DaGFybG90dGVuYnVyZy1Ob3JkPC9kaXY+JylbMF07CiAgICAgICAgICAgICAgICBwb3B1cF8zZDAxZWQ4ZjQ0YTY0MDdkYWMxOTA2OThiOGQ5MmE4Yy5zZXRDb250ZW50KGh0bWxfZjg0OTViMzNjZDAyNDg2MWJmYmU5MGI3ZjY1ZDgwMTUpOwogICAgICAgICAgICAKCiAgICAgICAgICAgIGNpcmNsZV9tYXJrZXJfNTkwNGExZWZkZGY1NDdiNTk4OWIxMzJjOGJiYzE4M2MuYmluZFBvcHVwKHBvcHVwXzNkMDFlZDhmNDRhNjQwN2RhYzE5MDY5OGI4ZDkyYThjKTsKCiAgICAgICAgICAgIAogICAgICAgIAogICAgCiAgICAgICAgICAgIHZhciBjaXJjbGVfbWFya2VyXzgxN2Y0ZDVlNTQwMzQwZGU4MmM3MzA3YWZhYzI2YWQ1ID0gTC5jaXJjbGVNYXJrZXIoCiAgICAgICAgICAgICAgICBbNTIuNDk0NzIxOTk5OTk5OTk2LDEzLjI4NTU1Nl0sCiAgICAgICAgICAgICAgICB7CiAgImJ1YmJsaW5nTW91c2VFdmVudHMiOiB0cnVlLAogICJjb2xvciI6ICJibHVlIiwKICAiZGFzaEFycmF5IjogbnVsbCwKICAiZGFzaE9mZnNldCI6IG51bGwsCiAgImZpbGwiOiB0cnVlLAogICJmaWxsQ29sb3IiOiAiIzMxODZjYyIsCiAgImZpbGxPcGFjaXR5IjogMC43LAogICJmaWxsUnVsZSI6ICJldmVub2RkIiwKICAibGluZUNhcCI6ICJyb3VuZCIsCiAgImxpbmVKb2luIjogInJvdW5kIiwKICAib3BhY2l0eSI6IDEuMCwKICAicmFkaXVzIjogNSwKICAic3Ryb2tlIjogdHJ1ZSwKICAid2VpZ2h0IjogMwp9CiAgICAgICAgICAgICAgICApLmFkZFRvKG1hcF83ZmE1ZWM3NTgyOGE0NmZiODAzYzg3ZjllNDZhOTMyOCk7CiAgICAgICAgICAgIAogICAgCiAgICAgICAgICAgIHZhciBwb3B1cF9hNzM2YjBjZjgyZjE0ZGIzOTkxYzIxMDcwOWY3MDE5MCA9IEwucG9wdXAoe21heFdpZHRoOiAnMzAwJ30pOwoKICAgICAgICAgICAgCiAgICAgICAgICAgICAgICB2YXIgaHRtbF85MWRlMTAxMTA3Yzc0YTgyOGMzNmNkMjEzZDczOTMwMCA9ICQoJzxkaXYgaWQ9Imh0bWxfOTFkZTEwMTEwN2M3NGE4MjhjMzZjZDIxM2Q3MzkzMDAiIHN0eWxlPSJ3aWR0aDogMTAwLjAlOyBoZWlnaHQ6IDEwMC4wJTsiPkhhbGVuc2VlPC9kaXY+JylbMF07CiAgICAgICAgICAgICAgICBwb3B1cF9hNzM2YjBjZjgyZjE0ZGIzOTkxYzIxMDcwOWY3MDE5MC5zZXRDb250ZW50KGh0bWxfOTFkZTEwMTEwN2M3NGE4MjhjMzZjZDIxM2Q3MzkzMDApOwogICAgICAgICAgICAKCiAgICAgICAgICAgIGNpcmNsZV9tYXJrZXJfODE3ZjRkNWU1NDAzNDBkZTgyYzczMDdhZmFjMjZhZDUuYmluZFBvcHVwKHBvcHVwX2E3MzZiMGNmODJmMTRkYjM5OTFjMjEwNzA5ZjcwMTkwKTsKCiAgICAgICAgICAgIAogICAgICAgIAogICAgCiAgICAgICAgICAgIHZhciBjaXJjbGVfbWFya2VyX2M5NTljOGU0Zjg0MzQ3ZGU5OGRhNDU1OTJiYTk3YjRiID0gTC5jaXJjbGVNYXJrZXIoCiAgICAgICAgICAgICAgICBbNTIuNTM2MTExLDEzLjIwMzMzMjk5OTk5OTk5OV0sCiAgICAgICAgICAgICAgICB7CiAgImJ1YmJsaW5nTW91c2VFdmVudHMiOiB0cnVlLAogICJjb2xvciI6ICJibHVlIiwKICAiZGFzaEFycmF5IjogbnVsbCwKICAiZGFzaE9mZnNldCI6IG51bGwsCiAgImZpbGwiOiB0cnVlLAogICJmaWxsQ29sb3IiOiAiIzMxODZjYyIsCiAgImZpbGxPcGFjaXR5IjogMC43LAogICJmaWxsUnVsZSI6ICJldmVub2RkIiwKICAibGluZUNhcCI6ICJyb3VuZCIsCiAgImxpbmVKb2luIjogInJvdW5kIiwKICAib3BhY2l0eSI6IDEuMCwKICAicmFkaXVzIjogNSwKICAic3Ryb2tlIjogdHJ1ZSwKICAid2VpZ2h0IjogMwp9CiAgICAgICAgICAgICAgICApLmFkZFRvKG1hcF83ZmE1ZWM3NTgyOGE0NmZiODAzYzg3ZjllNDZhOTMyOCk7CiAgICAgICAgICAgIAogICAgCiAgICAgICAgICAgIHZhciBwb3B1cF9iZDAyMzM1NzgwZmM0NzlhYWE5YmU1YzY0MWEzMjlkZCA9IEwucG9wdXAoe21heFdpZHRoOiAnMzAwJ30pOwoKICAgICAgICAgICAgCiAgICAgICAgICAgICAgICB2YXIgaHRtbF82N2E3YWI2ODc3MTI0ZTdmYmYzYzJjYTMwMGZhN2JhNiA9ICQoJzxkaXYgaWQ9Imh0bWxfNjdhN2FiNjg3NzEyNGU3ZmJmM2MyY2EzMDBmYTdiYTYiIHN0eWxlPSJ3aWR0aDogMTAwLjAlOyBoZWlnaHQ6IDEwMC4wJTsiPlNwYW5kYXU8L2Rpdj4nKVswXTsKICAgICAgICAgICAgICAgIHBvcHVwX2JkMDIzMzU3ODBmYzQ3OWFhYTliZTVjNjQxYTMyOWRkLnNldENvbnRlbnQoaHRtbF82N2E3YWI2ODc3MTI0ZTdmYmYzYzJjYTMwMGZhN2JhNik7CiAgICAgICAgICAgIAoKICAgICAgICAgICAgY2lyY2xlX21hcmtlcl9jOTU5YzhlNGY4NDM0N2RlOThkYTQ1NTkyYmE5N2I0Yi5iaW5kUG9wdXAocG9wdXBfYmQwMjMzNTc4MGZjNDc5YWFhOWJlNWM2NDFhMzI5ZGQpOwoKICAgICAgICAgICAgCiAgICAgICAgCiAgICAKICAgICAgICAgICAgdmFyIGNpcmNsZV9tYXJrZXJfY2I0ZmUzNGVhNWI1NDExZTlhZTM5MWYzMmQ1OWMxNmYgPSBMLmNpcmNsZU1hcmtlcigKICAgICAgICAgICAgICAgIFs1Mi41NDI3NzgwMDAwMDAwMDYsMTMuMjM5NzIyXSwKICAgICAgICAgICAgICAgIHsKICAiYnViYmxpbmdNb3VzZUV2ZW50cyI6IHRydWUsCiAgImNvbG9yIjogImJsdWUiLAogICJkYXNoQXJyYXkiOiBudWxsLAogICJkYXNoT2Zmc2V0IjogbnVsbCwKICAiZmlsbCI6IHRydWUsCiAgImZpbGxDb2xvciI6ICIjMzE4NmNjIiwKICAiZmlsbE9wYWNpdHkiOiAwLjcsCiAgImZpbGxSdWxlIjogImV2ZW5vZGQiLAogICJsaW5lQ2FwIjogInJvdW5kIiwKICAibGluZUpvaW4iOiAicm91bmQiLAogICJvcGFjaXR5IjogMS4wLAogICJyYWRpdXMiOiA1LAogICJzdHJva2UiOiB0cnVlLAogICJ3ZWlnaHQiOiAzCn0KICAgICAgICAgICAgICAgICkuYWRkVG8obWFwXzdmYTVlYzc1ODI4YTQ2ZmI4MDNjODdmOWU0NmE5MzI4KTsKICAgICAgICAgICAgCiAgICAKICAgICAgICAgICAgdmFyIHBvcHVwXzY0Y2EwZWIyMzc5YTQwOTk4MDkyMjAzYjEwMjMyNmM2ID0gTC5wb3B1cCh7bWF4V2lkdGg6ICczMDAnfSk7CgogICAgICAgICAgICAKICAgICAgICAgICAgICAgIHZhciBodG1sXzYwOGIzNzM4NDA0ZjRkYjRiZGIxMDA0NWMzZTVlNzAyID0gJCgnPGRpdiBpZD0iaHRtbF82MDhiMzczODQwNGY0ZGI0YmRiMTAwNDVjM2U1ZTcwMiIgc3R5bGU9IndpZHRoOiAxMDAuMCU7IGhlaWdodDogMTAwLjAlOyI+SGFzZWxob3JzdDwvZGl2PicpWzBdOwogICAgICAgICAgICAgICAgcG9wdXBfNjRjYTBlYjIzNzlhNDA5OTgwOTIyMDNiMTAyMzI2YzYuc2V0Q29udGVudChodG1sXzYwOGIzNzM4NDA0ZjRkYjRiZGIxMDA0NWMzZTVlNzAyKTsKICAgICAgICAgICAgCgogICAgICAgICAgICBjaXJjbGVfbWFya2VyX2NiNGZlMzRlYTViNTQxMWU5YWUzOTFmMzJkNTljMTZmLmJpbmRQb3B1cChwb3B1cF82NGNhMGViMjM3OWE0MDk5ODA5MjIwM2IxMDIzMjZjNik7CgogICAgICAgICAgICAKICAgICAgICAKICAgIAogICAgICAgICAgICB2YXIgY2lyY2xlX21hcmtlcl9jNTBiZTI0YzU0ZWM0NjYyYWYwOWQwYTFkNzkzYzQ1ZiA9IEwuY2lyY2xlTWFya2VyKAogICAgICAgICAgICAgICAgWzUyLjU0MDU1NiwxMy4yNjMwNTZdLAogICAgICAgICAgICAgICAgewogICJidWJibGluZ01vdXNlRXZlbnRzIjogdHJ1ZSwKICAiY29sb3IiOiAiYmx1ZSIsCiAgImRhc2hBcnJheSI6IG51bGwsCiAgImRhc2hPZmZzZXQiOiBudWxsLAogICJmaWxsIjogdHJ1ZSwKICAiZmlsbENvbG9yIjogIiMzMTg2Y2MiLAogICJmaWxsT3BhY2l0eSI6IDAuNywKICAiZmlsbFJ1bGUiOiAiZXZlbm9kZCIsCiAgImxpbmVDYXAiOiAicm91bmQiLAogICJsaW5lSm9pbiI6ICJyb3VuZCIsCiAgIm9wYWNpdHkiOiAxLjAsCiAgInJhZGl1cyI6IDUsCiAgInN0cm9rZSI6IHRydWUsCiAgIndlaWdodCI6IDMKfQogICAgICAgICAgICAgICAgKS5hZGRUbyhtYXBfN2ZhNWVjNzU4MjhhNDZmYjgwM2M4N2Y5ZTQ2YTkzMjgpOwogICAgICAgICAgICAKICAgIAogICAgICAgICAgICB2YXIgcG9wdXBfYTFkNzY3YWQ2YjdlNGJhOGE1MWI3MWY2NTdkZWIyZTcgPSBMLnBvcHVwKHttYXhXaWR0aDogJzMwMCd9KTsKCiAgICAgICAgICAgIAogICAgICAgICAgICAgICAgdmFyIGh0bWxfYWYyYWEzZThmODkwNDExZWI1M2Q3MGUyNDU0MjFkN2QgPSAkKCc8ZGl2IGlkPSJodG1sX2FmMmFhM2U4Zjg5MDQxMWViNTNkNzBlMjQ1NDIxZDdkIiBzdHlsZT0id2lkdGg6IDEwMC4wJTsgaGVpZ2h0OiAxMDAuMCU7Ij5TaWVtZW5zc3RhZHQ8L2Rpdj4nKVswXTsKICAgICAgICAgICAgICAgIHBvcHVwX2ExZDc2N2FkNmI3ZTRiYThhNTFiNzFmNjU3ZGViMmU3LnNldENvbnRlbnQoaHRtbF9hZjJhYTNlOGY4OTA0MTFlYjUzZDcwZTI0NTQyMWQ3ZCk7CiAgICAgICAgICAgIAoKICAgICAgICAgICAgY2lyY2xlX21hcmtlcl9jNTBiZTI0YzU0ZWM0NjYyYWYwOWQwYTFkNzkzYzQ1Zi5iaW5kUG9wdXAocG9wdXBfYTFkNzY3YWQ2YjdlNGJhOGE1MWI3MWY2NTdkZWIyZTcpOwoKICAgICAgICAgICAgCiAgICAgICAgCiAgICAKICAgICAgICAgICAgdmFyIGNpcmNsZV9tYXJrZXJfMzNhZmY2ZDNlMTA2NDllMDkzZjEyNGZlOGYyYjdmMzIgPSBMLmNpcmNsZU1hcmtlcigKICAgICAgICAgICAgICAgIFs1Mi41MzI1LDEzLjE0MTM4OTAwMDAwMDAwMl0sCiAgICAgICAgICAgICAgICB7CiAgImJ1YmJsaW5nTW91c2VFdmVudHMiOiB0cnVlLAogICJjb2xvciI6ICJibHVlIiwKICAiZGFzaEFycmF5IjogbnVsbCwKICAiZGFzaE9mZnNldCI6IG51bGwsCiAgImZpbGwiOiB0cnVlLAogICJmaWxsQ29sb3IiOiAiIzMxODZjYyIsCiAgImZpbGxPcGFjaXR5IjogMC43LAogICJmaWxsUnVsZSI6ICJldmVub2RkIiwKICAibGluZUNhcCI6ICJyb3VuZCIsCiAgImxpbmVKb2luIjogInJvdW5kIiwKICAib3BhY2l0eSI6IDEuMCwKICAicmFkaXVzIjogNSwKICAic3Ryb2tlIjogdHJ1ZSwKICAid2VpZ2h0IjogMwp9CiAgICAgICAgICAgICAgICApLmFkZFRvKG1hcF83ZmE1ZWM3NTgyOGE0NmZiODAzYzg3ZjllNDZhOTMyOCk7CiAgICAgICAgICAgIAogICAgCiAgICAgICAgICAgIHZhciBwb3B1cF80MmQ1YWNkZjFiYmI0YjgxYjIyYjZiZGM2NTUyY2M2NCA9IEwucG9wdXAoe21heFdpZHRoOiAnMzAwJ30pOwoKICAgICAgICAgICAgCiAgICAgICAgICAgICAgICB2YXIgaHRtbF82ZDc1YmQxN2IzZjY0YTA0ODI5MGU3MDEwNWY0YThjNiA9ICQoJzxkaXYgaWQ9Imh0bWxfNmQ3NWJkMTdiM2Y2NGEwNDgyOTBlNzAxMDVmNGE4YzYiIHN0eWxlPSJ3aWR0aDogMTAwLjAlOyBoZWlnaHQ6IDEwMC4wJTsiPlN0YWFrZW48L2Rpdj4nKVswXTsKICAgICAgICAgICAgICAgIHBvcHVwXzQyZDVhY2RmMWJiYjRiODFiMjJiNmJkYzY1NTJjYzY0LnNldENvbnRlbnQoaHRtbF82ZDc1YmQxN2IzZjY0YTA0ODI5MGU3MDEwNWY0YThjNik7CiAgICAgICAgICAgIAoKICAgICAgICAgICAgY2lyY2xlX21hcmtlcl8zM2FmZjZkM2UxMDY0OWUwOTNmMTI0ZmU4ZjJiN2YzMi5iaW5kUG9wdXAocG9wdXBfNDJkNWFjZGYxYmJiNGI4MWIyMmI2YmRjNjU1MmNjNjQpOwoKICAgICAgICAgICAgCiAgICAgICAgCiAgICAKICAgICAgICAgICAgdmFyIGNpcmNsZV9tYXJrZXJfZmM0OTEzM2Y4N2NiNDRiNmFmMDQ3OWFmY2YzZjg2NmUgPSBMLmNpcmNsZU1hcmtlcigKICAgICAgICAgICAgICAgIFs1Mi40ODg4ODksMTMuMTgxNjY3MDAwMDAwMDAxXSwKICAgICAgICAgICAgICAgIHsKICAiYnViYmxpbmdNb3VzZUV2ZW50cyI6IHRydWUsCiAgImNvbG9yIjogImJsdWUiLAogICJkYXNoQXJyYXkiOiBudWxsLAogICJkYXNoT2Zmc2V0IjogbnVsbCwKICAiZmlsbCI6IHRydWUsCiAgImZpbGxDb2xvciI6ICIjMzE4NmNjIiwKICAiZmlsbE9wYWNpdHkiOiAwLjcsCiAgImZpbGxSdWxlIjogImV2ZW5vZGQiLAogICJsaW5lQ2FwIjogInJvdW5kIiwKICAibGluZUpvaW4iOiAicm91bmQiLAogICJvcGFjaXR5IjogMS4wLAogICJyYWRpdXMiOiA1LAogICJzdHJva2UiOiB0cnVlLAogICJ3ZWlnaHQiOiAzCn0KICAgICAgICAgICAgICAgICkuYWRkVG8obWFwXzdmYTVlYzc1ODI4YTQ2ZmI4MDNjODdmOWU0NmE5MzI4KTsKICAgICAgICAgICAgCiAgICAKICAgICAgICAgICAgdmFyIHBvcHVwX2IxN2RhYzc3NjUxMjRhMGZiOTMxMjFkMTE4ODk0YjJjID0gTC5wb3B1cCh7bWF4V2lkdGg6ICczMDAnfSk7CgogICAgICAgICAgICAKICAgICAgICAgICAgICAgIHZhciBodG1sXzkxZTNiNTkzYzY4YjRmYmQ4ZTkyNGExODc1MjRiOGM3ID0gJCgnPGRpdiBpZD0iaHRtbF85MWUzYjU5M2M2OGI0ZmJkOGU5MjRhMTg3NTI0YjhjNyIgc3R5bGU9IndpZHRoOiAxMDAuMCU7IGhlaWdodDogMTAwLjAlOyI+R2F0b3c8L2Rpdj4nKVswXTsKICAgICAgICAgICAgICAgIHBvcHVwX2IxN2RhYzc3NjUxMjRhMGZiOTMxMjFkMTE4ODk0YjJjLnNldENvbnRlbnQoaHRtbF85MWUzYjU5M2M2OGI0ZmJkOGU5MjRhMTg3NTI0YjhjNyk7CiAgICAgICAgICAgIAoKICAgICAgICAgICAgY2lyY2xlX21hcmtlcl9mYzQ5MTMzZjg3Y2I0NGI2YWYwNDc5YWZjZjNmODY2ZS5iaW5kUG9wdXAocG9wdXBfYjE3ZGFjNzc2NTEyNGEwZmI5MzEyMWQxMTg4OTRiMmMpOwoKICAgICAgICAgICAgCiAgICAgICAgCiAgICAKICAgICAgICAgICAgdmFyIGNpcmNsZV9tYXJrZXJfNjU4MmYzMmE4OWRiNDI5MmExYzU4ZTY2MzYwMWMyMzIgPSBMLmNpcmNsZU1hcmtlcigKICAgICAgICAgICAgICAgIFs1Mi40NTMwNTYwMDAwMDAwMDQsMTMuMTQyNzc4XSwKICAgICAgICAgICAgICAgIHsKICAiYnViYmxpbmdNb3VzZUV2ZW50cyI6IHRydWUsCiAgImNvbG9yIjogImJsdWUiLAogICJkYXNoQXJyYXkiOiBudWxsLAogICJkYXNoT2Zmc2V0IjogbnVsbCwKICAiZmlsbCI6IHRydWUsCiAgImZpbGxDb2xvciI6ICIjMzE4NmNjIiwKICAiZmlsbE9wYWNpdHkiOiAwLjcsCiAgImZpbGxSdWxlIjogImV2ZW5vZGQiLAogICJsaW5lQ2FwIjogInJvdW5kIiwKICAibGluZUpvaW4iOiAicm91bmQiLAogICJvcGFjaXR5IjogMS4wLAogICJyYWRpdXMiOiA1LAogICJzdHJva2UiOiB0cnVlLAogICJ3ZWlnaHQiOiAzCn0KICAgICAgICAgICAgICAgICkuYWRkVG8obWFwXzdmYTVlYzc1ODI4YTQ2ZmI4MDNjODdmOWU0NmE5MzI4KTsKICAgICAgICAgICAgCiAgICAKICAgICAgICAgICAgdmFyIHBvcHVwXzVkYzJjYTdlNDUzYzRhMWZiNWZkM2IxZTY0ZTI3OTUyID0gTC5wb3B1cCh7bWF4V2lkdGg6ICczMDAnfSk7CgogICAgICAgICAgICAKICAgICAgICAgICAgICAgIHZhciBodG1sXzVjMGE5NjA5ZDk0NTQ5Nzg4MjY4NmMwYmEzYjQ4NTYyID0gJCgnPGRpdiBpZD0iaHRtbF81YzBhOTYwOWQ5NDU0OTc4ODI2ODZjMGJhM2I0ODU2MiIgc3R5bGU9IndpZHRoOiAxMDAuMCU7IGhlaWdodDogMTAwLjAlOyI+S2xhZG93PC9kaXY+JylbMF07CiAgICAgICAgICAgICAgICBwb3B1cF81ZGMyY2E3ZTQ1M2M0YTFmYjVmZDNiMWU2NGUyNzk1Mi5zZXRDb250ZW50KGh0bWxfNWMwYTk2MDlkOTQ1NDk3ODgyNjg2YzBiYTNiNDg1NjIpOwogICAgICAgICAgICAKCiAgICAgICAgICAgIGNpcmNsZV9tYXJrZXJfNjU4MmYzMmE4OWRiNDI5MmExYzU4ZTY2MzYwMWMyMzIuYmluZFBvcHVwKHBvcHVwXzVkYzJjYTdlNDUzYzRhMWZiNWZkM2IxZTY0ZTI3OTUyKTsKCiAgICAgICAgICAgIAogICAgICAgIAogICAgCiAgICAgICAgICAgIHZhciBjaXJjbGVfbWFya2VyXzFlYzRkZTFmNWQyMjQ1YjZiNjk1MGJhZjk0YWZhNzVmID0gTC5jaXJjbGVNYXJrZXIoCiAgICAgICAgICAgICAgICBbNTIuNTc3Nzc4LDEzLjE4MDgzMjk5OTk5OTk5OF0sCiAgICAgICAgICAgICAgICB7CiAgImJ1YmJsaW5nTW91c2VFdmVudHMiOiB0cnVlLAogICJjb2xvciI6ICJibHVlIiwKICAiZGFzaEFycmF5IjogbnVsbCwKICAiZGFzaE9mZnNldCI6IG51bGwsCiAgImZpbGwiOiB0cnVlLAogICJmaWxsQ29sb3IiOiAiIzMxODZjYyIsCiAgImZpbGxPcGFjaXR5IjogMC43LAogICJmaWxsUnVsZSI6ICJldmVub2RkIiwKICAibGluZUNhcCI6ICJyb3VuZCIsCiAgImxpbmVKb2luIjogInJvdW5kIiwKICAib3BhY2l0eSI6IDEuMCwKICAicmFkaXVzIjogNSwKICAic3Ryb2tlIjogdHJ1ZSwKICAid2VpZ2h0IjogMwp9CiAgICAgICAgICAgICAgICApLmFkZFRvKG1hcF83ZmE1ZWM3NTgyOGE0NmZiODAzYzg3ZjllNDZhOTMyOCk7CiAgICAgICAgICAgIAogICAgCiAgICAgICAgICAgIHZhciBwb3B1cF80YTQ4ZjQzMjc4MmM0MTFkOWE2YmIxYjNlN2I4ZDU3NyA9IEwucG9wdXAoe21heFdpZHRoOiAnMzAwJ30pOwoKICAgICAgICAgICAgCiAgICAgICAgICAgICAgICB2YXIgaHRtbF8xNjdhMDM1NjRlOTc0NjZmYTRjMjZhZDQ1NDQxOWE4MCA9ICQoJzxkaXYgaWQ9Imh0bWxfMTY3YTAzNTY0ZTk3NDY2ZmE0YzI2YWQ0NTQ0MTlhODAiIHN0eWxlPSJ3aWR0aDogMTAwLjAlOyBoZWlnaHQ6IDEwMC4wJTsiPkhha2VuZmVsZGU8L2Rpdj4nKVswXTsKICAgICAgICAgICAgICAgIHBvcHVwXzRhNDhmNDMyNzgyYzQxMWQ5YTZiYjFiM2U3YjhkNTc3LnNldENvbnRlbnQoaHRtbF8xNjdhMDM1NjRlOTc0NjZmYTRjMjZhZDQ1NDQxOWE4MCk7CiAgICAgICAgICAgIAoKICAgICAgICAgICAgY2lyY2xlX21hcmtlcl8xZWM0ZGUxZjVkMjI0NWI2YjY5NTBiYWY5NGFmYTc1Zi5iaW5kUG9wdXAocG9wdXBfNGE0OGY0MzI3ODJjNDExZDlhNmJiMWIzZTdiOGQ1NzcpOwoKICAgICAgICAgICAgCiAgICAgICAgCiAgICAKICAgICAgICAgICAgdmFyIGNpcmNsZV9tYXJrZXJfZjFjZDhjMWJiZDgzNGUwZTkxMGU3Y2ZkY2E5ZWQxOTcgPSBMLmNpcmNsZU1hcmtlcigKICAgICAgICAgICAgICAgIFs1Mi41NDY5NDM5OTk5OTk5OTYsMTMuMTc3Nzc4XSwKICAgICAgICAgICAgICAgIHsKICAiYnViYmxpbmdNb3VzZUV2ZW50cyI6IHRydWUsCiAgImNvbG9yIjogImJsdWUiLAogICJkYXNoQXJyYXkiOiBudWxsLAogICJkYXNoT2Zmc2V0IjogbnVsbCwKICAiZmlsbCI6IHRydWUsCiAgImZpbGxDb2xvciI6ICIjMzE4NmNjIiwKICAiZmlsbE9wYWNpdHkiOiAwLjcsCiAgImZpbGxSdWxlIjogImV2ZW5vZGQiLAogICJsaW5lQ2FwIjogInJvdW5kIiwKICAibGluZUpvaW4iOiAicm91bmQiLAogICJvcGFjaXR5IjogMS4wLAogICJyYWRpdXMiOiA1LAogICJzdHJva2UiOiB0cnVlLAogICJ3ZWlnaHQiOiAzCn0KICAgICAgICAgICAgICAgICkuYWRkVG8obWFwXzdmYTVlYzc1ODI4YTQ2ZmI4MDNjODdmOWU0NmE5MzI4KTsKICAgICAgICAgICAgCiAgICAKICAgICAgICAgICAgdmFyIHBvcHVwX2YyODRiMTIxMDJiNzQyZTRhYTQ0MTkwNzQxOGYzOGU4ID0gTC5wb3B1cCh7bWF4V2lkdGg6ICczMDAnfSk7CgogICAgICAgICAgICAKICAgICAgICAgICAgICAgIHZhciBodG1sXzE1NDFhNDFmMGVhNzQxZTRhNmUwODdhYmY1YjhmOTRiID0gJCgnPGRpdiBpZD0iaHRtbF8xNTQxYTQxZjBlYTc0MWU0YTZlMDg3YWJmNWI4Zjk0YiIgc3R5bGU9IndpZHRoOiAxMDAuMCU7IGhlaWdodDogMTAwLjAlOyI+RmFsa2VuaGFnZW5lciBGZWxkPC9kaXY+JylbMF07CiAgICAgICAgICAgICAgICBwb3B1cF9mMjg0YjEyMTAyYjc0MmU0YWE0NDE5MDc0MThmMzhlOC5zZXRDb250ZW50KGh0bWxfMTU0MWE0MWYwZWE3NDFlNGE2ZTA4N2FiZjViOGY5NGIpOwogICAgICAgICAgICAKCiAgICAgICAgICAgIGNpcmNsZV9tYXJrZXJfZjFjZDhjMWJiZDgzNGUwZTkxMGU3Y2ZkY2E5ZWQxOTcuYmluZFBvcHVwKHBvcHVwX2YyODRiMTIxMDJiNzQyZTRhYTQ0MTkwNzQxOGYzOGU4KTsKCiAgICAgICAgICAgIAogICAgICAgIAogICAgCiAgICAgICAgICAgIHZhciBjaXJjbGVfbWFya2VyX2NhMGM5YzBkNTQ2MTRhNGZhMGViM2U5MDQ2MmZjYmU2ID0gTC5jaXJjbGVNYXJrZXIoCiAgICAgICAgICAgICAgICBbNTIuNTI1NTU2MDAwMDAwMDEsMTMuMTc2MTEwOTk5OTk5OTk5XSwKICAgICAgICAgICAgICAgIHsKICAiYnViYmxpbmdNb3VzZUV2ZW50cyI6IHRydWUsCiAgImNvbG9yIjogImJsdWUiLAogICJkYXNoQXJyYXkiOiBudWxsLAogICJkYXNoT2Zmc2V0IjogbnVsbCwKICAiZmlsbCI6IHRydWUsCiAgImZpbGxDb2xvciI6ICIjMzE4NmNjIiwKICAiZmlsbE9wYWNpdHkiOiAwLjcsCiAgImZpbGxSdWxlIjogImV2ZW5vZGQiLAogICJsaW5lQ2FwIjogInJvdW5kIiwKICAibGluZUpvaW4iOiAicm91bmQiLAogICJvcGFjaXR5IjogMS4wLAogICJyYWRpdXMiOiA1LAogICJzdHJva2UiOiB0cnVlLAogICJ3ZWlnaHQiOiAzCn0KICAgICAgICAgICAgICAgICkuYWRkVG8obWFwXzdmYTVlYzc1ODI4YTQ2ZmI4MDNjODdmOWU0NmE5MzI4KTsKICAgICAgICAgICAgCiAgICAKICAgICAgICAgICAgdmFyIHBvcHVwXzllYjUzYmZlZDg1OTQ0ZjY5MWU5NjRiOTRlZGMzMjJkID0gTC5wb3B1cCh7bWF4V2lkdGg6ICczMDAnfSk7CgogICAgICAgICAgICAKICAgICAgICAgICAgICAgIHZhciBodG1sXzEwM2EzMTdhYzFlYjQ4YTg4OTE1ZTVhY2YzYzhiNzIzID0gJCgnPGRpdiBpZD0iaHRtbF8xMDNhMzE3YWMxZWI0OGE4ODkxNWU1YWNmM2M4YjcyMyIgc3R5bGU9IndpZHRoOiAxMDAuMCU7IGhlaWdodDogMTAwLjAlOyI+V2lsaGVsbXN0YWR0PC9kaXY+JylbMF07CiAgICAgICAgICAgICAgICBwb3B1cF85ZWI1M2JmZWQ4NTk0NGY2OTFlOTY0Yjk0ZWRjMzIyZC5zZXRDb250ZW50KGh0bWxfMTAzYTMxN2FjMWViNDhhODg5MTVlNWFjZjNjOGI3MjMpOwogICAgICAgICAgICAKCiAgICAgICAgICAgIGNpcmNsZV9tYXJrZXJfY2EwYzljMGQ1NDYxNGE0ZmEwZWIzZTkwNDYyZmNiZTYuYmluZFBvcHVwKHBvcHVwXzllYjUzYmZlZDg1OTQ0ZjY5MWU5NjRiOTRlZGMzMjJkKTsKCiAgICAgICAgICAgIAogICAgICAgIAogICAgCiAgICAgICAgICAgIHZhciBjaXJjbGVfbWFya2VyX2U1ODgwM2Y3N2M1MDQxNDk4MTg3ZGVhOWFiZjUxZmVlID0gTC5jaXJjbGVNYXJrZXIoCiAgICAgICAgICAgICAgICBbNTIuNDY2NjY3LDEzLjMzMzMzMjk5OTk5OTk5OF0sCiAgICAgICAgICAgICAgICB7CiAgImJ1YmJsaW5nTW91c2VFdmVudHMiOiB0cnVlLAogICJjb2xvciI6ICJibHVlIiwKICAiZGFzaEFycmF5IjogbnVsbCwKICAiZGFzaE9mZnNldCI6IG51bGwsCiAgImZpbGwiOiB0cnVlLAogICJmaWxsQ29sb3IiOiAiIzMxODZjYyIsCiAgImZpbGxPcGFjaXR5IjogMC43LAogICJmaWxsUnVsZSI6ICJldmVub2RkIiwKICAibGluZUNhcCI6ICJyb3VuZCIsCiAgImxpbmVKb2luIjogInJvdW5kIiwKICAib3BhY2l0eSI6IDEuMCwKICAicmFkaXVzIjogNSwKICAic3Ryb2tlIjogdHJ1ZSwKICAid2VpZ2h0IjogMwp9CiAgICAgICAgICAgICAgICApLmFkZFRvKG1hcF83ZmE1ZWM3NTgyOGE0NmZiODAzYzg3ZjllNDZhOTMyOCk7CiAgICAgICAgICAgIAogICAgCiAgICAgICAgICAgIHZhciBwb3B1cF80M2Q2ZDI4MDE1Zjk0MDg2OWMzZDM4ODlmOTZkZTljMyA9IEwucG9wdXAoe21heFdpZHRoOiAnMzAwJ30pOwoKICAgICAgICAgICAgCiAgICAgICAgICAgICAgICB2YXIgaHRtbF8zYjk3ZWNkZjRlMTA0NDhjYmJlZjAzNzU1ODA0YmIxOSA9ICQoJzxkaXYgaWQ9Imh0bWxfM2I5N2VjZGY0ZTEwNDQ4Y2JiZWYwMzc1NTgwNGJiMTkiIHN0eWxlPSJ3aWR0aDogMTAwLjAlOyBoZWlnaHQ6IDEwMC4wJTsiPlN0ZWdsaXR6PC9kaXY+JylbMF07CiAgICAgICAgICAgICAgICBwb3B1cF80M2Q2ZDI4MDE1Zjk0MDg2OWMzZDM4ODlmOTZkZTljMy5zZXRDb250ZW50KGh0bWxfM2I5N2VjZGY0ZTEwNDQ4Y2JiZWYwMzc1NTgwNGJiMTkpOwogICAgICAgICAgICAKCiAgICAgICAgICAgIGNpcmNsZV9tYXJrZXJfZTU4ODAzZjc3YzUwNDE0OTgxODdkZWE5YWJmNTFmZWUuYmluZFBvcHVwKHBvcHVwXzQzZDZkMjgwMTVmOTQwODY5YzNkMzg4OWY5NmRlOWMzKTsKCiAgICAgICAgICAgIAogICAgICAgIAogICAgCiAgICAgICAgICAgIHZhciBjaXJjbGVfbWFya2VyXzczNTQ3NGFiZmMyOTQ5NDRiYTE2YjIzMTk0MTdiZDBhID0gTC5jaXJjbGVNYXJrZXIoCiAgICAgICAgICAgICAgICBbNTIuNDMzMzMzLDEzLjMxNjY2N10sCiAgICAgICAgICAgICAgICB7CiAgImJ1YmJsaW5nTW91c2VFdmVudHMiOiB0cnVlLAogICJjb2xvciI6ICJibHVlIiwKICAiZGFzaEFycmF5IjogbnVsbCwKICAiZGFzaE9mZnNldCI6IG51bGwsCiAgImZpbGwiOiB0cnVlLAogICJmaWxsQ29sb3IiOiAiIzMxODZjYyIsCiAgImZpbGxPcGFjaXR5IjogMC43LAogICJmaWxsUnVsZSI6ICJldmVub2RkIiwKICAibGluZUNhcCI6ICJyb3VuZCIsCiAgImxpbmVKb2luIjogInJvdW5kIiwKICAib3BhY2l0eSI6IDEuMCwKICAicmFkaXVzIjogNSwKICAic3Ryb2tlIjogdHJ1ZSwKICAid2VpZ2h0IjogMwp9CiAgICAgICAgICAgICAgICApLmFkZFRvKG1hcF83ZmE1ZWM3NTgyOGE0NmZiODAzYzg3ZjllNDZhOTMyOCk7CiAgICAgICAgICAgIAogICAgCiAgICAgICAgICAgIHZhciBwb3B1cF8xNmRhNWUwNTdjYmQ0ODIzYjcwNzNkNTliN2YxMmI4OSA9IEwucG9wdXAoe21heFdpZHRoOiAnMzAwJ30pOwoKICAgICAgICAgICAgCiAgICAgICAgICAgICAgICB2YXIgaHRtbF8yNTg4YTQwODU5MDY0MTEyOWFhZmY4NzAyMjU5YWY1MiA9ICQoJzxkaXYgaWQ9Imh0bWxfMjU4OGE0MDg1OTA2NDExMjlhYWZmODcwMjI1OWFmNTIiIHN0eWxlPSJ3aWR0aDogMTAwLjAlOyBoZWlnaHQ6IDEwMC4wJTsiPkxpY2h0ZXJmZWxkZTwvZGl2PicpWzBdOwogICAgICAgICAgICAgICAgcG9wdXBfMTZkYTVlMDU3Y2JkNDgyM2I3MDczZDU5YjdmMTJiODkuc2V0Q29udGVudChodG1sXzI1ODhhNDA4NTkwNjQxMTI5YWFmZjg3MDIyNTlhZjUyKTsKICAgICAgICAgICAgCgogICAgICAgICAgICBjaXJjbGVfbWFya2VyXzczNTQ3NGFiZmMyOTQ5NDRiYTE2YjIzMTk0MTdiZDBhLmJpbmRQb3B1cChwb3B1cF8xNmRhNWUwNTdjYmQ0ODIzYjcwNzNkNTliN2YxMmI4OSk7CgogICAgICAgICAgICAKICAgICAgICAKICAgIAogICAgICAgICAgICB2YXIgY2lyY2xlX21hcmtlcl84ZDZmOTc3NDAxYmM0MmFlYjU1ZDE4YThiNTk0MDg1ZCA9IEwuY2lyY2xlTWFya2VyKAogICAgICAgICAgICAgICAgWzUyLjQzMzMzMywxMy4zNV0sCiAgICAgICAgICAgICAgICB7CiAgImJ1YmJsaW5nTW91c2VFdmVudHMiOiB0cnVlLAogICJjb2xvciI6ICJibHVlIiwKICAiZGFzaEFycmF5IjogbnVsbCwKICAiZGFzaE9mZnNldCI6IG51bGwsCiAgImZpbGwiOiB0cnVlLAogICJmaWxsQ29sb3IiOiAiIzMxODZjYyIsCiAgImZpbGxPcGFjaXR5IjogMC43LAogICJmaWxsUnVsZSI6ICJldmVub2RkIiwKICAibGluZUNhcCI6ICJyb3VuZCIsCiAgImxpbmVKb2luIjogInJvdW5kIiwKICAib3BhY2l0eSI6IDEuMCwKICAicmFkaXVzIjogNSwKICAic3Ryb2tlIjogdHJ1ZSwKICAid2VpZ2h0IjogMwp9CiAgICAgICAgICAgICAgICApLmFkZFRvKG1hcF83ZmE1ZWM3NTgyOGE0NmZiODAzYzg3ZjllNDZhOTMyOCk7CiAgICAgICAgICAgIAogICAgCiAgICAgICAgICAgIHZhciBwb3B1cF81YjJhN2Q2ODJhNGY0MTUzYjNjYzg5ZDRhZWY2NmY2YyA9IEwucG9wdXAoe21heFdpZHRoOiAnMzAwJ30pOwoKICAgICAgICAgICAgCiAgICAgICAgICAgICAgICB2YXIgaHRtbF8yZTllNDdjYzg3NmM0ZDZlOTg0NTg4ZTFhMWI0MzhhNiA9ICQoJzxkaXYgaWQ9Imh0bWxfMmU5ZTQ3Y2M4NzZjNGQ2ZTk4NDU4OGUxYTFiNDM4YTYiIHN0eWxlPSJ3aWR0aDogMTAwLjAlOyBoZWlnaHQ6IDEwMC4wJTsiPkxhbmt3aXR6PC9kaXY+JylbMF07CiAgICAgICAgICAgICAgICBwb3B1cF81YjJhN2Q2ODJhNGY0MTUzYjNjYzg5ZDRhZWY2NmY2Yy5zZXRDb250ZW50KGh0bWxfMmU5ZTQ3Y2M4NzZjNGQ2ZTk4NDU4OGUxYTFiNDM4YTYpOwogICAgICAgICAgICAKCiAgICAgICAgICAgIGNpcmNsZV9tYXJrZXJfOGQ2Zjk3NzQwMWJjNDJhZWI1NWQxOGE4YjU5NDA4NWQuYmluZFBvcHVwKHBvcHVwXzViMmE3ZDY4MmE0ZjQxNTNiM2NjODlkNGFlZjY2ZjZjKTsKCiAgICAgICAgICAgIAogICAgICAgIAogICAgCiAgICAgICAgICAgIHZhciBjaXJjbGVfbWFya2VyXzQwNmZmOWY2MWVhNjQyNDM4M2U1MGMyNDJmZjdkM2UxID0gTC5jaXJjbGVNYXJrZXIoCiAgICAgICAgICAgICAgICBbNTIuNDMzMzMzLDEzLjJdLAogICAgICAgICAgICAgICAgewogICJidWJibGluZ01vdXNlRXZlbnRzIjogdHJ1ZSwKICAiY29sb3IiOiAiYmx1ZSIsCiAgImRhc2hBcnJheSI6IG51bGwsCiAgImRhc2hPZmZzZXQiOiBudWxsLAogICJmaWxsIjogdHJ1ZSwKICAiZmlsbENvbG9yIjogIiMzMTg2Y2MiLAogICJmaWxsT3BhY2l0eSI6IDAuNywKICAiZmlsbFJ1bGUiOiAiZXZlbm9kZCIsCiAgImxpbmVDYXAiOiAicm91bmQiLAogICJsaW5lSm9pbiI6ICJyb3VuZCIsCiAgIm9wYWNpdHkiOiAxLjAsCiAgInJhZGl1cyI6IDUsCiAgInN0cm9rZSI6IHRydWUsCiAgIndlaWdodCI6IDMKfQogICAgICAgICAgICAgICAgKS5hZGRUbyhtYXBfN2ZhNWVjNzU4MjhhNDZmYjgwM2M4N2Y5ZTQ2YTkzMjgpOwogICAgICAgICAgICAKICAgIAogICAgICAgICAgICB2YXIgcG9wdXBfMWJlNzg2Y2JmZGNhNDZjNDgzMGZhOTE1MTYwNjY3N2MgPSBMLnBvcHVwKHttYXhXaWR0aDogJzMwMCd9KTsKCiAgICAgICAgICAgIAogICAgICAgICAgICAgICAgdmFyIGh0bWxfZjE4Y2YxZjQzMzMyNDZkMzlhMDc2NzI1YmY3NGNjMGQgPSAkKCc8ZGl2IGlkPSJodG1sX2YxOGNmMWY0MzMzMjQ2ZDM5YTA3NjcyNWJmNzRjYzBkIiBzdHlsZT0id2lkdGg6IDEwMC4wJTsgaGVpZ2h0OiAxMDAuMCU7Ij5aZWhsZW5kb3JmPC9kaXY+JylbMF07CiAgICAgICAgICAgICAgICBwb3B1cF8xYmU3ODZjYmZkY2E0NmM0ODMwZmE5MTUxNjA2Njc3Yy5zZXRDb250ZW50KGh0bWxfZjE4Y2YxZjQzMzMyNDZkMzlhMDc2NzI1YmY3NGNjMGQpOwogICAgICAgICAgICAKCiAgICAgICAgICAgIGNpcmNsZV9tYXJrZXJfNDA2ZmY5ZjYxZWE2NDI0MzgzZTUwYzI0MmZmN2QzZTEuYmluZFBvcHVwKHBvcHVwXzFiZTc4NmNiZmRjYTQ2YzQ4MzBmYTkxNTE2MDY2NzdjKTsKCiAgICAgICAgICAgIAogICAgICAgIAogICAgCiAgICAgICAgICAgIHZhciBjaXJjbGVfbWFya2VyX2M4ZTUwZTc4MzYwZTRkNzQ5NTE1MmI2NjM2ZTYzZGNhID0gTC5jaXJjbGVNYXJrZXIoCiAgICAgICAgICAgICAgICBbNTIuNDU4MDU2MDAwMDAwMDA2LDEzLjI4NzVdLAogICAgICAgICAgICAgICAgewogICJidWJibGluZ01vdXNlRXZlbnRzIjogdHJ1ZSwKICAiY29sb3IiOiAiYmx1ZSIsCiAgImRhc2hBcnJheSI6IG51bGwsCiAgImRhc2hPZmZzZXQiOiBudWxsLAogICJmaWxsIjogdHJ1ZSwKICAiZmlsbENvbG9yIjogIiMzMTg2Y2MiLAogICJmaWxsT3BhY2l0eSI6IDAuNywKICAiZmlsbFJ1bGUiOiAiZXZlbm9kZCIsCiAgImxpbmVDYXAiOiAicm91bmQiLAogICJsaW5lSm9pbiI6ICJyb3VuZCIsCiAgIm9wYWNpdHkiOiAxLjAsCiAgInJhZGl1cyI6IDUsCiAgInN0cm9rZSI6IHRydWUsCiAgIndlaWdodCI6IDMKfQogICAgICAgICAgICAgICAgKS5hZGRUbyhtYXBfN2ZhNWVjNzU4MjhhNDZmYjgwM2M4N2Y5ZTQ2YTkzMjgpOwogICAgICAgICAgICAKICAgIAogICAgICAgICAgICB2YXIgcG9wdXBfZDlhNjg2ZmM3YzljNGU3MDg5YzJjZjMxN2M0ZWU2MjEgPSBMLnBvcHVwKHttYXhXaWR0aDogJzMwMCd9KTsKCiAgICAgICAgICAgIAogICAgICAgICAgICAgICAgdmFyIGh0bWxfYTE3ZWM0NmI1NWYxNDk0MDhjOTU3YWZlNmVhNjg0ODYgPSAkKCc8ZGl2IGlkPSJodG1sX2ExN2VjNDZiNTVmMTQ5NDA4Yzk1N2FmZTZlYTY4NDg2IiBzdHlsZT0id2lkdGg6IDEwMC4wJTsgaGVpZ2h0OiAxMDAuMCU7Ij5EYWhsZW08L2Rpdj4nKVswXTsKICAgICAgICAgICAgICAgIHBvcHVwX2Q5YTY4NmZjN2M5YzRlNzA4OWMyY2YzMTdjNGVlNjIxLnNldENvbnRlbnQoaHRtbF9hMTdlYzQ2YjU1ZjE0OTQwOGM5NTdhZmU2ZWE2ODQ4Nik7CiAgICAgICAgICAgIAoKICAgICAgICAgICAgY2lyY2xlX21hcmtlcl9jOGU1MGU3ODM2MGU0ZDc0OTUxNTJiNjYzNmU2M2RjYS5iaW5kUG9wdXAocG9wdXBfZDlhNjg2ZmM3YzljNGU3MDg5YzJjZjMxN2M0ZWU2MjEpOwoKICAgICAgICAgICAgCiAgICAgICAgCiAgICAKICAgICAgICAgICAgdmFyIGNpcmNsZV9tYXJrZXJfZjQ0ZDk4OTU5YjJmNDdkODhlZWNmODE1ZmE5OGEzMzEgPSBMLmNpcmNsZU1hcmtlcigKICAgICAgICAgICAgICAgIFs1Mi40MzMzMzMsMTMuMl0sCiAgICAgICAgICAgICAgICB7CiAgImJ1YmJsaW5nTW91c2VFdmVudHMiOiB0cnVlLAogICJjb2xvciI6ICJibHVlIiwKICAiZGFzaEFycmF5IjogbnVsbCwKICAiZGFzaE9mZnNldCI6IG51bGwsCiAgImZpbGwiOiB0cnVlLAogICJmaWxsQ29sb3IiOiAiIzMxODZjYyIsCiAgImZpbGxPcGFjaXR5IjogMC43LAogICJmaWxsUnVsZSI6ICJldmVub2RkIiwKICAibGluZUNhcCI6ICJyb3VuZCIsCiAgImxpbmVKb2luIjogInJvdW5kIiwKICAib3BhY2l0eSI6IDEuMCwKICAicmFkaXVzIjogNSwKICAic3Ryb2tlIjogdHJ1ZSwKICAid2VpZ2h0IjogMwp9CiAgICAgICAgICAgICAgICApLmFkZFRvKG1hcF83ZmE1ZWM3NTgyOGE0NmZiODAzYzg3ZjllNDZhOTMyOCk7CiAgICAgICAgICAgIAogICAgCiAgICAgICAgICAgIHZhciBwb3B1cF80MmNmZWQwMDE4ZDg0ZTYyYjA2NTRiMjg4OGFlYmI0YSA9IEwucG9wdXAoe21heFdpZHRoOiAnMzAwJ30pOwoKICAgICAgICAgICAgCiAgICAgICAgICAgICAgICB2YXIgaHRtbF9jODI2MDc3NjI0ODI0NTNiODkzMjI1NmQ4MmI2NGU3NCA9ICQoJzxkaXYgaWQ9Imh0bWxfYzgyNjA3NzYyNDgyNDUzYjg5MzIyNTZkODJiNjRlNzQiIHN0eWxlPSJ3aWR0aDogMTAwLjAlOyBoZWlnaHQ6IDEwMC4wJTsiPk5pa29sYXNzZWU8L2Rpdj4nKVswXTsKICAgICAgICAgICAgICAgIHBvcHVwXzQyY2ZlZDAwMThkODRlNjJiMDY1NGIyODg4YWViYjRhLnNldENvbnRlbnQoaHRtbF9jODI2MDc3NjI0ODI0NTNiODkzMjI1NmQ4MmI2NGU3NCk7CiAgICAgICAgICAgIAoKICAgICAgICAgICAgY2lyY2xlX21hcmtlcl9mNDRkOTg5NTliMmY0N2Q4OGVlY2Y4MTVmYTk4YTMzMS5iaW5kUG9wdXAocG9wdXBfNDJjZmVkMDAxOGQ4NGU2MmIwNjU0YjI4ODhhZWJiNGEpOwoKICAgICAgICAgICAgCiAgICAgICAgCiAgICAKICAgICAgICAgICAgdmFyIGNpcmNsZV9tYXJrZXJfMWMzNGM5NDZlZjZiNDU2MWI1ZjlhZTkzMWQxMzU1ZDcgPSBMLmNpcmNsZU1hcmtlcigKICAgICAgICAgICAgICAgIFs1Mi40MTY2NjcsMTMuMTVdLAogICAgICAgICAgICAgICAgewogICJidWJibGluZ01vdXNlRXZlbnRzIjogdHJ1ZSwKICAiY29sb3IiOiAiYmx1ZSIsCiAgImRhc2hBcnJheSI6IG51bGwsCiAgImRhc2hPZmZzZXQiOiBudWxsLAogICJmaWxsIjogdHJ1ZSwKICAiZmlsbENvbG9yIjogIiMzMTg2Y2MiLAogICJmaWxsT3BhY2l0eSI6IDAuNywKICAiZmlsbFJ1bGUiOiAiZXZlbm9kZCIsCiAgImxpbmVDYXAiOiAicm91bmQiLAogICJsaW5lSm9pbiI6ICJyb3VuZCIsCiAgIm9wYWNpdHkiOiAxLjAsCiAgInJhZGl1cyI6IDUsCiAgInN0cm9rZSI6IHRydWUsCiAgIndlaWdodCI6IDMKfQogICAgICAgICAgICAgICAgKS5hZGRUbyhtYXBfN2ZhNWVjNzU4MjhhNDZmYjgwM2M4N2Y5ZTQ2YTkzMjgpOwogICAgICAgICAgICAKICAgIAogICAgICAgICAgICB2YXIgcG9wdXBfYWE4MWU5OTBjMjQ2NGY4MDlkNWRmNzdkNTI5ZGIzNDIgPSBMLnBvcHVwKHttYXhXaWR0aDogJzMwMCd9KTsKCiAgICAgICAgICAgIAogICAgICAgICAgICAgICAgdmFyIGh0bWxfMGM0ZmEyZGIxYTdiNGEzM2IwODdhZmQzMGVkMDIwZjAgPSAkKCc8ZGl2IGlkPSJodG1sXzBjNGZhMmRiMWE3YjRhMzNiMDg3YWZkMzBlZDAyMGYwIiBzdHlsZT0id2lkdGg6IDEwMC4wJTsgaGVpZ2h0OiAxMDAuMCU7Ij5XYW5uc2VlPC9kaXY+JylbMF07CiAgICAgICAgICAgICAgICBwb3B1cF9hYTgxZTk5MGMyNDY0ZjgwOWQ1ZGY3N2Q1MjlkYjM0Mi5zZXRDb250ZW50KGh0bWxfMGM0ZmEyZGIxYTdiNGEzM2IwODdhZmQzMGVkMDIwZjApOwogICAgICAgICAgICAKCiAgICAgICAgICAgIGNpcmNsZV9tYXJrZXJfMWMzNGM5NDZlZjZiNDU2MWI1ZjlhZTkzMWQxMzU1ZDcuYmluZFBvcHVwKHBvcHVwX2FhODFlOTkwYzI0NjRmODA5ZDVkZjc3ZDUyOWRiMzQyKTsKCiAgICAgICAgICAgIAogICAgICAgIAogICAgCiAgICAgICAgICAgIHZhciBjaXJjbGVfbWFya2VyXzMxYjE2Y2Q1NzVjMjQ2Njc4ZWJlZTEwMDMyMzY3ZDhiID0gTC5jaXJjbGVNYXJrZXIoCiAgICAgICAgICAgICAgICBbNTIuNDg2MTExLDEzLjM1NTU1Nl0sCiAgICAgICAgICAgICAgICB7CiAgImJ1YmJsaW5nTW91c2VFdmVudHMiOiB0cnVlLAogICJjb2xvciI6ICJibHVlIiwKICAiZGFzaEFycmF5IjogbnVsbCwKICAiZGFzaE9mZnNldCI6IG51bGwsCiAgImZpbGwiOiB0cnVlLAogICJmaWxsQ29sb3IiOiAiIzMxODZjYyIsCiAgImZpbGxPcGFjaXR5IjogMC43LAogICJmaWxsUnVsZSI6ICJldmVub2RkIiwKICAibGluZUNhcCI6ICJyb3VuZCIsCiAgImxpbmVKb2luIjogInJvdW5kIiwKICAib3BhY2l0eSI6IDEuMCwKICAicmFkaXVzIjogNSwKICAic3Ryb2tlIjogdHJ1ZSwKICAid2VpZ2h0IjogMwp9CiAgICAgICAgICAgICAgICApLmFkZFRvKG1hcF83ZmE1ZWM3NTgyOGE0NmZiODAzYzg3ZjllNDZhOTMyOCk7CiAgICAgICAgICAgIAogICAgCiAgICAgICAgICAgIHZhciBwb3B1cF9hNDAzODNkZGRhNWY0NTJjOTE2ZTdlZDc3NjQ1NDNlZiA9IEwucG9wdXAoe21heFdpZHRoOiAnMzAwJ30pOwoKICAgICAgICAgICAgCiAgICAgICAgICAgICAgICB2YXIgaHRtbF9kYmJiNmI3NzFkMzM0YmY4YTczMGQ0YjQzZDk2YjZiNiA9ICQoJzxkaXYgaWQ9Imh0bWxfZGJiYjZiNzcxZDMzNGJmOGE3MzBkNGI0M2Q5NmI2YjYiIHN0eWxlPSJ3aWR0aDogMTAwLjAlOyBoZWlnaHQ6IDEwMC4wJTsiPlNjaMO2bmViZXJnPC9kaXY+JylbMF07CiAgICAgICAgICAgICAgICBwb3B1cF9hNDAzODNkZGRhNWY0NTJjOTE2ZTdlZDc3NjQ1NDNlZi5zZXRDb250ZW50KGh0bWxfZGJiYjZiNzcxZDMzNGJmOGE3MzBkNGI0M2Q5NmI2YjYpOwogICAgICAgICAgICAKCiAgICAgICAgICAgIGNpcmNsZV9tYXJrZXJfMzFiMTZjZDU3NWMyNDY2NzhlYmVlMTAwMzIzNjdkOGIuYmluZFBvcHVwKHBvcHVwX2E0MDM4M2RkZGE1ZjQ1MmM5MTZlN2VkNzc2NDU0M2VmKTsKCiAgICAgICAgICAgIAogICAgICAgIAogICAgCiAgICAgICAgICAgIHZhciBjaXJjbGVfbWFya2VyXzBhY2YwZGFhYWJlYTQxMDZiODZmZjUxNWM5ZDcyYmE4ID0gTC5jaXJjbGVNYXJrZXIoCiAgICAgICAgICAgICAgICBbNTIuNDcyMjIxOTk5OTk5OTk1LDEzLjMyOTcyMl0sCiAgICAgICAgICAgICAgICB7CiAgImJ1YmJsaW5nTW91c2VFdmVudHMiOiB0cnVlLAogICJjb2xvciI6ICJibHVlIiwKICAiZGFzaEFycmF5IjogbnVsbCwKICAiZGFzaE9mZnNldCI6IG51bGwsCiAgImZpbGwiOiB0cnVlLAogICJmaWxsQ29sb3IiOiAiIzMxODZjYyIsCiAgImZpbGxPcGFjaXR5IjogMC43LAogICJmaWxsUnVsZSI6ICJldmVub2RkIiwKICAibGluZUNhcCI6ICJyb3VuZCIsCiAgImxpbmVKb2luIjogInJvdW5kIiwKICAib3BhY2l0eSI6IDEuMCwKICAicmFkaXVzIjogNSwKICAic3Ryb2tlIjogdHJ1ZSwKICAid2VpZ2h0IjogMwp9CiAgICAgICAgICAgICAgICApLmFkZFRvKG1hcF83ZmE1ZWM3NTgyOGE0NmZiODAzYzg3ZjllNDZhOTMyOCk7CiAgICAgICAgICAgIAogICAgCiAgICAgICAgICAgIHZhciBwb3B1cF9hODUxNzQ5NjQ0NmM0YjNiOTJlN2I1MzdkMjIwNzJlNyA9IEwucG9wdXAoe21heFdpZHRoOiAnMzAwJ30pOwoKICAgICAgICAgICAgCiAgICAgICAgICAgICAgICB2YXIgaHRtbF9iNWQwNjkwZjU2NTA0M2U0YjcxYWIwM2FiNTU5ODYzNiA9ICQoJzxkaXYgaWQ9Imh0bWxfYjVkMDY5MGY1NjUwNDNlNGI3MWFiMDNhYjU1OTg2MzYiIHN0eWxlPSJ3aWR0aDogMTAwLjAlOyBoZWlnaHQ6IDEwMC4wJTsiPkZyaWVkZW5hdTwvZGl2PicpWzBdOwogICAgICAgICAgICAgICAgcG9wdXBfYTg1MTc0OTY0NDZjNGIzYjkyZTdiNTM3ZDIyMDcyZTcuc2V0Q29udGVudChodG1sX2I1ZDA2OTBmNTY1MDQzZTRiNzFhYjAzYWI1NTk4NjM2KTsKICAgICAgICAgICAgCgogICAgICAgICAgICBjaXJjbGVfbWFya2VyXzBhY2YwZGFhYWJlYTQxMDZiODZmZjUxNWM5ZDcyYmE4LmJpbmRQb3B1cChwb3B1cF9hODUxNzQ5NjQ0NmM0YjNiOTJlN2I1MzdkMjIwNzJlNyk7CgogICAgICAgICAgICAKICAgICAgICAKICAgIAogICAgICAgICAgICB2YXIgY2lyY2xlX21hcmtlcl83NzgwZWMyOTdjZWE0ODUxYWZkMDNmNWRhN2E3YTA2ZSA9IEwuY2lyY2xlTWFya2VyKAogICAgICAgICAgICAgICAgWzUyLjQ2NjY2NywxMy4zODMzMzI5OTk5OTk5OTldLAogICAgICAgICAgICAgICAgewogICJidWJibGluZ01vdXNlRXZlbnRzIjogdHJ1ZSwKICAiY29sb3IiOiAiYmx1ZSIsCiAgImRhc2hBcnJheSI6IG51bGwsCiAgImRhc2hPZmZzZXQiOiBudWxsLAogICJmaWxsIjogdHJ1ZSwKICAiZmlsbENvbG9yIjogIiMzMTg2Y2MiLAogICJmaWxsT3BhY2l0eSI6IDAuNywKICAiZmlsbFJ1bGUiOiAiZXZlbm9kZCIsCiAgImxpbmVDYXAiOiAicm91bmQiLAogICJsaW5lSm9pbiI6ICJyb3VuZCIsCiAgIm9wYWNpdHkiOiAxLjAsCiAgInJhZGl1cyI6IDUsCiAgInN0cm9rZSI6IHRydWUsCiAgIndlaWdodCI6IDMKfQogICAgICAgICAgICAgICAgKS5hZGRUbyhtYXBfN2ZhNWVjNzU4MjhhNDZmYjgwM2M4N2Y5ZTQ2YTkzMjgpOwogICAgICAgICAgICAKICAgIAogICAgICAgICAgICB2YXIgcG9wdXBfMDdlMWM5NTI2YmM2NGEwODkyODk3MmU1NTg2Zjc3ODggPSBMLnBvcHVwKHttYXhXaWR0aDogJzMwMCd9KTsKCiAgICAgICAgICAgIAogICAgICAgICAgICAgICAgdmFyIGh0bWxfZDkzYzZiN2MzNGY3NDg2OTllNDI5ZTNkMTcxYzE1M2QgPSAkKCc8ZGl2IGlkPSJodG1sX2Q5M2M2YjdjMzRmNzQ4Njk5ZTQyOWUzZDE3MWMxNTNkIiBzdHlsZT0id2lkdGg6IDEwMC4wJTsgaGVpZ2h0OiAxMDAuMCU7Ij5UZW1wZWxob2Y8L2Rpdj4nKVswXTsKICAgICAgICAgICAgICAgIHBvcHVwXzA3ZTFjOTUyNmJjNjRhMDg5Mjg5NzJlNTU4NmY3Nzg4LnNldENvbnRlbnQoaHRtbF9kOTNjNmI3YzM0Zjc0ODY5OWU0MjllM2QxNzFjMTUzZCk7CiAgICAgICAgICAgIAoKICAgICAgICAgICAgY2lyY2xlX21hcmtlcl83NzgwZWMyOTdjZWE0ODUxYWZkMDNmNWRhN2E3YTA2ZS5iaW5kUG9wdXAocG9wdXBfMDdlMWM5NTI2YmM2NGEwODkyODk3MmU1NTg2Zjc3ODgpOwoKICAgICAgICAgICAgCiAgICAgICAgCiAgICAKICAgICAgICAgICAgdmFyIGNpcmNsZV9tYXJrZXJfN2I0N2JmYzc4NWIzNGI1ZmFhMDlmMDNhZDAzMTRhNmIgPSBMLmNpcmNsZU1hcmtlcigKICAgICAgICAgICAgICAgIFs1Mi40MzMzMzMsMTMuMzY2NjY3MDAwMDAwMDAxXSwKICAgICAgICAgICAgICAgIHsKICAiYnViYmxpbmdNb3VzZUV2ZW50cyI6IHRydWUsCiAgImNvbG9yIjogImJsdWUiLAogICJkYXNoQXJyYXkiOiBudWxsLAogICJkYXNoT2Zmc2V0IjogbnVsbCwKICAiZmlsbCI6IHRydWUsCiAgImZpbGxDb2xvciI6ICIjMzE4NmNjIiwKICAiZmlsbE9wYWNpdHkiOiAwLjcsCiAgImZpbGxSdWxlIjogImV2ZW5vZGQiLAogICJsaW5lQ2FwIjogInJvdW5kIiwKICAibGluZUpvaW4iOiAicm91bmQiLAogICJvcGFjaXR5IjogMS4wLAogICJyYWRpdXMiOiA1LAogICJzdHJva2UiOiB0cnVlLAogICJ3ZWlnaHQiOiAzCn0KICAgICAgICAgICAgICAgICkuYWRkVG8obWFwXzdmYTVlYzc1ODI4YTQ2ZmI4MDNjODdmOWU0NmE5MzI4KTsKICAgICAgICAgICAgCiAgICAKICAgICAgICAgICAgdmFyIHBvcHVwXzU1YWJhN2UyMWFiZjRkMTc5ZDM4ZmI0YjM3OTA2MjM1ID0gTC5wb3B1cCh7bWF4V2lkdGg6ICczMDAnfSk7CgogICAgICAgICAgICAKICAgICAgICAgICAgICAgIHZhciBodG1sX2UxMDgzMGZkYzkwMTQ0YzVhNzUzNTBmNWZkZmRmYTI1ID0gJCgnPGRpdiBpZD0iaHRtbF9lMTA4MzBmZGM5MDE0NGM1YTc1MzUwZjVmZGZkZmEyNSIgc3R5bGU9IndpZHRoOiAxMDAuMCU7IGhlaWdodDogMTAwLjAlOyI+TWFyaWVuZG9yZjwvZGl2PicpWzBdOwogICAgICAgICAgICAgICAgcG9wdXBfNTVhYmE3ZTIxYWJmNGQxNzlkMzhmYjRiMzc5MDYyMzUuc2V0Q29udGVudChodG1sX2UxMDgzMGZkYzkwMTQ0YzVhNzUzNTBmNWZkZmRmYTI1KTsKICAgICAgICAgICAgCgogICAgICAgICAgICBjaXJjbGVfbWFya2VyXzdiNDdiZmM3ODViMzRiNWZhYTA5ZjAzYWQwMzE0YTZiLmJpbmRQb3B1cChwb3B1cF81NWFiYTdlMjFhYmY0ZDE3OWQzOGZiNGIzNzkwNjIzNSk7CgogICAgICAgICAgICAKICAgICAgICAKICAgIAogICAgICAgICAgICB2YXIgY2lyY2xlX21hcmtlcl84ZjA1Mzg4NjExMDA0OWI1OGExMDM1NzRhY2MxZWUwNSA9IEwuY2lyY2xlTWFya2VyKAogICAgICAgICAgICAgICAgWzUyLjQxNjY2NywxMy4zNjY2NjcwMDAwMDAwMDFdLAogICAgICAgICAgICAgICAgewogICJidWJibGluZ01vdXNlRXZlbnRzIjogdHJ1ZSwKICAiY29sb3IiOiAiYmx1ZSIsCiAgImRhc2hBcnJheSI6IG51bGwsCiAgImRhc2hPZmZzZXQiOiBudWxsLAogICJmaWxsIjogdHJ1ZSwKICAiZmlsbENvbG9yIjogIiMzMTg2Y2MiLAogICJmaWxsT3BhY2l0eSI6IDAuNywKICAiZmlsbFJ1bGUiOiAiZXZlbm9kZCIsCiAgImxpbmVDYXAiOiAicm91bmQiLAogICJsaW5lSm9pbiI6ICJyb3VuZCIsCiAgIm9wYWNpdHkiOiAxLjAsCiAgInJhZGl1cyI6IDUsCiAgInN0cm9rZSI6IHRydWUsCiAgIndlaWdodCI6IDMKfQogICAgICAgICAgICAgICAgKS5hZGRUbyhtYXBfN2ZhNWVjNzU4MjhhNDZmYjgwM2M4N2Y5ZTQ2YTkzMjgpOwogICAgICAgICAgICAKICAgIAogICAgICAgICAgICB2YXIgcG9wdXBfNTNhMDYzZWNhMzBjNGYzYWJkMTI4NTkyYTJiNjNlYWIgPSBMLnBvcHVwKHttYXhXaWR0aDogJzMwMCd9KTsKCiAgICAgICAgICAgIAogICAgICAgICAgICAgICAgdmFyIGh0bWxfZTE0NGJjOWQxNjNiNDFiZGFhYjUyNjRmN2MwM2NlNTAgPSAkKCc8ZGl2IGlkPSJodG1sX2UxNDRiYzlkMTYzYjQxYmRhYWI1MjY0ZjdjMDNjZTUwIiBzdHlsZT0id2lkdGg6IDEwMC4wJTsgaGVpZ2h0OiAxMDAuMCU7Ij5NYXJpZW5mZWxkZTwvZGl2PicpWzBdOwogICAgICAgICAgICAgICAgcG9wdXBfNTNhMDYzZWNhMzBjNGYzYWJkMTI4NTkyYTJiNjNlYWIuc2V0Q29udGVudChodG1sX2UxNDRiYzlkMTYzYjQxYmRhYWI1MjY0ZjdjMDNjZTUwKTsKICAgICAgICAgICAgCgogICAgICAgICAgICBjaXJjbGVfbWFya2VyXzhmMDUzODg2MTEwMDQ5YjU4YTEwMzU3NGFjYzFlZTA1LmJpbmRQb3B1cChwb3B1cF81M2EwNjNlY2EzMGM0ZjNhYmQxMjg1OTJhMmI2M2VhYik7CgogICAgICAgICAgICAKICAgICAgICAKICAgIAogICAgICAgICAgICB2YXIgY2lyY2xlX21hcmtlcl9lMDFjZmJmNzg4MzU0NGJiOTdhYmU5YjQ5NWUzZmQ4YiA9IEwuY2lyY2xlTWFya2VyKAogICAgICAgICAgICAgICAgWzUyLjQsMTMuNF0sCiAgICAgICAgICAgICAgICB7CiAgImJ1YmJsaW5nTW91c2VFdmVudHMiOiB0cnVlLAogICJjb2xvciI6ICJibHVlIiwKICAiZGFzaEFycmF5IjogbnVsbCwKICAiZGFzaE9mZnNldCI6IG51bGwsCiAgImZpbGwiOiB0cnVlLAogICJmaWxsQ29sb3IiOiAiIzMxODZjYyIsCiAgImZpbGxPcGFjaXR5IjogMC43LAogICJmaWxsUnVsZSI6ICJldmVub2RkIiwKICAibGluZUNhcCI6ICJyb3VuZCIsCiAgImxpbmVKb2luIjogInJvdW5kIiwKICAib3BhY2l0eSI6IDEuMCwKICAicmFkaXVzIjogNSwKICAic3Ryb2tlIjogdHJ1ZSwKICAid2VpZ2h0IjogMwp9CiAgICAgICAgICAgICAgICApLmFkZFRvKG1hcF83ZmE1ZWM3NTgyOGE0NmZiODAzYzg3ZjllNDZhOTMyOCk7CiAgICAgICAgICAgIAogICAgCiAgICAgICAgICAgIHZhciBwb3B1cF82ZWM3ZTMxZGViNDM0ODdjYTM1ZDg2OTQ1NDRiZDMwYiA9IEwucG9wdXAoe21heFdpZHRoOiAnMzAwJ30pOwoKICAgICAgICAgICAgCiAgICAgICAgICAgICAgICB2YXIgaHRtbF85MjMyYjU4ZDNjNDc0MjllYjBmMTJiOTA0MjNiYTQxNyA9ICQoJzxkaXYgaWQ9Imh0bWxfOTIzMmI1OGQzYzQ3NDI5ZWIwZjEyYjkwNDIzYmE0MTciIHN0eWxlPSJ3aWR0aDogMTAwLjAlOyBoZWlnaHQ6IDEwMC4wJTsiPkxpY2h0ZW5yYWRlPC9kaXY+JylbMF07CiAgICAgICAgICAgICAgICBwb3B1cF82ZWM3ZTMxZGViNDM0ODdjYTM1ZDg2OTQ1NDRiZDMwYi5zZXRDb250ZW50KGh0bWxfOTIzMmI1OGQzYzQ3NDI5ZWIwZjEyYjkwNDIzYmE0MTcpOwogICAgICAgICAgICAKCiAgICAgICAgICAgIGNpcmNsZV9tYXJrZXJfZTAxY2ZiZjc4ODM1NDRiYjk3YWJlOWI0OTVlM2ZkOGIuYmluZFBvcHVwKHBvcHVwXzZlYzdlMzFkZWI0MzQ4N2NhMzVkODY5NDU0NGJkMzBiKTsKCiAgICAgICAgICAgIAogICAgICAgIAogICAgCiAgICAgICAgICAgIHZhciBjaXJjbGVfbWFya2VyXzNkZjM5ZDIwOWVlODQwNWFiMDg3Y2EzNjJjMWViMTNiID0gTC5jaXJjbGVNYXJrZXIoCiAgICAgICAgICAgICAgICBbNTIuNDgxMzg5LDEzLjQzNTI3OF0sCiAgICAgICAgICAgICAgICB7CiAgImJ1YmJsaW5nTW91c2VFdmVudHMiOiB0cnVlLAogICJjb2xvciI6ICJibHVlIiwKICAiZGFzaEFycmF5IjogbnVsbCwKICAiZGFzaE9mZnNldCI6IG51bGwsCiAgImZpbGwiOiB0cnVlLAogICJmaWxsQ29sb3IiOiAiIzMxODZjYyIsCiAgImZpbGxPcGFjaXR5IjogMC43LAogICJmaWxsUnVsZSI6ICJldmVub2RkIiwKICAibGluZUNhcCI6ICJyb3VuZCIsCiAgImxpbmVKb2luIjogInJvdW5kIiwKICAib3BhY2l0eSI6IDEuMCwKICAicmFkaXVzIjogNSwKICAic3Ryb2tlIjogdHJ1ZSwKICAid2VpZ2h0IjogMwp9CiAgICAgICAgICAgICAgICApLmFkZFRvKG1hcF83ZmE1ZWM3NTgyOGE0NmZiODAzYzg3ZjllNDZhOTMyOCk7CiAgICAgICAgICAgIAogICAgCiAgICAgICAgICAgIHZhciBwb3B1cF81MmNmZDhlYzJjZWU0NTY1OGQ1Y2QwNjQ4NGQ3NGZjOSA9IEwucG9wdXAoe21heFdpZHRoOiAnMzAwJ30pOwoKICAgICAgICAgICAgCiAgICAgICAgICAgICAgICB2YXIgaHRtbF9hODVhNjZmNDFiZTM0YWE4ODI5M2MxYzdjMmRmOWFlOSA9ICQoJzxkaXYgaWQ9Imh0bWxfYTg1YTY2ZjQxYmUzNGFhODgyOTNjMWM3YzJkZjlhZTkiIHN0eWxlPSJ3aWR0aDogMTAwLjAlOyBoZWlnaHQ6IDEwMC4wJTsiPk5ldWvDtmxsbjwvZGl2PicpWzBdOwogICAgICAgICAgICAgICAgcG9wdXBfNTJjZmQ4ZWMyY2VlNDU2NThkNWNkMDY0ODRkNzRmYzkuc2V0Q29udGVudChodG1sX2E4NWE2NmY0MWJlMzRhYTg4MjkzYzFjN2MyZGY5YWU5KTsKICAgICAgICAgICAgCgogICAgICAgICAgICBjaXJjbGVfbWFya2VyXzNkZjM5ZDIwOWVlODQwNWFiMDg3Y2EzNjJjMWViMTNiLmJpbmRQb3B1cChwb3B1cF81MmNmZDhlYzJjZWU0NTY1OGQ1Y2QwNjQ4NGQ3NGZjOSk7CgogICAgICAgICAgICAKICAgICAgICAKICAgIAogICAgICAgICAgICB2YXIgY2lyY2xlX21hcmtlcl9hM2I2OTZmYTlhOTY0NTRlYTE1NGFjODcyYjBhOTlmNSA9IEwuY2lyY2xlTWFya2VyKAogICAgICAgICAgICAgICAgWzUyLjQ1LDEzLjQzMzMzM10sCiAgICAgICAgICAgICAgICB7CiAgImJ1YmJsaW5nTW91c2VFdmVudHMiOiB0cnVlLAogICJjb2xvciI6ICJibHVlIiwKICAiZGFzaEFycmF5IjogbnVsbCwKICAiZGFzaE9mZnNldCI6IG51bGwsCiAgImZpbGwiOiB0cnVlLAogICJmaWxsQ29sb3IiOiAiIzMxODZjYyIsCiAgImZpbGxPcGFjaXR5IjogMC43LAogICJmaWxsUnVsZSI6ICJldmVub2RkIiwKICAibGluZUNhcCI6ICJyb3VuZCIsCiAgImxpbmVKb2luIjogInJvdW5kIiwKICAib3BhY2l0eSI6IDEuMCwKICAicmFkaXVzIjogNSwKICAic3Ryb2tlIjogdHJ1ZSwKICAid2VpZ2h0IjogMwp9CiAgICAgICAgICAgICAgICApLmFkZFRvKG1hcF83ZmE1ZWM3NTgyOGE0NmZiODAzYzg3ZjllNDZhOTMyOCk7CiAgICAgICAgICAgIAogICAgCiAgICAgICAgICAgIHZhciBwb3B1cF9lMzRkOTIyNGZkZGM0M2VhYjUzZDA2OWRjYzA5N2QwYiA9IEwucG9wdXAoe21heFdpZHRoOiAnMzAwJ30pOwoKICAgICAgICAgICAgCiAgICAgICAgICAgICAgICB2YXIgaHRtbF84YjU5Nzk5ZGU4M2E0OWQ3OWQzNjAzMjRlZmQ0ODlhMyA9ICQoJzxkaXYgaWQ9Imh0bWxfOGI1OTc5OWRlODNhNDlkNzlkMzYwMzI0ZWZkNDg5YTMiIHN0eWxlPSJ3aWR0aDogMTAwLjAlOyBoZWlnaHQ6IDEwMC4wJTsiPkJyaXR6PC9kaXY+JylbMF07CiAgICAgICAgICAgICAgICBwb3B1cF9lMzRkOTIyNGZkZGM0M2VhYjUzZDA2OWRjYzA5N2QwYi5zZXRDb250ZW50KGh0bWxfOGI1OTc5OWRlODNhNDlkNzlkMzYwMzI0ZWZkNDg5YTMpOwogICAgICAgICAgICAKCiAgICAgICAgICAgIGNpcmNsZV9tYXJrZXJfYTNiNjk2ZmE5YTk2NDU0ZWExNTRhYzg3MmIwYTk5ZjUuYmluZFBvcHVwKHBvcHVwX2UzNGQ5MjI0ZmRkYzQzZWFiNTNkMDY5ZGNjMDk3ZDBiKTsKCiAgICAgICAgICAgIAogICAgICAgIAogICAgCiAgICAgICAgICAgIHZhciBjaXJjbGVfbWFya2VyXzI3NWQ5N2MzNGE1OTQ3ZTRiZWFlZmY4ZDA1OTU2NGRhID0gTC5jaXJjbGVNYXJrZXIoCiAgICAgICAgICAgICAgICBbNTIuNDMxOTQzOTk5OTk5OTk0LDEzLjQ2MTY2NzAwMDAwMDAwMl0sCiAgICAgICAgICAgICAgICB7CiAgImJ1YmJsaW5nTW91c2VFdmVudHMiOiB0cnVlLAogICJjb2xvciI6ICJibHVlIiwKICAiZGFzaEFycmF5IjogbnVsbCwKICAiZGFzaE9mZnNldCI6IG51bGwsCiAgImZpbGwiOiB0cnVlLAogICJmaWxsQ29sb3IiOiAiIzMxODZjYyIsCiAgImZpbGxPcGFjaXR5IjogMC43LAogICJmaWxsUnVsZSI6ICJldmVub2RkIiwKICAibGluZUNhcCI6ICJyb3VuZCIsCiAgImxpbmVKb2luIjogInJvdW5kIiwKICAib3BhY2l0eSI6IDEuMCwKICAicmFkaXVzIjogNSwKICAic3Ryb2tlIjogdHJ1ZSwKICAid2VpZ2h0IjogMwp9CiAgICAgICAgICAgICAgICApLmFkZFRvKG1hcF83ZmE1ZWM3NTgyOGE0NmZiODAzYzg3ZjllNDZhOTMyOCk7CiAgICAgICAgICAgIAogICAgCiAgICAgICAgICAgIHZhciBwb3B1cF9lZGM5YjIyNjc1YzQ0NzUwOWUyNzE4ZmZjMjAxMjg0NiA9IEwucG9wdXAoe21heFdpZHRoOiAnMzAwJ30pOwoKICAgICAgICAgICAgCiAgICAgICAgICAgICAgICB2YXIgaHRtbF84NTQzMGVhZjdmODg0NjE1OGZiNjkxYzI0MTFlOWQ0YiA9ICQoJzxkaXYgaWQ9Imh0bWxfODU0MzBlYWY3Zjg4NDYxNThmYjY5MWMyNDExZTlkNGIiIHN0eWxlPSJ3aWR0aDogMTAwLjAlOyBoZWlnaHQ6IDEwMC4wJTsiPkJ1Y2tvdzwvZGl2PicpWzBdOwogICAgICAgICAgICAgICAgcG9wdXBfZWRjOWIyMjY3NWM0NDc1MDllMjcxOGZmYzIwMTI4NDYuc2V0Q29udGVudChodG1sXzg1NDMwZWFmN2Y4ODQ2MTU4ZmI2OTFjMjQxMWU5ZDRiKTsKICAgICAgICAgICAgCgogICAgICAgICAgICBjaXJjbGVfbWFya2VyXzI3NWQ5N2MzNGE1OTQ3ZTRiZWFlZmY4ZDA1OTU2NGRhLmJpbmRQb3B1cChwb3B1cF9lZGM5YjIyNjc1YzQ0NzUwOWUyNzE4ZmZjMjAxMjg0Nik7CgogICAgICAgICAgICAKICAgICAgICAKICAgIAogICAgICAgICAgICB2YXIgY2lyY2xlX21hcmtlcl9hMzdkNzg4ZTQxOTc0N2ZlYmE5Yjg2ZGU4MmZkYWVmMSA9IEwuY2lyY2xlTWFya2VyKAogICAgICAgICAgICAgICAgWzUyLjQxNjY2NywxMy41XSwKICAgICAgICAgICAgICAgIHsKICAiYnViYmxpbmdNb3VzZUV2ZW50cyI6IHRydWUsCiAgImNvbG9yIjogImJsdWUiLAogICJkYXNoQXJyYXkiOiBudWxsLAogICJkYXNoT2Zmc2V0IjogbnVsbCwKICAiZmlsbCI6IHRydWUsCiAgImZpbGxDb2xvciI6ICIjMzE4NmNjIiwKICAiZmlsbE9wYWNpdHkiOiAwLjcsCiAgImZpbGxSdWxlIjogImV2ZW5vZGQiLAogICJsaW5lQ2FwIjogInJvdW5kIiwKICAibGluZUpvaW4iOiAicm91bmQiLAogICJvcGFjaXR5IjogMS4wLAogICJyYWRpdXMiOiA1LAogICJzdHJva2UiOiB0cnVlLAogICJ3ZWlnaHQiOiAzCn0KICAgICAgICAgICAgICAgICkuYWRkVG8obWFwXzdmYTVlYzc1ODI4YTQ2ZmI4MDNjODdmOWU0NmE5MzI4KTsKICAgICAgICAgICAgCiAgICAKICAgICAgICAgICAgdmFyIHBvcHVwXzgzYjA5MTFkNzEwOTRjM2VhNmU0N2VlYTQ2ZTk5MjgyID0gTC5wb3B1cCh7bWF4V2lkdGg6ICczMDAnfSk7CgogICAgICAgICAgICAKICAgICAgICAgICAgICAgIHZhciBodG1sXzNjZGUyN2MwZTgzZjQ0OTJiNzdkYmYyZTk0YmVlNzZmID0gJCgnPGRpdiBpZD0iaHRtbF8zY2RlMjdjMGU4M2Y0NDkyYjc3ZGJmMmU5NGJlZTc2ZiIgc3R5bGU9IndpZHRoOiAxMDAuMCU7IGhlaWdodDogMTAwLjAlOyI+UnVkb3c8L2Rpdj4nKVswXTsKICAgICAgICAgICAgICAgIHBvcHVwXzgzYjA5MTFkNzEwOTRjM2VhNmU0N2VlYTQ2ZTk5MjgyLnNldENvbnRlbnQoaHRtbF8zY2RlMjdjMGU4M2Y0NDkyYjc3ZGJmMmU5NGJlZTc2Zik7CiAgICAgICAgICAgIAoKICAgICAgICAgICAgY2lyY2xlX21hcmtlcl9hMzdkNzg4ZTQxOTc0N2ZlYmE5Yjg2ZGU4MmZkYWVmMS5iaW5kUG9wdXAocG9wdXBfODNiMDkxMWQ3MTA5NGMzZWE2ZTQ3ZWVhNDZlOTkyODIpOwoKICAgICAgICAgICAgCiAgICAgICAgCiAgICAKICAgICAgICAgICAgdmFyIGNpcmNsZV9tYXJrZXJfZTdmM2ZlYThhMGIwNDkwMWJhMThiMDgwMDY4ZmE0ZjggPSBMLmNpcmNsZU1hcmtlcigKICAgICAgICAgICAgICAgIFs1Mi40MjU4MzMwMDAwMDAwMDQsMTMuNDYxMzg5MDAwMDAwMDAyXSwKICAgICAgICAgICAgICAgIHsKICAiYnViYmxpbmdNb3VzZUV2ZW50cyI6IHRydWUsCiAgImNvbG9yIjogImJsdWUiLAogICJkYXNoQXJyYXkiOiBudWxsLAogICJkYXNoT2Zmc2V0IjogbnVsbCwKICAiZmlsbCI6IHRydWUsCiAgImZpbGxDb2xvciI6ICIjMzE4NmNjIiwKICAiZmlsbE9wYWNpdHkiOiAwLjcsCiAgImZpbGxSdWxlIjogImV2ZW5vZGQiLAogICJsaW5lQ2FwIjogInJvdW5kIiwKICAibGluZUpvaW4iOiAicm91bmQiLAogICJvcGFjaXR5IjogMS4wLAogICJyYWRpdXMiOiA1LAogICJzdHJva2UiOiB0cnVlLAogICJ3ZWlnaHQiOiAzCn0KICAgICAgICAgICAgICAgICkuYWRkVG8obWFwXzdmYTVlYzc1ODI4YTQ2ZmI4MDNjODdmOWU0NmE5MzI4KTsKICAgICAgICAgICAgCiAgICAKICAgICAgICAgICAgdmFyIHBvcHVwXzA3MTU2YzRiNWMxMjQwMGRiODYwNzc3NmQ2OGNiODAzID0gTC5wb3B1cCh7bWF4V2lkdGg6ICczMDAnfSk7CgogICAgICAgICAgICAKICAgICAgICAgICAgICAgIHZhciBodG1sXzEzNmYwYzY1NzZkYzQ4ZDVhYjI5MzU1NmNiZDlmZWM4ID0gJCgnPGRpdiBpZD0iaHRtbF8xMzZmMGM2NTc2ZGM0OGQ1YWIyOTM1NTZjYmQ5ZmVjOCIgc3R5bGU9IndpZHRoOiAxMDAuMCU7IGhlaWdodDogMTAwLjAlOyI+R3JvcGl1c3N0YWR0PC9kaXY+JylbMF07CiAgICAgICAgICAgICAgICBwb3B1cF8wNzE1NmM0YjVjMTI0MDBkYjg2MDc3NzZkNjhjYjgwMy5zZXRDb250ZW50KGh0bWxfMTM2ZjBjNjU3NmRjNDhkNWFiMjkzNTU2Y2JkOWZlYzgpOwogICAgICAgICAgICAKCiAgICAgICAgICAgIGNpcmNsZV9tYXJrZXJfZTdmM2ZlYThhMGIwNDkwMWJhMThiMDgwMDY4ZmE0ZjguYmluZFBvcHVwKHBvcHVwXzA3MTU2YzRiNWMxMjQwMGRiODYwNzc3NmQ2OGNiODAzKTsKCiAgICAgICAgICAgIAogICAgICAgIAogICAgCiAgICAgICAgICAgIHZhciBjaXJjbGVfbWFya2VyXzczMWU2YzkwYTMwNjRmYjJiOWNiY2QwZWU2ZGRiMDRiID0gTC5jaXJjbGVNYXJrZXIoCiAgICAgICAgICAgICAgICBbNTIuNDksMTMuNDQ5NDQ0XSwKICAgICAgICAgICAgICAgIHsKICAiYnViYmxpbmdNb3VzZUV2ZW50cyI6IHRydWUsCiAgImNvbG9yIjogImJsdWUiLAogICJkYXNoQXJyYXkiOiBudWxsLAogICJkYXNoT2Zmc2V0IjogbnVsbCwKICAiZmlsbCI6IHRydWUsCiAgImZpbGxDb2xvciI6ICIjMzE4NmNjIiwKICAiZmlsbE9wYWNpdHkiOiAwLjcsCiAgImZpbGxSdWxlIjogImV2ZW5vZGQiLAogICJsaW5lQ2FwIjogInJvdW5kIiwKICAibGluZUpvaW4iOiAicm91bmQiLAogICJvcGFjaXR5IjogMS4wLAogICJyYWRpdXMiOiA1LAogICJzdHJva2UiOiB0cnVlLAogICJ3ZWlnaHQiOiAzCn0KICAgICAgICAgICAgICAgICkuYWRkVG8obWFwXzdmYTVlYzc1ODI4YTQ2ZmI4MDNjODdmOWU0NmE5MzI4KTsKICAgICAgICAgICAgCiAgICAKICAgICAgICAgICAgdmFyIHBvcHVwXzk1ZTFkZDA4OTk1NzQ3MGNiMWUzNDQ3NzIxMjg0NTk5ID0gTC5wb3B1cCh7bWF4V2lkdGg6ICczMDAnfSk7CgogICAgICAgICAgICAKICAgICAgICAgICAgICAgIHZhciBodG1sX2FjMTU5OGZiZjY3OTRmOTJiOThkODI1MTE3MTgzZjJhID0gJCgnPGRpdiBpZD0iaHRtbF9hYzE1OThmYmY2Nzk0ZjkyYjk4ZDgyNTExNzE4M2YyYSIgc3R5bGU9IndpZHRoOiAxMDAuMCU7IGhlaWdodDogMTAwLjAlOyI+QWx0LVRyZXB0b3c8L2Rpdj4nKVswXTsKICAgICAgICAgICAgICAgIHBvcHVwXzk1ZTFkZDA4OTk1NzQ3MGNiMWUzNDQ3NzIxMjg0NTk5LnNldENvbnRlbnQoaHRtbF9hYzE1OThmYmY2Nzk0ZjkyYjk4ZDgyNTExNzE4M2YyYSk7CiAgICAgICAgICAgIAoKICAgICAgICAgICAgY2lyY2xlX21hcmtlcl83MzFlNmM5MGEzMDY0ZmIyYjljYmNkMGVlNmRkYjA0Yi5iaW5kUG9wdXAocG9wdXBfOTVlMWRkMDg5OTU3NDcwY2IxZTM0NDc3MjEyODQ1OTkpOwoKICAgICAgICAgICAgCiAgICAgICAgCiAgICAKICAgICAgICAgICAgdmFyIGNpcmNsZV9tYXJrZXJfYWI5ODIyYTcxNWZkNDQ2YjkzMWM2YzNjZDI1NmU1NWUgPSBMLmNpcmNsZU1hcmtlcigKICAgICAgICAgICAgICAgIFs1Mi40Nzk3MjE5OTk5OTk5OTUsMTMuNDc1Mjc4XSwKICAgICAgICAgICAgICAgIHsKICAiYnViYmxpbmdNb3VzZUV2ZW50cyI6IHRydWUsCiAgImNvbG9yIjogImJsdWUiLAogICJkYXNoQXJyYXkiOiBudWxsLAogICJkYXNoT2Zmc2V0IjogbnVsbCwKICAiZmlsbCI6IHRydWUsCiAgImZpbGxDb2xvciI6ICIjMzE4NmNjIiwKICAiZmlsbE9wYWNpdHkiOiAwLjcsCiAgImZpbGxSdWxlIjogImV2ZW5vZGQiLAogICJsaW5lQ2FwIjogInJvdW5kIiwKICAibGluZUpvaW4iOiAicm91bmQiLAogICJvcGFjaXR5IjogMS4wLAogICJyYWRpdXMiOiA1LAogICJzdHJva2UiOiB0cnVlLAogICJ3ZWlnaHQiOiAzCn0KICAgICAgICAgICAgICAgICkuYWRkVG8obWFwXzdmYTVlYzc1ODI4YTQ2ZmI4MDNjODdmOWU0NmE5MzI4KTsKICAgICAgICAgICAgCiAgICAKICAgICAgICAgICAgdmFyIHBvcHVwXzg5OWQ3MWViMDA1YzQwOTg4YzZhN2Y3NTNhOWM3NDM1ID0gTC5wb3B1cCh7bWF4V2lkdGg6ICczMDAnfSk7CgogICAgICAgICAgICAKICAgICAgICAgICAgICAgIHZhciBodG1sXzliYjM5NzJkNGJhMzRjYzk4YzZiNWM5YTM1NDc2MWU2ID0gJCgnPGRpdiBpZD0iaHRtbF85YmIzOTcyZDRiYTM0Y2M5OGM2YjVjOWEzNTQ3NjFlNiIgc3R5bGU9IndpZHRoOiAxMDAuMCU7IGhlaWdodDogMTAwLjAlOyI+UGzDpG50ZXJ3YWxkPC9kaXY+JylbMF07CiAgICAgICAgICAgICAgICBwb3B1cF84OTlkNzFlYjAwNWM0MDk4OGM2YTdmNzUzYTljNzQzNS5zZXRDb250ZW50KGh0bWxfOWJiMzk3MmQ0YmEzNGNjOThjNmI1YzlhMzU0NzYxZTYpOwogICAgICAgICAgICAKCiAgICAgICAgICAgIGNpcmNsZV9tYXJrZXJfYWI5ODIyYTcxNWZkNDQ2YjkzMWM2YzNjZDI1NmU1NWUuYmluZFBvcHVwKHBvcHVwXzg5OWQ3MWViMDA1YzQwOTg4YzZhN2Y3NTNhOWM3NDM1KTsKCiAgICAgICAgICAgIAogICAgICAgIAogICAgCiAgICAgICAgICAgIHZhciBjaXJjbGVfbWFya2VyXzJiNGVhMmE2MTNmNjQ0OTFhNDc3MGYzNzIyYzBlMWFkID0gTC5jaXJjbGVNYXJrZXIoCiAgICAgICAgICAgICAgICBbNTIuNDY1LDEzLjQ4NjExMV0sCiAgICAgICAgICAgICAgICB7CiAgImJ1YmJsaW5nTW91c2VFdmVudHMiOiB0cnVlLAogICJjb2xvciI6ICJibHVlIiwKICAiZGFzaEFycmF5IjogbnVsbCwKICAiZGFzaE9mZnNldCI6IG51bGwsCiAgImZpbGwiOiB0cnVlLAogICJmaWxsQ29sb3IiOiAiIzMxODZjYyIsCiAgImZpbGxPcGFjaXR5IjogMC43LAogICJmaWxsUnVsZSI6ICJldmVub2RkIiwKICAibGluZUNhcCI6ICJyb3VuZCIsCiAgImxpbmVKb2luIjogInJvdW5kIiwKICAib3BhY2l0eSI6IDEuMCwKICAicmFkaXVzIjogNSwKICAic3Ryb2tlIjogdHJ1ZSwKICAid2VpZ2h0IjogMwp9CiAgICAgICAgICAgICAgICApLmFkZFRvKG1hcF83ZmE1ZWM3NTgyOGE0NmZiODAzYzg3ZjllNDZhOTMyOCk7CiAgICAgICAgICAgIAogICAgCiAgICAgICAgICAgIHZhciBwb3B1cF9hMGZhYjBhNWY4NzQ0ZDI3ODI1OGRjM2MyZjlmNmQ5MCA9IEwucG9wdXAoe21heFdpZHRoOiAnMzAwJ30pOwoKICAgICAgICAgICAgCiAgICAgICAgICAgICAgICB2YXIgaHRtbF8yZmUzZjMxZWI3YTE0ZjZjOGI1NzY2OTUwMzFhNDIyYSA9ICQoJzxkaXYgaWQ9Imh0bWxfMmZlM2YzMWViN2ExNGY2YzhiNTc2Njk1MDMxYTQyMmEiIHN0eWxlPSJ3aWR0aDogMTAwLjAlOyBoZWlnaHQ6IDEwMC4wJTsiPkJhdW1zY2h1bGVud2VnPC9kaXY+JylbMF07CiAgICAgICAgICAgICAgICBwb3B1cF9hMGZhYjBhNWY4NzQ0ZDI3ODI1OGRjM2MyZjlmNmQ5MC5zZXRDb250ZW50KGh0bWxfMmZlM2YzMWViN2ExNGY2YzhiNTc2Njk1MDMxYTQyMmEpOwogICAgICAgICAgICAKCiAgICAgICAgICAgIGNpcmNsZV9tYXJrZXJfMmI0ZWEyYTYxM2Y2NDQ5MWE0NzcwZjM3MjJjMGUxYWQuYmluZFBvcHVwKHBvcHVwX2EwZmFiMGE1Zjg3NDRkMjc4MjU4ZGMzYzJmOWY2ZDkwKTsKCiAgICAgICAgICAgIAogICAgICAgIAogICAgCiAgICAgICAgICAgIHZhciBjaXJjbGVfbWFya2VyX2VlYWRmYWM1NTkxMzQ5NjM4YmM5ODEwNDI5NDgxNDk4ID0gTC5jaXJjbGVNYXJrZXIoCiAgICAgICAgICAgICAgICBbNTIuNDQzMzMyOTk5OTk5OTk2LDEzLjUwMjIyMl0sCiAgICAgICAgICAgICAgICB7CiAgImJ1YmJsaW5nTW91c2VFdmVudHMiOiB0cnVlLAogICJjb2xvciI6ICJibHVlIiwKICAiZGFzaEFycmF5IjogbnVsbCwKICAiZGFzaE9mZnNldCI6IG51bGwsCiAgImZpbGwiOiB0cnVlLAogICJmaWxsQ29sb3IiOiAiIzMxODZjYyIsCiAgImZpbGxPcGFjaXR5IjogMC43LAogICJmaWxsUnVsZSI6ICJldmVub2RkIiwKICAibGluZUNhcCI6ICJyb3VuZCIsCiAgImxpbmVKb2luIjogInJvdW5kIiwKICAib3BhY2l0eSI6IDEuMCwKICAicmFkaXVzIjogNSwKICAic3Ryb2tlIjogdHJ1ZSwKICAid2VpZ2h0IjogMwp9CiAgICAgICAgICAgICAgICApLmFkZFRvKG1hcF83ZmE1ZWM3NTgyOGE0NmZiODAzYzg3ZjllNDZhOTMyOCk7CiAgICAgICAgICAgIAogICAgCiAgICAgICAgICAgIHZhciBwb3B1cF8zNjhlNjE2MjhhMGQ0NmUxOGVjYzhhNWE3OTAzZTA2MSA9IEwucG9wdXAoe21heFdpZHRoOiAnMzAwJ30pOwoKICAgICAgICAgICAgCiAgICAgICAgICAgICAgICB2YXIgaHRtbF8wODExMjYwYmVkNzU0OTI2YTA5MWRlMjRiZWJlMGJhYyA9ICQoJzxkaXYgaWQ9Imh0bWxfMDgxMTI2MGJlZDc1NDkyNmEwOTFkZTI0YmViZTBiYWMiIHN0eWxlPSJ3aWR0aDogMTAwLjAlOyBoZWlnaHQ6IDEwMC4wJTsiPkpvaGFubmlzdGhhbDwvZGl2PicpWzBdOwogICAgICAgICAgICAgICAgcG9wdXBfMzY4ZTYxNjI4YTBkNDZlMThlY2M4YTVhNzkwM2UwNjEuc2V0Q29udGVudChodG1sXzA4MTEyNjBiZWQ3NTQ5MjZhMDkxZGUyNGJlYmUwYmFjKTsKICAgICAgICAgICAgCgogICAgICAgICAgICBjaXJjbGVfbWFya2VyX2VlYWRmYWM1NTkxMzQ5NjM4YmM5ODEwNDI5NDgxNDk4LmJpbmRQb3B1cChwb3B1cF8zNjhlNjE2MjhhMGQ0NmUxOGVjYzhhNWE3OTAzZTA2MSk7CgogICAgICAgICAgICAKICAgICAgICAKICAgIAogICAgICAgICAgICB2YXIgY2lyY2xlX21hcmtlcl9jMjgzMjM5NjRkMTE0NDQzYjFhMzkzZGJhY2JlNjU5NSA9IEwuY2lyY2xlTWFya2VyKAogICAgICAgICAgICAgICAgWzUyLjQ1NjExMSwxMy41MTMwNTZdLAogICAgICAgICAgICAgICAgewogICJidWJibGluZ01vdXNlRXZlbnRzIjogdHJ1ZSwKICAiY29sb3IiOiAiYmx1ZSIsCiAgImRhc2hBcnJheSI6IG51bGwsCiAgImRhc2hPZmZzZXQiOiBudWxsLAogICJmaWxsIjogdHJ1ZSwKICAiZmlsbENvbG9yIjogIiMzMTg2Y2MiLAogICJmaWxsT3BhY2l0eSI6IDAuNywKICAiZmlsbFJ1bGUiOiAiZXZlbm9kZCIsCiAgImxpbmVDYXAiOiAicm91bmQiLAogICJsaW5lSm9pbiI6ICJyb3VuZCIsCiAgIm9wYWNpdHkiOiAxLjAsCiAgInJhZGl1cyI6IDUsCiAgInN0cm9rZSI6IHRydWUsCiAgIndlaWdodCI6IDMKfQogICAgICAgICAgICAgICAgKS5hZGRUbyhtYXBfN2ZhNWVjNzU4MjhhNDZmYjgwM2M4N2Y5ZTQ2YTkzMjgpOwogICAgICAgICAgICAKICAgIAogICAgICAgICAgICB2YXIgcG9wdXBfMTFmZTk0MTVlMWM4NGE4Y2ExMjIyNjJkZGMyNTY5ZmYgPSBMLnBvcHVwKHttYXhXaWR0aDogJzMwMCd9KTsKCiAgICAgICAgICAgIAogICAgICAgICAgICAgICAgdmFyIGh0bWxfMmE0YTYwNGRkZmFlNGM3YWIyNmFhNzI5ZmVmYzQ2YzUgPSAkKCc8ZGl2IGlkPSJodG1sXzJhNGE2MDRkZGZhZTRjN2FiMjZhYTcyOWZlZmM0NmM1IiBzdHlsZT0id2lkdGg6IDEwMC4wJTsgaGVpZ2h0OiAxMDAuMCU7Ij5OaWVkZXJzY2jDtm5ld2VpZGU8L2Rpdj4nKVswXTsKICAgICAgICAgICAgICAgIHBvcHVwXzExZmU5NDE1ZTFjODRhOGNhMTIyMjYyZGRjMjU2OWZmLnNldENvbnRlbnQoaHRtbF8yYTRhNjA0ZGRmYWU0YzdhYjI2YWE3MjlmZWZjNDZjNSk7CiAgICAgICAgICAgIAoKICAgICAgICAgICAgY2lyY2xlX21hcmtlcl9jMjgzMjM5NjRkMTE0NDQzYjFhMzkzZGJhY2JlNjU5NS5iaW5kUG9wdXAocG9wdXBfMTFmZTk0MTVlMWM4NGE4Y2ExMjIyNjJkZGMyNTY5ZmYpOwoKICAgICAgICAgICAgCiAgICAgICAgCiAgICAKICAgICAgICAgICAgdmFyIGNpcmNsZV9tYXJrZXJfMTBhYjJjMTBhOTJiNDBkMGFkMjBiNjliMjY5MWVhNzggPSBMLmNpcmNsZU1hcmtlcigKICAgICAgICAgICAgICAgIFs1Mi40MTY2NjcsMTMuNTMzMzMyOTk5OTk5OTk5XSwKICAgICAgICAgICAgICAgIHsKICAiYnViYmxpbmdNb3VzZUV2ZW50cyI6IHRydWUsCiAgImNvbG9yIjogImJsdWUiLAogICJkYXNoQXJyYXkiOiBudWxsLAogICJkYXNoT2Zmc2V0IjogbnVsbCwKICAiZmlsbCI6IHRydWUsCiAgImZpbGxDb2xvciI6ICIjMzE4NmNjIiwKICAiZmlsbE9wYWNpdHkiOiAwLjcsCiAgImZpbGxSdWxlIjogImV2ZW5vZGQiLAogICJsaW5lQ2FwIjogInJvdW5kIiwKICAibGluZUpvaW4iOiAicm91bmQiLAogICJvcGFjaXR5IjogMS4wLAogICJyYWRpdXMiOiA1LAogICJzdHJva2UiOiB0cnVlLAogICJ3ZWlnaHQiOiAzCn0KICAgICAgICAgICAgICAgICkuYWRkVG8obWFwXzdmYTVlYzc1ODI4YTQ2ZmI4MDNjODdmOWU0NmE5MzI4KTsKICAgICAgICAgICAgCiAgICAKICAgICAgICAgICAgdmFyIHBvcHVwXzk4YjdjMWJlMWM3YzQ1NzU4OGRlODU2Y2U3ODRkZjQ3ID0gTC5wb3B1cCh7bWF4V2lkdGg6ICczMDAnfSk7CgogICAgICAgICAgICAKICAgICAgICAgICAgICAgIHZhciBodG1sXzBhMTIwM2Q4YzdmMjRjOGVhMWUyODEyMmFmZmE5M2Y4ID0gJCgnPGRpdiBpZD0iaHRtbF8wYTEyMDNkOGM3ZjI0YzhlYTFlMjgxMjJhZmZhOTNmOCIgc3R5bGU9IndpZHRoOiAxMDAuMCU7IGhlaWdodDogMTAwLjAlOyI+QWx0Z2xpZW5pY2tlPC9kaXY+JylbMF07CiAgICAgICAgICAgICAgICBwb3B1cF85OGI3YzFiZTFjN2M0NTc1ODhkZTg1NmNlNzg0ZGY0Ny5zZXRDb250ZW50KGh0bWxfMGExMjAzZDhjN2YyNGM4ZWExZTI4MTIyYWZmYTkzZjgpOwogICAgICAgICAgICAKCiAgICAgICAgICAgIGNpcmNsZV9tYXJrZXJfMTBhYjJjMTBhOTJiNDBkMGFkMjBiNjliMjY5MWVhNzguYmluZFBvcHVwKHBvcHVwXzk4YjdjMWJlMWM3YzQ1NzU4OGRlODU2Y2U3ODRkZjQ3KTsKCiAgICAgICAgICAgIAogICAgICAgIAogICAgCiAgICAgICAgICAgIHZhciBjaXJjbGVfbWFya2VyXzljZDgyZGJkYTY0MjRjNTA4NGRjNGY1ZmJmNWYwNzg2ID0gTC5jaXJjbGVNYXJrZXIoCiAgICAgICAgICAgICAgICBbNTIuNDM3Nzc4LDEzLjU0NzVdLAogICAgICAgICAgICAgICAgewogICJidWJibGluZ01vdXNlRXZlbnRzIjogdHJ1ZSwKICAiY29sb3IiOiAiYmx1ZSIsCiAgImRhc2hBcnJheSI6IG51bGwsCiAgImRhc2hPZmZzZXQiOiBudWxsLAogICJmaWxsIjogdHJ1ZSwKICAiZmlsbENvbG9yIjogIiMzMTg2Y2MiLAogICJmaWxsT3BhY2l0eSI6IDAuNywKICAiZmlsbFJ1bGUiOiAiZXZlbm9kZCIsCiAgImxpbmVDYXAiOiAicm91bmQiLAogICJsaW5lSm9pbiI6ICJyb3VuZCIsCiAgIm9wYWNpdHkiOiAxLjAsCiAgInJhZGl1cyI6IDUsCiAgInN0cm9rZSI6IHRydWUsCiAgIndlaWdodCI6IDMKfQogICAgICAgICAgICAgICAgKS5hZGRUbyhtYXBfN2ZhNWVjNzU4MjhhNDZmYjgwM2M4N2Y5ZTQ2YTkzMjgpOwogICAgICAgICAgICAKICAgIAogICAgICAgICAgICB2YXIgcG9wdXBfYTljZGIzNzRmZGMxNGY4ZWI4OTdlNjQ1NGNmMWRmNjkgPSBMLnBvcHVwKHttYXhXaWR0aDogJzMwMCd9KTsKCiAgICAgICAgICAgIAogICAgICAgICAgICAgICAgdmFyIGh0bWxfMDgzOWY0NGE2YzI4NGE2Mjk0N2JlYzdiZjlkMzAzZDggPSAkKCc8ZGl2IGlkPSJodG1sXzA4MzlmNDRhNmMyODRhNjI5NDdiZWM3YmY5ZDMwM2Q4IiBzdHlsZT0id2lkdGg6IDEwMC4wJTsgaGVpZ2h0OiAxMDAuMCU7Ij5BZGxlcnNob2Y8L2Rpdj4nKVswXTsKICAgICAgICAgICAgICAgIHBvcHVwX2E5Y2RiMzc0ZmRjMTRmOGViODk3ZTY0NTRjZjFkZjY5LnNldENvbnRlbnQoaHRtbF8wODM5ZjQ0YTZjMjg0YTYyOTQ3YmVjN2JmOWQzMDNkOCk7CiAgICAgICAgICAgIAoKICAgICAgICAgICAgY2lyY2xlX21hcmtlcl85Y2Q4MmRiZGE2NDI0YzUwODRkYzRmNWZiZjVmMDc4Ni5iaW5kUG9wdXAocG9wdXBfYTljZGIzNzRmZGMxNGY4ZWI4OTdlNjQ1NGNmMWRmNjkpOwoKICAgICAgICAgICAgCiAgICAgICAgCiAgICAKICAgICAgICAgICAgdmFyIGNpcmNsZV9tYXJrZXJfYjFlMmJiNzY1NzRhNGQ1ZmJmMzJhYzUyZTRmMjAwNTggPSBMLmNpcmNsZU1hcmtlcigKICAgICAgICAgICAgICAgIFs1Mi40LDEzLjU2NjY2N10sCiAgICAgICAgICAgICAgICB7CiAgImJ1YmJsaW5nTW91c2VFdmVudHMiOiB0cnVlLAogICJjb2xvciI6ICJibHVlIiwKICAiZGFzaEFycmF5IjogbnVsbCwKICAiZGFzaE9mZnNldCI6IG51bGwsCiAgImZpbGwiOiB0cnVlLAogICJmaWxsQ29sb3IiOiAiIzMxODZjYyIsCiAgImZpbGxPcGFjaXR5IjogMC43LAogICJmaWxsUnVsZSI6ICJldmVub2RkIiwKICAibGluZUNhcCI6ICJyb3VuZCIsCiAgImxpbmVKb2luIjogInJvdW5kIiwKICAib3BhY2l0eSI6IDEuMCwKICAicmFkaXVzIjogNSwKICAic3Ryb2tlIjogdHJ1ZSwKICAid2VpZ2h0IjogMwp9CiAgICAgICAgICAgICAgICApLmFkZFRvKG1hcF83ZmE1ZWM3NTgyOGE0NmZiODAzYzg3ZjllNDZhOTMyOCk7CiAgICAgICAgICAgIAogICAgCiAgICAgICAgICAgIHZhciBwb3B1cF80MDg4NjMxOTY3Zjg0NjUyOTIyMzc0MGIzY2ZkZjMxMiA9IEwucG9wdXAoe21heFdpZHRoOiAnMzAwJ30pOwoKICAgICAgICAgICAgCiAgICAgICAgICAgICAgICB2YXIgaHRtbF9jOWZiNWFmNGVkZjE0NTI5OWJiOTg3YjUxMTY3NTFhZSA9ICQoJzxkaXYgaWQ9Imh0bWxfYzlmYjVhZjRlZGYxNDUyOTliYjk4N2I1MTE2NzUxYWUiIHN0eWxlPSJ3aWR0aDogMTAwLjAlOyBoZWlnaHQ6IDEwMC4wJTsiPkJvaG5zZG9yZjwvZGl2PicpWzBdOwogICAgICAgICAgICAgICAgcG9wdXBfNDA4ODYzMTk2N2Y4NDY1MjkyMjM3NDBiM2NmZGYzMTIuc2V0Q29udGVudChodG1sX2M5ZmI1YWY0ZWRmMTQ1Mjk5YmI5ODdiNTExNjc1MWFlKTsKICAgICAgICAgICAgCgogICAgICAgICAgICBjaXJjbGVfbWFya2VyX2IxZTJiYjc2NTc0YTRkNWZiZjMyYWM1MmU0ZjIwMDU4LmJpbmRQb3B1cChwb3B1cF80MDg4NjMxOTY3Zjg0NjUyOTIyMzc0MGIzY2ZkZjMxMik7CgogICAgICAgICAgICAKICAgICAgICAKICAgIAogICAgICAgICAgICB2YXIgY2lyY2xlX21hcmtlcl9lZjE3ZjdmMTFkM2M0NzA5ODNmMDczOGJmNDE2NzczZSA9IEwuY2lyY2xlTWFya2VyKAogICAgICAgICAgICAgICAgWzUyLjQ2MTk0Mzk5OTk5OTk5NSwxMy41MTVdLAogICAgICAgICAgICAgICAgewogICJidWJibGluZ01vdXNlRXZlbnRzIjogdHJ1ZSwKICAiY29sb3IiOiAiYmx1ZSIsCiAgImRhc2hBcnJheSI6IG51bGwsCiAgImRhc2hPZmZzZXQiOiBudWxsLAogICJmaWxsIjogdHJ1ZSwKICAiZmlsbENvbG9yIjogIiMzMTg2Y2MiLAogICJmaWxsT3BhY2l0eSI6IDAuNywKICAiZmlsbFJ1bGUiOiAiZXZlbm9kZCIsCiAgImxpbmVDYXAiOiAicm91bmQiLAogICJsaW5lSm9pbiI6ICJyb3VuZCIsCiAgIm9wYWNpdHkiOiAxLjAsCiAgInJhZGl1cyI6IDUsCiAgInN0cm9rZSI6IHRydWUsCiAgIndlaWdodCI6IDMKfQogICAgICAgICAgICAgICAgKS5hZGRUbyhtYXBfN2ZhNWVjNzU4MjhhNDZmYjgwM2M4N2Y5ZTQ2YTkzMjgpOwogICAgICAgICAgICAKICAgIAogICAgICAgICAgICB2YXIgcG9wdXBfNDE3Nzk3MWEwM2JmNGI5Y2JlZDUxNTJjYzI0MDQ2ZDYgPSBMLnBvcHVwKHttYXhXaWR0aDogJzMwMCd9KTsKCiAgICAgICAgICAgIAogICAgICAgICAgICAgICAgdmFyIGh0bWxfY2IyOWFiMzgyOWVkNDM1MDhjZjQ2OWM5ZGU0NmYzYjQgPSAkKCc8ZGl2IGlkPSJodG1sX2NiMjlhYjM4MjllZDQzNTA4Y2Y0NjljOWRlNDZmM2I0IiBzdHlsZT0id2lkdGg6IDEwMC4wJTsgaGVpZ2h0OiAxMDAuMCU7Ij5PYmVyc2Now7ZuZXdlaWRlPC9kaXY+JylbMF07CiAgICAgICAgICAgICAgICBwb3B1cF80MTc3OTcxYTAzYmY0YjljYmVkNTE1MmNjMjQwNDZkNi5zZXRDb250ZW50KGh0bWxfY2IyOWFiMzgyOWVkNDM1MDhjZjQ2OWM5ZGU0NmYzYjQpOwogICAgICAgICAgICAKCiAgICAgICAgICAgIGNpcmNsZV9tYXJrZXJfZWYxN2Y3ZjExZDNjNDcwOTgzZjA3MzhiZjQxNjc3M2UuYmluZFBvcHVwKHBvcHVwXzQxNzc5NzFhMDNiZjRiOWNiZWQ1MTUyY2MyNDA0NmQ2KTsKCiAgICAgICAgICAgIAogICAgICAgIAogICAgCiAgICAgICAgICAgIHZhciBjaXJjbGVfbWFya2VyX2QzOWU1ZjBlNjhlMDQ1YTI5MzUyYzNmZmI4YTg1YzBhID0gTC5jaXJjbGVNYXJrZXIoCiAgICAgICAgICAgICAgICBbNTIuNDQ1ODMyOTk5OTk5OTksMTMuNTc3MjIyXSwKICAgICAgICAgICAgICAgIHsKICAiYnViYmxpbmdNb3VzZUV2ZW50cyI6IHRydWUsCiAgImNvbG9yIjogImJsdWUiLAogICJkYXNoQXJyYXkiOiBudWxsLAogICJkYXNoT2Zmc2V0IjogbnVsbCwKICAiZmlsbCI6IHRydWUsCiAgImZpbGxDb2xvciI6ICIjMzE4NmNjIiwKICAiZmlsbE9wYWNpdHkiOiAwLjcsCiAgImZpbGxSdWxlIjogImV2ZW5vZGQiLAogICJsaW5lQ2FwIjogInJvdW5kIiwKICAibGluZUpvaW4iOiAicm91bmQiLAogICJvcGFjaXR5IjogMS4wLAogICJyYWRpdXMiOiA1LAogICJzdHJva2UiOiB0cnVlLAogICJ3ZWlnaHQiOiAzCn0KICAgICAgICAgICAgICAgICkuYWRkVG8obWFwXzdmYTVlYzc1ODI4YTQ2ZmI4MDNjODdmOWU0NmE5MzI4KTsKICAgICAgICAgICAgCiAgICAKICAgICAgICAgICAgdmFyIHBvcHVwX2JhMjE3MGQyZDFkZjQ5ZTJhMjQ1ZGFlMzc3NjhjNDBjID0gTC5wb3B1cCh7bWF4V2lkdGg6ICczMDAnfSk7CgogICAgICAgICAgICAKICAgICAgICAgICAgICAgIHZhciBodG1sXzZmNGI0NWY5YmJiODRlZWI4NTI5NjVjY2MzYWRjZmVjID0gJCgnPGRpdiBpZD0iaHRtbF82ZjRiNDVmOWJiYjg0ZWViODUyOTY1Y2NjM2FkY2ZlYyIgc3R5bGU9IndpZHRoOiAxMDAuMCU7IGhlaWdodDogMTAwLjAlOyI+S8O2cGVuaWNrPC9kaXY+JylbMF07CiAgICAgICAgICAgICAgICBwb3B1cF9iYTIxNzBkMmQxZGY0OWUyYTI0NWRhZTM3NzY4YzQwYy5zZXRDb250ZW50KGh0bWxfNmY0YjQ1ZjliYmI4NGVlYjg1Mjk2NWNjYzNhZGNmZWMpOwogICAgICAgICAgICAKCiAgICAgICAgICAgIGNpcmNsZV9tYXJrZXJfZDM5ZTVmMGU2OGUwNDVhMjkzNTJjM2ZmYjhhODVjMGEuYmluZFBvcHVwKHBvcHVwX2JhMjE3MGQyZDFkZjQ5ZTJhMjQ1ZGFlMzc3NjhjNDBjKTsKCiAgICAgICAgICAgIAogICAgICAgIAogICAgCiAgICAgICAgICAgIHZhciBjaXJjbGVfbWFya2VyX2FjODM0YTQyYWQ1NDQxZDQ4MzdhMzk1NDNjNWJiY2IzID0gTC5jaXJjbGVNYXJrZXIoCiAgICAgICAgICAgICAgICBbNTIuNDUsMTMuNjE2NjY3MDAwMDAwMDAxXSwKICAgICAgICAgICAgICAgIHsKICAiYnViYmxpbmdNb3VzZUV2ZW50cyI6IHRydWUsCiAgImNvbG9yIjogImJsdWUiLAogICJkYXNoQXJyYXkiOiBudWxsLAogICJkYXNoT2Zmc2V0IjogbnVsbCwKICAiZmlsbCI6IHRydWUsCiAgImZpbGxDb2xvciI6ICIjMzE4NmNjIiwKICAiZmlsbE9wYWNpdHkiOiAwLjcsCiAgImZpbGxSdWxlIjogImV2ZW5vZGQiLAogICJsaW5lQ2FwIjogInJvdW5kIiwKICAibGluZUpvaW4iOiAicm91bmQiLAogICJvcGFjaXR5IjogMS4wLAogICJyYWRpdXMiOiA1LAogICJzdHJva2UiOiB0cnVlLAogICJ3ZWlnaHQiOiAzCn0KICAgICAgICAgICAgICAgICkuYWRkVG8obWFwXzdmYTVlYzc1ODI4YTQ2ZmI4MDNjODdmOWU0NmE5MzI4KTsKICAgICAgICAgICAgCiAgICAKICAgICAgICAgICAgdmFyIHBvcHVwXzRjZDAzNTgwMjE2YzQyNTg4NjhmYzhlYTg0NDM5MzE1ID0gTC5wb3B1cCh7bWF4V2lkdGg6ICczMDAnfSk7CgogICAgICAgICAgICAKICAgICAgICAgICAgICAgIHZhciBodG1sX2UyNzY3ZWZjMDllNjQ3ZDliNmE5ZGMxMmZmMGM5YjE1ID0gJCgnPGRpdiBpZD0iaHRtbF9lMjc2N2VmYzA5ZTY0N2Q5YjZhOWRjMTJmZjBjOWIxNSIgc3R5bGU9IndpZHRoOiAxMDAuMCU7IGhlaWdodDogMTAwLjAlOyI+RnJpZWRyaWNoc2hhZ2VuPC9kaXY+JylbMF07CiAgICAgICAgICAgICAgICBwb3B1cF80Y2QwMzU4MDIxNmM0MjU4ODY4ZmM4ZWE4NDQzOTMxNS5zZXRDb250ZW50KGh0bWxfZTI3NjdlZmMwOWU2NDdkOWI2YTlkYzEyZmYwYzliMTUpOwogICAgICAgICAgICAKCiAgICAgICAgICAgIGNpcmNsZV9tYXJrZXJfYWM4MzRhNDJhZDU0NDFkNDgzN2EzOTU0M2M1YmJjYjMuYmluZFBvcHVwKHBvcHVwXzRjZDAzNTgwMjE2YzQyNTg4NjhmYzhlYTg0NDM5MzE1KTsKCiAgICAgICAgICAgIAogICAgICAgIAogICAgCiAgICAgICAgICAgIHZhciBjaXJjbGVfbWFya2VyXzhlNmViZDdkYmZiZjQ4ZTg4NGMxNjUwNmQ1OGNmNzFkID0gTC5jaXJjbGVNYXJrZXIoCiAgICAgICAgICAgICAgICBbNTIuNDMzMzMzLDEzLjddLAogICAgICAgICAgICAgICAgewogICJidWJibGluZ01vdXNlRXZlbnRzIjogdHJ1ZSwKICAiY29sb3IiOiAiYmx1ZSIsCiAgImRhc2hBcnJheSI6IG51bGwsCiAgImRhc2hPZmZzZXQiOiBudWxsLAogICJmaWxsIjogdHJ1ZSwKICAiZmlsbENvbG9yIjogIiMzMTg2Y2MiLAogICJmaWxsT3BhY2l0eSI6IDAuNywKICAiZmlsbFJ1bGUiOiAiZXZlbm9kZCIsCiAgImxpbmVDYXAiOiAicm91bmQiLAogICJsaW5lSm9pbiI6ICJyb3VuZCIsCiAgIm9wYWNpdHkiOiAxLjAsCiAgInJhZGl1cyI6IDUsCiAgInN0cm9rZSI6IHRydWUsCiAgIndlaWdodCI6IDMKfQogICAgICAgICAgICAgICAgKS5hZGRUbyhtYXBfN2ZhNWVjNzU4MjhhNDZmYjgwM2M4N2Y5ZTQ2YTkzMjgpOwogICAgICAgICAgICAKICAgIAogICAgICAgICAgICB2YXIgcG9wdXBfYTg3ZWRhYTM4MGI3NDdjYjhiY2RlNjFiMTllNDZmMzQgPSBMLnBvcHVwKHttYXhXaWR0aDogJzMwMCd9KTsKCiAgICAgICAgICAgIAogICAgICAgICAgICAgICAgdmFyIGh0bWxfMzk1NGJhOGNmYTkwNDRhM2E1MDRiMDdkOTc4MDg3OGUgPSAkKCc8ZGl2IGlkPSJodG1sXzM5NTRiYThjZmE5MDQ0YTNhNTA0YjA3ZDk3ODA4NzhlIiBzdHlsZT0id2lkdGg6IDEwMC4wJTsgaGVpZ2h0OiAxMDAuMCU7Ij5SYWhuc2RvcmY8L2Rpdj4nKVswXTsKICAgICAgICAgICAgICAgIHBvcHVwX2E4N2VkYWEzODBiNzQ3Y2I4YmNkZTYxYjE5ZTQ2ZjM0LnNldENvbnRlbnQoaHRtbF8zOTU0YmE4Y2ZhOTA0NGEzYTUwNGIwN2Q5NzgwODc4ZSk7CiAgICAgICAgICAgIAoKICAgICAgICAgICAgY2lyY2xlX21hcmtlcl84ZTZlYmQ3ZGJmYmY0OGU4ODRjMTY1MDZkNThjZjcxZC5iaW5kUG9wdXAocG9wdXBfYTg3ZWRhYTM4MGI3NDdjYjhiY2RlNjFiMTllNDZmMzQpOwoKICAgICAgICAgICAgCiAgICAgICAgCiAgICAKICAgICAgICAgICAgdmFyIGNpcmNsZV9tYXJrZXJfOWZmYWZmZWMzM2RkNDkzZmE1MmFmYzc0ODE5MzdiODMgPSBMLmNpcmNsZU1hcmtlcigKICAgICAgICAgICAgICAgIFs1Mi40MTY2NjcsMTMuNTY2NjY3XSwKICAgICAgICAgICAgICAgIHsKICAiYnViYmxpbmdNb3VzZUV2ZW50cyI6IHRydWUsCiAgImNvbG9yIjogImJsdWUiLAogICJkYXNoQXJyYXkiOiBudWxsLAogICJkYXNoT2Zmc2V0IjogbnVsbCwKICAiZmlsbCI6IHRydWUsCiAgImZpbGxDb2xvciI6ICIjMzE4NmNjIiwKICAiZmlsbE9wYWNpdHkiOiAwLjcsCiAgImZpbGxSdWxlIjogImV2ZW5vZGQiLAogICJsaW5lQ2FwIjogInJvdW5kIiwKICAibGluZUpvaW4iOiAicm91bmQiLAogICJvcGFjaXR5IjogMS4wLAogICJyYWRpdXMiOiA1LAogICJzdHJva2UiOiB0cnVlLAogICJ3ZWlnaHQiOiAzCn0KICAgICAgICAgICAgICAgICkuYWRkVG8obWFwXzdmYTVlYzc1ODI4YTQ2ZmI4MDNjODdmOWU0NmE5MzI4KTsKICAgICAgICAgICAgCiAgICAKICAgICAgICAgICAgdmFyIHBvcHVwXzUwY2E1MTUxN2MyMTQ3ZDhiOTA4ZDQ1OTYxM2M2MTY0ID0gTC5wb3B1cCh7bWF4V2lkdGg6ICczMDAnfSk7CgogICAgICAgICAgICAKICAgICAgICAgICAgICAgIHZhciBodG1sXzM5ZDMwYjlhZmFmZjRhZWY5ZTZlMTM5ZTg5ZWRiYzUwID0gJCgnPGRpdiBpZD0iaHRtbF8zOWQzMGI5YWZhZmY0YWVmOWU2ZTEzOWU4OWVkYmM1MCIgc3R5bGU9IndpZHRoOiAxMDAuMCU7IGhlaWdodDogMTAwLjAlOyI+R3LDvG5hdTwvZGl2PicpWzBdOwogICAgICAgICAgICAgICAgcG9wdXBfNTBjYTUxNTE3YzIxNDdkOGI5MDhkNDU5NjEzYzYxNjQuc2V0Q29udGVudChodG1sXzM5ZDMwYjlhZmFmZjRhZWY5ZTZlMTM5ZTg5ZWRiYzUwKTsKICAgICAgICAgICAgCgogICAgICAgICAgICBjaXJjbGVfbWFya2VyXzlmZmFmZmVjMzNkZDQ5M2ZhNTJhZmM3NDgxOTM3YjgzLmJpbmRQb3B1cChwb3B1cF81MGNhNTE1MTdjMjE0N2Q4YjkwOGQ0NTk2MTNjNjE2NCk7CgogICAgICAgICAgICAKICAgICAgICAKICAgIAogICAgICAgICAgICB2YXIgY2lyY2xlX21hcmtlcl9mZDlkZGQxY2U1ZGE0NGU5YjgxMGYwYWVmNDBlYjhkZSA9IEwuY2lyY2xlTWFya2VyKAogICAgICAgICAgICAgICAgWzUyLjQsMTMuNjVdLAogICAgICAgICAgICAgICAgewogICJidWJibGluZ01vdXNlRXZlbnRzIjogdHJ1ZSwKICAiY29sb3IiOiAiYmx1ZSIsCiAgImRhc2hBcnJheSI6IG51bGwsCiAgImRhc2hPZmZzZXQiOiBudWxsLAogICJmaWxsIjogdHJ1ZSwKICAiZmlsbENvbG9yIjogIiMzMTg2Y2MiLAogICJmaWxsT3BhY2l0eSI6IDAuNywKICAiZmlsbFJ1bGUiOiAiZXZlbm9kZCIsCiAgImxpbmVDYXAiOiAicm91bmQiLAogICJsaW5lSm9pbiI6ICJyb3VuZCIsCiAgIm9wYWNpdHkiOiAxLjAsCiAgInJhZGl1cyI6IDUsCiAgInN0cm9rZSI6IHRydWUsCiAgIndlaWdodCI6IDMKfQogICAgICAgICAgICAgICAgKS5hZGRUbyhtYXBfN2ZhNWVjNzU4MjhhNDZmYjgwM2M4N2Y5ZTQ2YTkzMjgpOwogICAgICAgICAgICAKICAgIAogICAgICAgICAgICB2YXIgcG9wdXBfNTkxMjI2OWJhOGU4NDQ5ZDgyNmZjMzY3ZDQ0Mzg3OWEgPSBMLnBvcHVwKHttYXhXaWR0aDogJzMwMCd9KTsKCiAgICAgICAgICAgIAogICAgICAgICAgICAgICAgdmFyIGh0bWxfOGYzYzBiMGE3MDgxNGUwMDg5MDQ3ZjM3N2Q3MDA4ZDggPSAkKCc8ZGl2IGlkPSJodG1sXzhmM2MwYjBhNzA4MTRlMDA4OTA0N2YzNzdkNzAwOGQ4IiBzdHlsZT0id2lkdGg6IDEwMC4wJTsgaGVpZ2h0OiAxMDAuMCU7Ij5Nw7xnZ2VsaGVpbTwvZGl2PicpWzBdOwogICAgICAgICAgICAgICAgcG9wdXBfNTkxMjI2OWJhOGU4NDQ5ZDgyNmZjMzY3ZDQ0Mzg3OWEuc2V0Q29udGVudChodG1sXzhmM2MwYjBhNzA4MTRlMDA4OTA0N2YzNzdkNzAwOGQ4KTsKICAgICAgICAgICAgCgogICAgICAgICAgICBjaXJjbGVfbWFya2VyX2ZkOWRkZDFjZTVkYTQ0ZTliODEwZjBhZWY0MGViOGRlLmJpbmRQb3B1cChwb3B1cF81OTEyMjY5YmE4ZTg0NDlkODI2ZmMzNjdkNDQzODc5YSk7CgogICAgICAgICAgICAKICAgICAgICAKICAgIAogICAgICAgICAgICB2YXIgY2lyY2xlX21hcmtlcl9jOWIzZGQwNTQzMjc0YWQzOWE2YmZmN2U4MjM1ZTI5ZiA9IEwuY2lyY2xlTWFya2VyKAogICAgICAgICAgICAgICAgWzUyLjM2NjY2NywxMy42MzMzMzI5OTk5OTk5OTldLAogICAgICAgICAgICAgICAgewogICJidWJibGluZ01vdXNlRXZlbnRzIjogdHJ1ZSwKICAiY29sb3IiOiAiYmx1ZSIsCiAgImRhc2hBcnJheSI6IG51bGwsCiAgImRhc2hPZmZzZXQiOiBudWxsLAogICJmaWxsIjogdHJ1ZSwKICAiZmlsbENvbG9yIjogIiMzMTg2Y2MiLAogICJmaWxsT3BhY2l0eSI6IDAuNywKICAiZmlsbFJ1bGUiOiAiZXZlbm9kZCIsCiAgImxpbmVDYXAiOiAicm91bmQiLAogICJsaW5lSm9pbiI6ICJyb3VuZCIsCiAgIm9wYWNpdHkiOiAxLjAsCiAgInJhZGl1cyI6IDUsCiAgInN0cm9rZSI6IHRydWUsCiAgIndlaWdodCI6IDMKfQogICAgICAgICAgICAgICAgKS5hZGRUbyhtYXBfN2ZhNWVjNzU4MjhhNDZmYjgwM2M4N2Y5ZTQ2YTkzMjgpOwogICAgICAgICAgICAKICAgIAogICAgICAgICAgICB2YXIgcG9wdXBfNzRhM2Q5NDVhYTRiNDU1YWI4MDgwYzg5ZTg1YzFhMzMgPSBMLnBvcHVwKHttYXhXaWR0aDogJzMwMCd9KTsKCiAgICAgICAgICAgIAogICAgICAgICAgICAgICAgdmFyIGh0bWxfNmVhYmU4NjJlMWFkNDYyZGFiYWNlYWZmYTFiZDBjYWUgPSAkKCc8ZGl2IGlkPSJodG1sXzZlYWJlODYyZTFhZDQ2MmRhYmFjZWFmZmExYmQwY2FlIiBzdHlsZT0id2lkdGg6IDEwMC4wJTsgaGVpZ2h0OiAxMDAuMCU7Ij5TY2htw7Zja3dpdHo8L2Rpdj4nKVswXTsKICAgICAgICAgICAgICAgIHBvcHVwXzc0YTNkOTQ1YWE0YjQ1NWFiODA4MGM4OWU4NWMxYTMzLnNldENvbnRlbnQoaHRtbF82ZWFiZTg2MmUxYWQ0NjJkYWJhY2VhZmZhMWJkMGNhZSk7CiAgICAgICAgICAgIAoKICAgICAgICAgICAgY2lyY2xlX21hcmtlcl9jOWIzZGQwNTQzMjc0YWQzOWE2YmZmN2U4MjM1ZTI5Zi5iaW5kUG9wdXAocG9wdXBfNzRhM2Q5NDVhYTRiNDU1YWI4MDgwYzg5ZTg1YzFhMzMpOwoKICAgICAgICAgICAgCiAgICAgICAgCiAgICAKICAgICAgICAgICAgdmFyIGNpcmNsZV9tYXJrZXJfMWYwZTNjZDNiY2I4NDEyYTk0NDUyMDEyNjIwNmFjNzcgPSBMLmNpcmNsZU1hcmtlcigKICAgICAgICAgICAgICAgIFs1Mi41NSwxMy41NV0sCiAgICAgICAgICAgICAgICB7CiAgImJ1YmJsaW5nTW91c2VFdmVudHMiOiB0cnVlLAogICJjb2xvciI6ICJibHVlIiwKICAiZGFzaEFycmF5IjogbnVsbCwKICAiZGFzaE9mZnNldCI6IG51bGwsCiAgImZpbGwiOiB0cnVlLAogICJmaWxsQ29sb3IiOiAiIzMxODZjYyIsCiAgImZpbGxPcGFjaXR5IjogMC43LAogICJmaWxsUnVsZSI6ICJldmVub2RkIiwKICAibGluZUNhcCI6ICJyb3VuZCIsCiAgImxpbmVKb2luIjogInJvdW5kIiwKICAib3BhY2l0eSI6IDEuMCwKICAicmFkaXVzIjogNSwKICAic3Ryb2tlIjogdHJ1ZSwKICAid2VpZ2h0IjogMwp9CiAgICAgICAgICAgICAgICApLmFkZFRvKG1hcF83ZmE1ZWM3NTgyOGE0NmZiODAzYzg3ZjllNDZhOTMyOCk7CiAgICAgICAgICAgIAogICAgCiAgICAgICAgICAgIHZhciBwb3B1cF8xYjg1NTVhZWVlNWY0OGExODRhNTBjN2ZmMDVkMDA5ZiA9IEwucG9wdXAoe21heFdpZHRoOiAnMzAwJ30pOwoKICAgICAgICAgICAgCiAgICAgICAgICAgICAgICB2YXIgaHRtbF83YTYwZGNjMzhiNGY0MWFiOWVhMGM2MWZhNmQ1N2U5OSA9ICQoJzxkaXYgaWQ9Imh0bWxfN2E2MGRjYzM4YjRmNDFhYjllYTBjNjFmYTZkNTdlOTkiIHN0eWxlPSJ3aWR0aDogMTAwLjAlOyBoZWlnaHQ6IDEwMC4wJTsiPk1hcnphaG48L2Rpdj4nKVswXTsKICAgICAgICAgICAgICAgIHBvcHVwXzFiODU1NWFlZWU1ZjQ4YTE4NGE1MGM3ZmYwNWQwMDlmLnNldENvbnRlbnQoaHRtbF83YTYwZGNjMzhiNGY0MWFiOWVhMGM2MWZhNmQ1N2U5OSk7CiAgICAgICAgICAgIAoKICAgICAgICAgICAgY2lyY2xlX21hcmtlcl8xZjBlM2NkM2JjYjg0MTJhOTQ0NTIwMTI2MjA2YWM3Ny5iaW5kUG9wdXAocG9wdXBfMWI4NTU1YWVlZTVmNDhhMTg0YTUwYzdmZjA1ZDAwOWYpOwoKICAgICAgICAgICAgCiAgICAgICAgCiAgICAKICAgICAgICAgICAgdmFyIGNpcmNsZV9tYXJrZXJfYmEyNGYwNTRkNjc4NDQ4YzliNTY2ODgxMGFhYTJjYzAgPSBMLmNpcmNsZU1hcmtlcigKICAgICAgICAgICAgICAgIFs1Mi41MDkxNjcwMDAwMDAwMDUsMTMuNTU1Mjc4XSwKICAgICAgICAgICAgICAgIHsKICAiYnViYmxpbmdNb3VzZUV2ZW50cyI6IHRydWUsCiAgImNvbG9yIjogImJsdWUiLAogICJkYXNoQXJyYXkiOiBudWxsLAogICJkYXNoT2Zmc2V0IjogbnVsbCwKICAiZmlsbCI6IHRydWUsCiAgImZpbGxDb2xvciI6ICIjMzE4NmNjIiwKICAiZmlsbE9wYWNpdHkiOiAwLjcsCiAgImZpbGxSdWxlIjogImV2ZW5vZGQiLAogICJsaW5lQ2FwIjogInJvdW5kIiwKICAibGluZUpvaW4iOiAicm91bmQiLAogICJvcGFjaXR5IjogMS4wLAogICJyYWRpdXMiOiA1LAogICJzdHJva2UiOiB0cnVlLAogICJ3ZWlnaHQiOiAzCn0KICAgICAgICAgICAgICAgICkuYWRkVG8obWFwXzdmYTVlYzc1ODI4YTQ2ZmI4MDNjODdmOWU0NmE5MzI4KTsKICAgICAgICAgICAgCiAgICAKICAgICAgICAgICAgdmFyIHBvcHVwXzA1NjE2Yzc1MDQ1NzQ2OWQ4MzBlZDZkNTVmYmYzOTljID0gTC5wb3B1cCh7bWF4V2lkdGg6ICczMDAnfSk7CgogICAgICAgICAgICAKICAgICAgICAgICAgICAgIHZhciBodG1sXzhiYjQ1NGIxYzZiNDQ5MDA5YjI0Y2ZlZmNkN2E5YzhmID0gJCgnPGRpdiBpZD0iaHRtbF84YmI0NTRiMWM2YjQ0OTAwOWIyNGNmZWZjZDdhOWM4ZiIgc3R5bGU9IndpZHRoOiAxMDAuMCU7IGhlaWdodDogMTAwLjAlOyI+Qmllc2RvcmY8L2Rpdj4nKVswXTsKICAgICAgICAgICAgICAgIHBvcHVwXzA1NjE2Yzc1MDQ1NzQ2OWQ4MzBlZDZkNTVmYmYzOTljLnNldENvbnRlbnQoaHRtbF84YmI0NTRiMWM2YjQ0OTAwOWIyNGNmZWZjZDdhOWM4Zik7CiAgICAgICAgICAgIAoKICAgICAgICAgICAgY2lyY2xlX21hcmtlcl9iYTI0ZjA1NGQ2Nzg0NDhjOWI1NjY4ODEwYWFhMmNjMC5iaW5kUG9wdXAocG9wdXBfMDU2MTZjNzUwNDU3NDY5ZDgzMGVkNmQ1NWZiZjM5OWMpOwoKICAgICAgICAgICAgCiAgICAgICAgCiAgICAKICAgICAgICAgICAgdmFyIGNpcmNsZV9tYXJrZXJfNjYzMjI4MTVlNjk0NGRhZThiNzY1Njc4MTU0NjdmMWIgPSBMLmNpcmNsZU1hcmtlcigKICAgICAgICAgICAgICAgIFs1Mi41MDgwNTYsMTMuNTgwODMyOTk5OTk5OTk4XSwKICAgICAgICAgICAgICAgIHsKICAiYnViYmxpbmdNb3VzZUV2ZW50cyI6IHRydWUsCiAgImNvbG9yIjogImJsdWUiLAogICJkYXNoQXJyYXkiOiBudWxsLAogICJkYXNoT2Zmc2V0IjogbnVsbCwKICAiZmlsbCI6IHRydWUsCiAgImZpbGxDb2xvciI6ICIjMzE4NmNjIiwKICAiZmlsbE9wYWNpdHkiOiAwLjcsCiAgImZpbGxSdWxlIjogImV2ZW5vZGQiLAogICJsaW5lQ2FwIjogInJvdW5kIiwKICAibGluZUpvaW4iOiAicm91bmQiLAogICJvcGFjaXR5IjogMS4wLAogICJyYWRpdXMiOiA1LAogICJzdHJva2UiOiB0cnVlLAogICJ3ZWlnaHQiOiAzCn0KICAgICAgICAgICAgICAgICkuYWRkVG8obWFwXzdmYTVlYzc1ODI4YTQ2ZmI4MDNjODdmOWU0NmE5MzI4KTsKICAgICAgICAgICAgCiAgICAKICAgICAgICAgICAgdmFyIHBvcHVwX2RjMDFkYjVjYmJmZjQ3ZGRiMGUyMWRjMzIwMGY2NWI2ID0gTC5wb3B1cCh7bWF4V2lkdGg6ICczMDAnfSk7CgogICAgICAgICAgICAKICAgICAgICAgICAgICAgIHZhciBodG1sXzRlMTJhOWQ3NWY0ZDQ4NmQ5M2VkN2Q0N2E0ZTBmNzVlID0gJCgnPGRpdiBpZD0iaHRtbF80ZTEyYTlkNzVmNGQ0ODZkOTNlZDdkNDdhNGUwZjc1ZSIgc3R5bGU9IndpZHRoOiAxMDAuMCU7IGhlaWdodDogMTAwLjAlOyI+S2F1bHNkb3JmPC9kaXY+JylbMF07CiAgICAgICAgICAgICAgICBwb3B1cF9kYzAxZGI1Y2JiZmY0N2RkYjBlMjFkYzMyMDBmNjViNi5zZXRDb250ZW50KGh0bWxfNGUxMmE5ZDc1ZjRkNDg2ZDkzZWQ3ZDQ3YTRlMGY3NWUpOwogICAgICAgICAgICAKCiAgICAgICAgICAgIGNpcmNsZV9tYXJrZXJfNjYzMjI4MTVlNjk0NGRhZThiNzY1Njc4MTU0NjdmMWIuYmluZFBvcHVwKHBvcHVwX2RjMDFkYjVjYmJmZjQ3ZGRiMGUyMWRjMzIwMGY2NWI2KTsKCiAgICAgICAgICAgIAogICAgICAgIAogICAgCiAgICAgICAgICAgIHZhciBjaXJjbGVfbWFya2VyXzQ4NGQwMDFhNzg5NjQ2YTI4YzA4MGJkNTFlYjg3YTc5ID0gTC5jaXJjbGVNYXJrZXIoCiAgICAgICAgICAgICAgICBbNTIuNTA2MTExLDEzLjYxNV0sCiAgICAgICAgICAgICAgICB7CiAgImJ1YmJsaW5nTW91c2VFdmVudHMiOiB0cnVlLAogICJjb2xvciI6ICJibHVlIiwKICAiZGFzaEFycmF5IjogbnVsbCwKICAiZGFzaE9mZnNldCI6IG51bGwsCiAgImZpbGwiOiB0cnVlLAogICJmaWxsQ29sb3IiOiAiIzMxODZjYyIsCiAgImZpbGxPcGFjaXR5IjogMC43LAogICJmaWxsUnVsZSI6ICJldmVub2RkIiwKICAibGluZUNhcCI6ICJyb3VuZCIsCiAgImxpbmVKb2luIjogInJvdW5kIiwKICAib3BhY2l0eSI6IDEuMCwKICAicmFkaXVzIjogNSwKICAic3Ryb2tlIjogdHJ1ZSwKICAid2VpZ2h0IjogMwp9CiAgICAgICAgICAgICAgICApLmFkZFRvKG1hcF83ZmE1ZWM3NTgyOGE0NmZiODAzYzg3ZjllNDZhOTMyOCk7CiAgICAgICAgICAgIAogICAgCiAgICAgICAgICAgIHZhciBwb3B1cF9mZGE3ZTNmYzdiZWE0MTc4ODYxMTBiZDcyN2JjM2QyNyA9IEwucG9wdXAoe21heFdpZHRoOiAnMzAwJ30pOwoKICAgICAgICAgICAgCiAgICAgICAgICAgICAgICB2YXIgaHRtbF9iYWFkZWIxNDNjNWY0M2Q2OTQzMmVkMzM0NTg4OTMxYSA9ICQoJzxkaXYgaWQ9Imh0bWxfYmFhZGViMTQzYzVmNDNkNjk0MzJlZDMzNDU4ODkzMWEiIHN0eWxlPSJ3aWR0aDogMTAwLjAlOyBoZWlnaHQ6IDEwMC4wJTsiPk1haGxzZG9yZjwvZGl2PicpWzBdOwogICAgICAgICAgICAgICAgcG9wdXBfZmRhN2UzZmM3YmVhNDE3ODg2MTEwYmQ3MjdiYzNkMjcuc2V0Q29udGVudChodG1sX2JhYWRlYjE0M2M1ZjQzZDY5NDMyZWQzMzQ1ODg5MzFhKTsKICAgICAgICAgICAgCgogICAgICAgICAgICBjaXJjbGVfbWFya2VyXzQ4NGQwMDFhNzg5NjQ2YTI4YzA4MGJkNTFlYjg3YTc5LmJpbmRQb3B1cChwb3B1cF9mZGE3ZTNmYzdiZWE0MTc4ODYxMTBiZDcyN2JjM2QyNyk7CgogICAgICAgICAgICAKICAgICAgICAKICAgIAogICAgICAgICAgICB2YXIgY2lyY2xlX21hcmtlcl9mYWI3MjQxZjNlZGQ0MzlhYTY5MDk1NGI2ZDY3NjY4NiA9IEwuY2lyY2xlTWFya2VyKAogICAgICAgICAgICAgICAgWzUyLjUzOTE2NzAwMDAwMDAwNiwxMy41OTIyMjJdLAogICAgICAgICAgICAgICAgewogICJidWJibGluZ01vdXNlRXZlbnRzIjogdHJ1ZSwKICAiY29sb3IiOiAiYmx1ZSIsCiAgImRhc2hBcnJheSI6IG51bGwsCiAgImRhc2hPZmZzZXQiOiBudWxsLAogICJmaWxsIjogdHJ1ZSwKICAiZmlsbENvbG9yIjogIiMzMTg2Y2MiLAogICJmaWxsT3BhY2l0eSI6IDAuNywKICAiZmlsbFJ1bGUiOiAiZXZlbm9kZCIsCiAgImxpbmVDYXAiOiAicm91bmQiLAogICJsaW5lSm9pbiI6ICJyb3VuZCIsCiAgIm9wYWNpdHkiOiAxLjAsCiAgInJhZGl1cyI6IDUsCiAgInN0cm9rZSI6IHRydWUsCiAgIndlaWdodCI6IDMKfQogICAgICAgICAgICAgICAgKS5hZGRUbyhtYXBfN2ZhNWVjNzU4MjhhNDZmYjgwM2M4N2Y5ZTQ2YTkzMjgpOwogICAgICAgICAgICAKICAgIAogICAgICAgICAgICB2YXIgcG9wdXBfZGRkZmQ2NDBkMzQ4NGZhNWFlMWNlZTE5YjA5OTQ1ZDUgPSBMLnBvcHVwKHttYXhXaWR0aDogJzMwMCd9KTsKCiAgICAgICAgICAgIAogICAgICAgICAgICAgICAgdmFyIGh0bWxfNWE1ODllYjJkZGUwNDlhNWJiNjAwZmMxNTE4MDZiMWMgPSAkKCc8ZGl2IGlkPSJodG1sXzVhNTg5ZWIyZGRlMDQ5YTViYjYwMGZjMTUxODA2YjFjIiBzdHlsZT0id2lkdGg6IDEwMC4wJTsgaGVpZ2h0OiAxMDAuMCU7Ij5IZWxsZXJzZG9yZjwvZGl2PicpWzBdOwogICAgICAgICAgICAgICAgcG9wdXBfZGRkZmQ2NDBkMzQ4NGZhNWFlMWNlZTE5YjA5OTQ1ZDUuc2V0Q29udGVudChodG1sXzVhNTg5ZWIyZGRlMDQ5YTViYjYwMGZjMTUxODA2YjFjKTsKICAgICAgICAgICAgCgogICAgICAgICAgICBjaXJjbGVfbWFya2VyX2ZhYjcyNDFmM2VkZDQzOWFhNjkwOTU0YjZkNjc2Njg2LmJpbmRQb3B1cChwb3B1cF9kZGRmZDY0MGQzNDg0ZmE1YWUxY2VlMTliMDk5NDVkNSk7CgogICAgICAgICAgICAKICAgICAgICAKICAgIAogICAgICAgICAgICB2YXIgY2lyY2xlX21hcmtlcl9kNGM5YzUzYzk2NWY0MmQ1OGIyNDE2OWFiOTNmNDI4ZSA9IEwuY2lyY2xlTWFya2VyKAogICAgICAgICAgICAgICAgWzUyLjUwNTgzMjk5OTk5OTk5NiwxMy41MTkxNjcwMDAwMDAwMDFdLAogICAgICAgICAgICAgICAgewogICJidWJibGluZ01vdXNlRXZlbnRzIjogdHJ1ZSwKICAiY29sb3IiOiAiYmx1ZSIsCiAgImRhc2hBcnJheSI6IG51bGwsCiAgImRhc2hPZmZzZXQiOiBudWxsLAogICJmaWxsIjogdHJ1ZSwKICAiZmlsbENvbG9yIjogIiMzMTg2Y2MiLAogICJmaWxsT3BhY2l0eSI6IDAuNywKICAiZmlsbFJ1bGUiOiAiZXZlbm9kZCIsCiAgImxpbmVDYXAiOiAicm91bmQiLAogICJsaW5lSm9pbiI6ICJyb3VuZCIsCiAgIm9wYWNpdHkiOiAxLjAsCiAgInJhZGl1cyI6IDUsCiAgInN0cm9rZSI6IHRydWUsCiAgIndlaWdodCI6IDMKfQogICAgICAgICAgICAgICAgKS5hZGRUbyhtYXBfN2ZhNWVjNzU4MjhhNDZmYjgwM2M4N2Y5ZTQ2YTkzMjgpOwogICAgICAgICAgICAKICAgIAogICAgICAgICAgICB2YXIgcG9wdXBfNjdiZGJjNjU3ZmZlNGZhOGIxYTMwZDJhZGQwNTZlMjMgPSBMLnBvcHVwKHttYXhXaWR0aDogJzMwMCd9KTsKCiAgICAgICAgICAgIAogICAgICAgICAgICAgICAgdmFyIGh0bWxfNTRlZmQzNDQ4M2RjNDhmZmE3YjA2YTg2M2NhODMwMzcgPSAkKCc8ZGl2IGlkPSJodG1sXzU0ZWZkMzQ0ODNkYzQ4ZmZhN2IwNmE4NjNjYTgzMDM3IiBzdHlsZT0id2lkdGg6IDEwMC4wJTsgaGVpZ2h0OiAxMDAuMCU7Ij5GcmllZHJpY2hzZmVsZGU8L2Rpdj4nKVswXTsKICAgICAgICAgICAgICAgIHBvcHVwXzY3YmRiYzY1N2ZmZTRmYThiMWEzMGQyYWRkMDU2ZTIzLnNldENvbnRlbnQoaHRtbF81NGVmZDM0NDgzZGM0OGZmYTdiMDZhODYzY2E4MzAzNyk7CiAgICAgICAgICAgIAoKICAgICAgICAgICAgY2lyY2xlX21hcmtlcl9kNGM5YzUzYzk2NWY0MmQ1OGIyNDE2OWFiOTNmNDI4ZS5iaW5kUG9wdXAocG9wdXBfNjdiZGJjNjU3ZmZlNGZhOGIxYTMwZDJhZGQwNTZlMjMpOwoKICAgICAgICAgICAgCiAgICAgICAgCiAgICAKICAgICAgICAgICAgdmFyIGNpcmNsZV9tYXJrZXJfNjk3M2M3YjVhNDZhNGE1M2FhZWY0NDJmMzYyZDkwNWQgPSBMLmNpcmNsZU1hcmtlcigKICAgICAgICAgICAgICAgIFs1Mi41MjExMTEsMTMuNDhdLAogICAgICAgICAgICAgICAgewogICJidWJibGluZ01vdXNlRXZlbnRzIjogdHJ1ZSwKICAiY29sb3IiOiAiYmx1ZSIsCiAgImRhc2hBcnJheSI6IG51bGwsCiAgImRhc2hPZmZzZXQiOiBudWxsLAogICJmaWxsIjogdHJ1ZSwKICAiZmlsbENvbG9yIjogIiMzMTg2Y2MiLAogICJmaWxsT3BhY2l0eSI6IDAuNywKICAiZmlsbFJ1bGUiOiAiZXZlbm9kZCIsCiAgImxpbmVDYXAiOiAicm91bmQiLAogICJsaW5lSm9pbiI6ICJyb3VuZCIsCiAgIm9wYWNpdHkiOiAxLjAsCiAgInJhZGl1cyI6IDUsCiAgInN0cm9rZSI6IHRydWUsCiAgIndlaWdodCI6IDMKfQogICAgICAgICAgICAgICAgKS5hZGRUbyhtYXBfN2ZhNWVjNzU4MjhhNDZmYjgwM2M4N2Y5ZTQ2YTkzMjgpOwogICAgICAgICAgICAKICAgIAogICAgICAgICAgICB2YXIgcG9wdXBfZmNiYWU4NGUxZGJkNDUwZTk4MzgxZjc0MGYyYzRhN2UgPSBMLnBvcHVwKHttYXhXaWR0aDogJzMwMCd9KTsKCiAgICAgICAgICAgIAogICAgICAgICAgICAgICAgdmFyIGh0bWxfMmYwMTEwMTc4ZDU2NDVkYzgzZDg2N2IwYjg0YThmMGYgPSAkKCc8ZGl2IGlkPSJodG1sXzJmMDExMDE3OGQ1NjQ1ZGM4M2Q4NjdiMGI4NGE4ZjBmIiBzdHlsZT0id2lkdGg6IDEwMC4wJTsgaGVpZ2h0OiAxMDAuMCU7Ij5LYXJsc2hvcnN0PC9kaXY+JylbMF07CiAgICAgICAgICAgICAgICBwb3B1cF9mY2JhZTg0ZTFkYmQ0NTBlOTgzODFmNzQwZjJjNGE3ZS5zZXRDb250ZW50KGh0bWxfMmYwMTEwMTc4ZDU2NDVkYzgzZDg2N2IwYjg0YThmMGYpOwogICAgICAgICAgICAKCiAgICAgICAgICAgIGNpcmNsZV9tYXJrZXJfNjk3M2M3YjVhNDZhNGE1M2FhZWY0NDJmMzYyZDkwNWQuYmluZFBvcHVwKHBvcHVwX2ZjYmFlODRlMWRiZDQ1MGU5ODM4MWY3NDBmMmM0YTdlKTsKCiAgICAgICAgICAgIAogICAgICAgIAogICAgCiAgICAgICAgICAgIHZhciBjaXJjbGVfbWFya2VyXzRkOGJlZDI3ZDRkOTQ0ZDE5Y2UwNjg1NTg5NzVhOWFjID0gTC5jaXJjbGVNYXJrZXIoCiAgICAgICAgICAgICAgICBbNTIuNTIxMTExLDEzLjQ4XSwKICAgICAgICAgICAgICAgIHsKICAiYnViYmxpbmdNb3VzZUV2ZW50cyI6IHRydWUsCiAgImNvbG9yIjogImJsdWUiLAogICJkYXNoQXJyYXkiOiBudWxsLAogICJkYXNoT2Zmc2V0IjogbnVsbCwKICAiZmlsbCI6IHRydWUsCiAgImZpbGxDb2xvciI6ICIjMzE4NmNjIiwKICAiZmlsbE9wYWNpdHkiOiAwLjcsCiAgImZpbGxSdWxlIjogImV2ZW5vZGQiLAogICJsaW5lQ2FwIjogInJvdW5kIiwKICAibGluZUpvaW4iOiAicm91bmQiLAogICJvcGFjaXR5IjogMS4wLAogICJyYWRpdXMiOiA1LAogICJzdHJva2UiOiB0cnVlLAogICJ3ZWlnaHQiOiAzCn0KICAgICAgICAgICAgICAgICkuYWRkVG8obWFwXzdmYTVlYzc1ODI4YTQ2ZmI4MDNjODdmOWU0NmE5MzI4KTsKICAgICAgICAgICAgCiAgICAKICAgICAgICAgICAgdmFyIHBvcHVwX2JlY2Q1OWMyZTM2NTQ1NTc5MjNkZWQ2YWEwNDRhZDM0ID0gTC5wb3B1cCh7bWF4V2lkdGg6ICczMDAnfSk7CgogICAgICAgICAgICAKICAgICAgICAgICAgICAgIHZhciBodG1sXzliNTMxN2RhODc1ZTQ0NDRhNGVjODhhMGY1OGRiN2I3ID0gJCgnPGRpdiBpZD0iaHRtbF85YjUzMTdkYTg3NWU0NDQ0YTRlYzg4YTBmNThkYjdiNyIgc3R5bGU9IndpZHRoOiAxMDAuMCU7IGhlaWdodDogMTAwLjAlOyI+TGljaHRlbmJlcmc8L2Rpdj4nKVswXTsKICAgICAgICAgICAgICAgIHBvcHVwX2JlY2Q1OWMyZTM2NTQ1NTc5MjNkZWQ2YWEwNDRhZDM0LnNldENvbnRlbnQoaHRtbF85YjUzMTdkYTg3NWU0NDQ0YTRlYzg4YTBmNThkYjdiNyk7CiAgICAgICAgICAgIAoKICAgICAgICAgICAgY2lyY2xlX21hcmtlcl80ZDhiZWQyN2Q0ZDk0NGQxOWNlMDY4NTU4OTc1YTlhYy5iaW5kUG9wdXAocG9wdXBfYmVjZDU5YzJlMzY1NDU1NzkyM2RlZDZhYTA0NGFkMzQpOwoKICAgICAgICAgICAgCiAgICAgICAgCiAgICAKICAgICAgICAgICAgdmFyIGNpcmNsZV9tYXJrZXJfMGU5YTcyZGMyZjYyNDc1MDg0Y2Q5ZGRjNTQyOGYwOWIgPSBMLmNpcmNsZU1hcmtlcigKICAgICAgICAgICAgICAgIFs1Mi41MDU4MzI5OTk5OTk5OTYsMTMuNTE5MTY3MDAwMDAwMDAxXSwKICAgICAgICAgICAgICAgIHsKICAiYnViYmxpbmdNb3VzZUV2ZW50cyI6IHRydWUsCiAgImNvbG9yIjogImJsdWUiLAogICJkYXNoQXJyYXkiOiBudWxsLAogICJkYXNoT2Zmc2V0IjogbnVsbCwKICAiZmlsbCI6IHRydWUsCiAgImZpbGxDb2xvciI6ICIjMzE4NmNjIiwKICAiZmlsbE9wYWNpdHkiOiAwLjcsCiAgImZpbGxSdWxlIjogImV2ZW5vZGQiLAogICJsaW5lQ2FwIjogInJvdW5kIiwKICAibGluZUpvaW4iOiAicm91bmQiLAogICJvcGFjaXR5IjogMS4wLAogICJyYWRpdXMiOiA1LAogICJzdHJva2UiOiB0cnVlLAogICJ3ZWlnaHQiOiAzCn0KICAgICAgICAgICAgICAgICkuYWRkVG8obWFwXzdmYTVlYzc1ODI4YTQ2ZmI4MDNjODdmOWU0NmE5MzI4KTsKICAgICAgICAgICAgCiAgICAKICAgICAgICAgICAgdmFyIHBvcHVwX2E5MzU2MDRhNGJjYTRjYTI4ZDA4MzkzNDcwODNjNjhlID0gTC5wb3B1cCh7bWF4V2lkdGg6ICczMDAnfSk7CgogICAgICAgICAgICAKICAgICAgICAgICAgICAgIHZhciBodG1sX2UzMmU4NWMyNmE0MTRkMDM5YTllN2VhNGQ0ZGE2MWExID0gJCgnPGRpdiBpZD0iaHRtbF9lMzJlODVjMjZhNDE0ZDAzOWE5ZTdlYTRkNGRhNjFhMSIgc3R5bGU9IndpZHRoOiAxMDAuMCU7IGhlaWdodDogMTAwLjAlOyI+RmFsa2VuYmVyZzwvZGl2PicpWzBdOwogICAgICAgICAgICAgICAgcG9wdXBfYTkzNTYwNGE0YmNhNGNhMjhkMDgzOTM0NzA4M2M2OGUuc2V0Q29udGVudChodG1sX2UzMmU4NWMyNmE0MTRkMDM5YTllN2VhNGQ0ZGE2MWExKTsKICAgICAgICAgICAgCgogICAgICAgICAgICBjaXJjbGVfbWFya2VyXzBlOWE3MmRjMmY2MjQ3NTA4NGNkOWRkYzU0MjhmMDliLmJpbmRQb3B1cChwb3B1cF9hOTM1NjA0YTRiY2E0Y2EyOGQwODM5MzQ3MDgzYzY4ZSk7CgogICAgICAgICAgICAKICAgICAgICAKICAgIAogICAgICAgICAgICB2YXIgY2lyY2xlX21hcmtlcl83ZjQzNzU0NzQ4YjI0YjIzYjZiMDkzNTc3MDIxZGZhMSA9IEwuY2lyY2xlTWFya2VyKAogICAgICAgICAgICAgICAgWzUyLjU3OTE2NzAwMDAwMDAwNSwxMy40ODI1XSwKICAgICAgICAgICAgICAgIHsKICAiYnViYmxpbmdNb3VzZUV2ZW50cyI6IHRydWUsCiAgImNvbG9yIjogImJsdWUiLAogICJkYXNoQXJyYXkiOiBudWxsLAogICJkYXNoT2Zmc2V0IjogbnVsbCwKICAiZmlsbCI6IHRydWUsCiAgImZpbGxDb2xvciI6ICIjMzE4NmNjIiwKICAiZmlsbE9wYWNpdHkiOiAwLjcsCiAgImZpbGxSdWxlIjogImV2ZW5vZGQiLAogICJsaW5lQ2FwIjogInJvdW5kIiwKICAibGluZUpvaW4iOiAicm91bmQiLAogICJvcGFjaXR5IjogMS4wLAogICJyYWRpdXMiOiA1LAogICJzdHJva2UiOiB0cnVlLAogICJ3ZWlnaHQiOiAzCn0KICAgICAgICAgICAgICAgICkuYWRkVG8obWFwXzdmYTVlYzc1ODI4YTQ2ZmI4MDNjODdmOWU0NmE5MzI4KTsKICAgICAgICAgICAgCiAgICAKICAgICAgICAgICAgdmFyIHBvcHVwX2MwMDNkYjliN2FiNDQ1MWFhNmU0ZjcwMjE0ZGUwYThlID0gTC5wb3B1cCh7bWF4V2lkdGg6ICczMDAnfSk7CgogICAgICAgICAgICAKICAgICAgICAgICAgICAgIHZhciBodG1sX2RjZGFjNTE2Zjk5MzQ3ZTdhMzUwMjM3NTNiMjA3MmU5ID0gJCgnPGRpdiBpZD0iaHRtbF9kY2RhYzUxNmY5OTM0N2U3YTM1MDIzNzUzYjIwNzJlOSIgc3R5bGU9IndpZHRoOiAxMDAuMCU7IGhlaWdodDogMTAwLjAlOyI+TWFsY2hvdzwvZGl2PicpWzBdOwogICAgICAgICAgICAgICAgcG9wdXBfYzAwM2RiOWI3YWI0NDUxYWE2ZTRmNzAyMTRkZTBhOGUuc2V0Q29udGVudChodG1sX2RjZGFjNTE2Zjk5MzQ3ZTdhMzUwMjM3NTNiMjA3MmU5KTsKICAgICAgICAgICAgCgogICAgICAgICAgICBjaXJjbGVfbWFya2VyXzdmNDM3NTQ3NDhiMjRiMjNiNmIwOTM1NzcwMjFkZmExLmJpbmRQb3B1cChwb3B1cF9jMDAzZGI5YjdhYjQ0NTFhYTZlNGY3MDIxNGRlMGE4ZSk7CgogICAgICAgICAgICAKICAgICAgICAKICAgIAogICAgICAgICAgICB2YXIgY2lyY2xlX21hcmtlcl9iNmFkYzYxNTkzOGE0MzBmODc0MDRjZTExNTliZWFkNSA9IEwuY2lyY2xlTWFya2VyKAogICAgICAgICAgICAgICAgWzUyLjU3NDcyMTk5OTk5OTk5NCwxMy41MTgwNTZdLAogICAgICAgICAgICAgICAgewogICJidWJibGluZ01vdXNlRXZlbnRzIjogdHJ1ZSwKICAiY29sb3IiOiAiYmx1ZSIsCiAgImRhc2hBcnJheSI6IG51bGwsCiAgImRhc2hPZmZzZXQiOiBudWxsLAogICJmaWxsIjogdHJ1ZSwKICAiZmlsbENvbG9yIjogIiMzMTg2Y2MiLAogICJmaWxsT3BhY2l0eSI6IDAuNywKICAiZmlsbFJ1bGUiOiAiZXZlbm9kZCIsCiAgImxpbmVDYXAiOiAicm91bmQiLAogICJsaW5lSm9pbiI6ICJyb3VuZCIsCiAgIm9wYWNpdHkiOiAxLjAsCiAgInJhZGl1cyI6IDUsCiAgInN0cm9rZSI6IHRydWUsCiAgIndlaWdodCI6IDMKfQogICAgICAgICAgICAgICAgKS5hZGRUbyhtYXBfN2ZhNWVjNzU4MjhhNDZmYjgwM2M4N2Y5ZTQ2YTkzMjgpOwogICAgICAgICAgICAKICAgIAogICAgICAgICAgICB2YXIgcG9wdXBfYWNmYzE5ZGNlM2U1NDkyNmI3MGEwNGE4MjZjZGNjZmQgPSBMLnBvcHVwKHttYXhXaWR0aDogJzMwMCd9KTsKCiAgICAgICAgICAgIAogICAgICAgICAgICAgICAgdmFyIGh0bWxfM2UzNzk0YmQ5ZmNkNGQxMWEwMzQ1ODlkNzk5ZTYwYmQgPSAkKCc8ZGl2IGlkPSJodG1sXzNlMzc5NGJkOWZjZDRkMTFhMDM0NTg5ZDc5OWU2MGJkIiBzdHlsZT0id2lkdGg6IDEwMC4wJTsgaGVpZ2h0OiAxMDAuMCU7Ij5XYXJ0ZW5iZXJnPC9kaXY+JylbMF07CiAgICAgICAgICAgICAgICBwb3B1cF9hY2ZjMTlkY2UzZTU0OTI2YjcwYTA0YTgyNmNkY2NmZC5zZXRDb250ZW50KGh0bWxfM2UzNzk0YmQ5ZmNkNGQxMWEwMzQ1ODlkNzk5ZTYwYmQpOwogICAgICAgICAgICAKCiAgICAgICAgICAgIGNpcmNsZV9tYXJrZXJfYjZhZGM2MTU5MzhhNDMwZjg3NDA0Y2UxMTU5YmVhZDUuYmluZFBvcHVwKHBvcHVwX2FjZmMxOWRjZTNlNTQ5MjZiNzBhMDRhODI2Y2RjY2ZkKTsKCiAgICAgICAgICAgIAogICAgICAgIAogICAgCiAgICAgICAgICAgIHZhciBjaXJjbGVfbWFya2VyXzczY2VhMmU2YTc0OTQzZTU5YzU5NTgxN2Q5Mzk4NmUyID0gTC5jaXJjbGVNYXJrZXIoCiAgICAgICAgICAgICAgICBbNTIuNTYzMzMyOTk5OTk5OTksMTMuNTA1XSwKICAgICAgICAgICAgICAgIHsKICAiYnViYmxpbmdNb3VzZUV2ZW50cyI6IHRydWUsCiAgImNvbG9yIjogImJsdWUiLAogICJkYXNoQXJyYXkiOiBudWxsLAogICJkYXNoT2Zmc2V0IjogbnVsbCwKICAiZmlsbCI6IHRydWUsCiAgImZpbGxDb2xvciI6ICIjMzE4NmNjIiwKICAiZmlsbE9wYWNpdHkiOiAwLjcsCiAgImZpbGxSdWxlIjogImV2ZW5vZGQiLAogICJsaW5lQ2FwIjogInJvdW5kIiwKICAibGluZUpvaW4iOiAicm91bmQiLAogICJvcGFjaXR5IjogMS4wLAogICJyYWRpdXMiOiA1LAogICJzdHJva2UiOiB0cnVlLAogICJ3ZWlnaHQiOiAzCn0KICAgICAgICAgICAgICAgICkuYWRkVG8obWFwXzdmYTVlYzc1ODI4YTQ2ZmI4MDNjODdmOWU0NmE5MzI4KTsKICAgICAgICAgICAgCiAgICAKICAgICAgICAgICAgdmFyIHBvcHVwX2Q5ODg5NGYxZTdiYTRlODRiYjE3MGQyMmZjNDhmOGQ2ID0gTC5wb3B1cCh7bWF4V2lkdGg6ICczMDAnfSk7CgogICAgICAgICAgICAKICAgICAgICAgICAgICAgIHZhciBodG1sXzJjMWUwNGZiODZiMzQ2YmNiMTEwMjZiYjdmYWNhZDE4ID0gJCgnPGRpdiBpZD0iaHRtbF8yYzFlMDRmYjg2YjM0NmJjYjExMDI2YmI3ZmFjYWQxOCIgc3R5bGU9IndpZHRoOiAxMDAuMCU7IGhlaWdodDogMTAwLjAlOyI+TmV1LUhvaGVuc2Now7ZuaGF1c2VuPC9kaXY+JylbMF07CiAgICAgICAgICAgICAgICBwb3B1cF9kOTg4OTRmMWU3YmE0ZTg0YmIxNzBkMjJmYzQ4ZjhkNi5zZXRDb250ZW50KGh0bWxfMmMxZTA0ZmI4NmIzNDZiY2IxMTAyNmJiN2ZhY2FkMTgpOwogICAgICAgICAgICAKCiAgICAgICAgICAgIGNpcmNsZV9tYXJrZXJfNzNjZWEyZTZhNzQ5NDNlNTljNTk1ODE3ZDkzOTg2ZTIuYmluZFBvcHVwKHBvcHVwX2Q5ODg5NGYxZTdiYTRlODRiYjE3MGQyMmZjNDhmOGQ2KTsKCiAgICAgICAgICAgIAogICAgICAgIAogICAgCiAgICAgICAgICAgIHZhciBjaXJjbGVfbWFya2VyXzBjODdmYjRkZTJmMTQ5NDE5NzEyNGZlMjg5YWY1NDE4ID0gTC5jaXJjbGVNYXJrZXIoCiAgICAgICAgICAgICAgICBbNTIuNTk4NjExLDEzLjUwNzVdLAogICAgICAgICAgICAgICAgewogICJidWJibGluZ01vdXNlRXZlbnRzIjogdHJ1ZSwKICAiY29sb3IiOiAiYmx1ZSIsCiAgImRhc2hBcnJheSI6IG51bGwsCiAgImRhc2hPZmZzZXQiOiBudWxsLAogICJmaWxsIjogdHJ1ZSwKICAiZmlsbENvbG9yIjogIiMzMTg2Y2MiLAogICJmaWxsT3BhY2l0eSI6IDAuNywKICAiZmlsbFJ1bGUiOiAiZXZlbm9kZCIsCiAgImxpbmVDYXAiOiAicm91bmQiLAogICJsaW5lSm9pbiI6ICJyb3VuZCIsCiAgIm9wYWNpdHkiOiAxLjAsCiAgInJhZGl1cyI6IDUsCiAgInN0cm9rZSI6IHRydWUsCiAgIndlaWdodCI6IDMKfQogICAgICAgICAgICAgICAgKS5hZGRUbyhtYXBfN2ZhNWVjNzU4MjhhNDZmYjgwM2M4N2Y5ZTQ2YTkzMjgpOwogICAgICAgICAgICAKICAgIAogICAgICAgICAgICB2YXIgcG9wdXBfMTUyYjk2NWFmZWQwNDQzNGJmYzJjOGI0NDE4OWIwZTQgPSBMLnBvcHVwKHttYXhXaWR0aDogJzMwMCd9KTsKCiAgICAgICAgICAgIAogICAgICAgICAgICAgICAgdmFyIGh0bWxfMTc2Y2Q4YzMzZDRiNGM5ODkwNGVmMTc1MGM1NWU5MGUgPSAkKCc8ZGl2IGlkPSJodG1sXzE3NmNkOGMzM2Q0YjRjOTg5MDRlZjE3NTBjNTVlOTBlIiBzdHlsZT0id2lkdGg6IDEwMC4wJTsgaGVpZ2h0OiAxMDAuMCU7Ij5BbHQtSG9oZW5zY2jDtm5oYXVzZW48L2Rpdj4nKVswXTsKICAgICAgICAgICAgICAgIHBvcHVwXzE1MmI5NjVhZmVkMDQ0MzRiZmMyYzhiNDQxODliMGU0LnNldENvbnRlbnQoaHRtbF8xNzZjZDhjMzNkNGI0Yzk4OTA0ZWYxNzUwYzU1ZTkwZSk7CiAgICAgICAgICAgIAoKICAgICAgICAgICAgY2lyY2xlX21hcmtlcl8wYzg3ZmI0ZGUyZjE0OTQxOTcxMjRmZTI4OWFmNTQxOC5iaW5kUG9wdXAocG9wdXBfMTUyYjk2NWFmZWQwNDQzNGJmYzJjOGI0NDE4OWIwZTQpOwoKICAgICAgICAgICAgCiAgICAgICAgCiAgICAKICAgICAgICAgICAgdmFyIGNpcmNsZV9tYXJrZXJfYjYwYTRhYWU4NjI0NDg2YmEwNWY2Mzg0ODJiMTIzOWEgPSBMLmNpcmNsZU1hcmtlcigKICAgICAgICAgICAgICAgIFs1Mi41MjgzMzI5OTk5OTk5OTYsMTMuNDc0MTY3MDAwMDAwMDAxXSwKICAgICAgICAgICAgICAgIHsKICAiYnViYmxpbmdNb3VzZUV2ZW50cyI6IHRydWUsCiAgImNvbG9yIjogImJsdWUiLAogICJkYXNoQXJyYXkiOiBudWxsLAogICJkYXNoT2Zmc2V0IjogbnVsbCwKICAiZmlsbCI6IHRydWUsCiAgImZpbGxDb2xvciI6ICIjMzE4NmNjIiwKICAiZmlsbE9wYWNpdHkiOiAwLjcsCiAgImZpbGxSdWxlIjogImV2ZW5vZGQiLAogICJsaW5lQ2FwIjogInJvdW5kIiwKICAibGluZUpvaW4iOiAicm91bmQiLAogICJvcGFjaXR5IjogMS4wLAogICJyYWRpdXMiOiA1LAogICJzdHJva2UiOiB0cnVlLAogICJ3ZWlnaHQiOiAzCn0KICAgICAgICAgICAgICAgICkuYWRkVG8obWFwXzdmYTVlYzc1ODI4YTQ2ZmI4MDNjODdmOWU0NmE5MzI4KTsKICAgICAgICAgICAgCiAgICAKICAgICAgICAgICAgdmFyIHBvcHVwXzg3NWE1YWM0NmFjYjQzYmM4MDBjYzczYjU1MGU3OWI4ID0gTC5wb3B1cCh7bWF4V2lkdGg6ICczMDAnfSk7CgogICAgICAgICAgICAKICAgICAgICAgICAgICAgIHZhciBodG1sX2Y2YTRkOGI3OWY5MDQxNTk5M2NiMmI3MGFkZjFiMDFkID0gJCgnPGRpdiBpZD0iaHRtbF9mNmE0ZDhiNzlmOTA0MTU5OTNjYjJiNzBhZGYxYjAxZCIgc3R5bGU9IndpZHRoOiAxMDAuMCU7IGhlaWdodDogMTAwLjAlOyI+RmVubnBmdWhsPC9kaXY+JylbMF07CiAgICAgICAgICAgICAgICBwb3B1cF84NzVhNWFjNDZhY2I0M2JjODAwY2M3M2I1NTBlNzliOC5zZXRDb250ZW50KGh0bWxfZjZhNGQ4Yjc5ZjkwNDE1OTkzY2IyYjcwYWRmMWIwMWQpOwogICAgICAgICAgICAKCiAgICAgICAgICAgIGNpcmNsZV9tYXJrZXJfYjYwYTRhYWU4NjI0NDg2YmEwNWY2Mzg0ODJiMTIzOWEuYmluZFBvcHVwKHBvcHVwXzg3NWE1YWM0NmFjYjQzYmM4MDBjYzczYjU1MGU3OWI4KTsKCiAgICAgICAgICAgIAogICAgICAgIAogICAgCiAgICAgICAgICAgIHZhciBjaXJjbGVfbWFya2VyXzIyNTk0MWM3NmEzNDRkNTA4ZDkxYTM2NDUwZjkxZGQxID0gTC5jaXJjbGVNYXJrZXIoCiAgICAgICAgICAgICAgICBbNTIuNSwxMy40OTI1XSwKICAgICAgICAgICAgICAgIHsKICAiYnViYmxpbmdNb3VzZUV2ZW50cyI6IHRydWUsCiAgImNvbG9yIjogImJsdWUiLAogICJkYXNoQXJyYXkiOiBudWxsLAogICJkYXNoT2Zmc2V0IjogbnVsbCwKICAiZmlsbCI6IHRydWUsCiAgImZpbGxDb2xvciI6ICIjMzE4NmNjIiwKICAiZmlsbE9wYWNpdHkiOiAwLjcsCiAgImZpbGxSdWxlIjogImV2ZW5vZGQiLAogICJsaW5lQ2FwIjogInJvdW5kIiwKICAibGluZUpvaW4iOiAicm91bmQiLAogICJvcGFjaXR5IjogMS4wLAogICJyYWRpdXMiOiA1LAogICJzdHJva2UiOiB0cnVlLAogICJ3ZWlnaHQiOiAzCn0KICAgICAgICAgICAgICAgICkuYWRkVG8obWFwXzdmYTVlYzc1ODI4YTQ2ZmI4MDNjODdmOWU0NmE5MzI4KTsKICAgICAgICAgICAgCiAgICAKICAgICAgICAgICAgdmFyIHBvcHVwX2IwNzg5OGIwNzA3MjRjNjRhMGQ1Njk0NGNkNjE5ZjdiID0gTC5wb3B1cCh7bWF4V2lkdGg6ICczMDAnfSk7CgogICAgICAgICAgICAKICAgICAgICAgICAgICAgIHZhciBodG1sX2IyOWJjM2E1ZDZlMjRmNGRhNmU3MTZmZWI5Y2EzMmE5ID0gJCgnPGRpdiBpZD0iaHRtbF9iMjliYzNhNWQ2ZTI0ZjRkYTZlNzE2ZmViOWNhMzJhOSIgc3R5bGU9IndpZHRoOiAxMDAuMCU7IGhlaWdodDogMTAwLjAlOyI+UnVtbWVsc2J1cmc8L2Rpdj4nKVswXTsKICAgICAgICAgICAgICAgIHBvcHVwX2IwNzg5OGIwNzA3MjRjNjRhMGQ1Njk0NGNkNjE5ZjdiLnNldENvbnRlbnQoaHRtbF9iMjliYzNhNWQ2ZTI0ZjRkYTZlNzE2ZmViOWNhMzJhOSk7CiAgICAgICAgICAgIAoKICAgICAgICAgICAgY2lyY2xlX21hcmtlcl8yMjU5NDFjNzZhMzQ0ZDUwOGQ5MWEzNjQ1MGY5MWRkMS5iaW5kUG9wdXAocG9wdXBfYjA3ODk4YjA3MDcyNGM2NGEwZDU2OTQ0Y2Q2MTlmN2IpOwoKICAgICAgICAgICAgCiAgICAgICAgCiAgICAKICAgICAgICAgICAgdmFyIGNpcmNsZV9tYXJrZXJfMjBhNjUzNGY5ZDQwNDhmNjg3YWQwZjc4MWNhYTZjZGYgPSBMLmNpcmNsZU1hcmtlcigKICAgICAgICAgICAgICAgIFs1Mi41NjY2NjcsMTMuMzMzMzMyOTk5OTk5OTk4XSwKICAgICAgICAgICAgICAgIHsKICAiYnViYmxpbmdNb3VzZUV2ZW50cyI6IHRydWUsCiAgImNvbG9yIjogImJsdWUiLAogICJkYXNoQXJyYXkiOiBudWxsLAogICJkYXNoT2Zmc2V0IjogbnVsbCwKICAiZmlsbCI6IHRydWUsCiAgImZpbGxDb2xvciI6ICIjMzE4NmNjIiwKICAiZmlsbE9wYWNpdHkiOiAwLjcsCiAgImZpbGxSdWxlIjogImV2ZW5vZGQiLAogICJsaW5lQ2FwIjogInJvdW5kIiwKICAibGluZUpvaW4iOiAicm91bmQiLAogICJvcGFjaXR5IjogMS4wLAogICJyYWRpdXMiOiA1LAogICJzdHJva2UiOiB0cnVlLAogICJ3ZWlnaHQiOiAzCn0KICAgICAgICAgICAgICAgICkuYWRkVG8obWFwXzdmYTVlYzc1ODI4YTQ2ZmI4MDNjODdmOWU0NmE5MzI4KTsKICAgICAgICAgICAgCiAgICAKICAgICAgICAgICAgdmFyIHBvcHVwXzRhOTI2ZjViNGRjYTQ5YjA4NzA1NGQ1YzM3OWUxYjAzID0gTC5wb3B1cCh7bWF4V2lkdGg6ICczMDAnfSk7CgogICAgICAgICAgICAKICAgICAgICAgICAgICAgIHZhciBodG1sXzgyMTdhN2JmZjE4NTQ0NTA5YjE2NjU4M2MxMTg3NmNkID0gJCgnPGRpdiBpZD0iaHRtbF84MjE3YTdiZmYxODU0NDUwOWIxNjY1ODNjMTE4NzZjZCIgc3R5bGU9IndpZHRoOiAxMDAuMCU7IGhlaWdodDogMTAwLjAlOyI+UmVpbmlja2VuZG9yZjwvZGl2PicpWzBdOwogICAgICAgICAgICAgICAgcG9wdXBfNGE5MjZmNWI0ZGNhNDliMDg3MDU0ZDVjMzc5ZTFiMDMuc2V0Q29udGVudChodG1sXzgyMTdhN2JmZjE4NTQ0NTA5YjE2NjU4M2MxMTg3NmNkKTsKICAgICAgICAgICAgCgogICAgICAgICAgICBjaXJjbGVfbWFya2VyXzIwYTY1MzRmOWQ0MDQ4ZjY4N2FkMGY3ODFjYWE2Y2RmLmJpbmRQb3B1cChwb3B1cF80YTkyNmY1YjRkY2E0OWIwODcwNTRkNWMzNzllMWIwMyk7CgogICAgICAgICAgICAKICAgICAgICAKICAgIAogICAgICAgICAgICB2YXIgY2lyY2xlX21hcmtlcl84OTRlYzI3ZTc0ZjE0NjM0YmUyMGNmYjEyOWNhMTk5MyA9IEwuY2lyY2xlTWFya2VyKAogICAgICAgICAgICAgICAgWzUyLjU4MzMzMjk5OTk5OTk5NiwxMy4yODMzMzI5OTk5OTk5OTldLAogICAgICAgICAgICAgICAgewogICJidWJibGluZ01vdXNlRXZlbnRzIjogdHJ1ZSwKICAiY29sb3IiOiAiYmx1ZSIsCiAgImRhc2hBcnJheSI6IG51bGwsCiAgImRhc2hPZmZzZXQiOiBudWxsLAogICJmaWxsIjogdHJ1ZSwKICAiZmlsbENvbG9yIjogIiMzMTg2Y2MiLAogICJmaWxsT3BhY2l0eSI6IDAuNywKICAiZmlsbFJ1bGUiOiAiZXZlbm9kZCIsCiAgImxpbmVDYXAiOiAicm91bmQiLAogICJsaW5lSm9pbiI6ICJyb3VuZCIsCiAgIm9wYWNpdHkiOiAxLjAsCiAgInJhZGl1cyI6IDUsCiAgInN0cm9rZSI6IHRydWUsCiAgIndlaWdodCI6IDMKfQogICAgICAgICAgICAgICAgKS5hZGRUbyhtYXBfN2ZhNWVjNzU4MjhhNDZmYjgwM2M4N2Y5ZTQ2YTkzMjgpOwogICAgICAgICAgICAKICAgIAogICAgICAgICAgICB2YXIgcG9wdXBfYjYzYWIzODNmMjE2NGFlNGFkMzQ2YjA3N2IxNjgzZTQgPSBMLnBvcHVwKHttYXhXaWR0aDogJzMwMCd9KTsKCiAgICAgICAgICAgIAogICAgICAgICAgICAgICAgdmFyIGh0bWxfOTdkMjJkZTY1MDcyNDcwMDk0MjE0YzU1OGEzMjdkZjkgPSAkKCc8ZGl2IGlkPSJodG1sXzk3ZDIyZGU2NTA3MjQ3MDA5NDIxNGM1NThhMzI3ZGY5IiBzdHlsZT0id2lkdGg6IDEwMC4wJTsgaGVpZ2h0OiAxMDAuMCU7Ij5UZWdlbDwvZGl2PicpWzBdOwogICAgICAgICAgICAgICAgcG9wdXBfYjYzYWIzODNmMjE2NGFlNGFkMzQ2YjA3N2IxNjgzZTQuc2V0Q29udGVudChodG1sXzk3ZDIyZGU2NTA3MjQ3MDA5NDIxNGM1NThhMzI3ZGY5KTsKICAgICAgICAgICAgCgogICAgICAgICAgICBjaXJjbGVfbWFya2VyXzg5NGVjMjdlNzRmMTQ2MzRiZTIwY2ZiMTI5Y2ExOTkzLmJpbmRQb3B1cChwb3B1cF9iNjNhYjM4M2YyMTY0YWU0YWQzNDZiMDc3YjE2ODNlNCk7CgogICAgICAgICAgICAKICAgICAgICAKICAgIAogICAgICAgICAgICB2YXIgY2lyY2xlX21hcmtlcl9hNTEzOWExMjMzNzU0NDFhOGQ1NjhlY2ViMmRlOWQyYyA9IEwuY2lyY2xlTWFya2VyKAogICAgICAgICAgICAgICAgWzUyLjYxNjY2NzAwMDAwMDAxLDEzLjM2NjY2NzAwMDAwMDAwMV0sCiAgICAgICAgICAgICAgICB7CiAgImJ1YmJsaW5nTW91c2VFdmVudHMiOiB0cnVlLAogICJjb2xvciI6ICJibHVlIiwKICAiZGFzaEFycmF5IjogbnVsbCwKICAiZGFzaE9mZnNldCI6IG51bGwsCiAgImZpbGwiOiB0cnVlLAogICJmaWxsQ29sb3IiOiAiIzMxODZjYyIsCiAgImZpbGxPcGFjaXR5IjogMC43LAogICJmaWxsUnVsZSI6ICJldmVub2RkIiwKICAibGluZUNhcCI6ICJyb3VuZCIsCiAgImxpbmVKb2luIjogInJvdW5kIiwKICAib3BhY2l0eSI6IDEuMCwKICAicmFkaXVzIjogNSwKICAic3Ryb2tlIjogdHJ1ZSwKICAid2VpZ2h0IjogMwp9CiAgICAgICAgICAgICAgICApLmFkZFRvKG1hcF83ZmE1ZWM3NTgyOGE0NmZiODAzYzg3ZjllNDZhOTMyOCk7CiAgICAgICAgICAgIAogICAgCiAgICAgICAgICAgIHZhciBwb3B1cF9lMmYwOGFmM2VhM2E0NzVjOWQ3YWNkNDZjOTc3MDRlNiA9IEwucG9wdXAoe21heFdpZHRoOiAnMzAwJ30pOwoKICAgICAgICAgICAgCiAgICAgICAgICAgICAgICB2YXIgaHRtbF80MjlhMTRiMGU5YTE0OWZlYmY5YWNjZjA3MmUwNWUzMyA9ICQoJzxkaXYgaWQ9Imh0bWxfNDI5YTE0YjBlOWExNDlmZWJmOWFjY2YwNzJlMDVlMzMiIHN0eWxlPSJ3aWR0aDogMTAwLjAlOyBoZWlnaHQ6IDEwMC4wJTsiPktvbnJhZHNow7ZoZTwvZGl2PicpWzBdOwogICAgICAgICAgICAgICAgcG9wdXBfZTJmMDhhZjNlYTNhNDc1YzlkN2FjZDQ2Yzk3NzA0ZTYuc2V0Q29udGVudChodG1sXzQyOWExNGIwZTlhMTQ5ZmViZjlhY2NmMDcyZTA1ZTMzKTsKICAgICAgICAgICAgCgogICAgICAgICAgICBjaXJjbGVfbWFya2VyX2E1MTM5YTEyMzM3NTQ0MWE4ZDU2OGVjZWIyZGU5ZDJjLmJpbmRQb3B1cChwb3B1cF9lMmYwOGFmM2VhM2E0NzVjOWQ3YWNkNDZjOTc3MDRlNik7CgogICAgICAgICAgICAKICAgICAgICAKICAgIAogICAgICAgICAgICB2YXIgY2lyY2xlX21hcmtlcl84MzZjOGQwZjE4Y2M0NTRiOTUyOWE1YmU2YzY3M2VmOSA9IEwuY2lyY2xlTWFya2VyKAogICAgICAgICAgICAgICAgWzUyLjYxNjY2NzAwMDAwMDAxLDEzLjIzMzMzMjk5OTk5OTk5OF0sCiAgICAgICAgICAgICAgICB7CiAgImJ1YmJsaW5nTW91c2VFdmVudHMiOiB0cnVlLAogICJjb2xvciI6ICJibHVlIiwKICAiZGFzaEFycmF5IjogbnVsbCwKICAiZGFzaE9mZnNldCI6IG51bGwsCiAgImZpbGwiOiB0cnVlLAogICJmaWxsQ29sb3IiOiAiIzMxODZjYyIsCiAgImZpbGxPcGFjaXR5IjogMC43LAogICJmaWxsUnVsZSI6ICJldmVub2RkIiwKICAibGluZUNhcCI6ICJyb3VuZCIsCiAgImxpbmVKb2luIjogInJvdW5kIiwKICAib3BhY2l0eSI6IDEuMCwKICAicmFkaXVzIjogNSwKICAic3Ryb2tlIjogdHJ1ZSwKICAid2VpZ2h0IjogMwp9CiAgICAgICAgICAgICAgICApLmFkZFRvKG1hcF83ZmE1ZWM3NTgyOGE0NmZiODAzYzg3ZjllNDZhOTMyOCk7CiAgICAgICAgICAgIAogICAgCiAgICAgICAgICAgIHZhciBwb3B1cF9hNzkwYzE0YmNkNzQ0MjAyYTJmOTM5OGM3NzU3MjUxYyA9IEwucG9wdXAoe21heFdpZHRoOiAnMzAwJ30pOwoKICAgICAgICAgICAgCiAgICAgICAgICAgICAgICB2YXIgaHRtbF81ZTFkOTcyZGE2OGU0MGJlYjcxY2FiYjY4ODBiYzllYSA9ICQoJzxkaXYgaWQ9Imh0bWxfNWUxZDk3MmRhNjhlNDBiZWI3MWNhYmI2ODgwYmM5ZWEiIHN0eWxlPSJ3aWR0aDogMTAwLjAlOyBoZWlnaHQ6IDEwMC4wJTsiPkhlaWxpZ2Vuc2VlPC9kaXY+JylbMF07CiAgICAgICAgICAgICAgICBwb3B1cF9hNzkwYzE0YmNkNzQ0MjAyYTJmOTM5OGM3NzU3MjUxYy5zZXRDb250ZW50KGh0bWxfNWUxZDk3MmRhNjhlNDBiZWI3MWNhYmI2ODgwYmM5ZWEpOwogICAgICAgICAgICAKCiAgICAgICAgICAgIGNpcmNsZV9tYXJrZXJfODM2YzhkMGYxOGNjNDU0Yjk1MjlhNWJlNmM2NzNlZjkuYmluZFBvcHVwKHBvcHVwX2E3OTBjMTRiY2Q3NDQyMDJhMmY5Mzk4Yzc3NTcyNTFjKTsKCiAgICAgICAgICAgIAogICAgICAgIAogICAgCiAgICAgICAgICAgIHZhciBjaXJjbGVfbWFya2VyX2YxMTMzZmJiOGRhNzRiMDhiODA5MzkzZmIyY2Y2ZTIwID0gTC5jaXJjbGVNYXJrZXIoCiAgICAgICAgICAgICAgICBbNTIuNjMzMzMyOTk5OTk5OTksMTMuM10sCiAgICAgICAgICAgICAgICB7CiAgImJ1YmJsaW5nTW91c2VFdmVudHMiOiB0cnVlLAogICJjb2xvciI6ICJibHVlIiwKICAiZGFzaEFycmF5IjogbnVsbCwKICAiZGFzaE9mZnNldCI6IG51bGwsCiAgImZpbGwiOiB0cnVlLAogICJmaWxsQ29sb3IiOiAiIzMxODZjYyIsCiAgImZpbGxPcGFjaXR5IjogMC43LAogICJmaWxsUnVsZSI6ICJldmVub2RkIiwKICAibGluZUNhcCI6ICJyb3VuZCIsCiAgImxpbmVKb2luIjogInJvdW5kIiwKICAib3BhY2l0eSI6IDEuMCwKICAicmFkaXVzIjogNSwKICAic3Ryb2tlIjogdHJ1ZSwKICAid2VpZ2h0IjogMwp9CiAgICAgICAgICAgICAgICApLmFkZFRvKG1hcF83ZmE1ZWM3NTgyOGE0NmZiODAzYzg3ZjllNDZhOTMyOCk7CiAgICAgICAgICAgIAogICAgCiAgICAgICAgICAgIHZhciBwb3B1cF9lMDI1NGVmN2JhY2Y0Zjg3YWY1MjlmMjE1NDRhMmUyZCA9IEwucG9wdXAoe21heFdpZHRoOiAnMzAwJ30pOwoKICAgICAgICAgICAgCiAgICAgICAgICAgICAgICB2YXIgaHRtbF9jYWRlMjgyMzUyNmM0NWZhOGIyMmMyNjU0YTY1ZTc1MCA9ICQoJzxkaXYgaWQ9Imh0bWxfY2FkZTI4MjM1MjZjNDVmYThiMjJjMjY1NGE2NWU3NTAiIHN0eWxlPSJ3aWR0aDogMTAwLjAlOyBoZWlnaHQ6IDEwMC4wJTsiPkZyb2huYXU8L2Rpdj4nKVswXTsKICAgICAgICAgICAgICAgIHBvcHVwX2UwMjU0ZWY3YmFjZjRmODdhZjUyOWYyMTU0NGEyZTJkLnNldENvbnRlbnQoaHRtbF9jYWRlMjgyMzUyNmM0NWZhOGIyMmMyNjU0YTY1ZTc1MCk7CiAgICAgICAgICAgIAoKICAgICAgICAgICAgY2lyY2xlX21hcmtlcl9mMTEzM2ZiYjhkYTc0YjA4YjgwOTM5M2ZiMmNmNmUyMC5iaW5kUG9wdXAocG9wdXBfZTAyNTRlZjdiYWNmNGY4N2FmNTI5ZjIxNTQ0YTJlMmQpOwoKICAgICAgICAgICAgCiAgICAgICAgCiAgICAKICAgICAgICAgICAgdmFyIGNpcmNsZV9tYXJrZXJfZWJlOGVkMzIyNmJjNGNkZjk1YmEzMTQ2M2Y3MDc3MWYgPSBMLmNpcmNsZU1hcmtlcigKICAgICAgICAgICAgICAgIFs1Mi42MTY2NjcwMDAwMDAwMSwxMy4zMTY2NjddLAogICAgICAgICAgICAgICAgewogICJidWJibGluZ01vdXNlRXZlbnRzIjogdHJ1ZSwKICAiY29sb3IiOiAiYmx1ZSIsCiAgImRhc2hBcnJheSI6IG51bGwsCiAgImRhc2hPZmZzZXQiOiBudWxsLAogICJmaWxsIjogdHJ1ZSwKICAiZmlsbENvbG9yIjogIiMzMTg2Y2MiLAogICJmaWxsT3BhY2l0eSI6IDAuNywKICAiZmlsbFJ1bGUiOiAiZXZlbm9kZCIsCiAgImxpbmVDYXAiOiAicm91bmQiLAogICJsaW5lSm9pbiI6ICJyb3VuZCIsCiAgIm9wYWNpdHkiOiAxLjAsCiAgInJhZGl1cyI6IDUsCiAgInN0cm9rZSI6IHRydWUsCiAgIndlaWdodCI6IDMKfQogICAgICAgICAgICAgICAgKS5hZGRUbyhtYXBfN2ZhNWVjNzU4MjhhNDZmYjgwM2M4N2Y5ZTQ2YTkzMjgpOwogICAgICAgICAgICAKICAgIAogICAgICAgICAgICB2YXIgcG9wdXBfNTg4ZDQ1ZWRiZGE2NDNjYmEzYTIwMzdhOTY5NzRhNDYgPSBMLnBvcHVwKHttYXhXaWR0aDogJzMwMCd9KTsKCiAgICAgICAgICAgIAogICAgICAgICAgICAgICAgdmFyIGh0bWxfYThkZTg0OGU3MjQxNGFkMjlmYmQzNWUyMDI4M2VjNGIgPSAkKCc8ZGl2IGlkPSJodG1sX2E4ZGU4NDhlNzI0MTRhZDI5ZmJkMzVlMjAyODNlYzRiIiBzdHlsZT0id2lkdGg6IDEwMC4wJTsgaGVpZ2h0OiAxMDAuMCU7Ij5IZXJtc2RvcmY8L2Rpdj4nKVswXTsKICAgICAgICAgICAgICAgIHBvcHVwXzU4OGQ0NWVkYmRhNjQzY2JhM2EyMDM3YTk2OTc0YTQ2LnNldENvbnRlbnQoaHRtbF9hOGRlODQ4ZTcyNDE0YWQyOWZiZDM1ZTIwMjgzZWM0Yik7CiAgICAgICAgICAgIAoKICAgICAgICAgICAgY2lyY2xlX21hcmtlcl9lYmU4ZWQzMjI2YmM0Y2RmOTViYTMxNDYzZjcwNzcxZi5iaW5kUG9wdXAocG9wdXBfNTg4ZDQ1ZWRiZGE2NDNjYmEzYTIwMzdhOTY5NzRhNDYpOwoKICAgICAgICAgICAgCiAgICAgICAgCiAgICAKICAgICAgICAgICAgdmFyIGNpcmNsZV9tYXJrZXJfYmExNzE1OTQzNDM5NGM2MTkxMjliYmE5MzQ2ZTU2ZTQgPSBMLmNpcmNsZU1hcmtlcigKICAgICAgICAgICAgICAgIFs1Mi42MDY2NjcsMTMuMzIwODMyOTk5OTk5OTk5XSwKICAgICAgICAgICAgICAgIHsKICAiYnViYmxpbmdNb3VzZUV2ZW50cyI6IHRydWUsCiAgImNvbG9yIjogImJsdWUiLAogICJkYXNoQXJyYXkiOiBudWxsLAogICJkYXNoT2Zmc2V0IjogbnVsbCwKICAiZmlsbCI6IHRydWUsCiAgImZpbGxDb2xvciI6ICIjMzE4NmNjIiwKICAiZmlsbE9wYWNpdHkiOiAwLjcsCiAgImZpbGxSdWxlIjogImV2ZW5vZGQiLAogICJsaW5lQ2FwIjogInJvdW5kIiwKICAibGluZUpvaW4iOiAicm91bmQiLAogICJvcGFjaXR5IjogMS4wLAogICJyYWRpdXMiOiA1LAogICJzdHJva2UiOiB0cnVlLAogICJ3ZWlnaHQiOiAzCn0KICAgICAgICAgICAgICAgICkuYWRkVG8obWFwXzdmYTVlYzc1ODI4YTQ2ZmI4MDNjODdmOWU0NmE5MzI4KTsKICAgICAgICAgICAgCiAgICAKICAgICAgICAgICAgdmFyIHBvcHVwXzE0OTA3MThjMTE2OTQ1N2ZiYzhlNzI1MTljYWJmYzZhID0gTC5wb3B1cCh7bWF4V2lkdGg6ICczMDAnfSk7CgogICAgICAgICAgICAKICAgICAgICAgICAgICAgIHZhciBodG1sXzJhNjExOGUwNjZlNDQzMmQ5MDMyMmNhNjYxOTk5OTk4ID0gJCgnPGRpdiBpZD0iaHRtbF8yYTYxMThlMDY2ZTQ0MzJkOTAzMjJjYTY2MTk5OTk5OCIgc3R5bGU9IndpZHRoOiAxMDAuMCU7IGhlaWdodDogMTAwLjAlOyI+V2FpZG1hbm5zbHVzdDwvZGl2PicpWzBdOwogICAgICAgICAgICAgICAgcG9wdXBfMTQ5MDcxOGMxMTY5NDU3ZmJjOGU3MjUxOWNhYmZjNmEuc2V0Q29udGVudChodG1sXzJhNjExOGUwNjZlNDQzMmQ5MDMyMmNhNjYxOTk5OTk4KTsKICAgICAgICAgICAgCgogICAgICAgICAgICBjaXJjbGVfbWFya2VyX2JhMTcxNTk0MzQzOTRjNjE5MTI5YmJhOTM0NmU1NmU0LmJpbmRQb3B1cChwb3B1cF8xNDkwNzE4YzExNjk0NTdmYmM4ZTcyNTE5Y2FiZmM2YSk7CgogICAgICAgICAgICAKICAgICAgICAKICAgIAogICAgICAgICAgICB2YXIgY2lyY2xlX21hcmtlcl8xZWQ3YTI1ZmRlZWE0OWRmYjQ1OWRlZWVlNjljYjc5OSA9IEwuY2lyY2xlTWFya2VyKAogICAgICAgICAgICAgICAgWzUyLjYxNjY2NzAwMDAwMDAxLDEzLjM2NjY2NzAwMDAwMDAwMV0sCiAgICAgICAgICAgICAgICB7CiAgImJ1YmJsaW5nTW91c2VFdmVudHMiOiB0cnVlLAogICJjb2xvciI6ICJibHVlIiwKICAiZGFzaEFycmF5IjogbnVsbCwKICAiZGFzaE9mZnNldCI6IG51bGwsCiAgImZpbGwiOiB0cnVlLAogICJmaWxsQ29sb3IiOiAiIzMxODZjYyIsCiAgImZpbGxPcGFjaXR5IjogMC43LAogICJmaWxsUnVsZSI6ICJldmVub2RkIiwKICAibGluZUNhcCI6ICJyb3VuZCIsCiAgImxpbmVKb2luIjogInJvdW5kIiwKICAib3BhY2l0eSI6IDEuMCwKICAicmFkaXVzIjogNSwKICAic3Ryb2tlIjogdHJ1ZSwKICAid2VpZ2h0IjogMwp9CiAgICAgICAgICAgICAgICApLmFkZFRvKG1hcF83ZmE1ZWM3NTgyOGE0NmZiODAzYzg3ZjllNDZhOTMyOCk7CiAgICAgICAgICAgIAogICAgCiAgICAgICAgICAgIHZhciBwb3B1cF83N2I1ZTU0YTE3NzY0MGFmYmVmZWY4NWMzODM4YmNlZiA9IEwucG9wdXAoe21heFdpZHRoOiAnMzAwJ30pOwoKICAgICAgICAgICAgCiAgICAgICAgICAgICAgICB2YXIgaHRtbF9jODNmODg2M2IxOWQ0MThhOTBlNWFmYzJiN2IwYzQ3MiA9ICQoJzxkaXYgaWQ9Imh0bWxfYzgzZjg4NjNiMTlkNDE4YTkwZTVhZmMyYjdiMGM0NzIiIHN0eWxlPSJ3aWR0aDogMTAwLjAlOyBoZWlnaHQ6IDEwMC4wJTsiPkzDvGJhcnM8L2Rpdj4nKVswXTsKICAgICAgICAgICAgICAgIHBvcHVwXzc3YjVlNTRhMTc3NjQwYWZiZWZlZjg1YzM4MzhiY2VmLnNldENvbnRlbnQoaHRtbF9jODNmODg2M2IxOWQ0MThhOTBlNWFmYzJiN2IwYzQ3Mik7CiAgICAgICAgICAgIAoKICAgICAgICAgICAgY2lyY2xlX21hcmtlcl8xZWQ3YTI1ZmRlZWE0OWRmYjQ1OWRlZWVlNjljYjc5OS5iaW5kUG9wdXAocG9wdXBfNzdiNWU1NGExNzc2NDBhZmJlZmVmODVjMzgzOGJjZWYpOwoKICAgICAgICAgICAgCiAgICAgICAgCiAgICAKICAgICAgICAgICAgdmFyIGNpcmNsZV9tYXJrZXJfMTZlNGQyOGZiYmM1NGJlMThmMzZlNWE2OTNkYjY0MDYgPSBMLmNpcmNsZU1hcmtlcigKICAgICAgICAgICAgICAgIFs1Mi42LDEzLjMzMzMzMjk5OTk5OTk5OF0sCiAgICAgICAgICAgICAgICB7CiAgImJ1YmJsaW5nTW91c2VFdmVudHMiOiB0cnVlLAogICJjb2xvciI6ICJibHVlIiwKICAiZGFzaEFycmF5IjogbnVsbCwKICAiZGFzaE9mZnNldCI6IG51bGwsCiAgImZpbGwiOiB0cnVlLAogICJmaWxsQ29sb3IiOiAiIzMxODZjYyIsCiAgImZpbGxPcGFjaXR5IjogMC43LAogICJmaWxsUnVsZSI6ICJldmVub2RkIiwKICAibGluZUNhcCI6ICJyb3VuZCIsCiAgImxpbmVKb2luIjogInJvdW5kIiwKICAib3BhY2l0eSI6IDEuMCwKICAicmFkaXVzIjogNSwKICAic3Ryb2tlIjogdHJ1ZSwKICAid2VpZ2h0IjogMwp9CiAgICAgICAgICAgICAgICApLmFkZFRvKG1hcF83ZmE1ZWM3NTgyOGE0NmZiODAzYzg3ZjllNDZhOTMyOCk7CiAgICAgICAgICAgIAogICAgCiAgICAgICAgICAgIHZhciBwb3B1cF8yMzk3MDQ4MjU5MGQ0N2MyYjg5NTAzZThlNGNkNmFmZSA9IEwucG9wdXAoe21heFdpZHRoOiAnMzAwJ30pOwoKICAgICAgICAgICAgCiAgICAgICAgICAgICAgICB2YXIgaHRtbF8yNzc0Y2RjZmNhODk0MTc4YjA1MGU2ZmRmOWQwZWUxYSA9ICQoJzxkaXYgaWQ9Imh0bWxfMjc3NGNkY2ZjYTg5NDE3OGIwNTBlNmZkZjlkMGVlMWEiIHN0eWxlPSJ3aWR0aDogMTAwLjAlOyBoZWlnaHQ6IDEwMC4wJTsiPldpdHRlbmF1PC9kaXY+JylbMF07CiAgICAgICAgICAgICAgICBwb3B1cF8yMzk3MDQ4MjU5MGQ0N2MyYjg5NTAzZThlNGNkNmFmZS5zZXRDb250ZW50KGh0bWxfMjc3NGNkY2ZjYTg5NDE3OGIwNTBlNmZkZjlkMGVlMWEpOwogICAgICAgICAgICAKCiAgICAgICAgICAgIGNpcmNsZV9tYXJrZXJfMTZlNGQyOGZiYmM1NGJlMThmMzZlNWE2OTNkYjY0MDYuYmluZFBvcHVwKHBvcHVwXzIzOTcwNDgyNTkwZDQ3YzJiODk1MDNlOGU0Y2Q2YWZlKTsKCiAgICAgICAgICAgIAogICAgICAgIAogICAgCiAgICAgICAgICAgIHZhciBjaXJjbGVfbWFya2VyXzcwODBkOWQxOGMzMjRmNDBhYzMxYzVkYzk4YmM3NmVkID0gTC5jaXJjbGVNYXJrZXIoCiAgICAgICAgICAgICAgICBbNTIuNiwxMy4zNTgzMzI5OTk5OTk5OThdLAogICAgICAgICAgICAgICAgewogICJidWJibGluZ01vdXNlRXZlbnRzIjogdHJ1ZSwKICAiY29sb3IiOiAiYmx1ZSIsCiAgImRhc2hBcnJheSI6IG51bGwsCiAgImRhc2hPZmZzZXQiOiBudWxsLAogICJmaWxsIjogdHJ1ZSwKICAiZmlsbENvbG9yIjogIiMzMTg2Y2MiLAogICJmaWxsT3BhY2l0eSI6IDAuNywKICAiZmlsbFJ1bGUiOiAiZXZlbm9kZCIsCiAgImxpbmVDYXAiOiAicm91bmQiLAogICJsaW5lSm9pbiI6ICJyb3VuZCIsCiAgIm9wYWNpdHkiOiAxLjAsCiAgInJhZGl1cyI6IDUsCiAgInN0cm9rZSI6IHRydWUsCiAgIndlaWdodCI6IDMKfQogICAgICAgICAgICAgICAgKS5hZGRUbyhtYXBfN2ZhNWVjNzU4MjhhNDZmYjgwM2M4N2Y5ZTQ2YTkzMjgpOwogICAgICAgICAgICAKICAgIAogICAgICAgICAgICB2YXIgcG9wdXBfZThkYmZhNDUxYjJiNDg4MDhiZjhlZjg3N2ViZjFkYzEgPSBMLnBvcHVwKHttYXhXaWR0aDogJzMwMCd9KTsKCiAgICAgICAgICAgIAogICAgICAgICAgICAgICAgdmFyIGh0bWxfYzM4ZmU2MDYzZTNiNDNiNjk5ODQ4MTViOGI1OWY1ZTIgPSAkKCc8ZGl2IGlkPSJodG1sX2MzOGZlNjA2M2UzYjQzYjY5OTg0ODE1YjhiNTlmNWUyIiBzdHlsZT0id2lkdGg6IDEwMC4wJTsgaGVpZ2h0OiAxMDAuMCU7Ij5Nw6Rya2lzY2hlcyBWaWVydGVsPC9kaXY+JylbMF07CiAgICAgICAgICAgICAgICBwb3B1cF9lOGRiZmE0NTFiMmI0ODgwOGJmOGVmODc3ZWJmMWRjMS5zZXRDb250ZW50KGh0bWxfYzM4ZmU2MDYzZTNiNDNiNjk5ODQ4MTViOGI1OWY1ZTIpOwogICAgICAgICAgICAKCiAgICAgICAgICAgIGNpcmNsZV9tYXJrZXJfNzA4MGQ5ZDE4YzMyNGY0MGFjMzFjNWRjOThiYzc2ZWQuYmluZFBvcHVwKHBvcHVwX2U4ZGJmYTQ1MWIyYjQ4ODA4YmY4ZWY4NzdlYmYxZGMxKTsKCiAgICAgICAgICAgIAogICAgICAgIAogICAgCiAgICAgICAgICAgIHZhciBjaXJjbGVfbWFya2VyX2Q5NTRjNThiNmEzODQyNmY5YmNjNmZjMTIwM2YyOTg0ID0gTC5jaXJjbGVNYXJrZXIoCiAgICAgICAgICAgICAgICBbNTIuNTgzMDU2MDAwMDAwMDA2LDEzLjMxMTExMDk5OTk5OTk5OV0sCiAgICAgICAgICAgICAgICB7CiAgImJ1YmJsaW5nTW91c2VFdmVudHMiOiB0cnVlLAogICJjb2xvciI6ICJibHVlIiwKICAiZGFzaEFycmF5IjogbnVsbCwKICAiZGFzaE9mZnNldCI6IG51bGwsCiAgImZpbGwiOiB0cnVlLAogICJmaWxsQ29sb3IiOiAiIzMxODZjYyIsCiAgImZpbGxPcGFjaXR5IjogMC43LAogICJmaWxsUnVsZSI6ICJldmVub2RkIiwKICAibGluZUNhcCI6ICJyb3VuZCIsCiAgImxpbmVKb2luIjogInJvdW5kIiwKICAib3BhY2l0eSI6IDEuMCwKICAicmFkaXVzIjogNSwKICAic3Ryb2tlIjogdHJ1ZSwKICAid2VpZ2h0IjogMwp9CiAgICAgICAgICAgICAgICApLmFkZFRvKG1hcF83ZmE1ZWM3NTgyOGE0NmZiODAzYzg3ZjllNDZhOTMyOCk7CiAgICAgICAgICAgIAogICAgCiAgICAgICAgICAgIHZhciBwb3B1cF80ZjY3MWYxZmQxOGY0NjRkOTNkM2FkNDIyODgwMmU4NCA9IEwucG9wdXAoe21heFdpZHRoOiAnMzAwJ30pOwoKICAgICAgICAgICAgCiAgICAgICAgICAgICAgICB2YXIgaHRtbF83MDgyNDg5YTE2N2U0MzQxODMwN2M3NTg1ODI4MDM2MyA9ICQoJzxkaXYgaWQ9Imh0bWxfNzA4MjQ4OWExNjdlNDM0MTgzMDdjNzU4NTgyODAzNjMiIHN0eWxlPSJ3aWR0aDogMTAwLjAlOyBoZWlnaHQ6IDEwMC4wJTsiPkJvcnNpZ3dhbGRlPC9kaXY+JylbMF07CiAgICAgICAgICAgICAgICBwb3B1cF80ZjY3MWYxZmQxOGY0NjRkOTNkM2FkNDIyODgwMmU4NC5zZXRDb250ZW50KGh0bWxfNzA4MjQ4OWExNjdlNDM0MTgzMDdjNzU4NTgyODAzNjMpOwogICAgICAgICAgICAKCiAgICAgICAgICAgIGNpcmNsZV9tYXJrZXJfZDk1NGM1OGI2YTM4NDI2ZjliY2M2ZmMxMjAzZjI5ODQuYmluZFBvcHVwKHBvcHVwXzRmNjcxZjFmZDE4ZjQ2NGQ5M2QzYWQ0MjI4ODAyZTg0KTsKCiAgICAgICAgICAgIAogICAgICAgIAo8L3NjcmlwdD4=\" style=\"position:absolute;width:100%;height:100%;left:0;top:0;border:none !important;\" allowfullscreen webkitallowfullscreen mozallowfullscreen></iframe></div></div>"
      ],
      "text/plain": [
       "<folium.folium.Map at 0x1200dd978>"
      ]
     },
     "execution_count": 21,
     "metadata": {},
     "output_type": "execute_result"
    }
   ],
   "source": [
    "map_berlin = folium.Map(location=[latitude, longitude], zoom_start=10.5)\n",
    "\n",
    "for lat, lng, neighborhood in zip(neighborhoods['Lat'], neighborhoods['Long'], neighborhoods['District']):\n",
    "    label = '{}'.format(neighborhood)\n",
    "    label = folium.Popup(label, parse_html=True)\n",
    "    folium.CircleMarker(\n",
    "        [lat, lng],\n",
    "        radius=5,\n",
    "        popup=label,\n",
    "        color='blue',\n",
    "        fill=True,\n",
    "        fill_color='#3186cc',\n",
    "        fill_opacity=0.7,\n",
    "        parse_html=False).add_to(map_berlin)  \n",
    "    \n",
    "map_berlin"
   ]
  },
  {
   "cell_type": "code",
   "execution_count": null,
   "metadata": {},
   "outputs": [],
   "source": []
  },
  {
   "cell_type": "markdown",
   "metadata": {},
   "source": [
    "#### Define Foursquare Credentials and Version"
   ]
  },
  {
   "cell_type": "code",
   "execution_count": 22,
   "metadata": {},
   "outputs": [
    {
     "name": "stdout",
     "output_type": "stream",
     "text": [
      "My credentails:\n",
      "CLIENT_ID: X0UR5GR2EL3FBUPRBTPQW0M1XOECT3RPNNPUXEPACXEPO44J\n",
      "CLIENT_SECRET:ANFDRV2DKSZG1J453PD3JW0V4DHM4FDKLR5UHFVDEW5IYFZO\n"
     ]
    }
   ],
   "source": [
    "CLIENT_ID = 'X0UR5GR2EL3FBUPRBTPQW0M1XOECT3RPNNPUXEPACXEPO44J' \n",
    "CLIENT_SECRET = 'ANFDRV2DKSZG1J453PD3JW0V4DHM4FDKLR5UHFVDEW5IYFZO' \n",
    "VERSION = '20180605' \n",
    "\n",
    "print('My credentails:')\n",
    "print('CLIENT_ID: ' + CLIENT_ID)\n",
    "print('CLIENT_SECRET:' + CLIENT_SECRET)"
   ]
  },
  {
   "cell_type": "code",
   "execution_count": null,
   "metadata": {},
   "outputs": [],
   "source": []
  },
  {
   "cell_type": "code",
   "execution_count": null,
   "metadata": {},
   "outputs": [],
   "source": []
  }
 ],
 "metadata": {
  "kernelspec": {
   "display_name": "Python 3",
   "language": "python",
   "name": "python3"
  },
  "language_info": {
   "codemirror_mode": {
    "name": "ipython",
    "version": 3
   },
   "file_extension": ".py",
   "mimetype": "text/x-python",
   "name": "python",
   "nbconvert_exporter": "python",
   "pygments_lexer": "ipython3",
   "version": "3.7.3"
  }
 },
 "nbformat": 4,
 "nbformat_minor": 4
}
